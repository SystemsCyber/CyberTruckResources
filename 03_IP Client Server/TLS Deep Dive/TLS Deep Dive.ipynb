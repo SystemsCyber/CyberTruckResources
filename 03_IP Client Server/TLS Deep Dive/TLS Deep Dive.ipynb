{
 "cells": [
  {
   "cell_type": "markdown",
   "metadata": {},
   "source": [
    "# <center> Transport Layer (TLS) Deep Dive\n",
    "## <center> SYSE 549: Secure Vehicle and Industrial Networking\n",
    "## <center> <img src=\"https://www.engr.colostate.edu/~jdaily/Systems-EN-CSU-1-C357.svg\" width=\"400\" /> \n",
    "### <center> Instructor: Dr. Jeremy Daily<br>\n",
    "### <center> Content Author: Jerry Duggan"
   ]
  },
  {
   "cell_type": "markdown",
   "metadata": {},
   "source": [
    "## Learning Objectives\n",
    "By the end of this module, you will:\n",
    "* Understand how to create and verify a self-signed certificate;\n",
    "* Understand how to initiate a TLS v1.2 session with an HTTP server;\n",
    "* Understand how to access components of a TLS certificate with a client application, and how to verify the certificate;\n",
    "* Understand how to use Wireshark to examine the steps for establishing a TLS session."
   ]
  },
  {
   "cell_type": "markdown",
   "metadata": {},
   "source": [
    "### What is Transport Layer Security (TLS)\n",
    "Transport Layer Security (TLS) is a cryptographic protocol that provides secure communication over the internet by encrypting data between two communicating applications. It is commonly used to secure web traffic, email, instant messaging, and other types of communication.\n",
    "\n",
    "TLS operates at the transport layer of the OSI model, which is responsible for providing reliable data transfer between applications. TLS uses a combination of symmetric and asymmetric cryptography to provide confidentiality, integrity, and authentication of data exchanged between the communicating applications.\n",
    "\n",
    "TLS has become the de facto standard for securing web traffic and is used by most modern web browsers and servers. It is an essential part of online security and is used to protect sensitive information such as passwords, credit card numbers, and personal data. TLS is constantly evolving to improve security and address new threats.\n",
    "\n",
    "The Transport Layer Security (TLS) protocol is defined in a series of RFC documents published by the Internet Engineering Task Force (IETF). The current version of TLS, TLS 1.3, is defined in RFC 8446, which was published in August 2018. Previous versions of TLS were defined in RFC 5246 (TLS 1.2), RFC 4346 (TLS 1.1), RFC 2246 (TLS 1.0), and RFC 6101 (SSL 3.0)."
   ]
  },
  {
   "cell_type": "markdown",
   "metadata": {},
   "source": [
    "Here is a high level sequence diagram of the communications for secure communication s session. The diagram is made with the Mermaid website: www.mermaid.live.\n",
    "```\n",
    "sequenceDiagram\n",
    "    participant Client\n",
    "    participant Server\n",
    "    Client->>Server: ClientHello\n",
    "    Server->>Client: ServerHello, Certificate, CertificateRequest, ServerHelloDone\n",
    "    Client->>Server: Certificate, CertificateVerify, ClientKeyExchange, ChangeCipherSpec, Finished\n",
    "    Server->>Client: ChangeCipherSpec, Finished\n",
    "    Note over Client,Server: Encrypted Application Data\n",
    "```\n",
    "<center> <img src=\"TLS_1_2_Sequence_Diagram.svg\" width=\"75%\" /> </center>\n",
    "In this diagram, the client initiates a TLS 1.3 handshake by sending a ClientHello message to the server. The server responds with a ServerHello message, which includes its certificate and a request for the client's certificate. After exchanging some additional messages, both the client and server switch to using the new cryptographic keys established during the handshake and exchange Finished messages to verify that the handshake was successful.\n",
    "\n",
    "Once the handshake is complete, the client and server can exchange encrypted application data. This is represented in the diagram by the note \"Encrypted Application Data\" above both the client and server participants."
   ]
  },
  {
   "cell_type": "markdown",
   "metadata": {},
   "source": [
    "## Attacking Encrypted Communications\n",
    "Breaking a cipher is really hard, so attacks usually focus on recovery of key material to decrypt encrypted traffic.\n",
    "\n",
    "Here's a scenario: The attacker intercepts the ClientHello message from the client and responds with a fake ServerHello message pretending to be the server. The attacker then intercepts the ClientKeyExchange message from the client and responds with a fake ClientKeyExchange message pretending to be the client. The attacker continues to intercept and respond with fake messages throughout the handshake process, effectively being in the middle of the communication between the client and server.\n",
    "\n",
    "Here's the mermaid code and drawing:\n",
    "\n",
    "```\n",
    "sequenceDiagram\n",
    "    participant Client\n",
    "    participant Attacker\n",
    "    participant Server\n",
    "\n",
    "    Client->>+Server: ClientHello\n",
    "    Note over Attacker: Attacker intercepts the message\n",
    "    Attacker->>+Client: ServerHello (fake)\n",
    "    Note over Attacker: Attacker pretends to be the server\n",
    "    Client->>+Attacker: ClientKeyExchange\n",
    "    Attacker->>+Server: ClientKeyExchange (fake)\n",
    "    Note over Attacker: Attacker pretends to be the client\n",
    "    Server->>+Attacker: ServerHelloDone\n",
    "    Attacker->>+Client: ServerHelloDone (fake)\n",
    "    Client->>+Attacker: ChangeCipherSpec\n",
    "    Attacker->>+Server: ChangeCipherSpec (fake)\n",
    "    Client->>+Attacker: Finished\n",
    "    Attacker->>+Server: Finished (fake)\n",
    "    Server-->>-Attacker: Encrypted handshake messages\n",
    "    Attacker-->>-Client: Encrypted handshake messages\n",
    "```\n",
    "<center> <img src=\"AttackerSequenceDiagram.svg\" alt=\"Attacker Sequence Diagram\" width=\"75%\" /> </center>"
   ]
  },
  {
   "cell_type": "markdown",
   "metadata": {},
   "source": [
    "## Establishing Trust\n",
    "To trust a certificate from a server, the client needs to verify that the certificate is issued by a trusted certificate authority (CA) and that the certificate is still valid and has not been revoked.\n",
    "\n",
    "When a client receives a certificate from a server during a TLS handshake, it must perform the following steps to verify the certificate:\n",
    "\n",
    "1. Validate the digital signature of the certificate to ensure the contents have not been altered. \n",
    "2. Check the certificate's expiration date to ensure that it has not expired.\n",
    "3. Verify that the hostname of the server matches the hostname listed in the certificate.\n",
    "4. Verify that the certificate is issued by a trusted CA. This can be done by checking that the issuer of the certificate is listed in the client's list of trusted root CAs, or by checking the signature chain of the certificate up to a trusted root CA.\n",
    "5. Check if the certificate has been revoked by the issuing CA. This can be done by checking the certificate revocation list (CRL) published by the CA or by using the Online Certificate Status Protocol (OCSP).\n",
    "\n",
    "If any of these steps fail, the client should not trust the certificate and should terminate the TLS handshake.\n",
    "\n",
    "\n",
    "Fortunately, most modern browsers do this behind the scenes. Let's look at doing some of these in this notebook."
   ]
  },
  {
   "cell_type": "markdown",
   "metadata": {},
   "source": [
    "Mermaid Code:\n",
    "```\n",
    "sequenceDiagram\n",
    "    participant Certificate Authority\n",
    "    participant Server\n",
    "    participant Client\n",
    "    \n",
    "    Note over Certificate Authority,Trust Store:Start One-time Operation, Root Certificates last a long time\n",
    "    Certificate Authority->>Certificate Authority: Generate Self-Signed Certificate\n",
    "    Certificate Authority->>Trust Store: Submit Root Signing Certificate\n",
    "    Note over Certificate Authority,Trust Store:End One-time Operation, Root Certificates last a long time\n",
    "    Note over Certificate Authority,Server: Start Periodic Operation (e.g. annual)\n",
    "    Server->>Server: Generate fresh asymmetric key pair\n",
    "    Server->>Certificate Authority: Certificate Signing Request (CSR)\n",
    "    Certificate Authority->>Certificate Authority: Verify the Server\n",
    "    Certificate Authority->>Server: Signed Certificate\n",
    "    Note over Certificate Authority,Server: End Periodic Operation (e.g. annual)\n",
    "    Note over Client,Trust Store: Start infrequent updates\n",
    "    Client->>Trust Store: Request CA Certificates\n",
    "    Trust Store->>Client: Trusted CA Certificates\n",
    "    Note over Client,Trust Store: End infrequent updates\n",
    "    Note over Client,Server: Every session\n",
    "    Client->>Server: ClientHello\n",
    "    Server->>Client: ServerHello\n",
    "    Server->>Client: Certificate\n",
    "    Client->>Client: Verify server certificate digital signature\n",
    "    Client->>Client: Verify certificate hostname, date\n",
    "    Client->>Client: Verify certificate chain\n",
    "    Client->>Certificate Authority: Check CA Root Certificate Revocation Status\n",
    "    Certificate Authority->>Client: Update Certificate Revocation List\n",
    "    Client->>Server: Certificate\n",
    "    Client->>Server: ClientKeyExchange\n",
    "    Note over Server,Client: Encrypted Session\n",
    "```"
   ]
  },
  {
   "cell_type": "markdown",
   "metadata": {},
   "source": [
    "<center> <img src=\"FullSequenceDiagram.svg\" alt=\"Full Public Key Infrastructure\" width=\"40%\" /> </center>"
   ]
  },
  {
   "cell_type": "markdown",
   "metadata": {},
   "source": [
    "## Generating and Using a Certificate\n",
    "This tutorial follows along with the approach found at https://cryptography.io/en/latest/x509/.\n",
    "\n",
    "We'll start out by creating a certificate and putting together a certificate signing request.\n"
   ]
  },
  {
   "cell_type": "markdown",
   "metadata": {},
   "source": [
    "### Load dependencies\n",
    "This was written with crytography.io at version 40."
   ]
  },
  {
   "cell_type": "code",
   "execution_count": 1,
   "metadata": {},
   "outputs": [
    {
     "name": "stdout",
     "output_type": "stream",
     "text": [
      "Requirement already up-to-date: cryptography in c:\\users\\jdaily\\appdata\\roaming\\python\\python38\\site-packages (40.0.1)\n",
      "Requirement already satisfied, skipping upgrade: cffi>=1.12 in c:\\programdata\\anaconda3\\lib\\site-packages (from cryptography) (1.14.3)\n",
      "Requirement already satisfied, skipping upgrade: pycparser in c:\\programdata\\anaconda3\\lib\\site-packages (from cffi>=1.12->cryptography) (2.20)\n",
      "Note: you may need to restart the kernel to use updated packages.\n"
     ]
    }
   ],
   "source": [
    "%pip install --upgrade --user cryptography"
   ]
  },
  {
   "cell_type": "code",
   "execution_count": 76,
   "metadata": {},
   "outputs": [],
   "source": [
    "#Load the modules needed for this notebook\n",
    "from cryptography.hazmat.primitives.asymmetric import rsa\n",
    "from cryptography.hazmat.primitives import hashes\n",
    "from cryptography.hazmat.primitives import serialization\n",
    "from cryptography.hazmat.primitives.asymmetric import padding\n",
    "from cryptography import x509\n",
    "from datetime import datetime, timedelta\n",
    "import requests\n",
    "import certifi\n",
    "import socket\n",
    "import ssl"
   ]
  },
  {
   "cell_type": "markdown",
   "metadata": {},
   "source": [
    "### Generate private key & calculate it's associated public key"
   ]
  },
  {
   "cell_type": "code",
   "execution_count": 3,
   "metadata": {},
   "outputs": [
    {
     "name": "stdout",
     "output_type": "stream",
     "text": [
      "<cryptography.hazmat.backends.openssl.rsa._RSAPublicKey object at 0x0000027EFD2278B0>\n"
     ]
    }
   ],
   "source": [
    "# Generate a unique private key\n",
    "privateKey = rsa.generate_private_key(\n",
    "        public_exponent=65537,\n",
    "        key_size=2048\n",
    "    )\n",
    "publicKey = privateKey.public_key()\n",
    "print(publicKey)"
   ]
  },
  {
   "cell_type": "markdown",
   "metadata": {},
   "source": [
    "### Create an x509 object with our pertinent information"
   ]
  },
  {
   "cell_type": "code",
   "execution_count": 4,
   "metadata": {},
   "outputs": [
    {
     "data": {
      "text/plain": [
       "<Name(C=US,ST=Colorado,L=Fort Collins,O=Colorado State University,CN=fakesite.edu)>"
      ]
     },
     "execution_count": 4,
     "metadata": {},
     "output_type": "execute_result"
    }
   ],
   "source": [
    "#Build an x509 Name object for us\n",
    "issuer = x509.Name([\n",
    "        x509.NameAttribute(x509.NameOID.COUNTRY_NAME,           u\"US\"),\n",
    "        x509.NameAttribute(x509.NameOID.STATE_OR_PROVINCE_NAME, u\"Colorado\"),\n",
    "        x509.NameAttribute(x509.NameOID.LOCALITY_NAME,          u\"Fort Collins\"),\n",
    "        x509.NameAttribute(x509.NameOID.ORGANIZATION_NAME,      u\"Colorado State University\"),\n",
    "        x509.NameAttribute(x509.NameOID.COMMON_NAME,            u\"fakesite.edu\")\n",
    "    ])\n",
    "issuer"
   ]
  },
  {
   "cell_type": "markdown",
   "metadata": {},
   "source": [
    "### For a self-signed certificate, the issuer is also the subject"
   ]
  },
  {
   "cell_type": "code",
   "execution_count": 5,
   "metadata": {},
   "outputs": [],
   "source": [
    "subject = issuer"
   ]
  },
  {
   "cell_type": "markdown",
   "metadata": {},
   "source": [
    "### Create the certificate using a Certificate builder"
   ]
  },
  {
   "cell_type": "code",
   "execution_count": 6,
   "metadata": {},
   "outputs": [
    {
     "data": {
      "text/plain": [
       "<cryptography.x509.base.CertificateBuilder at 0x27efd4d8a00>"
      ]
     },
     "execution_count": 6,
     "metadata": {},
     "output_type": "execute_result"
    }
   ],
   "source": [
    "#Assemble the certificate parts\n",
    "rawCert = (\n",
    "        x509.CertificateBuilder()\n",
    "            .subject_name(subject)\n",
    "            .issuer_name(issuer)\n",
    "            .public_key(publicKey)\n",
    "            .serial_number(x509.random_serial_number())\n",
    "            .not_valid_before(datetime.utcnow())\n",
    "            .not_valid_after(datetime.utcnow() + timedelta(days=10))\n",
    "            .add_extension(x509.SubjectAlternativeName([x509.DNSName(u\"localhost\")]), critical=False)\n",
    "            )\n",
    "rawCert"
   ]
  },
  {
   "cell_type": "markdown",
   "metadata": {},
   "source": [
    "### Sign it with our private key to make it a real certificate"
   ]
  },
  {
   "cell_type": "code",
   "execution_count": 7,
   "metadata": {},
   "outputs": [
    {
     "data": {
      "text/plain": [
       "<Certificate(subject=<Name(C=US,ST=Colorado,L=Fort Collins,O=Colorado State University,CN=fakesite.edu)>, ...)>"
      ]
     },
     "execution_count": 7,
     "metadata": {},
     "output_type": "execute_result"
    }
   ],
   "source": [
    "#Sign the certificate with our own private key.\n",
    "signedCert = rawCert.sign(privateKey, hashes.SHA256())\n",
    "signedCert"
   ]
  },
  {
   "cell_type": "code",
   "execution_count": 8,
   "metadata": {},
   "outputs": [
    {
     "name": "stdout",
     "output_type": "stream",
     "text": [
      "b'-----BEGIN CERTIFICATE-----\\nMIIDijCCAnKgAwIBAgIUURTYb7q1cCVIFnKSRty8a2o6ufkwDQYJKoZIhvcNAQEL\\nBQAwcjELMAkGA1UEBhMCVVMxETAPBgNVBAgMCENvbG9yYWRvMRUwEwYDVQQHDAxG\\nb3J0IENvbGxpbnMxIjAgBgNVBAoMGUNvbG9yYWRvIFN0YXRlIFVuaXZlcnNpdHkx\\nFTATBgNVBAMMDGZha2VzaXRlLmVkdTAeFw0yMzA0MDgyMDAyNTBaFw0yMzA0MTgy\\nMDAyNTBaMHIxCzAJBgNVBAYTAlVTMREwDwYDVQQIDAhDb2xvcmFkbzEVMBMGA1UE\\nBwwMRm9ydCBDb2xsaW5zMSIwIAYDVQQKDBlDb2xvcmFkbyBTdGF0ZSBVbml2ZXJz\\naXR5MRUwEwYDVQQDDAxmYWtlc2l0ZS5lZHUwggEiMA0GCSqGSIb3DQEBAQUAA4IB\\nDwAwggEKAoIBAQCfDnMUaFvl3fL8/0LqdZLBklNzAopa/+bAFj+LFHzanq2iIU3U\\n5ooDYDSBGd2dUNCGH72eO5OKNXlCQg9xzFH7gBkuu4yzLXMGUq1TVnvh5TsDWT4u\\nJ56TgTM7I2ExVP8dQ0ETunLvCWuSQW/wU3Uko0ykGO27JD05olU5vLt5UcPEXyXT\\nldJNQ2+tSDeNwfy6jnOnZMXy9RES6rqJvAp25RCOewpFvuirl61ooaqsfoyx+4xP\\n7a/2Wbk0ABCCtfwlg3Ihk8tcAyOJi26Y2aoL2S2Skt4xmiahfYWPiwTU7fCDJYS8\\nx2Bz990zQ2uxOxUWX6rNQTF1FXx1h2qZ3f7bAgMBAAGjGDAWMBQGA1UdEQQNMAuC\\nCWxvY2FsaG9zdDANBgkqhkiG9w0BAQsFAAOCAQEAQ2YUkZULhRXZUkDUp/X6nSa0\\n14cCRboI85tvmUmjSK0NP/ggPozHMShHsHBUF6Jw8znd1c4d9IpIX+VEIBA3AN8H\\ny70RCpZIhUrJxE5rhVzzY8/YXujveLwYkA6iexoNSubhNMLxHHOOVlpDlNpg1L2G\\n/wM+dtPodQAggV15prauTkqxN4c0gk2NBMLcakDkpo4fGqeY641sDaIQKEUfZb5D\\nwF+TtnRO90D49lutr3nZxhIZdTD40qXE0L5Pf1ApidqaZXIjWQFq72ISaO4pqyBp\\njpytulBUzvgUYxtd2xuUWISbFUbeRNgZDkyVB0n9pUjlN6n7/6p7jYgEnLO6Aw==\\n-----END CERTIFICATE-----\\n'\n"
     ]
    }
   ],
   "source": [
    "#Export the certificate to save or send\n",
    "signedCert_PEM = signedCert.public_bytes(serialization.Encoding.PEM)\n",
    "print(signedCert_PEM)"
   ]
  },
  {
   "cell_type": "markdown",
   "metadata": {},
   "source": [
    "### Pretend the public key & certificate were transmitted..."
   ]
  },
  {
   "cell_type": "code",
   "execution_count": 9,
   "metadata": {},
   "outputs": [],
   "source": [
    "# Instead of sending it, we'll just save it to disk\n",
    "with open('cert.pem','wb') as f:\n",
    "    f.write(signedCert_PEM)"
   ]
  },
  {
   "cell_type": "markdown",
   "metadata": {},
   "source": [
    "### Pretend the client receives the certificate..."
   ]
  },
  {
   "cell_type": "code",
   "execution_count": 10,
   "metadata": {},
   "outputs": [
    {
     "name": "stdout",
     "output_type": "stream",
     "text": [
      "b'-----BEGIN CERTIFICATE-----\\nMIIDijCCAnKgAwIBAgIUURTYb7q1cCVIFnKSRty8a2o6ufkwDQYJKoZIhvcNAQEL\\nBQAwcjELMAkGA1UEBhMCVVMxETAPBgNVBAgMCENvbG9yYWRvMRUwEwYDVQQHDAxG\\nb3J0IENvbGxpbnMxIjAgBgNVBAoMGUNvbG9yYWRvIFN0YXRlIFVuaXZlcnNpdHkx\\nFTATBgNVBAMMDGZha2VzaXRlLmVkdTAeFw0yMzA0MDgyMDAyNTBaFw0yMzA0MTgy\\nMDAyNTBaMHIxCzAJBgNVBAYTAlVTMREwDwYDVQQIDAhDb2xvcmFkbzEVMBMGA1UE\\nBwwMRm9ydCBDb2xsaW5zMSIwIAYDVQQKDBlDb2xvcmFkbyBTdGF0ZSBVbml2ZXJz\\naXR5MRUwEwYDVQQDDAxmYWtlc2l0ZS5lZHUwggEiMA0GCSqGSIb3DQEBAQUAA4IB\\nDwAwggEKAoIBAQCfDnMUaFvl3fL8/0LqdZLBklNzAopa/+bAFj+LFHzanq2iIU3U\\n5ooDYDSBGd2dUNCGH72eO5OKNXlCQg9xzFH7gBkuu4yzLXMGUq1TVnvh5TsDWT4u\\nJ56TgTM7I2ExVP8dQ0ETunLvCWuSQW/wU3Uko0ykGO27JD05olU5vLt5UcPEXyXT\\nldJNQ2+tSDeNwfy6jnOnZMXy9RES6rqJvAp25RCOewpFvuirl61ooaqsfoyx+4xP\\n7a/2Wbk0ABCCtfwlg3Ihk8tcAyOJi26Y2aoL2S2Skt4xmiahfYWPiwTU7fCDJYS8\\nx2Bz990zQ2uxOxUWX6rNQTF1FXx1h2qZ3f7bAgMBAAGjGDAWMBQGA1UdEQQNMAuC\\nCWxvY2FsaG9zdDANBgkqhkiG9w0BAQsFAAOCAQEAQ2YUkZULhRXZUkDUp/X6nSa0\\n14cCRboI85tvmUmjSK0NP/ggPozHMShHsHBUF6Jw8znd1c4d9IpIX+VEIBA3AN8H\\ny70RCpZIhUrJxE5rhVzzY8/YXujveLwYkA6iexoNSubhNMLxHHOOVlpDlNpg1L2G\\n/wM+dtPodQAggV15prauTkqxN4c0gk2NBMLcakDkpo4fGqeY641sDaIQKEUfZb5D\\nwF+TtnRO90D49lutr3nZxhIZdTD40qXE0L5Pf1ApidqaZXIjWQFq72ISaO4pqyBp\\njpytulBUzvgUYxtd2xuUWISbFUbeRNgZDkyVB0n9pUjlN6n7/6p7jYgEnLO6Aw==\\n-----END CERTIFICATE-----\\n'\n"
     ]
    }
   ],
   "source": [
    "# Instead of receiveing it, we;ll just open it from disk\n",
    "with open('cert.pem','rb') as f:\n",
    "    received_pem = f.read()\n",
    "print(received_pem)"
   ]
  },
  {
   "cell_type": "code",
   "execution_count": 11,
   "metadata": {},
   "outputs": [
    {
     "data": {
      "text/plain": [
       "<Certificate(subject=<Name(C=US,ST=Colorado,L=Fort Collins,O=Colorado State University,CN=fakesite.edu)>, ...)>"
      ]
     },
     "execution_count": 11,
     "metadata": {},
     "output_type": "execute_result"
    }
   ],
   "source": [
    "# Let's load the PEM file into a certificate object\n",
    "received_cert = x509.load_pem_x509_certificate(received_pem)\n",
    "received_cert"
   ]
  },
  {
   "cell_type": "code",
   "execution_count": 12,
   "metadata": {},
   "outputs": [
    {
     "data": {
      "text/plain": [
       "True"
      ]
     },
     "execution_count": 12,
     "metadata": {},
     "output_type": "execute_result"
    }
   ],
   "source": [
    "#This should match what we just loaded.\n",
    "received_cert.public_bytes(serialization.Encoding.PEM) == signedCert_PEM"
   ]
  },
  {
   "cell_type": "markdown",
   "metadata": {},
   "source": [
    "### X509 Data and objects\n",
    "What things are available in the certificate?"
   ]
  },
  {
   "cell_type": "code",
   "execution_count": 13,
   "metadata": {},
   "outputs": [
    {
     "data": {
      "text/plain": [
       "<Version.v3: 2>"
      ]
     },
     "execution_count": 13,
     "metadata": {},
     "output_type": "execute_result"
    }
   ],
   "source": [
    "#Version for the certificate\n",
    "received_cert.version"
   ]
  },
  {
   "cell_type": "code",
   "execution_count": 14,
   "metadata": {},
   "outputs": [
    {
     "data": {
      "text/plain": [
       "'4B4EE480F4CC5D0A8FCF80240512183CC9426AB53A76422ED6265EDBA593DD64'"
      ]
     },
     "execution_count": 14,
     "metadata": {},
     "output_type": "execute_result"
    }
   ],
   "source": [
    "#The certificate fingerprint, which is easier to look up\n",
    "fingerprint = received_cert.fingerprint(hashes.SHA256())\n",
    "\"\".join([\"{:02X}\".format(b) for b in fingerprint])"
   ]
  },
  {
   "cell_type": "code",
   "execution_count": 15,
   "metadata": {},
   "outputs": [
    {
     "data": {
      "text/plain": [
       "462893121613984089894177319962981681438662507001"
      ]
     },
     "execution_count": 15,
     "metadata": {},
     "output_type": "execute_result"
    }
   ],
   "source": [
    "#The random certificate serial number\n",
    "received_cert.serial_number"
   ]
  },
  {
   "cell_type": "code",
   "execution_count": 16,
   "metadata": {},
   "outputs": [
    {
     "data": {
      "text/plain": [
       "<cryptography.hazmat.backends.openssl.rsa._RSAPublicKey at 0x27efd4d8700>"
      ]
     },
     "execution_count": 16,
     "metadata": {},
     "output_type": "execute_result"
    }
   ],
   "source": [
    "# Extract the public key from the certificate. This is critical to verify the signature\n",
    "cert_pub_key = received_cert.public_key()\n",
    "cert_pub_key"
   ]
  },
  {
   "cell_type": "code",
   "execution_count": 17,
   "metadata": {},
   "outputs": [
    {
     "data": {
      "text/plain": [
       "datetime.datetime(2023, 4, 8, 20, 2, 50)"
      ]
     },
     "execution_count": 17,
     "metadata": {},
     "output_type": "execute_result"
    }
   ],
   "source": [
    "# A datetime object to show the birth of the certificate\n",
    "received_cert.not_valid_before"
   ]
  },
  {
   "cell_type": "code",
   "execution_count": 18,
   "metadata": {},
   "outputs": [
    {
     "data": {
      "text/plain": [
       "datetime.datetime(2023, 4, 18, 20, 2, 50)"
      ]
     },
     "execution_count": 18,
     "metadata": {},
     "output_type": "execute_result"
    }
   ],
   "source": [
    "# A datetime object to show the expiration of the certificate\n",
    "received_cert.not_valid_after"
   ]
  },
  {
   "cell_type": "code",
   "execution_count": 19,
   "metadata": {},
   "outputs": [
    {
     "data": {
      "text/plain": [
       "<Name(C=US,ST=Colorado,L=Fort Collins,O=Colorado State University,CN=fakesite.edu)>"
      ]
     },
     "execution_count": 19,
     "metadata": {},
     "output_type": "execute_result"
    }
   ],
   "source": [
    "# A Name object identifying the issuer of the certificate\n",
    "received_cert.issuer"
   ]
  },
  {
   "cell_type": "code",
   "execution_count": 20,
   "metadata": {},
   "outputs": [
    {
     "data": {
      "text/plain": [
       "<Name(C=US,ST=Colorado,L=Fort Collins,O=Colorado State University,CN=fakesite.edu)>"
      ]
     },
     "execution_count": 20,
     "metadata": {},
     "output_type": "execute_result"
    }
   ],
   "source": [
    "# A Name object identifying the subject of the certificate.\n",
    "received_cert.subject"
   ]
  },
  {
   "cell_type": "code",
   "execution_count": 21,
   "metadata": {},
   "outputs": [
    {
     "data": {
      "text/plain": [
       "<cryptography.hazmat.primitives.hashes.SHA256 at 0x27efd2d6130>"
      ]
     },
     "execution_count": 21,
     "metadata": {},
     "output_type": "execute_result"
    }
   ],
   "source": [
    "# The algorithm object created by the library for use in hashing the certificate contents\n",
    "received_cert.signature_hash_algorithm"
   ]
  },
  {
   "cell_type": "code",
   "execution_count": 22,
   "metadata": {},
   "outputs": [
    {
     "data": {
      "text/plain": [
       "<ObjectIdentifier(oid=1.2.840.113549.1.1.11, name=sha256WithRSAEncryption)>"
      ]
     },
     "execution_count": 22,
     "metadata": {},
     "output_type": "execute_result"
    }
   ],
   "source": [
    "# The object identifier for the signature algorithm\n",
    "received_cert.signature_algorithm_oid"
   ]
  },
  {
   "cell_type": "code",
   "execution_count": 23,
   "metadata": {},
   "outputs": [
    {
     "data": {
      "text/plain": [
       "b'Cf\\x14\\x91\\x95\\x0b\\x85\\x15\\xd9R@\\xd4\\xa7\\xf5\\xfa\\x9d&\\xb4\\xd7\\x87\\x02E\\xba\\x08\\xf3\\x9bo\\x99I\\xa3H\\xad\\r?\\xf8 >\\x8c\\xc71(G\\xb0pT\\x17\\xa2p\\xf39\\xdd\\xd5\\xce\\x1d\\xf4\\x8aH_\\xe5D \\x107\\x00\\xdf\\x07\\xcb\\xbd\\x11\\n\\x96H\\x85J\\xc9\\xc4Nk\\x85\\\\\\xf3c\\xcf\\xd8^\\xe8\\xefx\\xbc\\x18\\x90\\x0e\\xa2{\\x1a\\rJ\\xe6\\xe14\\xc2\\xf1\\x1cs\\x8eVZC\\x94\\xda`\\xd4\\xbd\\x86\\xff\\x03>v\\xd3\\xe8u\\x00 \\x81]y\\xa6\\xb6\\xaeNJ\\xb17\\x874\\x82M\\x8d\\x04\\xc2\\xdcj@\\xe4\\xa6\\x8e\\x1f\\x1a\\xa7\\x98\\xeb\\x8dl\\r\\xa2\\x10(E\\x1fe\\xbeC\\xc0_\\x93\\xb6tN\\xf7@\\xf8\\xf6[\\xad\\xafy\\xd9\\xc6\\x12\\x19u0\\xf8\\xd2\\xa5\\xc4\\xd0\\xbeO\\x7fP)\\x89\\xda\\x9aer#Y\\x01j\\xefb\\x12h\\xee)\\xab i\\x8e\\x9c\\xad\\xbaPT\\xce\\xf8\\x14c\\x1b]\\xdb\\x1b\\x94X\\x84\\x9b\\x15F\\xdeD\\xd8\\x19\\x0eL\\x95\\x07I\\xfd\\xa5H\\xe57\\xa9\\xfb\\xff\\xaa{\\x8d\\x88\\x04\\x9c\\xb3\\xba\\x03'"
      ]
     },
     "execution_count": 23,
     "metadata": {},
     "output_type": "execute_result"
    }
   ],
   "source": [
    "# The bytes for the actual signature\n",
    "received_cert.signature"
   ]
  },
  {
   "cell_type": "code",
   "execution_count": 24,
   "metadata": {},
   "outputs": [
    {
     "name": "stdout",
     "output_type": "stream",
     "text": [
      "<Extension(oid=<ObjectIdentifier(oid=2.5.29.17, name=subjectAltName)>, critical=False, value=<SubjectAlternativeName(<GeneralNames([<DNSName(value='localhost')>])>)>)>\n"
     ]
    }
   ],
   "source": [
    "#Enumerate the x509 extensions\n",
    "for ext in received_cert.extensions:\n",
    "    print(ext)"
   ]
  },
  {
   "cell_type": "markdown",
   "metadata": {},
   "source": [
    "There is a big list of structured constants, known as Object Identifiers, that are enumerated in the documentation.\n",
    "\n",
    "https://cryptography.io/en/latest/x509/reference/#object-identifiers\n",
    "\n",
    "Let's get the value of the DNSName."
   ]
  },
  {
   "cell_type": "code",
   "execution_count": 25,
   "metadata": {},
   "outputs": [
    {
     "data": {
      "text/plain": [
       "['localhost']"
      ]
     },
     "execution_count": 25,
     "metadata": {},
     "output_type": "execute_result"
    }
   ],
   "source": [
    "DNSNameOID = x509.ExtensionOID.SUBJECT_ALTERNATIVE_NAME\n",
    "ext = received_cert.extensions.get_extension_for_oid(DNSNameOID)\n",
    "ext.value.get_values_for_type(x509.DNSName)"
   ]
  },
  {
   "cell_type": "code",
   "execution_count": 26,
   "metadata": {},
   "outputs": [
    {
     "data": {
      "text/plain": [
       "b'0\\x82\\x02r\\xa0\\x03\\x02\\x01\\x02\\x02\\x14Q\\x14\\xd8o\\xba\\xb5p%H\\x16r\\x92F\\xdc\\xbckj:\\xb9\\xf90\\r\\x06\\t*\\x86H\\x86\\xf7\\r\\x01\\x01\\x0b\\x05\\x000r1\\x0b0\\t\\x06\\x03U\\x04\\x06\\x13\\x02US1\\x110\\x0f\\x06\\x03U\\x04\\x08\\x0c\\x08Colorado1\\x150\\x13\\x06\\x03U\\x04\\x07\\x0c\\x0cFort Collins1\"0 \\x06\\x03U\\x04\\n\\x0c\\x19Colorado State University1\\x150\\x13\\x06\\x03U\\x04\\x03\\x0c\\x0cfakesite.edu0\\x1e\\x17\\r230408200250Z\\x17\\r230418200250Z0r1\\x0b0\\t\\x06\\x03U\\x04\\x06\\x13\\x02US1\\x110\\x0f\\x06\\x03U\\x04\\x08\\x0c\\x08Colorado1\\x150\\x13\\x06\\x03U\\x04\\x07\\x0c\\x0cFort Collins1\"0 \\x06\\x03U\\x04\\n\\x0c\\x19Colorado State University1\\x150\\x13\\x06\\x03U\\x04\\x03\\x0c\\x0cfakesite.edu0\\x82\\x01\"0\\r\\x06\\t*\\x86H\\x86\\xf7\\r\\x01\\x01\\x01\\x05\\x00\\x03\\x82\\x01\\x0f\\x000\\x82\\x01\\n\\x02\\x82\\x01\\x01\\x00\\x9f\\x0es\\x14h[\\xe5\\xdd\\xf2\\xfc\\xffB\\xeau\\x92\\xc1\\x92Ss\\x02\\x8aZ\\xff\\xe6\\xc0\\x16?\\x8b\\x14|\\xda\\x9e\\xad\\xa2!M\\xd4\\xe6\\x8a\\x03`4\\x81\\x19\\xdd\\x9dP\\xd0\\x86\\x1f\\xbd\\x9e;\\x93\\x8a5yBB\\x0fq\\xccQ\\xfb\\x80\\x19.\\xbb\\x8c\\xb3-s\\x06R\\xadSV{\\xe1\\xe5;\\x03Y>.\\'\\x9e\\x93\\x813;#a1T\\xff\\x1dCA\\x13\\xbar\\xef\\tk\\x92Ao\\xf0Su$\\xa3L\\xa4\\x18\\xed\\xbb$=9\\xa2U9\\xbc\\xbbyQ\\xc3\\xc4_%\\xd3\\x95\\xd2MCo\\xadH7\\x8d\\xc1\\xfc\\xba\\x8es\\xa7d\\xc5\\xf2\\xf5\\x11\\x12\\xea\\xba\\x89\\xbc\\nv\\xe5\\x10\\x8e{\\nE\\xbe\\xe8\\xab\\x97\\xadh\\xa1\\xaa\\xac~\\x8c\\xb1\\xfb\\x8cO\\xed\\xaf\\xf6Y\\xb94\\x00\\x10\\x82\\xb5\\xfc%\\x83r!\\x93\\xcb\\\\\\x03#\\x89\\x8bn\\x98\\xd9\\xaa\\x0b\\xd9-\\x92\\x92\\xde1\\x9a&\\xa1}\\x85\\x8f\\x8b\\x04\\xd4\\xed\\xf0\\x83%\\x84\\xbc\\xc7`s\\xf7\\xdd3Ck\\xb1;\\x15\\x16_\\xaa\\xcdA1u\\x15|u\\x87j\\x99\\xdd\\xfe\\xdb\\x02\\x03\\x01\\x00\\x01\\xa3\\x180\\x160\\x14\\x06\\x03U\\x1d\\x11\\x04\\r0\\x0b\\x82\\tlocalhost'"
      ]
     },
     "execution_count": 26,
     "metadata": {},
     "output_type": "execute_result"
    }
   ],
   "source": [
    "#The DER encoded bytes payload (as defined by RFC 5280) is hashed and then\n",
    "#signed by the private key of the certificate’s issuer.\n",
    "received_cert.tbs_certificate_bytes"
   ]
  },
  {
   "cell_type": "markdown",
   "metadata": {},
   "source": [
    "### And now the \"client\" verifies  that the certificate has not been altered."
   ]
  },
  {
   "cell_type": "code",
   "execution_count": 27,
   "metadata": {},
   "outputs": [
    {
     "name": "stdout",
     "output_type": "stream",
     "text": [
      "Valid signature\n"
     ]
    }
   ],
   "source": [
    "#The verify function will throw an execption if the signature is not valid\n",
    "cert_pub_key.verify(\n",
    "        received_cert.signature,\n",
    "        received_cert.tbs_certificate_bytes,\n",
    "        padding.PKCS1v15(),\n",
    "        received_cert.signature_hash_algorithm\n",
    "    )\n",
    "print(\"Valid signature\")"
   ]
  },
  {
   "cell_type": "code",
   "execution_count": 28,
   "metadata": {},
   "outputs": [
    {
     "name": "stdout",
     "output_type": "stream",
     "text": [
      "InvalidSignature()\n"
     ]
    }
   ],
   "source": [
    "#We get an exception if the certificate or signature are altered.\n",
    "from cryptography.exceptions import InvalidSignature\n",
    "try:\n",
    "    cert_pub_key.verify(\n",
    "        received_cert.signature,\n",
    "        # change just the first byte to get manipulated data\n",
    "        b'1' + received_cert.tbs_certificate_bytes[1:],\n",
    "        padding.PKCS1v15(),\n",
    "        received_cert.signature_hash_algorithm\n",
    "    )\n",
    "    print(\"Valid signature\")\n",
    "except InvalidSignature as e:\n",
    "    print(repr(e))"
   ]
  },
  {
   "cell_type": "code",
   "execution_count": 29,
   "metadata": {},
   "outputs": [
    {
     "data": {
      "text/plain": [
       "True"
      ]
     },
     "execution_count": 29,
     "metadata": {},
     "output_type": "execute_result"
    }
   ],
   "source": [
    "#Make sure the time has not expired on the certificate\n",
    "datetime.utcnow() < received_cert.not_valid_after"
   ]
  },
  {
   "cell_type": "code",
   "execution_count": 30,
   "metadata": {},
   "outputs": [
    {
     "data": {
      "text/plain": [
       "True"
      ]
     },
     "execution_count": 30,
     "metadata": {},
     "output_type": "execute_result"
    }
   ],
   "source": [
    "#Make sure there the clock wasn't manipulated to show an old certificate\n",
    "datetime.utcnow() > received_cert.not_valid_before"
   ]
  },
  {
   "cell_type": "code",
   "execution_count": 31,
   "metadata": {},
   "outputs": [
    {
     "name": "stdout",
     "output_type": "stream",
     "text": [
      "The certificate has not expired\n"
     ]
    }
   ],
   "source": [
    "# Check for a valid time slot:\n",
    "if (datetime.utcnow() < received_cert.not_valid_after and\n",
    "    datetime.utcnow() > received_cert.not_valid_before):\n",
    "    print(\"The certificate has not expired\")\n",
    "else:\n",
    "    print(\"The certificate is outside the allowed times.\")"
   ]
  },
  {
   "cell_type": "markdown",
   "metadata": {},
   "source": [
    "### Signing Signatures with Elliptic Curve Cryptography\n",
    "Signatures that use ECC are smaller, so the certificates are also smaller.\n",
    "\n",
    "As an exercise, repeat the signature generation, but use the ed25519 elliptic curve instead of RSA."
   ]
  },
  {
   "cell_type": "code",
   "execution_count": 32,
   "metadata": {},
   "outputs": [
    {
     "name": "stdout",
     "output_type": "stream",
     "text": [
      "<Certificate(subject=<Name(C=US,ST=Colorado,L=Fort Collins,O=Colorado State University,CN=fakesite.edu)>, ...)>\n"
     ]
    },
    {
     "data": {
      "text/plain": [
       "b'\\xc3\\xf4v\\xad\\xd4\\xaaw f\\xa5\\x1d\\xc7\\x063\\xba\\x14\\x8b3\\xefE\\x8b\\x07`~VO\\xedZ\\xbbC\\x94\\x16\\x8dxM\\x8b\\xc81\\xe9[\\xef\\x13\\xa2\\x9f\\n\\xb6\\x10\\x1a.g\\x83\\x9e\\x12)\\x81\\xac\\xe4d\\xb2\\xf0\\xd5<\\xd6\\x06'"
      ]
     },
     "execution_count": 32,
     "metadata": {},
     "output_type": "execute_result"
    }
   ],
   "source": [
    "from cryptography.hazmat.primitives.asymmetric.ed25519 import Ed25519PrivateKey\n",
    "privateECCkey = Ed25519PrivateKey.generate()\n",
    "ECCsignedCert = rawCert.sign(privateECCkey,None)\n",
    "print(ECCsignedCert)\n",
    "ECCsignedCert.signature"
   ]
  },
  {
   "cell_type": "markdown",
   "metadata": {},
   "source": [
    "### Issues\n",
    "We have shown there is a valid self-signed certificate. An attacker can generate their own valid certificate. How do we know the certificate from a server is the correct certificate? We need to check it against a certificate chain."
   ]
  },
  {
   "cell_type": "markdown",
   "metadata": {},
   "source": [
    "## Certificate Chains\n",
    "Let's load a series of root certificates at the top of a certificate chain. These are inherently trusted certificates. However, this assumption may not be always valid if someone is able to place a root certificate in a root trust store.\n",
    "Or, the root certificate may be compromised. For example, see this article:\n",
    "\n",
    "https://nakedsecurity.sophos.com/2011/03/24/fraudulent-certificates-issued-by-comodo-is-it-time-to-rethink-who-we-trust/\n",
    "\n",
    "\n"
   ]
  },
  {
   "cell_type": "code",
   "execution_count": 33,
   "metadata": {},
   "outputs": [
    {
     "name": "stdout",
     "output_type": "stream",
     "text": [
      "Requirement already satisfied: certifi in c:\\programdata\\anaconda3\\lib\\site-packages (2020.6.20)\n",
      "Note: you may need to restart the kernel to use updated packages.\n"
     ]
    }
   ],
   "source": [
    "%pip install certifi"
   ]
  },
  {
   "cell_type": "markdown",
   "metadata": {},
   "source": [
    "Download and install trusted root certificates.\n",
    "\n",
    "https://github.com/certifi/python-certifi"
   ]
  },
  {
   "cell_type": "code",
   "execution_count": 77,
   "metadata": {},
   "outputs": [
    {
     "data": {
      "text/plain": [
       "'C:\\\\ProgramData\\\\Anaconda3\\\\lib\\\\site-packages\\\\certifi\\\\cacert.pem'"
      ]
     },
     "execution_count": 77,
     "metadata": {},
     "output_type": "execute_result"
    }
   ],
   "source": [
    "certifi.where()"
   ]
  },
  {
   "cell_type": "code",
   "execution_count": 35,
   "metadata": {},
   "outputs": [
    {
     "data": {
      "text/plain": [
       "b'\\n# Issuer: CN=GlobalSign Root CA O=GlobalSign nv-sa OU=Root CA\\n# Subject: CN=GlobalSign Root CA O=GlobalSign nv-sa OU=Root CA\\n# Label: \"GlobalSign Root CA\"\\n# Serial: 4835703278459707669005204\\n# MD5 Fingerprint: 3e:45:52:15:09:51:92:e1:b7:5d:37:9f:b1:87:29:8a\\n# SHA1 Fingerprint: b1:bc:96:8b:d4:f4:9d:62:2a:a8:9a:81:f2:15:01:52:a4:1d:82:9c\\n# SHA256 Fingerprint: eb:d4:10:40:e4:bb:3e:c7:42:c9:e3:81:d3:1e:f2:a4:1a:48:b6:68:5c:96:e7:ce:f3:c1:df:6c:d4:33:1c:99\\n-----BEGIN CERTIFICATE-----\\nMIIDdTCCAl2gAwIBAgILBAAAAAABFUtaw5QwDQYJKoZIhvcNAQEFBQAwVzELMAkG\\nA1UEBhMCQkUxGTAXBgNVBAoTEEdsb2JhbFNpZ24gbnYtc2ExEDAOBgNVBAsTB1Jv\\nb3QgQ0ExGzAZBgNVBAMTEkdsb2JhbFNpZ24gUm9vdCBDQTAeFw05ODA5MDExMjAw\\nMDBaFw0yODAxMjgxMjAwMDBaMFcxCzAJBgNVBAYTAkJFMRkwFwYDVQQKExBHbG9i\\nYWxTaWduIG52LXNhMRAwDgYDVQQLEwdSb290IENBMRswGQYDVQQDExJHbG9iYWxT\\naWduIFJvb3QgQ0EwggEiMA0GCSqGSIb3DQEBAQUAA4IBDwAwggEKAoIBAQDaDuaZ\\njc6j40+Kfvvxi4Mla+pIH/EqsLmVEQS98GPR4mdmzxzdzxtIK+6NiY6arymAZavp\\nxy0Sy6scTHAHoT0KMM0VjU/43dSMUBUc71DuxC73/OlS8pF94G3VNTCOXkNz'"
      ]
     },
     "execution_count": 35,
     "metadata": {},
     "output_type": "execute_result"
    }
   ],
   "source": [
    "# Read teh root_CAs into memory\n",
    "with open(certifi.where(),'rb') as f:\n",
    "    root_CAs = f.read()\n",
    "root_CAs [:1000]"
   ]
  },
  {
   "cell_type": "code",
   "execution_count": 36,
   "metadata": {},
   "outputs": [
    {
     "data": {
      "text/plain": [
       "282394"
      ]
     },
     "execution_count": 36,
     "metadata": {},
     "output_type": "execute_result"
    }
   ],
   "source": [
    "#There are a bunch of certificates in this store.\n",
    "len(root_CAs)"
   ]
  },
  {
   "cell_type": "code",
   "execution_count": 37,
   "metadata": {},
   "outputs": [
    {
     "name": "stderr",
     "output_type": "stream",
     "text": [
      "C:\\Users\\jdaily\\AppData\\Roaming\\Python\\Python38\\site-packages\\cryptography\\x509\\base.py:576: CryptographyDeprecationWarning: Parsed a negative serial number, which is disallowed by RFC 5280.\n",
      "  return rust_x509.load_pem_x509_certificates(data)\n"
     ]
    },
    {
     "data": {
      "text/plain": [
       "[<Certificate(subject=<Name(C=BE,O=GlobalSign nv-sa,OU=Root CA,CN=GlobalSign Root CA)>, ...)>,\n",
       " <Certificate(subject=<Name(OU=GlobalSign Root CA - R2,O=GlobalSign,CN=GlobalSign)>, ...)>,\n",
       " <Certificate(subject=<Name(O=Entrust.net,OU=www.entrust.net/CPS_2048 incorp. by ref. (limits liab.),OU=(c) 1999 Entrust.net Limited,CN=Entrust.net Certification Authority (2048))>, ...)>,\n",
       " <Certificate(subject=<Name(C=IE,O=Baltimore,OU=CyberTrust,CN=Baltimore CyberTrust Root)>, ...)>,\n",
       " <Certificate(subject=<Name(C=US,O=Entrust\\, Inc.,OU=www.entrust.net/CPS is incorporated by reference,OU=(c) 2006 Entrust\\, Inc.,CN=Entrust Root Certification Authority)>, ...)>,\n",
       " <Certificate(subject=<Name(C=US,O=GeoTrust Inc.,CN=GeoTrust Global CA)>, ...)>,\n",
       " <Certificate(subject=<Name(C=US,O=GeoTrust Inc.,CN=GeoTrust Universal CA)>, ...)>,\n",
       " <Certificate(subject=<Name(C=US,O=GeoTrust Inc.,CN=GeoTrust Universal CA 2)>, ...)>,\n",
       " <Certificate(subject=<Name(C=GB,ST=Greater Manchester,L=Salford,O=Comodo CA Limited,CN=AAA Certificate Services)>, ...)>,\n",
       " <Certificate(subject=<Name(C=BM,O=QuoVadis Limited,OU=Root Certification Authority,CN=QuoVadis Root Certification Authority)>, ...)>,\n",
       " <Certificate(subject=<Name(C=BM,O=QuoVadis Limited,CN=QuoVadis Root CA 2)>, ...)>,\n",
       " <Certificate(subject=<Name(C=BM,O=QuoVadis Limited,CN=QuoVadis Root CA 3)>, ...)>,\n",
       " <Certificate(subject=<Name(C=JP,O=SECOM Trust.net,OU=Security Communication RootCA1)>, ...)>,\n",
       " <Certificate(subject=<Name(C=FI,O=Sonera,CN=Sonera Class2 CA)>, ...)>,\n",
       " <Certificate(subject=<Name(C=US,OU=www.xrampsecurity.com,O=XRamp Security Services Inc,CN=XRamp Global Certification Authority)>, ...)>,\n",
       " <Certificate(subject=<Name(C=US,O=The Go Daddy Group\\, Inc.,OU=Go Daddy Class 2 Certification Authority)>, ...)>,\n",
       " <Certificate(subject=<Name(C=US,O=Starfield Technologies\\, Inc.,OU=Starfield Class 2 Certification Authority)>, ...)>,\n",
       " <Certificate(subject=<Name(C=TW,O=Government Root Certification Authority)>, ...)>,\n",
       " <Certificate(subject=<Name(C=US,O=DigiCert Inc,OU=www.digicert.com,CN=DigiCert Assured ID Root CA)>, ...)>,\n",
       " <Certificate(subject=<Name(C=US,O=DigiCert Inc,OU=www.digicert.com,CN=DigiCert Global Root CA)>, ...)>,\n",
       " <Certificate(subject=<Name(C=US,O=DigiCert Inc,OU=www.digicert.com,CN=DigiCert High Assurance EV Root CA)>, ...)>,\n",
       " <Certificate(subject=<Name(O=Digital Signature Trust Co.,CN=DST Root CA X3)>, ...)>,\n",
       " <Certificate(subject=<Name(C=CH,O=SwissSign AG,CN=SwissSign Gold CA - G2)>, ...)>,\n",
       " <Certificate(subject=<Name(C=CH,O=SwissSign AG,CN=SwissSign Silver CA - G2)>, ...)>,\n",
       " <Certificate(subject=<Name(C=US,O=GeoTrust Inc.,CN=GeoTrust Primary Certification Authority)>, ...)>,\n",
       " <Certificate(subject=<Name(C=US,O=thawte\\, Inc.,OU=Certification Services Division,OU=(c) 2006 thawte\\, Inc. - For authorized use only,CN=thawte Primary Root CA)>, ...)>,\n",
       " <Certificate(subject=<Name(C=US,O=VeriSign\\, Inc.,OU=VeriSign Trust Network,OU=(c) 2006 VeriSign\\, Inc. - For authorized use only,CN=VeriSign Class 3 Public Primary Certification Authority - G5)>, ...)>,\n",
       " <Certificate(subject=<Name(C=US,O=SecureTrust Corporation,CN=SecureTrust CA)>, ...)>,\n",
       " <Certificate(subject=<Name(C=US,O=SecureTrust Corporation,CN=Secure Global CA)>, ...)>,\n",
       " <Certificate(subject=<Name(C=GB,ST=Greater Manchester,L=Salford,O=COMODO CA Limited,CN=COMODO Certification Authority)>, ...)>,\n",
       " <Certificate(subject=<Name(C=US,O=Network Solutions L.L.C.,CN=Network Solutions Certificate Authority)>, ...)>,\n",
       " <Certificate(subject=<Name(C=GB,ST=Greater Manchester,L=Salford,O=COMODO CA Limited,CN=COMODO ECC Certification Authority)>, ...)>,\n",
       " <Certificate(subject=<Name(C=CH,O=WISeKey,OU=Copyright (c) 2005,OU=OISTE Foundation Endorsed,CN=OISTE WISeKey Global Root GA CA)>, ...)>,\n",
       " <Certificate(subject=<Name(C=FR,O=Dhimyotis,CN=Certigna)>, ...)>,\n",
       " <Certificate(subject=<Name(O=Cybertrust\\, Inc,CN=Cybertrust Global Root)>, ...)>,\n",
       " <Certificate(subject=<Name(C=TW,O=Chunghwa Telecom Co.\\, Ltd.,OU=ePKI Root Certification Authority)>, ...)>,\n",
       " <Certificate(subject=<Name(C=RO,O=certSIGN,OU=certSIGN ROOT CA)>, ...)>,\n",
       " <Certificate(subject=<Name(C=US,O=GeoTrust Inc.,OU=(c) 2008 GeoTrust Inc. - For authorized use only,CN=GeoTrust Primary Certification Authority - G3)>, ...)>,\n",
       " <Certificate(subject=<Name(C=US,O=thawte\\, Inc.,OU=(c) 2007 thawte\\, Inc. - For authorized use only,CN=thawte Primary Root CA - G2)>, ...)>,\n",
       " <Certificate(subject=<Name(C=US,O=thawte\\, Inc.,OU=Certification Services Division,OU=(c) 2008 thawte\\, Inc. - For authorized use only,CN=thawte Primary Root CA - G3)>, ...)>,\n",
       " <Certificate(subject=<Name(C=US,O=GeoTrust Inc.,OU=(c) 2007 GeoTrust Inc. - For authorized use only,CN=GeoTrust Primary Certification Authority - G2)>, ...)>,\n",
       " <Certificate(subject=<Name(C=US,O=VeriSign\\, Inc.,OU=VeriSign Trust Network,OU=(c) 2008 VeriSign\\, Inc. - For authorized use only,CN=VeriSign Universal Root Certification Authority)>, ...)>,\n",
       " <Certificate(subject=<Name(C=US,O=VeriSign\\, Inc.,OU=VeriSign Trust Network,OU=(c) 2007 VeriSign\\, Inc. - For authorized use only,CN=VeriSign Class 3 Public Primary Certification Authority - G4)>, ...)>,\n",
       " <Certificate(subject=<Name(C=HU,L=Budapest,O=NetLock Kft.,OU=Tanúsítványkiadók (Certification Services),CN=NetLock Arany (Class Gold) Főtanúsítvány)>, ...)>,\n",
       " <Certificate(subject=<Name(C=HK,O=Hongkong Post,CN=Hongkong Post Root CA 1)>, ...)>,\n",
       " <Certificate(subject=<Name(C=JP,O=Japan Certification Services\\, Inc.,CN=SecureSign RootCA11)>, ...)>,\n",
       " <Certificate(subject=<Name(C=HU,L=Budapest,O=Microsec Ltd.,CN=Microsec e-Szigno Root CA 2009,1.2.840.113549.1.9.1=info@e-szigno.hu)>, ...)>,\n",
       " <Certificate(subject=<Name(OU=GlobalSign Root CA - R3,O=GlobalSign,CN=GlobalSign)>, ...)>,\n",
       " <Certificate(subject=<Name(C=ES,CN=Autoridad de Certificacion Firmaprofesional CIF A62634068)>, ...)>,\n",
       " <Certificate(subject=<Name(C=ES,O=IZENPE S.A.,CN=Izenpe.com)>, ...)>,\n",
       " <Certificate(subject=<Name(C=EU,L=Madrid (see current address at www.camerfirma.com/address),2.5.4.5=A82743287,O=AC Camerfirma S.A.,CN=Chambers of Commerce Root - 2008)>, ...)>,\n",
       " <Certificate(subject=<Name(C=EU,L=Madrid (see current address at www.camerfirma.com/address),2.5.4.5=A82743287,O=AC Camerfirma S.A.,CN=Global Chambersign Root - 2008)>, ...)>,\n",
       " <Certificate(subject=<Name(C=US,ST=Arizona,L=Scottsdale,O=GoDaddy.com\\, Inc.,CN=Go Daddy Root Certificate Authority - G2)>, ...)>,\n",
       " <Certificate(subject=<Name(C=US,ST=Arizona,L=Scottsdale,O=Starfield Technologies\\, Inc.,CN=Starfield Root Certificate Authority - G2)>, ...)>,\n",
       " <Certificate(subject=<Name(C=US,ST=Arizona,L=Scottsdale,O=Starfield Technologies\\, Inc.,CN=Starfield Services Root Certificate Authority - G2)>, ...)>,\n",
       " <Certificate(subject=<Name(C=US,O=AffirmTrust,CN=AffirmTrust Commercial)>, ...)>,\n",
       " <Certificate(subject=<Name(C=US,O=AffirmTrust,CN=AffirmTrust Networking)>, ...)>,\n",
       " <Certificate(subject=<Name(C=US,O=AffirmTrust,CN=AffirmTrust Premium)>, ...)>,\n",
       " <Certificate(subject=<Name(C=US,O=AffirmTrust,CN=AffirmTrust Premium ECC)>, ...)>,\n",
       " <Certificate(subject=<Name(C=PL,O=Unizeto Technologies S.A.,OU=Certum Certification Authority,CN=Certum Trusted Network CA)>, ...)>,\n",
       " <Certificate(subject=<Name(C=TW,O=TAIWAN-CA,OU=Root CA,CN=TWCA Root Certification Authority)>, ...)>,\n",
       " <Certificate(subject=<Name(C=JP,O=SECOM Trust Systems CO.\\,LTD.,OU=Security Communication RootCA2)>, ...)>,\n",
       " <Certificate(subject=<Name(C=ES,O=Agencia Catalana de Certificacio (NIF Q-0801176-I),OU=Serveis Publics de Certificacio,OU=Vegeu https://www.catcert.net/verarrel (c)03,OU=Jerarquia Entitats de Certificacio Catalanes,CN=EC-ACC)>, ...)>,\n",
       " <Certificate(subject=<Name(C=GR,O=Hellenic Academic and Research Institutions Cert. Authority,CN=Hellenic Academic and Research Institutions RootCA 2011)>, ...)>,\n",
       " <Certificate(subject=<Name(C=IT,L=Milan,O=Actalis S.p.A./03358520967,CN=Actalis Authentication Root CA)>, ...)>,\n",
       " <Certificate(subject=<Name(C=GB,O=Trustis Limited,OU=Trustis FPS Root CA)>, ...)>,\n",
       " <Certificate(subject=<Name(C=NO,O=Buypass AS-983163327,CN=Buypass Class 2 Root CA)>, ...)>,\n",
       " <Certificate(subject=<Name(C=NO,O=Buypass AS-983163327,CN=Buypass Class 3 Root CA)>, ...)>,\n",
       " <Certificate(subject=<Name(C=DE,O=T-Systems Enterprise Services GmbH,OU=T-Systems Trust Center,CN=T-TeleSec GlobalRoot Class 3)>, ...)>,\n",
       " <Certificate(subject=<Name(C=EE,O=AS Sertifitseerimiskeskus,CN=EE Certification Centre Root CA,1.2.840.113549.1.9.1=pki@sk.ee)>, ...)>,\n",
       " <Certificate(subject=<Name(C=DE,O=D-Trust GmbH,CN=D-TRUST Root Class 3 CA 2 2009)>, ...)>,\n",
       " <Certificate(subject=<Name(C=DE,O=D-Trust GmbH,CN=D-TRUST Root Class 3 CA 2 EV 2009)>, ...)>,\n",
       " <Certificate(subject=<Name(C=SK,L=Bratislava,O=Disig a.s.,CN=CA Disig Root R2)>, ...)>,\n",
       " <Certificate(subject=<Name(CN=ACCVRAIZ1,OU=PKIACCV,O=ACCV,C=ES)>, ...)>,\n",
       " <Certificate(subject=<Name(C=TW,O=TAIWAN-CA,OU=Root CA,CN=TWCA Global Root CA)>, ...)>,\n",
       " <Certificate(subject=<Name(O=TeliaSonera,CN=TeliaSonera Root CA v1)>, ...)>,\n",
       " <Certificate(subject=<Name(C=TR,L=Ankara,O=E-Tuğra EBG Bilişim Teknolojileri ve Hizmetleri A.Ş.,OU=E-Tugra Sertifikasyon Merkezi,CN=E-Tugra Certification Authority)>, ...)>,\n",
       " <Certificate(subject=<Name(C=DE,O=T-Systems Enterprise Services GmbH,OU=T-Systems Trust Center,CN=T-TeleSec GlobalRoot Class 2)>, ...)>,\n",
       " <Certificate(subject=<Name(CN=Atos TrustedRoot 2011,O=Atos,C=DE)>, ...)>,\n",
       " <Certificate(subject=<Name(C=BM,O=QuoVadis Limited,CN=QuoVadis Root CA 1 G3)>, ...)>,\n",
       " <Certificate(subject=<Name(C=BM,O=QuoVadis Limited,CN=QuoVadis Root CA 2 G3)>, ...)>,\n",
       " <Certificate(subject=<Name(C=BM,O=QuoVadis Limited,CN=QuoVadis Root CA 3 G3)>, ...)>,\n",
       " <Certificate(subject=<Name(C=US,O=DigiCert Inc,OU=www.digicert.com,CN=DigiCert Assured ID Root G2)>, ...)>,\n",
       " <Certificate(subject=<Name(C=US,O=DigiCert Inc,OU=www.digicert.com,CN=DigiCert Assured ID Root G3)>, ...)>,\n",
       " <Certificate(subject=<Name(C=US,O=DigiCert Inc,OU=www.digicert.com,CN=DigiCert Global Root G2)>, ...)>,\n",
       " <Certificate(subject=<Name(C=US,O=DigiCert Inc,OU=www.digicert.com,CN=DigiCert Global Root G3)>, ...)>,\n",
       " <Certificate(subject=<Name(C=US,O=DigiCert Inc,OU=www.digicert.com,CN=DigiCert Trusted Root G4)>, ...)>,\n",
       " <Certificate(subject=<Name(C=GB,ST=Greater Manchester,L=Salford,O=COMODO CA Limited,CN=COMODO RSA Certification Authority)>, ...)>,\n",
       " <Certificate(subject=<Name(C=US,ST=New Jersey,L=Jersey City,O=The USERTRUST Network,CN=USERTrust RSA Certification Authority)>, ...)>,\n",
       " <Certificate(subject=<Name(C=US,ST=New Jersey,L=Jersey City,O=The USERTRUST Network,CN=USERTrust ECC Certification Authority)>, ...)>,\n",
       " <Certificate(subject=<Name(OU=GlobalSign ECC Root CA - R4,O=GlobalSign,CN=GlobalSign)>, ...)>,\n",
       " <Certificate(subject=<Name(OU=GlobalSign ECC Root CA - R5,O=GlobalSign,CN=GlobalSign)>, ...)>,\n",
       " <Certificate(subject=<Name(C=NL,O=Staat der Nederlanden,CN=Staat der Nederlanden Root CA - G3)>, ...)>,\n",
       " <Certificate(subject=<Name(C=NL,O=Staat der Nederlanden,CN=Staat der Nederlanden EV Root CA)>, ...)>,\n",
       " <Certificate(subject=<Name(C=US,O=IdenTrust,CN=IdenTrust Commercial Root CA 1)>, ...)>,\n",
       " <Certificate(subject=<Name(C=US,O=IdenTrust,CN=IdenTrust Public Sector Root CA 1)>, ...)>,\n",
       " <Certificate(subject=<Name(C=US,O=Entrust\\, Inc.,OU=See www.entrust.net/legal-terms,OU=(c) 2009 Entrust\\, Inc. - for authorized use only,CN=Entrust Root Certification Authority - G2)>, ...)>,\n",
       " <Certificate(subject=<Name(C=US,O=Entrust\\, Inc.,OU=See www.entrust.net/legal-terms,OU=(c) 2012 Entrust\\, Inc. - for authorized use only,CN=Entrust Root Certification Authority - EC1)>, ...)>,\n",
       " <Certificate(subject=<Name(C=CN,O=China Financial Certification Authority,CN=CFCA EV ROOT)>, ...)>,\n",
       " <Certificate(subject=<Name(C=CH,O=WISeKey,OU=OISTE Foundation Endorsed,CN=OISTE WISeKey Global Root GB CA)>, ...)>,\n",
       " <Certificate(subject=<Name(C=PL,O=Krajowa Izba Rozliczeniowa S.A.,CN=SZAFIR ROOT CA2)>, ...)>,\n",
       " <Certificate(subject=<Name(C=PL,O=Unizeto Technologies S.A.,OU=Certum Certification Authority,CN=Certum Trusted Network CA 2)>, ...)>,\n",
       " <Certificate(subject=<Name(C=GR,L=Athens,O=Hellenic Academic and Research Institutions Cert. Authority,CN=Hellenic Academic and Research Institutions RootCA 2015)>, ...)>,\n",
       " <Certificate(subject=<Name(C=GR,L=Athens,O=Hellenic Academic and Research Institutions Cert. Authority,CN=Hellenic Academic and Research Institutions ECC RootCA 2015)>, ...)>,\n",
       " <Certificate(subject=<Name(C=US,O=Internet Security Research Group,CN=ISRG Root X1)>, ...)>,\n",
       " <Certificate(subject=<Name(C=ES,O=FNMT-RCM,OU=AC RAIZ FNMT-RCM)>, ...)>,\n",
       " <Certificate(subject=<Name(C=US,O=Amazon,CN=Amazon Root CA 1)>, ...)>,\n",
       " <Certificate(subject=<Name(C=US,O=Amazon,CN=Amazon Root CA 2)>, ...)>,\n",
       " <Certificate(subject=<Name(C=US,O=Amazon,CN=Amazon Root CA 3)>, ...)>,\n",
       " <Certificate(subject=<Name(C=US,O=Amazon,CN=Amazon Root CA 4)>, ...)>,\n",
       " <Certificate(subject=<Name(C=TR,L=Gebze - Kocaeli,O=Turkiye Bilimsel ve Teknolojik Arastirma Kurumu - TUBITAK,OU=Kamu Sertifikasyon Merkezi - Kamu SM,CN=TUBITAK Kamu SM SSL Kok Sertifikasi - Surum 1)>, ...)>,\n",
       " <Certificate(subject=<Name(C=CN,O=GUANG DONG CERTIFICATE AUTHORITY CO.\\,LTD.,CN=GDCA TrustAUTH R5 ROOT)>, ...)>,\n",
       " <Certificate(subject=<Name(C=PA,ST=Panama,L=Panama City,O=TrustCor Systems S. de R.L.,OU=TrustCor Certificate Authority,CN=TrustCor RootCert CA-1)>, ...)>,\n",
       " <Certificate(subject=<Name(C=PA,ST=Panama,L=Panama City,O=TrustCor Systems S. de R.L.,OU=TrustCor Certificate Authority,CN=TrustCor RootCert CA-2)>, ...)>,\n",
       " <Certificate(subject=<Name(C=PA,ST=Panama,L=Panama City,O=TrustCor Systems S. de R.L.,OU=TrustCor Certificate Authority,CN=TrustCor ECA-1)>, ...)>,\n",
       " <Certificate(subject=<Name(C=US,ST=Texas,L=Houston,O=SSL Corporation,CN=SSL.com Root Certification Authority RSA)>, ...)>,\n",
       " <Certificate(subject=<Name(C=US,ST=Texas,L=Houston,O=SSL Corporation,CN=SSL.com Root Certification Authority ECC)>, ...)>,\n",
       " <Certificate(subject=<Name(C=US,ST=Texas,L=Houston,O=SSL Corporation,CN=SSL.com EV Root Certification Authority RSA R2)>, ...)>,\n",
       " <Certificate(subject=<Name(C=US,ST=Texas,L=Houston,O=SSL Corporation,CN=SSL.com EV Root Certification Authority ECC)>, ...)>,\n",
       " <Certificate(subject=<Name(OU=GlobalSign Root CA - R6,O=GlobalSign,CN=GlobalSign)>, ...)>,\n",
       " <Certificate(subject=<Name(C=CH,O=WISeKey,OU=OISTE Foundation Endorsed,CN=OISTE WISeKey Global Root GC CA)>, ...)>,\n",
       " <Certificate(subject=<Name(C=US,O=Google Trust Services LLC,CN=GTS Root R1)>, ...)>,\n",
       " <Certificate(subject=<Name(C=US,O=Google Trust Services LLC,CN=GTS Root R2)>, ...)>,\n",
       " <Certificate(subject=<Name(C=US,O=Google Trust Services LLC,CN=GTS Root R3)>, ...)>,\n",
       " <Certificate(subject=<Name(C=US,O=Google Trust Services LLC,CN=GTS Root R4)>, ...)>,\n",
       " <Certificate(subject=<Name(C=CN,O=UniTrust,CN=UCA Global G2 Root)>, ...)>,\n",
       " <Certificate(subject=<Name(C=CN,O=UniTrust,CN=UCA Extended Validation Root)>, ...)>,\n",
       " <Certificate(subject=<Name(C=FR,O=Dhimyotis,OU=0002 48146308100036,CN=Certigna Root CA)>, ...)>,\n",
       " <Certificate(subject=<Name(C=IN,OU=emSign PKI,O=eMudhra Technologies Limited,CN=emSign Root CA - G1)>, ...)>,\n",
       " <Certificate(subject=<Name(C=IN,OU=emSign PKI,O=eMudhra Technologies Limited,CN=emSign ECC Root CA - G3)>, ...)>,\n",
       " <Certificate(subject=<Name(C=US,OU=emSign PKI,O=eMudhra Inc,CN=emSign Root CA - C1)>, ...)>,\n",
       " <Certificate(subject=<Name(C=US,OU=emSign PKI,O=eMudhra Inc,CN=emSign ECC Root CA - C3)>, ...)>,\n",
       " <Certificate(subject=<Name(C=HK,ST=Hong Kong,L=Hong Kong,O=Hongkong Post,CN=Hongkong Post Root CA 3)>, ...)>,\n",
       " <Certificate(subject=<Name(C=US,O=Entrust\\, Inc.,OU=See www.entrust.net/legal-terms,OU=(c) 2015 Entrust\\, Inc. - for authorized use only,CN=Entrust Root Certification Authority - G4)>, ...)>,\n",
       " <Certificate(subject=<Name(C=US,O=Microsoft Corporation,CN=Microsoft ECC Root Certificate Authority 2017)>, ...)>,\n",
       " <Certificate(subject=<Name(C=US,O=Microsoft Corporation,CN=Microsoft RSA Root Certificate Authority 2017)>, ...)>,\n",
       " <Certificate(subject=<Name(C=HU,L=Budapest,O=Microsec Ltd.,2.5.4.97=VATHU-23584497,CN=e-Szigno Root CA 2017)>, ...)>,\n",
       " <Certificate(subject=<Name(C=RO,O=CERTSIGN SA,OU=certSIGN ROOT CA G2)>, ...)>]"
      ]
     },
     "execution_count": 37,
     "metadata": {},
     "output_type": "execute_result"
    }
   ],
   "source": [
    "#Load all the certificate material into Python objects\n",
    "root_certs = x509.load_pem_x509_certificates(root_CAs)\n",
    "root_certs"
   ]
  },
  {
   "cell_type": "code",
   "execution_count": 60,
   "metadata": {},
   "outputs": [
    {
     "name": "stdout",
     "output_type": "stream",
     "text": [
      "GlobalSign Root CA\n",
      "GlobalSign\n",
      "Entrust.net Certification Authority (2048)\n",
      "Baltimore CyberTrust Root\n",
      "Entrust Root Certification Authority\n",
      "GeoTrust Global CA\n",
      "GeoTrust Universal CA\n",
      "GeoTrust Universal CA 2\n",
      "AAA Certificate Services\n",
      "QuoVadis Root Certification Authority\n",
      "QuoVadis Root CA 2\n",
      "QuoVadis Root CA 3\n",
      "<Name(C=JP,O=SECOM Trust.net,OU=Security Communication RootCA1)>\n",
      "Sonera Class2 CA\n",
      "XRamp Global Certification Authority\n",
      "<Name(C=US,O=The Go Daddy Group\\, Inc.,OU=Go Daddy Class 2 Certification Authority)>\n",
      "<Name(C=US,O=Starfield Technologies\\, Inc.,OU=Starfield Class 2 Certification Authority)>\n",
      "<Name(C=TW,O=Government Root Certification Authority)>\n",
      "DigiCert Assured ID Root CA\n",
      "DigiCert Global Root CA\n",
      "DigiCert High Assurance EV Root CA\n",
      "DST Root CA X3\n",
      "SwissSign Gold CA - G2\n",
      "SwissSign Silver CA - G2\n",
      "GeoTrust Primary Certification Authority\n",
      "thawte Primary Root CA\n",
      "VeriSign Class 3 Public Primary Certification Authority - G5\n",
      "SecureTrust CA\n",
      "Secure Global CA\n",
      "COMODO Certification Authority\n",
      "Network Solutions Certificate Authority\n",
      "COMODO ECC Certification Authority\n",
      "OISTE WISeKey Global Root GA CA\n",
      "Certigna\n",
      "Cybertrust Global Root\n",
      "<Name(C=TW,O=Chunghwa Telecom Co.\\, Ltd.,OU=ePKI Root Certification Authority)>\n",
      "<Name(C=RO,O=certSIGN,OU=certSIGN ROOT CA)>\n",
      "GeoTrust Primary Certification Authority - G3\n",
      "thawte Primary Root CA - G2\n",
      "thawte Primary Root CA - G3\n",
      "GeoTrust Primary Certification Authority - G2\n",
      "VeriSign Universal Root Certification Authority\n",
      "VeriSign Class 3 Public Primary Certification Authority - G4\n",
      "NetLock Arany (Class Gold) Főtanúsítvány\n",
      "Hongkong Post Root CA 1\n",
      "SecureSign RootCA11\n",
      "Microsec e-Szigno Root CA 2009\n",
      "GlobalSign\n",
      "Autoridad de Certificacion Firmaprofesional CIF A62634068\n",
      "Izenpe.com\n",
      "Chambers of Commerce Root - 2008\n",
      "Global Chambersign Root - 2008\n",
      "Go Daddy Root Certificate Authority - G2\n",
      "Starfield Root Certificate Authority - G2\n",
      "Starfield Services Root Certificate Authority - G2\n",
      "AffirmTrust Commercial\n",
      "AffirmTrust Networking\n",
      "AffirmTrust Premium\n",
      "AffirmTrust Premium ECC\n",
      "Certum Trusted Network CA\n",
      "TWCA Root Certification Authority\n",
      "<Name(C=JP,O=SECOM Trust Systems CO.\\,LTD.,OU=Security Communication RootCA2)>\n",
      "EC-ACC\n",
      "Hellenic Academic and Research Institutions RootCA 2011\n",
      "Actalis Authentication Root CA\n",
      "<Name(C=GB,O=Trustis Limited,OU=Trustis FPS Root CA)>\n",
      "Buypass Class 2 Root CA\n",
      "Buypass Class 3 Root CA\n",
      "T-TeleSec GlobalRoot Class 3\n",
      "EE Certification Centre Root CA\n",
      "D-TRUST Root Class 3 CA 2 2009\n",
      "D-TRUST Root Class 3 CA 2 EV 2009\n",
      "CA Disig Root R2\n",
      "ACCVRAIZ1\n",
      "TWCA Global Root CA\n",
      "TeliaSonera Root CA v1\n",
      "E-Tugra Certification Authority\n",
      "T-TeleSec GlobalRoot Class 2\n",
      "Atos TrustedRoot 2011\n",
      "QuoVadis Root CA 1 G3\n",
      "QuoVadis Root CA 2 G3\n",
      "QuoVadis Root CA 3 G3\n",
      "DigiCert Assured ID Root G2\n",
      "DigiCert Assured ID Root G3\n",
      "DigiCert Global Root G2\n",
      "DigiCert Global Root G3\n",
      "DigiCert Trusted Root G4\n",
      "COMODO RSA Certification Authority\n",
      "USERTrust RSA Certification Authority\n",
      "USERTrust ECC Certification Authority\n",
      "GlobalSign\n",
      "GlobalSign\n",
      "Staat der Nederlanden Root CA - G3\n",
      "Staat der Nederlanden EV Root CA\n",
      "IdenTrust Commercial Root CA 1\n",
      "IdenTrust Public Sector Root CA 1\n",
      "Entrust Root Certification Authority - G2\n",
      "Entrust Root Certification Authority - EC1\n",
      "CFCA EV ROOT\n",
      "OISTE WISeKey Global Root GB CA\n",
      "SZAFIR ROOT CA2\n",
      "Certum Trusted Network CA 2\n",
      "Hellenic Academic and Research Institutions RootCA 2015\n",
      "Hellenic Academic and Research Institutions ECC RootCA 2015\n",
      "ISRG Root X1\n",
      "<Name(C=ES,O=FNMT-RCM,OU=AC RAIZ FNMT-RCM)>\n",
      "Amazon Root CA 1\n",
      "Amazon Root CA 2\n",
      "Amazon Root CA 3\n",
      "Amazon Root CA 4\n",
      "TUBITAK Kamu SM SSL Kok Sertifikasi - Surum 1\n",
      "GDCA TrustAUTH R5 ROOT\n",
      "TrustCor RootCert CA-1\n",
      "TrustCor RootCert CA-2\n",
      "TrustCor ECA-1\n",
      "SSL.com Root Certification Authority RSA\n",
      "SSL.com Root Certification Authority ECC\n",
      "SSL.com EV Root Certification Authority RSA R2\n",
      "SSL.com EV Root Certification Authority ECC\n",
      "GlobalSign\n",
      "OISTE WISeKey Global Root GC CA\n",
      "GTS Root R1\n",
      "GTS Root R2\n",
      "GTS Root R3\n",
      "GTS Root R4\n",
      "UCA Global G2 Root\n",
      "UCA Extended Validation Root\n",
      "Certigna Root CA\n",
      "emSign Root CA - G1\n",
      "emSign ECC Root CA - G3\n",
      "emSign Root CA - C1\n",
      "emSign ECC Root CA - C3\n",
      "Hongkong Post Root CA 3\n",
      "Entrust Root Certification Authority - G4\n",
      "Microsoft ECC Root Certificate Authority 2017\n",
      "Microsoft RSA Root Certificate Authority 2017\n",
      "e-Szigno Root CA 2017\n",
      "<Name(C=RO,O=CERTSIGN SA,OU=certSIGN ROOT CA G2)>\n"
     ]
    }
   ],
   "source": [
    "#Let's see the organizations for the of the root certificates. \n",
    "commonNameOID = x509.oid.NameOID.COMMON_NAME\n",
    "for rootCA in root_certs:\n",
    "    try:\n",
    "        print(rootCA.issuer.get_attributes_for_oid(commonNameOID)[0].value)\n",
    "    except IndexError:\n",
    "        # no organization name\n",
    "        print(rootCA.issuer)\n",
    "    "
   ]
  },
  {
   "cell_type": "markdown",
   "metadata": {},
   "source": [
    "These are trusted certificates that can be stored locally and used to verify certificates in the chain. Let's see how this is done."
   ]
  },
  {
   "cell_type": "markdown",
   "metadata": {},
   "source": [
    "### Establish a Socket Connection"
   ]
  },
  {
   "cell_type": "markdown",
   "metadata": {},
   "source": [
    "We have seen how to establish a socket connection before.  The folks who implement TLS in Python have gone to a lot of trouble to make it transparent to use a TLS-enabled socket.  The problem is that the normal ways of doing so \"hide\" a lot of the details, and we explicitly want access to those details.  So we have to go to a bit of extra trouble to get this to work."
   ]
  },
  {
   "cell_type": "markdown",
   "metadata": {},
   "source": [
    "### Parameters to Use"
   ]
  },
  {
   "cell_type": "code",
   "execution_count": 40,
   "metadata": {},
   "outputs": [],
   "source": [
    "# This is a server that has to get an updated certificate every year.\n",
    "HOSTNAME = 'cybertruck1.engr.colostate.edu'\n",
    "DEST_IPADDR = '129.82.20.206'\n",
    "PORT = 443"
   ]
  },
  {
   "cell_type": "markdown",
   "metadata": {},
   "source": [
    "To prepare for this section:\n",
    "* Open Wireshark\n",
    "* Set a capture filter to 'host 129.82.20.206 and port 443'\n",
    "* Set a display filter to 'tls'\n",
    "![WiresharkSetupforTLS.png](WiresharkSetupforTLS.png)"
   ]
  },
  {
   "cell_type": "code",
   "execution_count": 41,
   "metadata": {},
   "outputs": [
    {
     "data": {
      "text/plain": [
       "'-----BEGIN CERTIFICATE-----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\\nuhwHqzKBknq/HQ==\\n-----END CERTIFICATE-----\\n'"
      ]
     },
     "execution_count": 41,
     "metadata": {},
     "output_type": "execute_result"
    }
   ],
   "source": [
    "#Get the server's certificate based on a handshake routine.\n",
    "server_pem = ssl.get_server_certificate((HOSTNAME,PORT),ssl.PROTOCOL_TLS)\n",
    "server_pem"
   ]
  },
  {
   "cell_type": "markdown",
   "metadata": {},
   "source": [
    "This produced a recording in wireshark.\n",
    "![TLS1.2WiresharkCapture.png](TLS1.2WiresharkCapture.png)"
   ]
  },
  {
   "cell_type": "code",
   "execution_count": 78,
   "metadata": {},
   "outputs": [
    {
     "name": "stdout",
     "output_type": "stream",
     "text": [
      "<Certificate(subject=<Name(C=US,ST=Colorado,O=Colorado State University,CN=cybertruck1.engr.colostate.edu)>, ...)>\n"
     ]
    }
   ],
   "source": [
    "#What does this certificate say?\n",
    "server_certs = x509.load_pem_x509_certificates(server_pem.encode('ascii'))\n",
    "for inter_cert in server_certs:\n",
    "    print(inter_cert)"
   ]
  },
  {
   "cell_type": "markdown",
   "metadata": {},
   "source": [
    "There's only one certificate"
   ]
  },
  {
   "cell_type": "code",
   "execution_count": 79,
   "metadata": {},
   "outputs": [
    {
     "data": {
      "text/plain": [
       "True"
      ]
     },
     "execution_count": 79,
     "metadata": {},
     "output_type": "execute_result"
    }
   ],
   "source": [
    "context = ssl.create_default_context()\n",
    "context.load_verify_locations(cafile=certifi.where())\n",
    "context.check_hostname"
   ]
  },
  {
   "cell_type": "code",
   "execution_count": 80,
   "metadata": {},
   "outputs": [
    {
     "data": {
      "text/plain": [
       "<Options.OP_NO_SSLv3|OP_CIPHER_SERVER_PREFERENCE|OP_ENABLE_MIDDLEBOX_COMPAT|OP_NO_COMPRESSION|OP_ALL: -2108555180>"
      ]
     },
     "execution_count": 80,
     "metadata": {},
     "output_type": "execute_result"
    }
   ],
   "source": [
    "context.options"
   ]
  },
  {
   "cell_type": "code",
   "execution_count": 81,
   "metadata": {},
   "outputs": [
    {
     "name": "stdout",
     "output_type": "stream",
     "text": [
      "ISRG Root X1\n",
      "Certigna\n",
      "TeliaSonera Root CA v1\n",
      "Izenpe.com\n",
      "Sonera Class2 CA\n",
      "Amazon Root CA 1\n",
      "Amazon Root CA 2\n",
      "Amazon Root CA 3\n",
      "Amazon Root CA 4\n",
      "Cybertrust Global Root\n",
      "Atos TrustedRoot 2011\n",
      "UCA Global G2 Root\n",
      "DST Root CA X3\n",
      "AffirmTrust Premium\n",
      "GeoTrust Global CA\n",
      "ACCVRAIZ1\n",
      "AffirmTrust Commercial\n",
      "AffirmTrust Networking\n",
      "QuoVadis Root CA 2\n",
      "QuoVadis Root CA 3\n",
      "SwissSign Gold CA - G2\n",
      "AffirmTrust Premium ECC\n",
      "GeoTrust Universal CA\n",
      "SwissSign Silver CA - G2\n",
      "UCA Extended Validation Root\n",
      "Hongkong Post Root CA 1\n",
      "GeoTrust Universal CA 2\n",
      "GTS Root R1\n",
      "GTS Root R2\n",
      "GTS Root R3\n",
      "GTS Root R4\n",
      "QuoVadis Root CA 1 G3\n",
      "QuoVadis Root CA 2 G3\n",
      "QuoVadis Root CA 3 G3\n",
      "SecureTrust CA\n",
      "IdenTrust Commercial Root CA 1\n",
      "Secure Global CA\n",
      "DigiCert Global Root CA\n",
      "GlobalSign\n",
      "GlobalSign\n",
      "GlobalSign\n",
      "D-TRUST Root Class 3 CA 2 2009\n",
      "IdenTrust Public Sector Root CA 1\n",
      "DigiCert Global Root CA\n",
      "DigiCert Global Root CA\n",
      "Buypass Class 2 Root CA\n",
      "Buypass Class 3 Root CA\n",
      "DigiCert Global Root CA\n",
      "Baltimore CyberTrust Root\n",
      "ISRG Root X1\n",
      "D-TRUST Root Class 3 CA 2 EV 2009\n",
      "Hotspot 2.0 Trust Root CA - 03\n",
      "GlobalSign\n",
      "GlobalSign\n",
      "Autoridad de Certificacion Firmaprofesional CIF A62634068\n",
      "SZAFIR ROOT CA2\n",
      "TWCA Global Root CA\n",
      "CA Disig Root R2\n",
      "CFCA EV ROOT\n",
      "emSign Root CA - C1\n",
      "GlobalSign Root CA\n",
      "SecureSign RootCA11\n",
      "Staat der Nederlanden EV Root CA\n",
      "GeoTrust Primary Certification Authority\n",
      "DigiCert Global Root G2\n",
      "Certigna Root CA\n",
      "Baltimore CyberTrust Root\n",
      "Staat der Nederlanden Root CA - G3\n",
      "emSign ECC Root CA - C3\n",
      "DoD Root CA 3\n",
      "DoD Root CA 3\n",
      "DoD Root CA 3\n",
      "DoD Root CA 3\n",
      "DoD Root CA 3\n",
      "DoD Root CA 3\n",
      "DoD Root CA 3\n",
      "DoD Root CA 5\n",
      "DoD Root CA 3\n",
      "DoD Root CA 3\n",
      "DoD Root CA 5\n",
      "DoD Root CA 5\n",
      "DoD Root CA 3\n",
      "DoD Root CA 3\n",
      "DoD Root CA 4\n",
      "DoD Root CA 5\n",
      "DoD Root CA 6\n",
      "DoD Root CA 3\n",
      "DoD Root CA 3\n",
      "DoD Root CA 3\n",
      "DoD Root CA 3\n",
      "DoD Root CA 3\n",
      "DoD Root CA 3\n",
      "DoD Root CA 3\n",
      "DoD Root CA 3\n",
      "DoD Root CA 3\n",
      "DoD Root CA 3\n",
      "TWCA Root Certification Authority\n",
      "DoD Root CA 3\n",
      "Microsoft Root Certificate Authority\n",
      "DigiCert Global Root CA\n",
      "DigiCert Global Root G2\n",
      "DigiCert Global Root G3\n",
      "GDCA TrustAUTH R5 ROOT\n",
      "DigiCert Trusted Root G4\n",
      "Network Solutions Certificate Authority\n",
      "DigiCert Assured ID Root CA\n",
      "DigiCert Assured ID Root G2\n",
      "DigiCert Assured ID Root G3\n",
      "Microsoft ECC Root Certificate Authority 2017\n",
      "Microsoft RSA Root Certificate Authority 2017\n",
      "GlobalSign Root CA\n",
      "emSign Root CA - G1\n",
      "emSign ECC Root CA - G3\n",
      "Actalis Authentication Root CA\n",
      "DigiCert High Assurance EV Root CA\n",
      "OISTE WISeKey Global Root GB CA\n",
      "OISTE WISeKey Global Root GC CA\n",
      "Hongkong Post Root CA 3\n",
      "AddTrust External CA Root\n",
      "DigiCert High Assurance EV Root CA\n",
      "e-Szigno Root CA 2017\n",
      "pafwca.colostate.edu\n",
      "EE Certification Centre Root CA\n",
      "USERTrust RSA Certification Authority\n",
      "AAA Certificate Services\n",
      "SSL.com Root Certification Authority ECC\n",
      "SSL.com Root Certification Authority RSA\n",
      "Certum Trusted Network CA\n",
      "Microsoft Root Certificate Authority 2010\n",
      "Microsoft Root Certificate Authority 2011\n",
      "QuoVadis Root Certification Authority\n",
      "SSL.com EV Root Certification Authority ECC\n",
      "Certum Trusted Network CA 2\n",
      "COMODO Certification Authority\n",
      "T-TeleSec GlobalRoot Class 2\n",
      "T-TeleSec GlobalRoot Class 3\n",
      "Microsec e-Szigno Root CA 2009\n",
      "SSL.com EV Root Certification Authority RSA R2\n",
      "XRamp Global Certification Authority\n",
      "Go Daddy Root Certificate Authority - G2\n",
      "thawte Primary Root CA - G2\n",
      "COMODO ECC Certification Authority\n",
      "COMODO RSA Certification Authority\n",
      "USERTrust ECC Certification Authority\n",
      "AAA Certificate Services\n",
      "USERTrust RSA Certification Authority\n",
      "Microsoft Root Certificate Authority 2010\n",
      "Microsoft Root Certificate Authority 2011\n",
      "JHUAPL Root CA\n",
      "OISTE WISeKey Global Root GA CA\n",
      "JHUAPL Root CA\n",
      "Lockheed Martin Root Certification Authority 3\n",
      "Starfield Root Certificate Authority - G2\n",
      "Microsoft ECC TS Root Certificate Authority 2018\n",
      "Microsoft Time Stamp Root Certificate Authority 2014\n",
      "Microsoft ECC Product Root Certificate Authority 2018\n",
      "USERTrust RSA Certification Authority\n",
      "Hellenic Academic and Research Institutions RootCA 2011\n",
      "COMODO RSA Certification Authority\n",
      "Starfield Services Root Certificate Authority - G2\n",
      "GeoTrust Primary Certification Authority - G2\n",
      "GeoTrust Primary Certification Authority - G3\n",
      "Siemens Root CA V3.0 2016\n",
      "TrustCor ECA-1\n",
      "TrustCor RootCert CA-1\n",
      "TrustCor RootCert CA-2\n",
      "Hellenic Academic and Research Institutions RootCA 2015\n",
      "NetLock Arany (Class Gold) Főtanúsítvány\n",
      "thawte Primary Root CA\n",
      "Hellenic Academic and Research Institutions ECC RootCA 2015\n",
      "Global Chambersign Root - 2008\n",
      "Chambers of Commerce Root - 2008\n",
      "thawte Primary Root CA - G3\n",
      "Entrust Root Certification Authority\n",
      "E-Tugra Certification Authority\n",
      "Go Daddy Root Certificate Authority - G2\n",
      "Lockheed Martin Root Certification Authority 3\n",
      "Entrust.net Certification Authority (2048)\n",
      "VeriSign Universal Root Certification Authority\n",
      "Entrust Root Certification Authority - G2\n",
      "Entrust Root Certification Authority - G4\n",
      "Entrust Root Certification Authority - EC1\n",
      "Thawte Server CA\n",
      "VeriSign Class 3 Public Primary Certification Authority - G5\n",
      "VeriSign Class 3 Public Primary Certification Authority - G4\n",
      "TUBITAK Kamu SM SSL Kok Sertifikasi - Surum 1\n",
      "EC-ACC\n"
     ]
    }
   ],
   "source": [
    "for c in context.get_ca_certs():\n",
    "    for item in c['issuer']:\n",
    "        if item[0][0] == 'commonName':\n",
    "            print(item[0][1])"
   ]
  },
  {
   "cell_type": "markdown",
   "metadata": {},
   "source": [
    "### Create the socket connection"
   ]
  },
  {
   "cell_type": "markdown",
   "metadata": {},
   "source": [
    "The call to 'do_handshake' does all the work required establish the connection."
   ]
  },
  {
   "cell_type": "code",
   "execution_count": 82,
   "metadata": {},
   "outputs": [
    {
     "name": "stdout",
     "output_type": "stream",
     "text": [
      "<ssl.SSLSocket fd=1480, family=AddressFamily.AF_INET, type=SocketKind.SOCK_STREAM, proto=0, laddr=('192.168.1.125', 49609), raddr=('129.82.20.206', 443)>\n"
     ]
    }
   ],
   "source": [
    "with socket.socket(socket.AF_INET, socket.SOCK_STREAM) as sock:\n",
    "    with context.wrap_socket(sock, server_hostname=HOSTNAME) as conn:\n",
    "        conn.settimeout(5)\n",
    "        conn.connect((DEST_IPADDR, PORT))\n",
    "        conn.setblocking(1)\n",
    "        conn.do_handshake()\n",
    "        print(conn)\n",
    "        cert = conn.getpeercert()\n",
    "        cert_bin = conn.getpeercert(binary_form=True)"
   ]
  },
  {
   "cell_type": "code",
   "execution_count": 83,
   "metadata": {},
   "outputs": [
    {
     "data": {
      "text/plain": [
       "{'subject': ((('countryName', 'US'),),\n",
       "  (('stateOrProvinceName', 'Colorado'),),\n",
       "  (('organizationName', 'Colorado State University'),),\n",
       "  (('commonName', 'cybertruck1.engr.colostate.edu'),)),\n",
       " 'issuer': ((('countryName', 'US'),),\n",
       "  (('stateOrProvinceName', 'MI'),),\n",
       "  (('localityName', 'Ann Arbor'),),\n",
       "  (('organizationName', 'Internet2'),),\n",
       "  (('organizationalUnitName', 'InCommon'),),\n",
       "  (('commonName', 'InCommon RSA Server CA'),)),\n",
       " 'version': 3,\n",
       " 'serialNumber': '3BE82775B646C5000089B5CAD18F86A8',\n",
       " 'notBefore': 'Mar 20 00:00:00 2023 GMT',\n",
       " 'notAfter': 'Apr 19 23:59:59 2024 GMT',\n",
       " 'subjectAltName': (('DNS', 'cybertruck1.engr.colostate.edu'),),\n",
       " 'OCSP': ('http://ocsp.usertrust.com',),\n",
       " 'caIssuers': ('http://crt.usertrust.com/InCommonRSAServerCA_2.crt',),\n",
       " 'crlDistributionPoints': ('http://crl.incommon-rsa.org/InCommonRSAServerCA.crl',)}"
      ]
     },
     "execution_count": 83,
     "metadata": {},
     "output_type": "execute_result"
    }
   ],
   "source": [
    "cert"
   ]
  },
  {
   "cell_type": "code",
   "execution_count": 84,
   "metadata": {},
   "outputs": [
    {
     "data": {
      "text/plain": [
       "'http://crt.usertrust.com/InCommonRSAServerCA_2.crt'"
      ]
     },
     "execution_count": 84,
     "metadata": {},
     "output_type": "execute_result"
    }
   ],
   "source": [
    "cert['caIssuers'][0]"
   ]
  },
  {
   "cell_type": "code",
   "execution_count": 85,
   "metadata": {},
   "outputs": [
    {
     "data": {
      "text/plain": [
       "b'0\\x82\\x06\\xc60\\x82\\x05\\xae\\xa0\\x03\\x02\\x01\\x02\\x02\\x10;\\xe8\\'u\\xb6F\\xc5\\x00\\x00\\x89\\xb5\\xca\\xd1\\x8f\\x86\\xa80\\r\\x06\\t*\\x86H\\x86\\xf7\\r\\x01\\x01\\x0b\\x05\\x000v1\\x0b0\\t\\x06\\x03U\\x04\\x06\\x13\\x02US1\\x0b0\\t\\x06\\x03U\\x04\\x08\\x13\\x02MI1\\x120\\x10\\x06\\x03U\\x04\\x07\\x13\\tAnn Arbor1\\x120\\x10\\x06\\x03U\\x04\\n\\x13\\tInternet21\\x110\\x0f\\x06\\x03U\\x04\\x0b\\x13\\x08InCommon1\\x1f0\\x1d\\x06\\x03U\\x04\\x03\\x13\\x16InCommon RSA Server CA0\\x1e\\x17\\r230320000000Z\\x17\\r240419235959Z0m1\\x0b0\\t\\x06\\x03U\\x04\\x06\\x13\\x02US1\\x110\\x0f\\x06\\x03U\\x04\\x08\\x13\\x08Colorado1\"0 \\x06\\x03U\\x04\\n\\x13\\x19Colorado State University1\\'0%\\x06\\x03U\\x04\\x03\\x13\\x1ecybertruck1.engr.colo'"
      ]
     },
     "execution_count": 85,
     "metadata": {},
     "output_type": "execute_result"
    }
   ],
   "source": [
    "cert_bin[:300]"
   ]
  },
  {
   "cell_type": "markdown",
   "metadata": {},
   "source": [
    "### Alternatively, we can dig into the x509 object from cryptography.io"
   ]
  },
  {
   "cell_type": "code",
   "execution_count": 86,
   "metadata": {},
   "outputs": [
    {
     "data": {
      "text/plain": [
       "<Certificate(subject=<Name(C=US,ST=Colorado,O=Colorado State University,CN=cybertruck1.engr.colostate.edu)>, ...)>"
      ]
     },
     "execution_count": 86,
     "metadata": {},
     "output_type": "execute_result"
    }
   ],
   "source": [
    "#Load the binary (DER) certificate\n",
    "server_cert = x509.load_der_x509_certificate(cert_bin)\n",
    "server_cert"
   ]
  },
  {
   "cell_type": "code",
   "execution_count": 87,
   "metadata": {},
   "outputs": [
    {
     "name": "stdout",
     "output_type": "stream",
     "text": [
      "InCommon RSA Server CA\n"
     ]
    }
   ],
   "source": [
    "# Find out he common name for the issuer of the server's certificate.\n",
    "for attribute in server_cert.issuer.get_attributes_for_oid(x509.NameOID.COMMON_NAME):\n",
    "    print(attribute.value)\n",
    "issuer_name = attribute.value"
   ]
  },
  {
   "cell_type": "code",
   "execution_count": 88,
   "metadata": {},
   "outputs": [
    {
     "name": "stdout",
     "output_type": "stream",
     "text": [
      "<Extension(oid=<ObjectIdentifier(oid=2.5.29.35, name=authorityKeyIdentifier)>, critical=False, value=<AuthorityKeyIdentifier(key_identifier=b'\\x1e\\x05\\xa3w\\x8fl\\x96\\xe2[\\x87K\\xa6\\xb4\\x86\\xacq\\x00\\x0c\\xe78', authority_cert_issuer=None, authority_cert_serial_number=None)>)>\n",
      "<Extension(oid=<ObjectIdentifier(oid=2.5.29.14, name=subjectKeyIdentifier)>, critical=False, value=<SubjectKeyIdentifier(digest=b'g\\x0c\\x8c\\xd1Ar\\xfcl\\xdcb,oy\\xeam\\xb7\\xa8\\xe8\\x9b\\xb9')>)>\n",
      "<Extension(oid=<ObjectIdentifier(oid=2.5.29.15, name=keyUsage)>, critical=True, value=<KeyUsage(digital_signature=True, content_commitment=False, key_encipherment=True, data_encipherment=False, key_agreement=False, key_cert_sign=False, crl_sign=False, encipher_only=False, decipher_only=False)>)>\n",
      "<Extension(oid=<ObjectIdentifier(oid=2.5.29.19, name=basicConstraints)>, critical=True, value=<BasicConstraints(ca=False, path_length=None)>)>\n",
      "<Extension(oid=<ObjectIdentifier(oid=2.5.29.37, name=extendedKeyUsage)>, critical=False, value=<ExtendedKeyUsage([<ObjectIdentifier(oid=1.3.6.1.5.5.7.3.1, name=serverAuth)>, <ObjectIdentifier(oid=1.3.6.1.5.5.7.3.2, name=clientAuth)>])>)>\n",
      "<Extension(oid=<ObjectIdentifier(oid=2.5.29.32, name=certificatePolicies)>, critical=False, value=<CertificatePolicies([<PolicyInformation(policy_identifier=<ObjectIdentifier(oid=1.3.6.1.4.1.5923.1.4.3.1.1, name=Unknown OID)>, policy_qualifiers=['https://www.incommon.org/cert/repository/cps_ssl.pdf'])>, <PolicyInformation(policy_identifier=<ObjectIdentifier(oid=2.23.140.1.2.2, name=Unknown OID)>, policy_qualifiers=None)>])>)>\n",
      "<Extension(oid=<ObjectIdentifier(oid=2.5.29.31, name=cRLDistributionPoints)>, critical=False, value=<CRLDistributionPoints([<DistributionPoint(full_name=[<UniformResourceIdentifier(value='http://crl.incommon-rsa.org/InCommonRSAServerCA.crl')>], relative_name=None, reasons=None, crl_issuer=None)>])>)>\n",
      "<Extension(oid=<ObjectIdentifier(oid=1.3.6.1.5.5.7.1.1, name=authorityInfoAccess)>, critical=False, value=<AuthorityInformationAccess([<AccessDescription(access_method=<ObjectIdentifier(oid=1.3.6.1.5.5.7.48.2, name=caIssuers)>, access_location=<UniformResourceIdentifier(value='http://crt.usertrust.com/InCommonRSAServerCA_2.crt')>)>, <AccessDescription(access_method=<ObjectIdentifier(oid=1.3.6.1.5.5.7.48.1, name=OCSP)>, access_location=<UniformResourceIdentifier(value='http://ocsp.usertrust.com')>)>])>)>\n",
      "<Extension(oid=<ObjectIdentifier(oid=2.5.29.17, name=subjectAltName)>, critical=False, value=<SubjectAlternativeName(<GeneralNames([<DNSName(value='cybertruck1.engr.colostate.edu')>])>)>)>\n",
      "<Extension(oid=<ObjectIdentifier(oid=1.3.6.1.4.1.11129.2.4.2, name=signedCertificateTimestampList)>, critical=False, value=<PrecertificateSignedCertificateTimestamps([<builtins.Sct object at 0x0000027EFE83BC00>, <builtins.Sct object at 0x0000027EFE83BDB0>, <builtins.Sct object at 0x0000027EFE83BED0>])>)>\n"
     ]
    }
   ],
   "source": [
    "#look through the extensions\n",
    "for e in server_cert.extensions:\n",
    "    print(e)"
   ]
  },
  {
   "cell_type": "code",
   "execution_count": 89,
   "metadata": {},
   "outputs": [
    {
     "data": {
      "text/plain": [
       "<ObjectIdentifier(oid=1.3.6.1.5.5.7.48.2, name=caIssuers)>"
      ]
     },
     "execution_count": 89,
     "metadata": {},
     "output_type": "execute_result"
    }
   ],
   "source": [
    "#Find the certificate authority issuers\n",
    "issuers_constant = x509.oid.AuthorityInformationAccessOID.CA_ISSUERS\n",
    "issuers_constant"
   ]
  },
  {
   "cell_type": "code",
   "execution_count": 90,
   "metadata": {},
   "outputs": [
    {
     "data": {
      "text/plain": [
       "<ObjectIdentifier(oid=1.3.6.1.5.5.7.1.1, name=authorityInfoAccess)>"
      ]
     },
     "execution_count": 90,
     "metadata": {},
     "output_type": "execute_result"
    }
   ],
   "source": [
    "access_constant = x509.ExtensionOID.AUTHORITY_INFORMATION_ACCESS\n",
    "access_constant"
   ]
  },
  {
   "cell_type": "code",
   "execution_count": 91,
   "metadata": {},
   "outputs": [
    {
     "data": {
      "text/plain": [
       "<Extension(oid=<ObjectIdentifier(oid=1.3.6.1.5.5.7.1.1, name=authorityInfoAccess)>, critical=False, value=<AuthorityInformationAccess([<AccessDescription(access_method=<ObjectIdentifier(oid=1.3.6.1.5.5.7.48.2, name=caIssuers)>, access_location=<UniformResourceIdentifier(value='http://crt.usertrust.com/InCommonRSAServerCA_2.crt')>)>, <AccessDescription(access_method=<ObjectIdentifier(oid=1.3.6.1.5.5.7.48.1, name=OCSP)>, access_location=<UniformResourceIdentifier(value='http://ocsp.usertrust.com')>)>])>)>"
      ]
     },
     "execution_count": 91,
     "metadata": {},
     "output_type": "execute_result"
    }
   ],
   "source": [
    "server_cert.extensions.get_extension_for_oid(access_constant)"
   ]
  },
  {
   "cell_type": "code",
   "execution_count": 92,
   "metadata": {},
   "outputs": [
    {
     "data": {
      "text/plain": [
       "<AuthorityInformationAccess([<AccessDescription(access_method=<ObjectIdentifier(oid=1.3.6.1.5.5.7.48.2, name=caIssuers)>, access_location=<UniformResourceIdentifier(value='http://crt.usertrust.com/InCommonRSAServerCA_2.crt')>)>, <AccessDescription(access_method=<ObjectIdentifier(oid=1.3.6.1.5.5.7.48.1, name=OCSP)>, access_location=<UniformResourceIdentifier(value='http://ocsp.usertrust.com')>)>])>"
      ]
     },
     "execution_count": 92,
     "metadata": {},
     "output_type": "execute_result"
    }
   ],
   "source": [
    "server_cert.extensions.get_extension_for_oid(access_constant).value"
   ]
  },
  {
   "cell_type": "code",
   "execution_count": 93,
   "metadata": {},
   "outputs": [
    {
     "name": "stdout",
     "output_type": "stream",
     "text": [
      "<AccessDescription(access_method=<ObjectIdentifier(oid=1.3.6.1.5.5.7.48.2, name=caIssuers)>, access_location=<UniformResourceIdentifier(value='http://crt.usertrust.com/InCommonRSAServerCA_2.crt')>)>\n",
      "<AccessDescription(access_method=<ObjectIdentifier(oid=1.3.6.1.5.5.7.48.1, name=OCSP)>, access_location=<UniformResourceIdentifier(value='http://ocsp.usertrust.com')>)>\n"
     ]
    }
   ],
   "source": [
    "for a in server_cert.extensions.get_extension_for_oid(access_constant).value:\n",
    "    print(a)"
   ]
  },
  {
   "cell_type": "code",
   "execution_count": 95,
   "metadata": {},
   "outputs": [
    {
     "data": {
      "text/plain": [
       "'http://crt.usertrust.com/InCommonRSAServerCA_2.crt'"
      ]
     },
     "execution_count": 95,
     "metadata": {},
     "output_type": "execute_result"
    }
   ],
   "source": [
    "caIssuers = server_cert.extensions.get_extension_for_oid(access_constant).value[0].access_location.value\n",
    "caIssuers"
   ]
  },
  {
   "cell_type": "markdown",
   "metadata": {},
   "source": [
    "## Download the intermediate certificate"
   ]
  },
  {
   "cell_type": "code",
   "execution_count": 96,
   "metadata": {},
   "outputs": [
    {
     "data": {
      "text/plain": [
       "b'0\\x82\\x05\\xf90\\x82\\x03\\xe1\\xa0\\x03\\x02\\x01\\x02\\x02\\x10G \\xd0\\xfa\\x85F\\x1a~\\x17\\xa1d\\x02\\x91\\x84ct0\\r\\x06\\t*\\x86H\\x86\\xf7\\r\\x01\\x01\\x0c\\x05\\x000\\x81\\x881\\x0b0\\t\\x06\\x03U\\x04\\x06\\x13\\x02US1\\x130\\x11\\x06\\x03U\\x04\\x08\\x13\\nNew Jersey1\\x140\\x12\\x06\\x03U\\x04\\x07\\x13\\x0bJersey City1\\x1e0\\x1c\\x06\\x03U\\x04\\n\\x13\\x15The USERTRUST Network1.0,\\x06\\x03U\\x04\\x03\\x13%USERTrust RSA Certification Authority0\\x1e\\x17\\r141006000000Z\\x17\\r241005235959Z0v1\\x0b0\\t\\x06\\x03U\\x04\\x06\\x13\\x02US1\\x0b0\\t\\x06\\x03U\\x04\\x08\\x13\\x02MI1\\x120\\x10\\x06\\x03U\\x04\\x07\\x13\\tAnn Arbor1\\x120\\x10\\x06\\x03U\\x04\\n\\x13\\tInternet21\\x110\\x0f\\x06\\x03U\\x04\\x0b\\x13\\x08InCommon1\\x1f0\\x1d\\x06\\x03U\\x04\\x03\\x13\\x16InCommon RSA Server CA0\\x82\\x01\"0\\r\\x06\\t*\\x86H\\x86\\xf7\\r\\x01\\x01\\x01\\x05\\x00\\x03\\x82\\x01\\x0f\\x000\\x82\\x01\\n\\x02\\x82\\x01\\x01\\x00\\x9c\\x1b\\xf1\\xbb/\\x7fc\\x18\\x15QQT\\x0f\\x9e\\xc5NM\\x10X\\xfa0\\x9b\\x17)\\x90\\xe63\\x0c\\xac\\x13S|T\\x91\\xb4\\xea\\xd8n\\x9b\\x89m\\xbb3>\\x8f\\xd2\\r\\xa6\\xe9\\xf9\\xba\\xe9\\r\\x0c\\x1a\\x9e\\xb2\\x8e\\xc9p.\\xef\\x1e\\x05}\\x95\\xeb-\\x8d\\xa2\\xa9M\\xb3\\x9c\\xe7\\xf3\\x196\\xbb\\xa7\\xf1|\\xe6\\x08\\x1ea\\'Dz\\x96\\xf4\\xa84\\xdb\\xe2B\\xc8\\xa5\\xdb7\\xd5\\xb5\\xe7\\xe4Br?\\xb4\\x13\\xcf\\x8b\\x07$E\\x1e\\x8c\\x91\\x83F\\xb9\\t\\xa6\\xfc\\x18\\xa3\\x06\\x02\\xec4\\x8d2f\\x95\\'\\xea\\xe1\\x97\\xe8\\xdb5\\xa3+V\\xebW\\xe8\\xf0\\x10Y\\xdfmp\\x0cfj\\xd0d\\xe5\\xa8\\xa3\\x981\\xad\\x1db\\xd5\\xfa\\x92\\xe3\\x9aC\\xcd-5\\xfb\\xd9\\x9e3[E}\\xc4\\x86(,f\\x12\\xc8\\xdb\\x0f\\x190\\r?\\xe9\\xf0\\xeaJ^@\\x07\\xc7\\xf6 zSx\\x81dz~Ej\\x16o\\xf4\\x93X\\xc9b\\xfb)\\'}\\xa1\\x7f!\\xce\\xe7OG\\xd6\\x8aV\\xe0\\xe3f\\xf8\\xec\\xdd\\x89\\xdc&\\x8c\\x19h;\\x8d\\x8b\\xe2\\xfbG#\\x0b\\x7f7\\x02\\x03\\x01\\x00\\x01\\xa3\\x82\\x01n0\\x82\\x01j0\\x1f\\x06\\x03U\\x1d#\\x04\\x180\\x16\\x80\\x14Sy\\xbfZ\\xaa+J\\xcfT\\x80\\xe1\\xd8\\x9b\\xc0\\x9d\\xf2\\xb2\\x03f\\xcb0\\x1d\\x06\\x03U\\x1d\\x0e\\x04\\x16\\x04\\x14\\x1e\\x05\\xa3w\\x8fl\\x96\\xe2[\\x87K\\xa6\\xb4\\x86\\xacq\\x00\\x0c\\xe780\\x0e\\x06\\x03U\\x1d\\x0f\\x01\\x01\\xff\\x04\\x04\\x03\\x02\\x01\\x860\\x12\\x06\\x03U\\x1d\\x13\\x01\\x01\\xff\\x04\\x080\\x06\\x01\\x01\\xff\\x02\\x01\\x000\\x1d\\x06\\x03U\\x1d%\\x04\\x160\\x14\\x06\\x08+\\x06\\x01\\x05\\x05\\x07\\x03\\x01\\x06\\x08+\\x06\\x01\\x05\\x05\\x07\\x03\\x020\\x1b\\x06\\x03U\\x1d \\x04\\x140\\x120\\x06\\x06\\x04U\\x1d \\x000\\x08\\x06\\x06g\\x81\\x0c\\x01\\x02\\x020P\\x06\\x03U\\x1d\\x1f\\x04I0G0E\\xa0C\\xa0A\\x86?http://crl.usertrust.com/USERTrustRSACertificationAuthority.crl0v\\x06\\x08+\\x06\\x01\\x05\\x05\\x07\\x01\\x01\\x04j0h0?\\x06\\x08+\\x06\\x01\\x05\\x05\\x070\\x02\\x863http://crt.usertrust.com/USERTrustRSAAddTrustCA.crt0%\\x06\\x08+\\x06\\x01\\x05\\x05\\x070\\x01\\x86\\x19http://ocsp.usertrust.com0\\r\\x06\\t*\\x86H\\x86\\xf7\\r\\x01\\x01\\x0c\\x05\\x00\\x03\\x82\\x02\\x01\\x00-\\x11\\x068\\xd6\\xdb\\xd7Xh\\xaf\\xaa8g\\x17\\x8d\\xe2\\x13\\xd7\\xa3\\x14$\\xd9\\x06\\x13\\xeb\\xeb\\x91/\\xdfOg-\\xc8\\xd3\\x14\\xd7VeR\\x9en\\x1f\\x98\\x08\\x8e\\x9aH\\x1b\\xc1\\x8bY\\x9a\\xa3W\\x9b\\xdb\\x86\\xf8Y@\\xfc\\x19\\xb0u\\x11*\\xc2\\x126\\xba\\x8er\\x8a\\x06N\\'\\xb7\\x8dX\\x14\\xd1o\\xb4\\xf9h\\xfc\\x98\\xdd\\xa4\\x9c%@6\\xde\\xbd\\x17f+\\x03\\x7fx\\x81\\xb1\\x80t\\x9e_:\\xb4&/jH\\x8464\\x8e\\xa7(\\xef\\x87\\xf3a\\xe7\\xdbg\\xf5R\\xdb\\xd7\\xd1\\xe60q\\xbb\\x8b\\xa3\\xd4\\xff\\xb9d\\x89\\x9e\\x9b\\x81\\x9b\\x8fW\\xb8dL\\xd5\\x06\\x19\\x8e\\xe7\\x91\\x85|\\x18\\xd1\\x89\\xd8\\xf6\\xea\\x1dh\\x14\\x11\\xd9\\xee\\x17\\x83\\x1fPc\\xcf\\x0e\\xf6\\x86*n\\xe3\\xb1\\xa4\\xc9\\xfa\\xf64Lw*\\x80\\x860\\xb0\\xa3\\xdc\\x1bq\\xec\\x04\\xa7\\xe4\\x98\\xbc\\x16\\x85>\\x84&\\xb3\\xc0\\xe55U~y\\x98\\xa3\\xd4\\xd4\\x8d\\xb6\\xe7B\\xe8D \\x127_\\t\\xc9\\xfb\\x03\\xe4\\xf5et\\x96\\xed\\xca\\xb9\\xb3\\xf6\\t\\xffL\\xa6\\xd1]:\\xfc\\xd1M\\xaa\\xe4\\x98r\\xbe8K\\x7f\\x89N&\\x8f\\xd4\\xcc\\xbeV\\tq\\x03Jl\\xa3\\xe25\\x86\\xdd\\x1e\\xd9\\xf11\\x03\\xf7\\x13M\\x0b\\x11\\x811y\\xccz\\xd7\\xbe\\xdc\\xfb\\xf3v\\x1b,\\xbd\\xb3\\x91\\x0f\\x00Y\\x07* C\\xdcK\\xd8\\xb5\\x19\\x14\\x8f\\xe2z\\x84)\\xd1C?/\\xcc\\xdf?\\x9d\\xbb\\xbdh\\xc4\\xce\\xe0\\xcd\\xe7\\x1c12xb\\xfa\\xf0\\x93\\xa2\\x1e\\xc9\\xd7\\x9fh\\xe5\\xa8v\\xf6c\\xfeh\\x99\\xef\\xba6\\xd7\\x12q\\x9a\\x9e\\xb3q\\x1f;\\xbe\\x00c\\x9e=_!\\xc2\\xb1\\x86\\x1b\\xb8N!\\xc3\\xc3C\\t.c\\x0c\\xcd\\xff\\x14\\xf6\\xf6\"\\xe9\\xfd\\xca\\x9f\\xf5\\x98D\\xb6A\\x9cA\\xc2\\x08\\x98}\\xdb\\xa0\\x9f\"~\\xc0\\xa7I\\xbb\\xb4\\x18\\x1fK\\xd3\\xa6*\\x87\\xb9\\\\\\xca\\xf2\\x83L@\\x03\\xb2R\\x1ay!\\x087\\x18N\\xd9\\x8d_\\x99\\xc6\\x05_\\xf1j\\xae\\xbauZxG::e^\\xe5\\xc4\\xd0\\xe3\\xda\\xd2\\xebZ(-\\xb9\\x02\\x99`\\xa2o</f|\\x98E\\x9c\\xc9\\xfa\\x01\\xef2\\x8e|>\\xf9\\xf4\\x03{$\\xa6V\\t\\x8c$'"
      ]
     },
     "execution_count": 96,
     "metadata": {},
     "output_type": "execute_result"
    }
   ],
   "source": [
    "#Use requests to get the bytes for the certificate. Often these are stored for faster lookups.\n",
    "r = requests.get(caIssuers)\n",
    "r.content"
   ]
  },
  {
   "cell_type": "code",
   "execution_count": 101,
   "metadata": {},
   "outputs": [
    {
     "data": {
      "text/plain": [
       "<Certificate(subject=<Name(C=US,ST=MI,L=Ann Arbor,O=Internet2,OU=InCommon,CN=InCommon RSA Server CA)>, ...)>"
      ]
     },
     "execution_count": 101,
     "metadata": {},
     "output_type": "execute_result"
    }
   ],
   "source": [
    "intermediate_cert = x509.load_der_x509_certificate(r.content)\n",
    "intermediate_cert"
   ]
  },
  {
   "cell_type": "code",
   "execution_count": 102,
   "metadata": {},
   "outputs": [
    {
     "data": {
      "text/plain": [
       "['GlobalSign Root CA',\n",
       " 'GlobalSign',\n",
       " 'Entrust.net Certification Authority (2048)',\n",
       " 'Baltimore CyberTrust Root',\n",
       " 'Entrust Root Certification Authority',\n",
       " 'GeoTrust Global CA',\n",
       " 'GeoTrust Universal CA',\n",
       " 'GeoTrust Universal CA 2',\n",
       " 'AAA Certificate Services',\n",
       " 'QuoVadis Root Certification Authority',\n",
       " 'QuoVadis Root CA 2',\n",
       " 'QuoVadis Root CA 3',\n",
       " 'Sonera Class2 CA',\n",
       " 'XRamp Global Certification Authority',\n",
       " 'DigiCert Assured ID Root CA',\n",
       " 'DigiCert Global Root CA',\n",
       " 'DigiCert High Assurance EV Root CA',\n",
       " 'DST Root CA X3',\n",
       " 'SwissSign Gold CA - G2',\n",
       " 'SwissSign Silver CA - G2',\n",
       " 'GeoTrust Primary Certification Authority',\n",
       " 'thawte Primary Root CA',\n",
       " 'VeriSign Class 3 Public Primary Certification Authority - G5',\n",
       " 'SecureTrust CA',\n",
       " 'Secure Global CA',\n",
       " 'COMODO Certification Authority',\n",
       " 'Network Solutions Certificate Authority',\n",
       " 'COMODO ECC Certification Authority',\n",
       " 'OISTE WISeKey Global Root GA CA',\n",
       " 'Certigna',\n",
       " 'Cybertrust Global Root',\n",
       " 'GeoTrust Primary Certification Authority - G3',\n",
       " 'thawte Primary Root CA - G2',\n",
       " 'thawte Primary Root CA - G3',\n",
       " 'GeoTrust Primary Certification Authority - G2',\n",
       " 'VeriSign Universal Root Certification Authority',\n",
       " 'VeriSign Class 3 Public Primary Certification Authority - G4',\n",
       " 'NetLock Arany (Class Gold) Főtanúsítvány',\n",
       " 'Hongkong Post Root CA 1',\n",
       " 'SecureSign RootCA11',\n",
       " 'Microsec e-Szigno Root CA 2009',\n",
       " 'GlobalSign',\n",
       " 'Autoridad de Certificacion Firmaprofesional CIF A62634068',\n",
       " 'Izenpe.com',\n",
       " 'Chambers of Commerce Root - 2008',\n",
       " 'Global Chambersign Root - 2008',\n",
       " 'Go Daddy Root Certificate Authority - G2',\n",
       " 'Starfield Root Certificate Authority - G2',\n",
       " 'Starfield Services Root Certificate Authority - G2',\n",
       " 'AffirmTrust Commercial',\n",
       " 'AffirmTrust Networking',\n",
       " 'AffirmTrust Premium',\n",
       " 'AffirmTrust Premium ECC',\n",
       " 'Certum Trusted Network CA',\n",
       " 'TWCA Root Certification Authority',\n",
       " 'EC-ACC',\n",
       " 'Hellenic Academic and Research Institutions RootCA 2011',\n",
       " 'Actalis Authentication Root CA',\n",
       " 'Buypass Class 2 Root CA',\n",
       " 'Buypass Class 3 Root CA',\n",
       " 'T-TeleSec GlobalRoot Class 3',\n",
       " 'EE Certification Centre Root CA',\n",
       " 'D-TRUST Root Class 3 CA 2 2009',\n",
       " 'D-TRUST Root Class 3 CA 2 EV 2009',\n",
       " 'CA Disig Root R2',\n",
       " 'ACCVRAIZ1',\n",
       " 'TWCA Global Root CA',\n",
       " 'TeliaSonera Root CA v1',\n",
       " 'E-Tugra Certification Authority',\n",
       " 'T-TeleSec GlobalRoot Class 2',\n",
       " 'Atos TrustedRoot 2011',\n",
       " 'QuoVadis Root CA 1 G3',\n",
       " 'QuoVadis Root CA 2 G3',\n",
       " 'QuoVadis Root CA 3 G3',\n",
       " 'DigiCert Assured ID Root G2',\n",
       " 'DigiCert Assured ID Root G3',\n",
       " 'DigiCert Global Root G2',\n",
       " 'DigiCert Global Root G3',\n",
       " 'DigiCert Trusted Root G4',\n",
       " 'COMODO RSA Certification Authority',\n",
       " 'USERTrust RSA Certification Authority',\n",
       " 'USERTrust ECC Certification Authority',\n",
       " 'GlobalSign',\n",
       " 'GlobalSign',\n",
       " 'Staat der Nederlanden Root CA - G3',\n",
       " 'Staat der Nederlanden EV Root CA',\n",
       " 'IdenTrust Commercial Root CA 1',\n",
       " 'IdenTrust Public Sector Root CA 1',\n",
       " 'Entrust Root Certification Authority - G2',\n",
       " 'Entrust Root Certification Authority - EC1',\n",
       " 'CFCA EV ROOT',\n",
       " 'OISTE WISeKey Global Root GB CA',\n",
       " 'SZAFIR ROOT CA2',\n",
       " 'Certum Trusted Network CA 2',\n",
       " 'Hellenic Academic and Research Institutions RootCA 2015',\n",
       " 'Hellenic Academic and Research Institutions ECC RootCA 2015',\n",
       " 'ISRG Root X1',\n",
       " 'Amazon Root CA 1',\n",
       " 'Amazon Root CA 2',\n",
       " 'Amazon Root CA 3',\n",
       " 'Amazon Root CA 4',\n",
       " 'TUBITAK Kamu SM SSL Kok Sertifikasi - Surum 1',\n",
       " 'GDCA TrustAUTH R5 ROOT',\n",
       " 'TrustCor RootCert CA-1',\n",
       " 'TrustCor RootCert CA-2',\n",
       " 'TrustCor ECA-1',\n",
       " 'SSL.com Root Certification Authority RSA',\n",
       " 'SSL.com Root Certification Authority ECC',\n",
       " 'SSL.com EV Root Certification Authority RSA R2',\n",
       " 'SSL.com EV Root Certification Authority ECC',\n",
       " 'GlobalSign',\n",
       " 'OISTE WISeKey Global Root GC CA',\n",
       " 'GTS Root R1',\n",
       " 'GTS Root R2',\n",
       " 'GTS Root R3',\n",
       " 'GTS Root R4',\n",
       " 'UCA Global G2 Root',\n",
       " 'UCA Extended Validation Root',\n",
       " 'Certigna Root CA',\n",
       " 'emSign Root CA - G1',\n",
       " 'emSign ECC Root CA - G3',\n",
       " 'emSign Root CA - C1',\n",
       " 'emSign ECC Root CA - C3',\n",
       " 'Hongkong Post Root CA 3',\n",
       " 'Entrust Root Certification Authority - G4',\n",
       " 'Microsoft ECC Root Certificate Authority 2017',\n",
       " 'Microsoft RSA Root Certificate Authority 2017',\n",
       " 'e-Szigno Root CA 2017']"
      ]
     },
     "execution_count": 102,
     "metadata": {},
     "output_type": "execute_result"
    }
   ],
   "source": [
    "#generate a list of known roots\n",
    "root_names = []\n",
    "for c in root_certs:\n",
    "    try:\n",
    "        root_names.append(c.issuer.get_attributes_for_oid(x509.NameOID.COMMON_NAME)[-1].value)\n",
    "    except IndexError:\n",
    "        pass\n",
    "root_names"
   ]
  },
  {
   "cell_type": "code",
   "execution_count": 103,
   "metadata": {},
   "outputs": [
    {
     "data": {
      "text/plain": [
       "False"
      ]
     },
     "execution_count": 103,
     "metadata": {},
     "output_type": "execute_result"
    }
   ],
   "source": [
    "issuer_name in root_names"
   ]
  },
  {
   "cell_type": "code",
   "execution_count": 104,
   "metadata": {},
   "outputs": [
    {
     "data": {
      "text/plain": [
       "<Name(C=US,ST=MI,L=Ann Arbor,O=Internet2,OU=InCommon,CN=InCommon RSA Server CA)>"
      ]
     },
     "execution_count": 104,
     "metadata": {},
     "output_type": "execute_result"
    }
   ],
   "source": [
    "intermediate_cert.subject"
   ]
  },
  {
   "cell_type": "code",
   "execution_count": 105,
   "metadata": {},
   "outputs": [
    {
     "data": {
      "text/plain": [
       "<Name(C=US,ST=New Jersey,L=Jersey City,O=The USERTRUST Network,CN=USERTrust RSA Certification Authority)>"
      ]
     },
     "execution_count": 105,
     "metadata": {},
     "output_type": "execute_result"
    }
   ],
   "source": [
    "intermediate_cert.issuer"
   ]
  },
  {
   "cell_type": "code",
   "execution_count": 106,
   "metadata": {},
   "outputs": [
    {
     "name": "stdout",
     "output_type": "stream",
     "text": [
      "USERTrust RSA Certification Authority\n"
     ]
    }
   ],
   "source": [
    "for attribute in intermediate_cert.issuer.get_attributes_for_oid(x509.NameOID.COMMON_NAME):\n",
    "    print(attribute.value)\n",
    "issuer_name = attribute.value"
   ]
  },
  {
   "cell_type": "code",
   "execution_count": 107,
   "metadata": {},
   "outputs": [
    {
     "data": {
      "text/plain": [
       "True"
      ]
     },
     "execution_count": 107,
     "metadata": {},
     "output_type": "execute_result"
    }
   ],
   "source": [
    "#Check to see if the issuer of the intermetidate certificate is in a root of trust.\n",
    "issuer_name in root_names"
   ]
  },
  {
   "cell_type": "markdown",
   "metadata": {},
   "source": [
    "Finally, we have reached a root certificate. "
   ]
  },
  {
   "cell_type": "code",
   "execution_count": 115,
   "metadata": {},
   "outputs": [
    {
     "data": {
      "text/plain": [
       "<Certificate(subject=<Name(C=US,ST=New Jersey,L=Jersey City,O=The USERTRUST Network,CN=USERTrust RSA Certification Authority)>, ...)>"
      ]
     },
     "execution_count": 115,
     "metadata": {},
     "output_type": "execute_result"
    }
   ],
   "source": [
    "#Load the correct certificate from the locally stored list of root CA certificates.\n",
    "\n",
    "for c in root_certs:\n",
    "    try:\n",
    "        root_name = c.issuer.get_attributes_for_oid(x509.NameOID.COMMON_NAME)[-1].value\n",
    "        if root_name == issuer_name:\n",
    "            break\n",
    "    except IndexError:\n",
    "        pass\n",
    "rootCA = c\n",
    "rootCA"
   ]
  },
  {
   "cell_type": "code",
   "execution_count": 120,
   "metadata": {},
   "outputs": [
    {
     "data": {
      "text/plain": [
       "<Certificate(subject=<Name(C=US,ST=MI,L=Ann Arbor,O=Internet2,OU=InCommon,CN=InCommon RSA Server CA)>, ...)>"
      ]
     },
     "execution_count": 120,
     "metadata": {},
     "output_type": "execute_result"
    }
   ],
   "source": [
    "#extract the details from the intermediate certificate\n",
    "intermediate_cert"
   ]
  },
  {
   "cell_type": "markdown",
   "metadata": {},
   "source": [
    "#### Verify the certificate with the public key from our local cert store"
   ]
  },
  {
   "cell_type": "code",
   "execution_count": 121,
   "metadata": {},
   "outputs": [
    {
     "name": "stdout",
     "output_type": "stream",
     "text": [
      "Valid signature\n"
     ]
    }
   ],
   "source": [
    "#\n",
    "# Verify intermediate certificate w/ rootCA public key (from the trust store)\n",
    "#\n",
    "try:\n",
    "    rootCA.public_key().verify(\n",
    "            intermediate_cert.signature,\n",
    "            intermediate_cert.tbs_certificate_bytes,\n",
    "            padding.PKCS1v15(),\n",
    "            intermediate_cert.signature_hash_algorithm\n",
    "        )\n",
    "    print(\"Valid signature\")\n",
    "except InvalidSignature as e:\n",
    "    print(\"Invalid signature\")"
   ]
  },
  {
   "cell_type": "code",
   "execution_count": 122,
   "metadata": {},
   "outputs": [
    {
     "name": "stdout",
     "output_type": "stream",
     "text": [
      "Valid signature\n"
     ]
    }
   ],
   "source": [
    "# Recall\n",
    "# Verify intermediate certificate w/ rootCA public key (from the trust store)\n",
    "#\n",
    "try:\n",
    "    intermediate_cert.public_key().verify(\n",
    "            server_cert.signature,\n",
    "            server_cert.tbs_certificate_bytes,\n",
    "            padding.PKCS1v15(),\n",
    "            server_cert.signature_hash_algorithm\n",
    "        )\n",
    "    print(\"Valid signature\")\n",
    "except InvalidSignature as e:\n",
    "    print(\"Invalid signature\")"
   ]
  },
  {
   "cell_type": "markdown",
   "metadata": {},
   "source": [
    "#### Verify the hostname"
   ]
  },
  {
   "cell_type": "code",
   "execution_count": 134,
   "metadata": {},
   "outputs": [
    {
     "data": {
      "text/plain": [
       "<Name(C=US,ST=Colorado,O=Colorado State University,CN=cybertruck1.engr.colostate.edu)>"
      ]
     },
     "execution_count": 134,
     "metadata": {},
     "output_type": "execute_result"
    }
   ],
   "source": [
    "# Recall the hostname\n",
    "server_cert.subject"
   ]
  },
  {
   "cell_type": "code",
   "execution_count": 135,
   "metadata": {},
   "outputs": [
    {
     "data": {
      "text/plain": [
       "['cybertruck1.engr.colostate.edu']"
      ]
     },
     "execution_count": 135,
     "metadata": {},
     "output_type": "execute_result"
    }
   ],
   "source": [
    "ext = server_cert.extensions.get_extension_for_oid(x509.ExtensionOID.SUBJECT_ALTERNATIVE_NAME)\n",
    "ext.value.get_values_for_type(x509.DNSName)"
   ]
  },
  {
   "cell_type": "code",
   "execution_count": 136,
   "metadata": {},
   "outputs": [
    {
     "data": {
      "text/plain": [
       "True"
      ]
     },
     "execution_count": 136,
     "metadata": {},
     "output_type": "execute_result"
    }
   ],
   "source": [
    "#Check to see if the client hostname is in the certificate\n",
    "HOSTNAME in ext.value.get_values_for_type(x509.DNSName)"
   ]
  },
  {
   "cell_type": "markdown",
   "metadata": {},
   "source": [
    "#### Verify the time"
   ]
  },
  {
   "cell_type": "code",
   "execution_count": 138,
   "metadata": {},
   "outputs": [
    {
     "name": "stdout",
     "output_type": "stream",
     "text": [
      "The certificate has not expired\n"
     ]
    }
   ],
   "source": [
    "# Check for a valid time slot:\n",
    "if (datetime.utcnow() < server_cert.not_valid_after and\n",
    "    datetime.utcnow() > server_cert.not_valid_before):\n",
    "    print(\"The certificate has not expired\")\n",
    "else:\n",
    "    print(\"The certificate is outside the allowed times.\")"
   ]
  },
  {
   "cell_type": "markdown",
   "metadata": {},
   "source": [
    "#### Revocation\n",
    "Check to see if the certificate has been revoked. This operation is achievable in cryptography.io.\n",
    "\n",
    "However, tools exist on the Internet that can also check these things. For example:\n",
    "\n",
    "https://www.e2encrypted.com/certs/f5fb01dea6e59ca6dd057054f4a3ff72dde1d5c6/"
   ]
  },
  {
   "cell_type": "markdown",
   "metadata": {},
   "source": [
    "# Summary\n",
    "In this notebook, we went through some ideas of transport layer security (TLS) and went through the process of issuing and verifying x509 Certificates. "
   ]
  },
  {
   "cell_type": "code",
   "execution_count": null,
   "metadata": {},
   "outputs": [],
   "source": []
  }
 ],
 "metadata": {
  "kernelspec": {
   "display_name": "Python 3",
   "language": "python",
   "name": "python3"
  },
  "language_info": {
   "codemirror_mode": {
    "name": "ipython",
    "version": 3
   },
   "file_extension": ".py",
   "mimetype": "text/x-python",
   "name": "python",
   "nbconvert_exporter": "python",
   "pygments_lexer": "ipython3",
   "version": "3.8.5"
  },
  "latex_envs": {
   "LaTeX_envs_menu_present": true,
   "autoclose": false,
   "autocomplete": true,
   "bibliofile": "biblio.bib",
   "cite_by": "apalike",
   "current_citInitial": 1,
   "eqLabelWithNumbers": true,
   "eqNumInitial": 1,
   "hotkeys": {
    "equation": "Ctrl-E",
    "itemize": "Ctrl-I"
   },
   "labels_anchors": false,
   "latex_user_defs": false,
   "report_style_numbering": false,
   "user_envs_cfg": false
  }
 },
 "nbformat": 4,
 "nbformat_minor": 4
}
