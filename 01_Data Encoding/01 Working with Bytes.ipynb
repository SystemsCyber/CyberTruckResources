{
 "cells": [
  {
   "cell_type": "markdown",
   "metadata": {},
   "source": [
    "# <center> Encoding Data\n",
    "## <center> SYSE 549: Secure Vehicle and Industrial Networking\n",
    "## <center><img src=\"https://www.engr.colostate.edu/~jdaily/Systems-EN-CSU-1-C357.svg\" width=\"400\" /> \n",
    "### <center> Instructor: Dr. Jeremy Daily"
   ]
  },
  {
   "cell_type": "markdown",
   "metadata": {},
   "source": [
    "## Lesson Outcomes\n",
    "After completing this exercise, students should be able to:\n",
    "1. Realize encoded data is not encrypted.\n",
    "2. Carry-out data encoding for integers of different lengths.\n",
    "3. Present data as text strings or numbers based on the desired encoding.\n",
    "4. Develop Python programming skills to work with different types of encoding."
   ]
  },
  {
   "cell_type": "markdown",
   "metadata": {},
   "source": [
    "### Overview\n",
    "1. Define a string of bytes\n",
    "2. Explore integer encoding\n",
    "3. Learn the struct library\n",
    "4. Understand how to encode data as text with different codecs\n",
    "5. Represent binary only using text using base64 encoding"
   ]
  },
  {
   "cell_type": "code",
   "execution_count": 1,
   "metadata": {},
   "outputs": [],
   "source": [
    "# Given a series of bits\n",
    "# This could represent some data frame in a CAN message\n",
    "a = 0b0110000101110100011101000110000101100011011010110000110100001010"
   ]
  },
  {
   "cell_type": "code",
   "execution_count": 2,
   "metadata": {},
   "outputs": [
    {
     "name": "stdout",
     "output_type": "stream",
     "text": [
      "7022365680606055690\n"
     ]
    },
    {
     "data": {
      "text/plain": [
       "int"
      ]
     },
     "execution_count": 2,
     "metadata": {},
     "output_type": "execute_result"
    }
   ],
   "source": [
    "#What is a?\n",
    "# The python default is an integer\n",
    "print(a)\n",
    "type(a)"
   ]
  },
  {
   "cell_type": "code",
   "execution_count": 3,
   "metadata": {},
   "outputs": [
    {
     "name": "stdout",
     "output_type": "stream",
     "text": [
      "61747461636B0D0A\n"
     ]
    }
   ],
   "source": [
    "# display integer as hex characters\n",
    "print(\"{:016X}\".format(a))"
   ]
  },
  {
   "cell_type": "code",
   "execution_count": 5,
   "metadata": {},
   "outputs": [
    {
     "name": "stdout",
     "output_type": "stream",
     "text": [
      "0110000101110100011101000110000101100011011010110000110100001010\n"
     ]
    }
   ],
   "source": [
    "#display integer as binary\n",
    "print(\"{:064b}\".format(a))"
   ]
  },
  {
   "cell_type": "code",
   "execution_count": 6,
   "metadata": {},
   "outputs": [
    {
     "data": {
      "text/plain": [
       "'0110000101110100011101000110000101100011011010110000110100001010'"
      ]
     },
     "execution_count": 6,
     "metadata": {},
     "output_type": "execute_result"
    }
   ],
   "source": [
    "# Use format strings (f)\n",
    "f\"{a:064b}\""
   ]
  },
  {
   "cell_type": "code",
   "execution_count": 7,
   "metadata": {},
   "outputs": [
    {
     "name": "stdout",
     "output_type": "stream",
     "text": [
      "b'attack\\r\\n'\n"
     ]
    },
    {
     "data": {
      "text/plain": [
       "bytes"
      ]
     },
     "execution_count": 7,
     "metadata": {},
     "output_type": "execute_result"
    }
   ],
   "source": [
    "# Python 3 also has a data type of bytes. \n",
    "# Most network traffic arrives as bytes\n",
    "b = a.to_bytes(8,'big')\n",
    "print(b)\n",
    "type(b)"
   ]
  },
  {
   "cell_type": "code",
   "execution_count": 9,
   "metadata": {},
   "outputs": [
    {
     "data": {
      "text/plain": [
       "8"
      ]
     },
     "execution_count": 9,
     "metadata": {},
     "output_type": "execute_result"
    }
   ],
   "source": [
    "len(b)"
   ]
  },
  {
   "cell_type": "code",
   "execution_count": 10,
   "metadata": {},
   "outputs": [
    {
     "name": "stdout",
     "output_type": "stream",
     "text": [
      "97 116 116 97 99 107 13 10 "
     ]
    }
   ],
   "source": [
    "# You can iterate through an array of bytes\n",
    "for i in b:\n",
    "    print(i,end = ' ')"
   ]
  },
  {
   "cell_type": "code",
   "execution_count": 11,
   "metadata": {},
   "outputs": [
    {
     "name": "stdout",
     "output_type": "stream",
     "text": [
      "61 74 74 61 63 6B 0D 0A "
     ]
    }
   ],
   "source": [
    "# Let's print the hex characters\n",
    "for i in b:\n",
    "    print(\"{:02X}\".format(i),end = ' ')"
   ]
  },
  {
   "cell_type": "code",
   "execution_count": 12,
   "metadata": {},
   "outputs": [
    {
     "data": {
      "text/plain": [
       "'61747461636b0d0a'"
      ]
     },
     "execution_count": 12,
     "metadata": {},
     "output_type": "execute_result"
    }
   ],
   "source": [
    "#Default rendering\n",
    "b.hex()"
   ]
  },
  {
   "cell_type": "code",
   "execution_count": 13,
   "metadata": {},
   "outputs": [
    {
     "data": {
      "text/plain": [
       "'61 74 74 61 63 6B 0D 0A'"
      ]
     },
     "execution_count": 13,
     "metadata": {},
     "output_type": "execute_result"
    }
   ],
   "source": [
    "# Make a nice display of hex with raw bytes\n",
    "# This uses an efficient coding concept called list comprehension\n",
    "\" \".join([\"{:02X}\".format(i) for i in b])"
   ]
  },
  {
   "cell_type": "code",
   "execution_count": 14,
   "metadata": {},
   "outputs": [
    {
     "data": {
      "text/plain": [
       "'01100001 01110100 01110100 01100001 01100011 01101011 00001101 00001010'"
      ]
     },
     "execution_count": 14,
     "metadata": {},
     "output_type": "execute_result"
    }
   ],
   "source": [
    "#Make a nice display of binary with raw bytes\n",
    "\" \".join([\"{:08b}\".format(i) for i in b])"
   ]
  },
  {
   "cell_type": "code",
   "execution_count": 15,
   "metadata": {},
   "outputs": [
    {
     "name": "stdout",
     "output_type": "stream",
     "text": [
      "IP: 99.107.13.10\n"
     ]
    }
   ],
   "source": [
    "# pretend the last 4 bytes is a source IP address. \n",
    "# Let's display the address\n",
    "print(\"IP: \" + \".\".join([\"{:}\".format(i) for i in b[-4:]]))"
   ]
  },
  {
   "cell_type": "code",
   "execution_count": 16,
   "metadata": {},
   "outputs": [
    {
     "data": {
      "text/plain": [
       "'61 74 74 61'"
      ]
     },
     "execution_count": 16,
     "metadata": {},
     "output_type": "execute_result"
    }
   ],
   "source": [
    "# Let's pretend the first four bytes are the destination IP address. \n",
    "# In Wireshark, this IP address would show up as hex:\n",
    "\" \".join([\"{:02X}\".format(i) for i in b[:4]])"
   ]
  },
  {
   "cell_type": "code",
   "execution_count": 17,
   "metadata": {},
   "outputs": [
    {
     "data": {
      "text/plain": [
       "7022365680606055690"
      ]
     },
     "execution_count": 17,
     "metadata": {},
     "output_type": "execute_result"
    }
   ],
   "source": [
    "# Convert hex to integer\n",
    "int(b.hex(),16)"
   ]
  },
  {
   "cell_type": "code",
   "execution_count": 18,
   "metadata": {},
   "outputs": [
    {
     "data": {
      "text/plain": [
       "7022365680606055690"
      ]
     },
     "execution_count": 18,
     "metadata": {},
     "output_type": "execute_result"
    }
   ],
   "source": [
    "a"
   ]
  },
  {
   "cell_type": "markdown",
   "metadata": {},
   "source": [
    "### Decoding Options\n",
    "There are many options for decoding the raw bytes. The struct module is most helpful.\n",
    "\n",
    "https://docs.python.org/3.8/library/struct.html"
   ]
  },
  {
   "cell_type": "code",
   "execution_count": 19,
   "metadata": {},
   "outputs": [],
   "source": [
    "import struct"
   ]
  },
  {
   "cell_type": "code",
   "execution_count": 20,
   "metadata": {},
   "outputs": [
    {
     "data": {
      "text/plain": [
       "b'attack\\r\\n'"
      ]
     },
     "execution_count": 20,
     "metadata": {},
     "output_type": "execute_result"
    }
   ],
   "source": [
    "b"
   ]
  },
  {
   "cell_type": "code",
   "execution_count": 21,
   "metadata": {},
   "outputs": [
    {
     "data": {
      "text/plain": [
       "(97, 116, 116, 97, 99, 107, 13, 10)"
      ]
     },
     "execution_count": 21,
     "metadata": {},
     "output_type": "execute_result"
    }
   ],
   "source": [
    "# We might have 8 single byte, unsigned integers\n",
    "struct.unpack(\"BBBBBBBB\",b)"
   ]
  },
  {
   "cell_type": "code",
   "execution_count": 22,
   "metadata": {},
   "outputs": [
    {
     "data": {
      "text/plain": [
       "(97, 116, 116, 97, 99, 107, 13, 10)"
      ]
     },
     "execution_count": 22,
     "metadata": {},
     "output_type": "execute_result"
    }
   ],
   "source": [
    "# We might have 8 single byte, signed integers\n",
    "(97, 116, 116, 97, 99, 107, 13, 10)"
   ]
  },
  {
   "cell_type": "code",
   "execution_count": 23,
   "metadata": {},
   "outputs": [
    {
     "name": "stdout",
     "output_type": "stream",
     "text": [
      "b'\\xda'\n"
     ]
    }
   ],
   "source": [
    "# These are the same. Let's try another example\n",
    "# The \\x escape tells that this is a hex string\n",
    "c = b'\\xDA'\n",
    "print(c)"
   ]
  },
  {
   "cell_type": "code",
   "execution_count": 24,
   "metadata": {},
   "outputs": [
    {
     "data": {
      "text/plain": [
       "(218,)"
      ]
     },
     "execution_count": 24,
     "metadata": {},
     "output_type": "execute_result"
    }
   ],
   "source": [
    "# Unsigned Integer\n",
    "struct.unpack('B',c)"
   ]
  },
  {
   "cell_type": "code",
   "execution_count": 25,
   "metadata": {},
   "outputs": [
    {
     "data": {
      "text/plain": [
       "(-38,)"
      ]
     },
     "execution_count": 25,
     "metadata": {},
     "output_type": "execute_result"
    }
   ],
   "source": [
    "# Signed Integer\n",
    "struct.unpack('b',c)"
   ]
  },
  {
   "cell_type": "code",
   "execution_count": 26,
   "metadata": {},
   "outputs": [
    {
     "data": {
      "text/plain": [
       "tuple"
      ]
     },
     "execution_count": 26,
     "metadata": {},
     "output_type": "execute_result"
    }
   ],
   "source": [
    "# The return value is always a tuple.\n",
    "type(struct.unpack('b',c))"
   ]
  },
  {
   "cell_type": "code",
   "execution_count": 27,
   "metadata": {},
   "outputs": [
    {
     "data": {
      "text/plain": [
       "-38"
      ]
     },
     "execution_count": 27,
     "metadata": {},
     "output_type": "execute_result"
    }
   ],
   "source": [
    "# To get an ingeger, index the tuple\n",
    "struct.unpack('b',c)[0]"
   ]
  },
  {
   "cell_type": "code",
   "execution_count": 28,
   "metadata": {},
   "outputs": [
    {
     "data": {
      "text/plain": [
       "int"
      ]
     },
     "execution_count": 28,
     "metadata": {},
     "output_type": "execute_result"
    }
   ],
   "source": [
    "type(struct.unpack('b',c)[0])"
   ]
  },
  {
   "cell_type": "code",
   "execution_count": 29,
   "metadata": {},
   "outputs": [
    {
     "data": {
      "text/plain": [
       "(29793, 24948, 27491, 2573)"
      ]
     },
     "execution_count": 29,
     "metadata": {},
     "output_type": "execute_result"
    }
   ],
   "source": [
    "#What if we had 4 16-bit unsigned numbers?\n",
    "struct.unpack(\"4H\",b)"
   ]
  },
  {
   "cell_type": "code",
   "execution_count": 30,
   "metadata": {},
   "outputs": [
    {
     "data": {
      "text/plain": [
       "(29793, 24948, 27491, 2573)"
      ]
     },
     "execution_count": 30,
     "metadata": {},
     "output_type": "execute_result"
    }
   ],
   "source": [
    "# But the byte order matters,\n",
    "struct.unpack(\"<HHHH\",b)"
   ]
  },
  {
   "cell_type": "code",
   "execution_count": 31,
   "metadata": {},
   "outputs": [
    {
     "data": {
      "text/plain": [
       "(24948, 29793, 25451, 3338)"
      ]
     },
     "execution_count": 31,
     "metadata": {},
     "output_type": "execute_result"
    }
   ],
   "source": [
    "struct.unpack(\">HHHH\",b)"
   ]
  },
  {
   "cell_type": "code",
   "execution_count": 32,
   "metadata": {},
   "outputs": [
    {
     "data": {
      "text/plain": [
       "b'at'"
      ]
     },
     "execution_count": 32,
     "metadata": {},
     "output_type": "execute_result"
    }
   ],
   "source": [
    "#Big endian (the way humans read)\n",
    "(24948).to_bytes(2,'big')"
   ]
  },
  {
   "cell_type": "code",
   "execution_count": 33,
   "metadata": {},
   "outputs": [
    {
     "data": {
      "text/plain": [
       "b'at'"
      ]
     },
     "execution_count": 33,
     "metadata": {},
     "output_type": "execute_result"
    }
   ],
   "source": [
    "#Big endian (Motorola Format)\n",
    "struct.pack(\">H\",24948)"
   ]
  },
  {
   "cell_type": "code",
   "execution_count": 34,
   "metadata": {},
   "outputs": [
    {
     "data": {
      "text/plain": [
       "b'ta'"
      ]
     },
     "execution_count": 34,
     "metadata": {},
     "output_type": "execute_result"
    }
   ],
   "source": [
    "#little endian (Reverse Byte order)\n",
    "(24948).to_bytes(2,'little')"
   ]
  },
  {
   "cell_type": "code",
   "execution_count": 35,
   "metadata": {},
   "outputs": [
    {
     "name": "stdout",
     "output_type": "stream",
     "text": [
      "b'ta'\n"
     ]
    }
   ],
   "source": [
    "#Little endian (Intel Format)\n",
    "# Note 24948 = 0x6174 \n",
    "d = struct.pack(\"<H\",0x6174)\n",
    "print(d)"
   ]
  },
  {
   "cell_type": "code",
   "execution_count": 36,
   "metadata": {},
   "outputs": [
    {
     "data": {
      "text/plain": [
       "'74 61'"
      ]
     },
     "execution_count": 36,
     "metadata": {},
     "output_type": "execute_result"
    }
   ],
   "source": [
    "# Notice the reverse byte order (Little Endian or Intel)\n",
    "\" \".join([\"{:02X}\".format(i) for i in d])"
   ]
  },
  {
   "cell_type": "code",
   "execution_count": 37,
   "metadata": {},
   "outputs": [
    {
     "data": {
      "text/plain": [
       "(-9643,)"
      ]
     },
     "execution_count": 37,
     "metadata": {},
     "output_type": "execute_result"
    }
   ],
   "source": [
    "# Signed 2-byte integers\n",
    "struct.unpack(\">h\",b'\\xda\\x55')"
   ]
  },
  {
   "cell_type": "code",
   "execution_count": 38,
   "metadata": {},
   "outputs": [
    {
     "data": {
      "text/plain": [
       "(21978,)"
      ]
     },
     "execution_count": 38,
     "metadata": {},
     "output_type": "execute_result"
    }
   ],
   "source": [
    "# Signed 2-byte integers\n",
    "struct.unpack(\"<h\",b'\\xda\\x55')"
   ]
  },
  {
   "cell_type": "code",
   "execution_count": 39,
   "metadata": {},
   "outputs": [
    {
     "name": "stdout",
     "output_type": "stream",
     "text": [
      "21978\n"
     ]
    }
   ],
   "source": [
    "# notice the reverse byte order\n",
    "print(0x55da)"
   ]
  },
  {
   "cell_type": "markdown",
   "metadata": {},
   "source": [
    "### Characters"
   ]
  },
  {
   "cell_type": "code",
   "execution_count": 40,
   "metadata": {},
   "outputs": [
    {
     "name": "stdout",
     "output_type": "stream",
     "text": [
      "(b'a', b't', b't', b'a', b'c', b'k', b'\\r', b'\\n')\n"
     ]
    }
   ],
   "source": [
    "# We might have 8 single characters\n",
    "e = struct.unpack(\"8c\",b)\n",
    "print(e)"
   ]
  },
  {
   "cell_type": "code",
   "execution_count": 41,
   "metadata": {},
   "outputs": [
    {
     "data": {
      "text/plain": [
       "b'attack\\r\\n'"
      ]
     },
     "execution_count": 41,
     "metadata": {},
     "output_type": "execute_result"
    }
   ],
   "source": [
    "#Combine the bytes into a single string of bytes.\n",
    "b''.join(e)"
   ]
  },
  {
   "cell_type": "code",
   "execution_count": 42,
   "metadata": {},
   "outputs": [
    {
     "name": "stdout",
     "output_type": "stream",
     "text": [
      "b'attack\\r\\n'\n"
     ]
    }
   ],
   "source": [
    "#This is the same as packing\n",
    "f = struct.pack(\"cccccccc\",b'a', b't', b't', b'a', b'c', b'k', b'\\r', b'\\n')\n",
    "print(f)"
   ]
  },
  {
   "cell_type": "code",
   "execution_count": 43,
   "metadata": {},
   "outputs": [
    {
     "name": "stdout",
     "output_type": "stream",
     "text": [
      "b'attack\\r\\n'\n"
     ]
    }
   ],
   "source": [
    "# Using s enables the creation of a byte string without join\n",
    "f = struct.pack(\"cccccccc\",b'a', b't', b't', b'a', b'c', b'k', b'\\r', b'\\n')\n",
    "print(f)"
   ]
  },
  {
   "cell_type": "code",
   "execution_count": 44,
   "metadata": {},
   "outputs": [
    {
     "data": {
      "text/plain": [
       "bytes"
      ]
     },
     "execution_count": 44,
     "metadata": {},
     "output_type": "execute_result"
    }
   ],
   "source": [
    "type(f)"
   ]
  },
  {
   "cell_type": "code",
   "execution_count": 45,
   "metadata": {},
   "outputs": [
    {
     "data": {
      "text/plain": [
       "\"b'attack\\\\r\\\\n'\""
      ]
     },
     "execution_count": 45,
     "metadata": {},
     "output_type": "execute_result"
    }
   ],
   "source": [
    "#Convert to a string\n",
    "str(f)"
   ]
  },
  {
   "cell_type": "code",
   "execution_count": 46,
   "metadata": {},
   "outputs": [
    {
     "data": {
      "text/plain": [
       "'attack\\r\\n'"
      ]
     },
     "execution_count": 46,
     "metadata": {},
     "output_type": "execute_result"
    }
   ],
   "source": [
    "# Not really what we want. We know this is ascii text\n",
    "f.decode('ascii')"
   ]
  },
  {
   "cell_type": "code",
   "execution_count": 47,
   "metadata": {},
   "outputs": [
    {
     "name": "stdout",
     "output_type": "stream",
     "text": [
      "attack\n",
      "\n"
     ]
    }
   ],
   "source": [
    "# Notice the extra line from the carriage return \\r and new line \\n.\n",
    "print(f.decode('ascii'))"
   ]
  },
  {
   "cell_type": "code",
   "execution_count": 48,
   "metadata": {},
   "outputs": [
    {
     "data": {
      "text/plain": [
       "'attack\\r\\n'"
      ]
     },
     "execution_count": 48,
     "metadata": {},
     "output_type": "execute_result"
    }
   ],
   "source": [
    "# More modern is utf-8\n",
    "f.decode('utf-8')"
   ]
  },
  {
   "cell_type": "code",
   "execution_count": 49,
   "metadata": {},
   "outputs": [
    {
     "data": {
      "text/plain": [
       "'attack\\r\\n'"
      ]
     },
     "execution_count": 49,
     "metadata": {},
     "output_type": "execute_result"
    }
   ],
   "source": [
    "# There are many character sets\n",
    "f.decode('latin-1')"
   ]
  },
  {
   "cell_type": "code",
   "execution_count": 50,
   "metadata": {},
   "outputs": [
    {
     "data": {
      "text/plain": [
       "'attackÄú'"
      ]
     },
     "execution_count": 50,
     "metadata": {},
     "output_type": "execute_result"
    }
   ],
   "source": [
    "b'attack\\xc4\\xfa'.decode('latin-1')"
   ]
  },
  {
   "cell_type": "code",
   "execution_count": 51,
   "metadata": {},
   "outputs": [
    {
     "ename": "UnicodeDecodeError",
     "evalue": "'ascii' codec can't decode byte 0xc4 in position 6: ordinal not in range(128)",
     "output_type": "error",
     "traceback": [
      "\u001b[1;31m---------------------------------------------------------------------------\u001b[0m",
      "\u001b[1;31mUnicodeDecodeError\u001b[0m                        Traceback (most recent call last)",
      "Cell \u001b[1;32mIn[51], line 1\u001b[0m\n\u001b[1;32m----> 1\u001b[0m \u001b[38;5;124;43mb\u001b[39;49m\u001b[38;5;124;43m'\u001b[39;49m\u001b[38;5;124;43mattack\u001b[39;49m\u001b[38;5;130;43;01m\\xc4\u001b[39;49;00m\u001b[38;5;130;43;01m\\xfa\u001b[39;49;00m\u001b[38;5;124;43m'\u001b[39;49m\u001b[38;5;241;43m.\u001b[39;49m\u001b[43mdecode\u001b[49m\u001b[43m(\u001b[49m\u001b[38;5;124;43m'\u001b[39;49m\u001b[38;5;124;43mascii\u001b[39;49m\u001b[38;5;124;43m'\u001b[39;49m\u001b[43m)\u001b[49m\n",
      "\u001b[1;31mUnicodeDecodeError\u001b[0m: 'ascii' codec can't decode byte 0xc4 in position 6: ordinal not in range(128)"
     ]
    }
   ],
   "source": [
    "b'attack\\xc4\\xfa'.decode('ascii')"
   ]
  },
  {
   "cell_type": "code",
   "execution_count": 52,
   "metadata": {},
   "outputs": [
    {
     "data": {
      "text/plain": [
       "'attack'"
      ]
     },
     "execution_count": 52,
     "metadata": {},
     "output_type": "execute_result"
    }
   ],
   "source": [
    "# We can ignore some of the non-ascii characters\n",
    "b'attack\\xc4\\xfa'.decode('ascii','ignore')"
   ]
  },
  {
   "cell_type": "code",
   "execution_count": 58,
   "metadata": {},
   "outputs": [],
   "source": [
    "truck = '🚛'.encode('utf-8')"
   ]
  },
  {
   "cell_type": "code",
   "execution_count": 59,
   "metadata": {},
   "outputs": [
    {
     "data": {
      "text/plain": [
       "'🚛'"
      ]
     },
     "execution_count": 59,
     "metadata": {},
     "output_type": "execute_result"
    }
   ],
   "source": [
    "truck.decode('utf-8')"
   ]
  },
  {
   "cell_type": "code",
   "execution_count": 53,
   "metadata": {},
   "outputs": [
    {
     "ename": "UnicodeDecodeError",
     "evalue": "'utf-8' codec can't decode byte 0xc4 in position 6: invalid continuation byte",
     "output_type": "error",
     "traceback": [
      "\u001b[1;31m---------------------------------------------------------------------------\u001b[0m",
      "\u001b[1;31mUnicodeDecodeError\u001b[0m                        Traceback (most recent call last)",
      "Cell \u001b[1;32mIn[53], line 1\u001b[0m\n\u001b[1;32m----> 1\u001b[0m \u001b[38;5;124;43mb\u001b[39;49m\u001b[38;5;124;43m'\u001b[39;49m\u001b[38;5;124;43mattack\u001b[39;49m\u001b[38;5;130;43;01m\\xc4\u001b[39;49;00m\u001b[38;5;130;43;01m\\xfa\u001b[39;49;00m\u001b[38;5;124;43m'\u001b[39;49m\u001b[38;5;241;43m.\u001b[39;49m\u001b[43mdecode\u001b[49m\u001b[43m(\u001b[49m\u001b[38;5;124;43m'\u001b[39;49m\u001b[38;5;124;43mutf-8\u001b[39;49m\u001b[38;5;124;43m'\u001b[39;49m\u001b[43m)\u001b[49m\n",
      "\u001b[1;31mUnicodeDecodeError\u001b[0m: 'utf-8' codec can't decode byte 0xc4 in position 6: invalid continuation byte"
     ]
    }
   ],
   "source": [
    "b'attack\\xc4\\xfa'.decode('utf-8')"
   ]
  },
  {
   "cell_type": "code",
   "execution_count": 54,
   "metadata": {},
   "outputs": [
    {
     "data": {
      "text/plain": [
       "'attack��'"
      ]
     },
     "execution_count": 54,
     "metadata": {},
     "output_type": "execute_result"
    }
   ],
   "source": [
    "# This keeps from getting errors\n",
    "b'attack\\xc4\\xfa'.decode('utf-8','replace')"
   ]
  },
  {
   "cell_type": "code",
   "execution_count": 60,
   "metadata": {},
   "outputs": [
    {
     "data": {
      "text/plain": [
       "'attackĊ'"
      ]
     },
     "execution_count": 60,
     "metadata": {},
     "output_type": "execute_result"
    }
   ],
   "source": [
    "# Here's a valid UTF string. It uses 2 bytes.\n",
    "b'attack\\xc4\\x8a'.decode('utf-8','strict')"
   ]
  },
  {
   "cell_type": "markdown",
   "metadata": {},
   "source": [
    "### Long Integers"
   ]
  },
  {
   "cell_type": "code",
   "execution_count": 61,
   "metadata": {},
   "outputs": [
    {
     "data": {
      "text/plain": [
       "(1635021921, 1667960074)"
      ]
     },
     "execution_count": 61,
     "metadata": {},
     "output_type": "execute_result"
    }
   ],
   "source": [
    "#In little-endian\n",
    "struct.unpack('>LL',b)"
   ]
  },
  {
   "cell_type": "code",
   "execution_count": 62,
   "metadata": {},
   "outputs": [
    {
     "data": {
      "text/plain": [
       "4294967296"
      ]
     },
     "execution_count": 62,
     "metadata": {},
     "output_type": "execute_result"
    }
   ],
   "source": [
    "2**32"
   ]
  },
  {
   "cell_type": "code",
   "execution_count": 63,
   "metadata": {},
   "outputs": [
    {
     "data": {
      "text/plain": [
       "(1635021921, 168651619)"
      ]
     },
     "execution_count": 63,
     "metadata": {},
     "output_type": "execute_result"
    }
   ],
   "source": [
    "#In little-endian\n",
    "struct.unpack('<LL',b)"
   ]
  },
  {
   "cell_type": "code",
   "execution_count": 64,
   "metadata": {},
   "outputs": [
    {
     "data": {
      "text/plain": [
       "(168651619,)"
      ]
     },
     "execution_count": 64,
     "metadata": {},
     "output_type": "execute_result"
    }
   ],
   "source": [
    "# Notice the symmetry on the first four bytes; atta is a palindrome\n",
    "# Lets look at the last bytes\n",
    "struct.unpack('<L',b'ck\\r\\n')"
   ]
  },
  {
   "cell_type": "code",
   "execution_count": 65,
   "metadata": {},
   "outputs": [
    {
     "data": {
      "text/plain": [
       "(1667960074,)"
      ]
     },
     "execution_count": 65,
     "metadata": {},
     "output_type": "execute_result"
    }
   ],
   "source": [
    "#In big endian:\n",
    "struct.unpack('>L',b'ck\\r\\n')"
   ]
  },
  {
   "cell_type": "code",
   "execution_count": 66,
   "metadata": {},
   "outputs": [
    {
     "data": {
      "text/plain": [
       "b'ck\\r\\n'"
      ]
     },
     "execution_count": 66,
     "metadata": {},
     "output_type": "execute_result"
    }
   ],
   "source": [
    "# The pack operation\n",
    "struct.pack(\"<L\",168651619)"
   ]
  },
  {
   "cell_type": "code",
   "execution_count": 67,
   "metadata": {},
   "outputs": [
    {
     "data": {
      "text/plain": [
       "168651619"
      ]
     },
     "execution_count": 67,
     "metadata": {},
     "output_type": "execute_result"
    }
   ],
   "source": [
    "#Hex as an int\n",
    "0x0A0D6B63"
   ]
  },
  {
   "cell_type": "code",
   "execution_count": 68,
   "metadata": {},
   "outputs": [
    {
     "data": {
      "text/plain": [
       "b'\\n\\rkc'"
      ]
     },
     "execution_count": 68,
     "metadata": {},
     "output_type": "execute_result"
    }
   ],
   "source": [
    "# Reverse byte order\n",
    "struct.pack(\">L\",0x0A0D6B63)"
   ]
  },
  {
   "cell_type": "code",
   "execution_count": 69,
   "metadata": {},
   "outputs": [
    {
     "data": {
      "text/plain": [
       "(1635021921, 1667960074)"
      ]
     },
     "execution_count": 69,
     "metadata": {},
     "output_type": "execute_result"
    }
   ],
   "source": [
    "#Signed long integers\n",
    "struct.unpack('>ll',b)"
   ]
  },
  {
   "cell_type": "markdown",
   "metadata": {},
   "source": [
    "### Practical Example: Decoding Vehicle Miles\n",
    "SAE J1939 has a message defined as PGN 65248: Vehicle Distance. It has two 32-bit integers in the 8 byte message. The first four bytes are SPN 244: Trip Distance and the second number is SPN 245: Total Vehicle Distance, or the Odometer reading. It is represented as the number of 0.125 km that have accumulated. This message can be found in many truck log files."
   ]
  },
  {
   "cell_type": "code",
   "execution_count": 70,
   "metadata": {},
   "outputs": [
    {
     "data": {
      "text/plain": [
       "'FEE0'"
      ]
     },
     "execution_count": 70,
     "metadata": {},
     "output_type": "execute_result"
    }
   ],
   "source": [
    "#First, print the PGN in hex\n",
    "\"{:X}\".format(65248)"
   ]
  },
  {
   "cell_type": "code",
   "execution_count": 71,
   "metadata": {},
   "outputs": [],
   "source": [
    "# A CAN log file from a truck has this line corresponding to PGN 65248\n",
    "log_text = \"(012.102753)  can1  18FEE000   [8] 73 49 03 00 BC E0 33 00\""
   ]
  },
  {
   "cell_type": "code",
   "execution_count": 72,
   "metadata": {},
   "outputs": [
    {
     "data": {
      "text/plain": [
       "['(012.102753)',\n",
       " 'can1',\n",
       " '18FEE000',\n",
       " '[8]',\n",
       " '73',\n",
       " '49',\n",
       " '03',\n",
       " '00',\n",
       " 'BC',\n",
       " 'E0',\n",
       " '33',\n",
       " '00']"
      ]
     },
     "execution_count": 72,
     "metadata": {},
     "output_type": "execute_result"
    }
   ],
   "source": [
    "# Parse the line into a list:\n",
    "entries = log_text.split()\n",
    "entries"
   ]
  },
  {
   "cell_type": "code",
   "execution_count": 73,
   "metadata": {},
   "outputs": [
    {
     "data": {
      "text/plain": [
       "b'sI\\x03\\x00\\xbc\\xe03\\x00'"
      ]
     },
     "execution_count": 73,
     "metadata": {},
     "output_type": "execute_result"
    }
   ],
   "source": [
    "#Convert to bytes from a long string of hex characters\n",
    "data_bytes = bytes.fromhex(''.join(entries[-8:]))\n",
    "data_bytes"
   ]
  },
  {
   "cell_type": "code",
   "execution_count": 74,
   "metadata": {},
   "outputs": [
    {
     "data": {
      "text/plain": [
       "b'sI\\x03\\x00\\xbc\\xe03\\x00'"
      ]
     },
     "execution_count": 74,
     "metadata": {},
     "output_type": "execute_result"
    }
   ],
   "source": [
    "# another way is to convert a list of integers\n",
    "data_bytes = bytes([int(i,16) for i in entries[-8:]])\n",
    "data_bytes"
   ]
  },
  {
   "cell_type": "code",
   "execution_count": 75,
   "metadata": {},
   "outputs": [
    {
     "data": {
      "text/plain": [
       "b'sI\\x03\\x00\\xbc\\xe03\\x00'"
      ]
     },
     "execution_count": 75,
     "metadata": {},
     "output_type": "execute_result"
    }
   ],
   "source": [
    "# another way is to build the bytes iteratively. (not prefered)\n",
    "data_bytes = b''\n",
    "for i in entries[4:12]:\n",
    "    data_bytes += int(i,16).to_bytes(1,'big')\n",
    "data_bytes"
   ]
  },
  {
   "cell_type": "code",
   "execution_count": 76,
   "metadata": {},
   "outputs": [
    {
     "data": {
      "text/plain": [
       "(215411, 3399868)"
      ]
     },
     "execution_count": 76,
     "metadata": {},
     "output_type": "execute_result"
    }
   ],
   "source": [
    "# J1939 is in little endian (Intel) format\n",
    "pgn_values = struct.unpack('<LL',data_bytes)\n",
    "pgn_values"
   ]
  },
  {
   "cell_type": "code",
   "execution_count": 77,
   "metadata": {},
   "outputs": [
    {
     "name": "stdout",
     "output_type": "stream",
     "text": [
      "The Total Vehicle Distance is 264,441.2 miles.\n"
     ]
    }
   ],
   "source": [
    "# Compute mileage\n",
    "SPN245 = 0.125*pgn_values[1]/1.6071\n",
    "print(\"The Total Vehicle Distance is {:0,.1f} miles.\".format(SPN245))"
   ]
  },
  {
   "cell_type": "code",
   "execution_count": 78,
   "metadata": {},
   "outputs": [
    {
     "data": {
      "text/plain": [
       "3399868"
      ]
     },
     "execution_count": 78,
     "metadata": {},
     "output_type": "execute_result"
    }
   ],
   "source": [
    "# The long way\n",
    "# Multiply the bytes by their place holder\n",
    "value = 0\n",
    "value += data_bytes[4]\n",
    "value += data_bytes[5]*256\n",
    "value += data_bytes[6]*256*256\n",
    "value += data_bytes[7]*256*256*256\n",
    "value"
   ]
  },
  {
   "cell_type": "markdown",
   "metadata": {},
   "source": [
    "### 64-bit numbers"
   ]
  },
  {
   "cell_type": "code",
   "execution_count": 79,
   "metadata": {},
   "outputs": [
    {
     "data": {
      "text/plain": [
       "b'attack\\r\\n'"
      ]
     },
     "execution_count": 79,
     "metadata": {},
     "output_type": "execute_result"
    }
   ],
   "source": [
    "#Convert the double long integer a into bytes\n",
    "struct.pack('>Q',a)"
   ]
  },
  {
   "cell_type": "code",
   "execution_count": 80,
   "metadata": {},
   "outputs": [
    {
     "data": {
      "text/plain": [
       "(7022365680606055690,)"
      ]
     },
     "execution_count": 80,
     "metadata": {},
     "output_type": "execute_result"
    }
   ],
   "source": [
    "# See how to convert back into a 64-bit integer\n",
    "struct.unpack('>Q',b)"
   ]
  },
  {
   "cell_type": "code",
   "execution_count": 81,
   "metadata": {},
   "outputs": [
    {
     "data": {
      "text/plain": [
       "(724353189657474145,)"
      ]
     },
     "execution_count": 81,
     "metadata": {},
     "output_type": "execute_result"
    }
   ],
   "source": [
    "#Byte order is important\n",
    "struct.unpack('<Q',b)"
   ]
  },
  {
   "cell_type": "code",
   "execution_count": 82,
   "metadata": {},
   "outputs": [
    {
     "data": {
      "text/plain": [
       "(7022365680606055690,)"
      ]
     },
     "execution_count": 82,
     "metadata": {},
     "output_type": "execute_result"
    }
   ],
   "source": [
    "# Signed 64-bit integers\n",
    "struct.unpack('>q',b)"
   ]
  },
  {
   "cell_type": "code",
   "execution_count": 83,
   "metadata": {},
   "outputs": [
    {
     "data": {
      "text/plain": [
       "(-3425985454893495030,)"
      ]
     },
     "execution_count": 83,
     "metadata": {},
     "output_type": "execute_result"
    }
   ],
   "source": [
    "# The first bit must be set to get a negative number\n",
    "neg_num = struct.unpack('>q',b'\\xd0ttack\\r\\n')\n",
    "neg_num"
   ]
  },
  {
   "cell_type": "code",
   "execution_count": 84,
   "metadata": {},
   "outputs": [
    {
     "data": {
      "text/plain": [
       "(2.8183697112289195e+20, 4.335924420794005e+21)"
      ]
     },
     "execution_count": 84,
     "metadata": {},
     "output_type": "execute_result"
    }
   ],
   "source": [
    "# We can look at this as two floats\n",
    "struct.unpack('>ff',b)"
   ]
  },
  {
   "cell_type": "code",
   "execution_count": 85,
   "metadata": {},
   "outputs": [
    {
     "data": {
      "text/plain": [
       "(2.8183697112289195e+20, 6.809100250964041e-33)"
      ]
     },
     "execution_count": 85,
     "metadata": {},
     "output_type": "execute_result"
    }
   ],
   "source": [
    "# We can look at this as two floats (endianness does matter when its not a palidrome) \n",
    "struct.unpack('<ff',b)"
   ]
  },
  {
   "cell_type": "code",
   "execution_count": 86,
   "metadata": {},
   "outputs": [
    {
     "data": {
      "text/plain": [
       "2.8757353661668934e+161"
      ]
     },
     "execution_count": 86,
     "metadata": {},
     "output_type": "execute_result"
    }
   ],
   "source": [
    "# We can look at all 8-bytes as a double float\n",
    "struct.unpack('>d',b)[0]"
   ]
  },
  {
   "cell_type": "code",
   "execution_count": 87,
   "metadata": {},
   "outputs": [
    {
     "data": {
      "text/plain": [
       "2.989708374342575e-260"
      ]
     },
     "execution_count": 87,
     "metadata": {},
     "output_type": "execute_result"
    }
   ],
   "source": [
    "# We can look at all 8-bytes as a double float\n",
    "struct.unpack('<d',b)[0]"
   ]
  },
  {
   "cell_type": "code",
   "execution_count": 88,
   "metadata": {},
   "outputs": [
    {
     "data": {
      "text/plain": [
       "3.4773714291134986e-162"
      ]
     },
     "execution_count": 88,
     "metadata": {},
     "output_type": "execute_result"
    }
   ],
   "source": [
    "# Reversing byte order is not the inverse\n",
    "1/struct.unpack('>d',b)[0]"
   ]
  },
  {
   "cell_type": "markdown",
   "metadata": {},
   "source": [
    "## Sending bytes as text only\n",
    "Base64 encoding\n",
    "\n",
    "https://docs.python.org/3.8/library/base64.html\n",
    "\n",
    "\n",
    "This is how to send cryptographic bytes in e-mail."
   ]
  },
  {
   "cell_type": "code",
   "execution_count": 89,
   "metadata": {},
   "outputs": [],
   "source": [
    "import base64"
   ]
  },
  {
   "cell_type": "code",
   "execution_count": 90,
   "metadata": {},
   "outputs": [
    {
     "name": "stdout",
     "output_type": "stream",
     "text": [
      "b'YXR0YWNrDQo='\n"
     ]
    }
   ],
   "source": [
    "#As bytes\n",
    "g = base64.b64encode(b)\n",
    "print(g)"
   ]
  },
  {
   "cell_type": "code",
   "execution_count": 91,
   "metadata": {},
   "outputs": [
    {
     "data": {
      "text/plain": [
       "b'attack\\r\\n'"
      ]
     },
     "execution_count": 91,
     "metadata": {},
     "output_type": "execute_result"
    }
   ],
   "source": [
    "base64.b64decode(g)"
   ]
  },
  {
   "cell_type": "code",
   "execution_count": 92,
   "metadata": {},
   "outputs": [
    {
     "data": {
      "text/plain": [
       "'YXR0YWNrDQo='"
      ]
     },
     "execution_count": 92,
     "metadata": {},
     "output_type": "execute_result"
    }
   ],
   "source": [
    "#As a string\n",
    "g.decode('utf-8')"
   ]
  },
  {
   "cell_type": "code",
   "execution_count": 93,
   "metadata": {},
   "outputs": [
    {
     "data": {
      "text/plain": [
       "12"
      ]
     },
     "execution_count": 93,
     "metadata": {},
     "output_type": "execute_result"
    }
   ],
   "source": [
    "len(g)"
   ]
  },
  {
   "cell_type": "code",
   "execution_count": 94,
   "metadata": {},
   "outputs": [
    {
     "data": {
      "text/plain": [
       "8"
      ]
     },
     "execution_count": 94,
     "metadata": {},
     "output_type": "execute_result"
    }
   ],
   "source": [
    "len(b)"
   ]
  },
  {
   "cell_type": "markdown",
   "metadata": {},
   "source": [
    "While the length of the data increases by 1.5, it enables transmission by email or http. Base64 encoding is very common for storing cryptographic data."
   ]
  },
  {
   "cell_type": "code",
   "execution_count": 95,
   "metadata": {},
   "outputs": [
    {
     "data": {
      "text/plain": [
       "b'attack\\r\\n'"
      ]
     },
     "execution_count": 95,
     "metadata": {},
     "output_type": "execute_result"
    }
   ],
   "source": [
    "# Recall\n",
    "b"
   ]
  },
  {
   "cell_type": "code",
   "execution_count": 96,
   "metadata": {},
   "outputs": [
    {
     "data": {
      "text/plain": [
       "'61747461636b0d0a'"
      ]
     },
     "execution_count": 96,
     "metadata": {},
     "output_type": "execute_result"
    }
   ],
   "source": [
    "#What about just converting to hex characters?\n",
    "h = b.hex()\n",
    "h"
   ]
  },
  {
   "cell_type": "code",
   "execution_count": 97,
   "metadata": {},
   "outputs": [
    {
     "data": {
      "text/plain": [
       "16"
      ]
     },
     "execution_count": 97,
     "metadata": {},
     "output_type": "execute_result"
    }
   ],
   "source": [
    "#Converting to printable hex doubles the length. Therefore, base64 encoding is more efficient.\n",
    "len(h)"
   ]
  },
  {
   "cell_type": "code",
   "execution_count": 98,
   "metadata": {},
   "outputs": [
    {
     "name": "stdout",
     "output_type": "stream",
     "text": [
      "61747461636B0D0A\n"
     ]
    }
   ],
   "source": [
    "# recall: display integer as hex characters\n",
    "print(\"{:016X}\".format(a))"
   ]
  },
  {
   "cell_type": "code",
   "execution_count": 99,
   "metadata": {},
   "outputs": [
    {
     "data": {
      "text/plain": [
       "b'attack\\r\\n'"
      ]
     },
     "execution_count": 99,
     "metadata": {},
     "output_type": "execute_result"
    }
   ],
   "source": [
    "#Decode\n",
    "base64.b64decode('YXR0YWNrDQo=')"
   ]
  },
  {
   "cell_type": "code",
   "execution_count": 100,
   "metadata": {},
   "outputs": [
    {
     "name": "stdout",
     "output_type": "stream",
     "text": [
      "[b'\\x00', b'\\x01', b'\\x02', b'\\x03', b'\\x04', b'\\x05', b'\\x06', b'\\x07', b'\\x08', b'\\t', b'\\n', b'\\x0b', b'\\x0c', b'\\r', b'\\x0e', b'\\x0f', b'\\x10', b'\\x11', b'\\x12', b'\\x13', b'\\x14', b'\\x15', b'\\x16', b'\\x17', b'\\x18', b'\\x19', b'\\x1a', b'\\x1b', b'\\x1c', b'\\x1d', b'\\x1e', b'\\x1f', b' ', b'!', b'\"', b'#', b'$', b'%', b'&', b\"'\", b'(', b')', b'*', b'+', b',', b'-', b'.', b'/', b'0', b'1', b'2', b'3', b'4', b'5', b'6', b'7', b'8', b'9', b':', b';', b'<', b'=', b'>', b'?', b'@', b'A', b'B', b'C', b'D', b'E', b'F', b'G', b'H', b'I', b'J', b'K', b'L', b'M', b'N', b'O', b'P', b'Q', b'R', b'S', b'T', b'U', b'V', b'W', b'X', b'Y', b'Z', b'[', b'\\\\', b']', b'^', b'_', b'`', b'a', b'b', b'c', b'd', b'e', b'f', b'g', b'h', b'i', b'j', b'k', b'l', b'm', b'n', b'o', b'p', b'q', b'r', b's', b't', b'u', b'v', b'w', b'x', b'y', b'z', b'{', b'|', b'}', b'~', b'\\x7f', b'\\x80', b'\\x81', b'\\x82', b'\\x83', b'\\x84', b'\\x85', b'\\x86', b'\\x87', b'\\x88', b'\\x89', b'\\x8a', b'\\x8b', b'\\x8c', b'\\x8d', b'\\x8e', b'\\x8f', b'\\x90', b'\\x91', b'\\x92', b'\\x93', b'\\x94', b'\\x95', b'\\x96', b'\\x97', b'\\x98', b'\\x99', b'\\x9a', b'\\x9b', b'\\x9c', b'\\x9d', b'\\x9e', b'\\x9f', b'\\xa0', b'\\xa1', b'\\xa2', b'\\xa3', b'\\xa4', b'\\xa5', b'\\xa6', b'\\xa7', b'\\xa8', b'\\xa9', b'\\xaa', b'\\xab', b'\\xac', b'\\xad', b'\\xae', b'\\xaf', b'\\xb0', b'\\xb1', b'\\xb2', b'\\xb3', b'\\xb4', b'\\xb5', b'\\xb6', b'\\xb7', b'\\xb8', b'\\xb9', b'\\xba', b'\\xbb', b'\\xbc', b'\\xbd', b'\\xbe', b'\\xbf', b'\\xc0', b'\\xc1', b'\\xc2', b'\\xc3', b'\\xc4', b'\\xc5', b'\\xc6', b'\\xc7', b'\\xc8', b'\\xc9', b'\\xca', b'\\xcb', b'\\xcc', b'\\xcd', b'\\xce', b'\\xcf', b'\\xd0', b'\\xd1', b'\\xd2', b'\\xd3', b'\\xd4', b'\\xd5', b'\\xd6', b'\\xd7', b'\\xd8', b'\\xd9', b'\\xda', b'\\xdb', b'\\xdc', b'\\xdd', b'\\xde', b'\\xdf', b'\\xe0', b'\\xe1', b'\\xe2', b'\\xe3', b'\\xe4', b'\\xe5', b'\\xe6', b'\\xe7', b'\\xe8', b'\\xe9', b'\\xea', b'\\xeb', b'\\xec', b'\\xed', b'\\xee', b'\\xef', b'\\xf0', b'\\xf1', b'\\xf2', b'\\xf3', b'\\xf4', b'\\xf5', b'\\xf6', b'\\xf7', b'\\xf8', b'\\xf9', b'\\xfa', b'\\xfb', b'\\xfc', b'\\xfd', b'\\xfe', b'\\xff']\n"
     ]
    }
   ],
   "source": [
    "# Generate a list of all byte values\n",
    "char_list = [struct.pack(\"B\",i) for i in range(256)]\n",
    "print(char_list)"
   ]
  },
  {
   "cell_type": "code",
   "execution_count": 101,
   "metadata": {},
   "outputs": [
    {
     "name": "stdout",
     "output_type": "stream",
     "text": [
      "b'AAECAwQFBgcICQoLDA0ODxAREhMUFRYXGBkaGxwdHh8gISIjJCUmJygpKissLS4vMDEyMzQ1Njc4OTo7PD0+P0BBQkNERUZHSElKS0xNTk9QUVJTVFVWV1hZWltcXV5fYGFiY2RlZmdoaWprbG1ub3BxcnN0dXZ3eHl6e3x9fn+AgYKDhIWGh4iJiouMjY6PkJGSk5SVlpeYmZqbnJ2en6ChoqOkpaanqKmqq6ytrq+wsbKztLW2t7i5uru8vb6/wMHCw8TFxsfIycrLzM3Oz9DR0tPU1dbX2Nna29zd3t/g4eLj5OXm5+jp6uvs7e7v8PHy8/T19vf4+fr7/P3+/w=='\n"
     ]
    }
   ],
   "source": [
    "#the alphabet in base64:\n",
    "j = base64.b64encode(b''.join(char_list))\n",
    "print(j)"
   ]
  },
  {
   "cell_type": "code",
   "execution_count": 102,
   "metadata": {},
   "outputs": [
    {
     "data": {
      "text/plain": [
       "344"
      ]
     },
     "execution_count": 102,
     "metadata": {},
     "output_type": "execute_result"
    }
   ],
   "source": [
    "len(j)"
   ]
  },
  {
   "cell_type": "code",
   "execution_count": 103,
   "metadata": {},
   "outputs": [
    {
     "data": {
      "text/plain": [
       "1.34375"
      ]
     },
     "execution_count": 103,
     "metadata": {},
     "output_type": "execute_result"
    }
   ],
   "source": [
    "len(j)/len(char_list)"
   ]
  },
  {
   "cell_type": "code",
   "execution_count": 104,
   "metadata": {},
   "outputs": [
    {
     "data": {
      "text/plain": [
       "256"
      ]
     },
     "execution_count": 104,
     "metadata": {},
     "output_type": "execute_result"
    }
   ],
   "source": [
    "len(char_list)"
   ]
  },
  {
   "cell_type": "markdown",
   "metadata": {},
   "source": [
    "Note: Base64 encoded data is NOT encrypted. No additional information is needed to decode the data. There is no key."
   ]
  },
  {
   "cell_type": "markdown",
   "metadata": {},
   "source": [
    "## Crude Ciphers\n",
    "### Simple XOR encryption\n",
    "Given use an XOR operation to encrypt and decrypt."
   ]
  },
  {
   "cell_type": "code",
   "execution_count": 105,
   "metadata": {},
   "outputs": [],
   "source": [
    "plain_text =  \"Fourscore and seven years ago our fathers brought forth, on this continent, a new nation, conceived in liberty, and dedicated to the proposition that all men are created equal. Now we are engaged in a great civil war, testing whether that nation, or any nation so conceived, and so dedicated, can long endure.\""
   ]
  },
  {
   "cell_type": "code",
   "execution_count": 106,
   "metadata": {},
   "outputs": [
    {
     "data": {
      "text/plain": [
       "b'\\x05'"
      ]
     },
     "execution_count": 106,
     "metadata": {},
     "output_type": "execute_result"
    }
   ],
   "source": [
    "key = 5\n",
    "struct.pack('B',key)"
   ]
  },
  {
   "cell_type": "code",
   "execution_count": 107,
   "metadata": {},
   "outputs": [
    {
     "name": "stdout",
     "output_type": "stream",
     "text": [
      "b'Fourscore and seven years ago our fathers brought forth, on this continent, a new nation, conceived in liberty, and dedicated to the proposition that all men are created equal. Now we are engaged in a great civil war, testing whether that nation, or any nation so conceived, and so dedicated, can long endure.'\n"
     ]
    }
   ],
   "source": [
    "#convert to a bytearray\n",
    "plain_bytes = bytes(plain_text,'utf-8')\n",
    "print(plain_bytes)"
   ]
  },
  {
   "cell_type": "code",
   "execution_count": 108,
   "metadata": {},
   "outputs": [
    {
     "data": {
      "text/plain": [
       "b'Cjpwvfjw`%dka%v`s`k%|`dwv%dbj%jpw%cdqm`wv%gwjpbmq%cjwqm)%jk%qmlv%fjkqlk`kq)%d%k`r%kdqljk)%fjkf`ls`a%lk%ilg`wq|)%dka%a`alfdq`a%qj%qm`%uwjujvlqljk%qmdq%dii%h`k%dw`%fw`dq`a%`tpdi+%Kjr%r`%dw`%`kbdb`a%lk%d%bw`dq%flsli%rdw)%q`vqlkb%rm`qm`w%qmdq%kdqljk)%jw%dk|%kdqljk%vj%fjkf`ls`a)%dka%vj%a`alfdq`a)%fdk%ijkb%`kapw`+'"
      ]
     },
     "execution_count": 108,
     "metadata": {},
     "output_type": "execute_result"
    }
   ],
   "source": [
    "cipher_bytes = bytes(x ^ key for x in plain_bytes)\n",
    "cipher_bytes"
   ]
  },
  {
   "cell_type": "code",
   "execution_count": 109,
   "metadata": {},
   "outputs": [
    {
     "data": {
      "text/plain": [
       "b'Fourscore and seven years ago our fathers brought forth, on this continent, a new nation, conceived in liberty, and dedicated to the proposition that all men are created equal. Now we are engaged in a great civil war, testing whether that nation, or any nation so conceived, and so dedicated, can long endure.'"
      ]
     },
     "execution_count": 109,
     "metadata": {},
     "output_type": "execute_result"
    }
   ],
   "source": [
    "#decrypt is the same process:\n",
    "bytes(x ^ key for x in cipher_bytes)"
   ]
  },
  {
   "cell_type": "code",
   "execution_count": 110,
   "metadata": {},
   "outputs": [
    {
     "data": {
      "text/plain": [
       "32"
      ]
     },
     "execution_count": 110,
     "metadata": {},
     "output_type": "execute_result"
    }
   ],
   "source": [
    "#There are certain valid ranges for ascii text\n",
    "# The space character is the smallest\n",
    "min(plain_bytes)"
   ]
  },
  {
   "cell_type": "code",
   "execution_count": 111,
   "metadata": {},
   "outputs": [
    {
     "data": {
      "text/plain": [
       "b' '"
      ]
     },
     "execution_count": 111,
     "metadata": {},
     "output_type": "execute_result"
    }
   ],
   "source": [
    "#show the space\n",
    "struct.pack(\"B\",min(plain_bytes))"
   ]
  },
  {
   "cell_type": "code",
   "execution_count": 112,
   "metadata": {},
   "outputs": [
    {
     "name": "stdout",
     "output_type": "stream",
     "text": [
      "0\n",
      "bytearray(b'Cjpwvfjw`%dka%v`s`k%|`dwv%dbj%jpw%cdqm`wv%gwjpbmq%cjwqm)%jk%qmlv%fjkqlk`kq)%d%k`r%kdqljk)%fjkf`ls`a%lk%ilg`wq|)%dka%a`alfdq`a%qj%qm`%uwjujvlqljk%qmdq%dii%h`k%dw`%fw`dq`a%`tpdi+%Kjr%r`%dw`%`kbdb`a%lk%d%bw`dq%flsli%rdw)%q`vqlkb%rm`qm`w%qmdq%kdqljk)%jw%dk|%kdqljk%vj%fjkf`ls`a)%dka%vj%a`alfdq`a)%fdk%ijkb%`kapw`+')\n",
      "\n",
      "1\n",
      "bytearray(b'Bkqvwgkva$ej`$waraj$}aevw$eck$kqv$beplavw$fvkqclp$bkvpl($kj$plmw$gkjpmjajp($e$jas$jepmkj($gkjgamra`$mj$hmfavp}($ej`$`a`mgepa`$pk$pla$tvktkwmpmkj$plep$ehh$iaj$eva$gvaepa`$auqeh*$Jks$sa$eva$ajceca`$mj$e$cvaep$gmrmh$sev($pawpmjc$slaplav$plep$jepmkj($kv$ej}$jepmkj$wk$gkjgamra`($ej`$wk$`a`mgepa`($gej$hkjc$aj`qva*')\n",
      "\n",
      "2\n",
      "bytearray(b\"Ahrutdhub\\'fic\\'tbqbi\\'~bfut\\'f`h\\'hru\\'afsobut\\'euhr`os\\'ahuso+\\'hi\\'sont\\'dhisnibis+\\'f\\'ibp\\'ifsnhi+\\'dhidbnqbc\\'ni\\'knebus~+\\'fic\\'cbcndfsbc\\'sh\\'sob\\'wuhwhtnsnhi\\'sofs\\'fkk\\'jbi\\'fub\\'dubfsbc\\'bvrfk)\\'Ihp\\'pb\\'fub\\'bi`f`bc\\'ni\\'f\\'`ubfs\\'dnqnk\\'pfu+\\'sbtsni`\\'pobsobu\\'sofs\\'ifsnhi+\\'hu\\'fi~\\'ifsnhi\\'th\\'dhidbnqbc+\\'fic\\'th\\'cbcndfsbc+\\'dfi\\'khi`\\'bicrub)\")\n",
      "\n",
      "4\n",
      "bytearray(b'Gntsrbnsd!`oe!rdwdo!xd`sr!`fn!nts!g`uidsr!csntfiu!gnsui-!no!uihr!bnouhodou-!`!odv!o`uhno-!bnobdhwde!ho!mhcdsux-!`oe!edehb`ude!un!uid!qsnqnrhuhno!ui`u!`mm!ldo!`sd!bsd`ude!dpt`m/!Onv!vd!`sd!dof`fde!ho!`!fsd`u!bhwhm!v`s-!udruhof!viduids!ui`u!o`uhno-!ns!`ox!o`uhno!rn!bnobdhwde-!`oe!rn!edehb`ude-!b`o!mnof!doetsd/')\n",
      "\n",
      "5\n",
      "bytearray(b'Fourscore and seven years ago our fathers brought forth, on this continent, a new nation, conceived in liberty, and dedicated to the proposition that all men are created equal. Now we are engaged in a great civil war, testing whether that nation, or any nation so conceived, and so dedicated, can long endure.')\n",
      "\n",
      "6\n",
      "bytearray(b'Elvqp`lqf#bmg#pfufm#zfbqp#bdl#lvq#ebwkfqp#aqlvdkw#elqwk/#lm#wkjp#`lmwjmfmw/#b#mft#mbwjlm/#`lm`fjufg#jm#ojafqwz/#bmg#gfgj`bwfg#wl#wkf#sqlslpjwjlm#wkbw#boo#nfm#bqf#`qfbwfg#frvbo-#Mlt#tf#bqf#fmdbdfg#jm#b#dqfbw#`jujo#tbq/#wfpwjmd#tkfwkfq#wkbw#mbwjlm/#lq#bmz#mbwjlm#pl#`lm`fjufg/#bmg#pl#gfgj`bwfg/#`bm#olmd#fmgvqf-')\n",
      "\n",
      "7\n",
      "bytearray(b'Dmwpqampg\"clf\"qgtgl\"{gcpq\"cem\"mwp\"dcvjgpq\"`pmwejv\"dmpvj.\"ml\"vjkq\"amlvklglv.\"c\"lgu\"lcvkml.\"amlagktgf\"kl\"nk`gpv{.\"clf\"fgfkacvgf\"vm\"vjg\"rpmrmqkvkml\"vjcv\"cnn\"ogl\"cpg\"apgcvgf\"gswcn,\"Lmu\"ug\"cpg\"glecegf\"kl\"c\"epgcv\"aktkn\"ucp.\"vgqvkle\"ujgvjgp\"vjcv\"lcvkml.\"mp\"cl{\"lcvkml\"qm\"amlagktgf.\"clf\"qm\"fgfkacvgf.\"acl\"nmle\"glfwpg,')\n",
      "\n",
      "16\n",
      "bytearray(b'Sz`gfvzgp5t{q5fpcp{5lptgf5trz5z`g5sta}pgf5wgz`r}a5szga}95z{5a}|f5vz{a|{p{a95t5{pb5{ta|z{95vz{vp|cpq5|{5y|wpgal95t{q5qpq|vtapq5az5a}p5egzezf|a|z{5a}ta5tyy5xp{5tgp5vgptapq5pd`ty;5[zb5bp5tgp5p{rtrpq5|{5t5rgpta5v|c|y5btg95apfa|{r5b}pa}pg5a}ta5{ta|z{95zg5t{l5{ta|z{5fz5vz{vp|cpq95t{q5fz5qpq|vtapq95vt{5yz{r5p{q`gp;')\n",
      "\n",
      "17\n",
      "bytearray(b'R{afgw{fq4uzp4gqbqz4mqufg4us{4{af4ru`|qfg4vf{as|`4r{f`|84{z4`|}g4w{z`}zqz`84u4zqc4zu`}{z84w{zwq}bqp4}z4x}vqf`m84uzp4pqp}wu`qp4`{4`|q4df{d{g}`}{z4`|u`4uxx4yqz4ufq4wfqu`qp4qeaux:4Z{c4cq4ufq4qzsusqp4}z4u4sfqu`4w}b}x4cuf84`qg`}zs4c|q`|qf4`|u`4zu`}{z84{f4uzm4zu`}{z4g{4w{zwq}bqp84uzp4g{4pqp}wu`qp84wuz4x{zs4qzpafq:')\n",
      "\n",
      "26\n",
      "bytearray(b'Ypjml|pmz?~q{?lzizq?fz~ml?~xp?pjm?y~kwzml?}mpjxwk?ypmkw3?pq?kwvl?|pqkvqzqk3?~?qzh?q~kvpq3?|pq|zviz{?vq?sv}zmkf3?~q{?{z{v|~kz{?kp?kwz?ompoplvkvpq?kw~k?~ss?rzq?~mz?|mz~kz{?znj~s1?Qph?hz?~mz?zqx~xz{?vq?~?xmz~k?|vivs?h~m3?kzlkvqx?hwzkwzm?kw~k?q~kvpq3?pm?~qf?q~kvpq?lp?|pq|zviz{3?~q{?lp?{z{v|~kz{3?|~q?spqx?zq{jmz1')\n",
      "\n"
     ]
    }
   ],
   "source": [
    "# What if you don't know the key?\n",
    "for k in range(256):\n",
    "    canidate_bytes = bytearray(x ^ k for x in cipher_bytes)\n",
    "    if min(canidate_bytes) >= 32 and max(canidate_bytes) < 127: # then Ascii       \n",
    "        print(k)\n",
    "        print(canidate_bytes)\n",
    "        print()"
   ]
  },
  {
   "cell_type": "code",
   "execution_count": 113,
   "metadata": {},
   "outputs": [
    {
     "data": {
      "text/plain": [
       "b'Ktzwxhtwj%fsi%xj{js%~jfwx%flt%tzw%kfymjwx%gwtzlmy%ktwym1%ts%ymnx%htsynsjsy1%f%sj|%sfynts1%htshjn{ji%ns%qngjwy~1%fsi%ijinhfyji%yt%ymj%uwtutxnynts%ymfy%fqq%rjs%fwj%hwjfyji%jvzfq3%St|%|j%fwj%jslflji%ns%f%lwjfy%hn{nq%|fw1%yjxynsl%|mjymjw%ymfy%sfynts1%tw%fs~%sfynts%xt%htshjn{ji1%fsi%xt%ijinhfyji1%hfs%qtsl%jsizwj3'"
      ]
     },
     "execution_count": 113,
     "metadata": {},
     "output_type": "execute_result"
    }
   ],
   "source": [
    "# A Ceasar Shift Cipher\n",
    "shifted_text = bytes((x + key) for x in plain_bytes)\n",
    "shifted_text"
   ]
  },
  {
   "cell_type": "code",
   "execution_count": 114,
   "metadata": {},
   "outputs": [
    {
     "data": {
      "text/plain": [
       "b'Fourscore and seven years ago our fathers brought forth, on this continent, a new nation, conceived in liberty, and dedicated to the proposition that all men are created equal. Now we are engaged in a great civil war, testing whether that nation, or any nation so conceived, and so dedicated, can long endure.'"
      ]
     },
     "execution_count": 114,
     "metadata": {},
     "output_type": "execute_result"
    }
   ],
   "source": [
    "# A Ceasar Shift Cipher decipher\n",
    "bytes((x - key) for x in shifted_text)"
   ]
  },
  {
   "cell_type": "code",
   "execution_count": 115,
   "metadata": {},
   "outputs": [
    {
     "name": "stdout",
     "output_type": "stream",
     "text": [
      "37\n",
      "32\n",
      "5\n"
     ]
    }
   ],
   "source": [
    "#Compute the key based on frequency\n",
    "#spaces are frequent, so\n",
    "space_guess = ord('%')\n",
    "print(space_guess)\n",
    "space = ord(' ')\n",
    "print(space)\n",
    "key_guess = space_guess - space\n",
    "print(key_guess)"
   ]
  },
  {
   "cell_type": "code",
   "execution_count": 116,
   "metadata": {},
   "outputs": [
    {
     "data": {
      "text/plain": [
       "'nNopqrm'"
      ]
     },
     "execution_count": 116,
     "metadata": {},
     "output_type": "execute_result"
    }
   ],
   "source": [
    "# A classic ceaser shift cipher with a shift of 13 (half the alphabet)\n",
    "import codecs\n",
    "codecs.encode('aAbcdez', 'rot13',)"
   ]
  },
  {
   "cell_type": "markdown",
   "metadata": {},
   "source": [
    "#### Examine different character encodings"
   ]
  },
  {
   "cell_type": "code",
   "execution_count": 117,
   "metadata": {},
   "outputs": [
    {
     "data": {
      "text/plain": [
       "'\\x00 \\x01 \\x02 \\x03 \\x04 \\x05 \\x06 \\x07 \\x08 \\t \\n \\x0b \\x0c \\r \\x0e \\x0f \\x10 \\x11 \\x12 \\x13 \\x14 \\x15 \\x16 \\x17 \\x18 \\x19 \\x1a \\x1b \\x1c \\x1d \\x1e \\x1f   ! \" # $ % & \\' ( ) * + , - . / 0 1 2 3 4 5 6 7 8 9 : ; < = > ? @ A B C D E F G H I J K L M N O P Q R S T U V W X Y Z [ \\\\ ] ^ _ ` a b c d e f g h i j k l m n o p q r s t u v w x y z { | } ~ \\x7f                                                                                                                               '"
      ]
     },
     "execution_count": 117,
     "metadata": {},
     "output_type": "execute_result"
    }
   ],
   "source": [
    "#UTF-8\n",
    "\" \".join([struct.pack('B',x).decode('utf-8','ignore') for x in range(0xff)])"
   ]
  },
  {
   "cell_type": "code",
   "execution_count": 118,
   "metadata": {},
   "outputs": [
    {
     "data": {
      "text/plain": [
       "'\\x00 \\x01 \\x02 \\x03 \\x04 \\x05 \\x06 \\x07 \\x08 \\t \\n \\x0b \\x0c \\r \\x0e \\x0f \\x10 \\x11 \\x12 \\x13 \\x14 \\x15 \\x16 \\x17 \\x18 \\x19 \\x1a \\x1b \\x1c \\x1d \\x1e \\x1f   ! \" # $ % & \\' ( ) * + , - . / 0 1 2 3 4 5 6 7 8 9 : ; < = > ? @ A B C D E F G H I J K L M N O P Q R S T U V W X Y Z [ \\\\ ] ^ _ ` a b c d e f g h i j k l m n o p q r s t u v w x y z { | } ~ \\x7f \\x80 \\x81 \\x82 \\x83 \\x84 \\x85 \\x86 \\x87 \\x88 \\x89 \\x8a \\x8b \\x8c \\x8d \\x8e \\x8f \\x90 \\x91 \\x92 \\x93 \\x94 \\x95 \\x96 \\x97 \\x98 \\x99 \\x9a \\x9b \\x9c \\x9d \\x9e \\x9f \\xa0 ¡ ¢ £ ¤ ¥ ¦ § ¨ © ª « ¬ \\xad ® ¯ ° ± ² ³ ´ µ ¶ · ¸ ¹ º » ¼ ½ ¾ ¿ À Á Â Ã Ä Å Æ Ç È É Ê Ë Ì Í Î Ï Ð Ñ Ò Ó Ô Õ Ö × Ø Ù Ú Û Ü Ý Þ ß à á â ã ä å æ ç è é ê ë ì í î ï ð ñ ò ó ô õ ö ÷ ø ù ú û ü ý þ'"
      ]
     },
     "execution_count": 118,
     "metadata": {},
     "output_type": "execute_result"
    }
   ],
   "source": [
    "#Latin-1\n",
    "\" \".join([struct.pack('B',x).decode('latin-1','ignore') for x in range(0xff)])"
   ]
  },
  {
   "cell_type": "code",
   "execution_count": 119,
   "metadata": {},
   "outputs": [
    {
     "data": {
      "text/plain": [
       "['\\x00 \\x01 \\x02 \\x03 \\x04 \\x05 \\x06 \\x07 \\x08 \\t \\n \\x0b \\x0c \\r \\x0e \\x0f \\x10 \\x11 \\x12 \\x13 \\x14 \\x15 \\x16 \\x17 \\x18 \\x19 \\x1a \\x1b \\x1c \\x1d \\x1e \\x1f   ! \" # $ % & \\' ( ) * + , - . / 0 1 2 3 4 5 6 7 8 9 : ; < = > ? @ A B C D E F G H I J K L M N O P Q R S T U V W X Y Z [ \\\\ ] ^ _ ` a b c d e f g h i j k l m n o p q r s t u v w x y z { | } ~ \\x7f \\x80 \\x81 \\x82 \\x83 \\x84 \\x85 \\x86 \\x87 \\x88 \\x89 \\x8a \\x8b \\x8c \\x8d \\x8e \\x8f \\x90 \\x91 \\x92 \\x93 \\x94 \\x95 \\x96 \\x97 \\x98 \\x99 \\x9a \\x9b \\x9c \\x9d \\x9e \\x9f \\xa0 ‘ ’ £ € ₯ ¦ § ¨ © ͺ « ¬ \\xad  ― ° ± ² ³ ΄ ΅ Ά · Έ Ή Ί » Ό ½ Ύ Ώ ΐ Α Β Γ Δ Ε Ζ Η Θ Ι Κ Λ Μ Ν Ξ Ο Π Ρ  Σ Τ Υ Φ Χ Ψ Ω Ϊ Ϋ ά έ ή ί ΰ α β γ δ ε ζ η θ ι κ λ μ ν ξ ο π ρ ς σ τ υ φ χ ψ ω ϊ ϋ ό ύ ώ']"
      ]
     },
     "execution_count": 119,
     "metadata": {},
     "output_type": "execute_result"
    }
   ],
   "source": [
    "[\" \".join([struct.pack('B',x).decode('greek','ignore') for x in range(0xff)])]"
   ]
  },
  {
   "cell_type": "markdown",
   "metadata": {},
   "source": [
    "## Concluding Remarks\n",
    "* You should see and appreciate the different ways binary data can be encoded. \n",
    "* Communications rely heavily on common codecs. \n",
    "* Encoding is not encrypting."
   ]
  }
 ],
 "metadata": {
  "kernelspec": {
   "display_name": "Python 3",
   "language": "python",
   "name": "python3"
  },
  "language_info": {
   "codemirror_mode": {
    "name": "ipython",
    "version": 3
   },
   "file_extension": ".py",
   "mimetype": "text/x-python",
   "name": "python",
   "nbconvert_exporter": "python",
   "pygments_lexer": "ipython3",
   "version": "3.11.9"
  },
  "latex_envs": {
   "LaTeX_envs_menu_present": true,
   "autoclose": false,
   "autocomplete": true,
   "bibliofile": "biblio.bib",
   "cite_by": "apalike",
   "current_citInitial": 1,
   "eqLabelWithNumbers": true,
   "eqNumInitial": 1,
   "hotkeys": {
    "equation": "Ctrl-E",
    "itemize": "Ctrl-I"
   },
   "labels_anchors": false,
   "latex_user_defs": false,
   "report_style_numbering": false,
   "user_envs_cfg": false
  }
 },
 "nbformat": 4,
 "nbformat_minor": 2
}
