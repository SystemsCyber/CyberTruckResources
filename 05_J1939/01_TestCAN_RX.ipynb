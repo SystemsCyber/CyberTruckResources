{
 "cells": [
  {
   "cell_type": "markdown",
   "metadata": {},
   "source": [
    "# <center> Test Receive CAN\n",
    "## <center><img src=\"https://www.engr.colostate.edu/~jdaily/Systems-EN-CSU-1-C357.svg\" width=\"400\" />\n",
    "### <center> Instructor: Dr. Jeremy Daily"
   ]
  },
  {
   "cell_type": "markdown",
   "metadata": {},
   "source": [
    "## Prerequisites\n",
    "Login tip: Send a keepalive signal every 60 seconds from the connection menu of PuTTy.\n",
    "\n",
    "This notebook must be run on a Linux machine with SocketCAN enabled.\n",
    "```\n",
    "sudo ip link add type vcan \n",
    "```\n",
    "\n",
    "If you are running from PuTTy through Windows, then be sure to start the Jupyter server with the following commands on the Beagle Bone Black connected by USB:\n",
    "```\n",
    "jupyter notebook --ip 192.168.7.2 --no-browser\n",
    "```\n",
    "Once these commands are successful, there will be a tokenized URL to paste into your browser. Note: this is not a secure connection, so be sure you are behind a firewall or on a private connection.\n",
    "\n",
    "\n",
    "Be sure can-utils is installed:\n",
    "```\n",
    "sudo apt install can-utils\n",
    "```\n",
    "\n",
    "Here is a CAN trace to examine:\n",
    "\n",
    "https://www.engr.colostate.edu/~jdaily/J1939/files/candump_DDEC_key_off-on_engine_running_request_on.txt\n",
    "\n",
    "Let's add the CAN trace to the home directory:\n",
    "\n",
    "```\n",
    "wget https://www.engr.colostate.edu/~jdaily/J1939/files/candump_DDEC_key_off-on_engine_running_request_on.txt\n",
    "```\n",
    "\n",
    "Add a virtual can interface:\n",
    "\n",
    "```\n",
    "sudo ip link add dev vcan1 type vcan\n",
    "sudo ip link set vcan1 up\n",
    "```\n",
    "\n",
    "Set canplayer to play an infinite loop of the CAN log in the background. Once this is going, you can logout of the machine and the vcan1 interface will still have data.\n",
    "\n",
    "```\n",
    "canplayer -l i -I candump_DDEC_key_off-on_engine_running_request_on.txt vcan1=can1 &\n",
    "```\n",
    "\n",
    "Ideally, the canplayer command will be run from a screen that can be detached from an SSH session. "
   ]
  },
  {
   "cell_type": "code",
   "execution_count": 1,
   "metadata": {},
   "outputs": [
    {
     "name": "stdout",
     "output_type": "stream",
     "text": [
      "file already exists.\n"
     ]
    }
   ],
   "source": [
    "# Check to see if there is a file to replay CAN traffic from\n",
    "# \n",
    "import os\n",
    "if not os.path.exists('candump_kw_drive.txt'):\n",
    "    try:\n",
    "        os.system('wget https://www.engr.colostate.edu/~jdaily/J1939/files/candump_kw_drive.zip')\n",
    "        os.system('unzip candump_kw_drive.zip')\n",
    "        print(\"Downloaded and unzipped file\")\n",
    "    except Exception as e:\n",
    "        print(\"There was an exeception: \", e)\n",
    "else:\n",
    "    print(\"file already exists.\")"
   ]
  },
  {
   "cell_type": "code",
   "execution_count": 2,
   "metadata": {},
   "outputs": [],
   "source": [
    "# Build a little checker to see if the canplayer is set\n",
    "# Uncomment the following line if psutil is not available.\n",
    "#%pip install psutil\n",
    "import psutil\n",
    "def check_canplayer(file):\n",
    "    for p in psutil.process_iter():\n",
    "        if \"canplayer\" in p.name():\n",
    "            if file in p.cmdline():\n",
    "                return True\n",
    "    return False"
   ]
  },
  {
   "cell_type": "code",
   "execution_count": 4,
   "metadata": {},
   "outputs": [
    {
     "name": "stdout",
     "output_type": "stream",
     "text": [
      "started canplayer\n"
     ]
    }
   ],
   "source": [
    "# Start the canplayer if it's not running.\n",
    "# This must be running on a Linux program\n",
    "import subprocess\n",
    "if not check_canplayer('candump_kw_drive.txt'):\n",
    "    subprocess.Popen([\"canplayer\",\"-l\", \"i\",\"-I\",\"candump_kw_drive.txt\",\"vcan0=can1\"], shell=True)\n",
    "    #os.system('canplayer -l i -I candump_kw_drive.txt vcan0=can1 &')\n",
    "    print(\"started canplayer\")\n",
    "else: \n",
    "    print(\"canplayer already running\")"
   ]
  },
  {
   "cell_type": "markdown",
   "metadata": {},
   "source": [
    "## Reference Material\n",
    "from https://www.kernel.org/doc/html/latest/networking/can.html#the-virtual-can-driver-vcan \n",
    "```\n",
    "struct can_frame {\n",
    "        canid_t can_id;  /* 32 bit CAN_ID + EFF/RTR/ERR flags */\n",
    "        __u8    can_dlc; /* frame payload length in byte (0 .. 8) */\n",
    "        __u8    __pad;   /* padding */\n",
    "        __u8    __res0;  /* reserved / padding */\n",
    "        __u8    __res1;  /* reserved / padding */\n",
    "        __u8    data[8] __attribute__((aligned(8)));\n",
    "};\n",
    "```\n",
    "\n",
    "Copy and modify the code from here to injest CAN data.\n",
    "https://www.engr.colostate.edu/~jdaily/J1939/tools.html\n",
    "\n"
   ]
  },
  {
   "cell_type": "code",
   "execution_count": null,
   "metadata": {},
   "outputs": [],
   "source": [
    "#!/usr/bin/python3\n",
    "import socket\n",
    "import struct\n",
    "import time\n",
    "\n",
    "# Open a socket and bind to it from SocketCAN\n",
    "sock = socket.socket(socket.PF_CAN, socket.SOCK_RAW, socket.CAN_RAW)\n",
    "interface = \"vcan0\"\n",
    "\n",
    "# Bind to the interface\n",
    "sock.bind((interface,))\n",
    "\n",
    "# To match this data structure, the following struct format can be used:\n",
    "can_frame_format = \"<lB3x8s\"\n",
    "\n",
    "# Write date to a local log file.\n",
    "with open(\"candump_python.log\", 'w') as outfile:\n",
    "    for i in range(125):\n",
    "        can_packet = sock.recv(16)\n",
    "        can_id, can_dlc, can_data = struct.unpack(can_frame_format, can_packet)\n",
    "        extended_frame = bool(can_id & socket.CAN_EFF_FLAG)\n",
    "        if extended_frame:\n",
    "            can_id &= socket.CAN_EFF_MASK\n",
    "            can_id_string = \"{:08X}\".format(can_id)\n",
    "        else: #Standard Frame\n",
    "            can_id &= socket.CAN_SFF_MASK\n",
    "            can_id_string = \"{:03X}\".format(can_id)\n",
    "        hex_data_string = ' '.join([\"{:02X}\".format(b) for b in can_data[:can_dlc]])\n",
    "        print(\"{} {} [{}] {}\".format(interface, can_id_string, can_dlc, hex_data_string))\n",
    "        outfile.write(\"({:12.6f}) {} {}#{}\\n\".format(time.time(),\n",
    "                                                     interface, \n",
    "                                                     can_id_string, \n",
    "                                                     hex_data_string.replace(\" \",\"\")))"
   ]
  },
  {
   "cell_type": "markdown",
   "metadata": {},
   "source": [
    "The messages shown above should change based on where we are in the drive cycle. If there is no output and the indicator says In \\[*], then can socket is blocking because there is no data. "
   ]
  },
  {
   "cell_type": "code",
   "execution_count": null,
   "metadata": {},
   "outputs": [],
   "source": []
  }
 ],
 "metadata": {
  "kernelspec": {
   "display_name": "Python 3 (ipykernel)",
   "language": "python",
   "name": "python3"
  },
  "language_info": {
   "codemirror_mode": {
    "name": "ipython",
    "version": 3
   },
   "file_extension": ".py",
   "mimetype": "text/x-python",
   "name": "python",
   "nbconvert_exporter": "python",
   "pygments_lexer": "ipython3",
   "version": "3.12.7"
  },
  "latex_envs": {
   "LaTeX_envs_menu_present": true,
   "autoclose": false,
   "autocomplete": true,
   "bibliofile": "biblio.bib",
   "cite_by": "apalike",
   "current_citInitial": 1,
   "eqLabelWithNumbers": true,
   "eqNumInitial": 1,
   "hotkeys": {
    "equation": "Ctrl-E",
    "itemize": "Ctrl-I"
   },
   "labels_anchors": false,
   "latex_user_defs": false,
   "report_style_numbering": false,
   "user_envs_cfg": false
  }
 },
 "nbformat": 4,
 "nbformat_minor": 4
}
