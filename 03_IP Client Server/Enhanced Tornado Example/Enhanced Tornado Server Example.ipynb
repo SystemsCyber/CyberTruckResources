{
 "cells": [
  {
   "cell_type": "markdown",
   "metadata": {},
   "source": [
    "# <center> Enhanced Tornado Server Example\n",
    "## <center> <img src=\"https://www.engr.colostate.edu/~jdaily/Systems-EN-CSU-1-C357.svg\" width=\"400\" /> "
   ]
  },
  {
   "cell_type": "markdown",
   "metadata": {},
   "source": [
    "This notebook is slightly different in each block is a complete server. They run asyncronously, which means only 1 block can run at a time. To run another block, the Python Kernel must be shut down. Therefore, the notebook displays the bad practice of copy and pasted code."
   ]
  },
  {
   "cell_type": "markdown",
   "metadata": {},
   "source": [
    "Start wireshark & listen on port 9100 (optionally view filter 'http' protocol) to watch traffic."
   ]
  },
  {
   "cell_type": "code",
   "execution_count": 2,
   "metadata": {},
   "outputs": [],
   "source": [
    "import tornado.ioloop\n",
    "import tornado.web\n",
    "import time\n",
    "import json\n",
    "import os\n",
    "import base64\n",
    "import logging"
   ]
  },
  {
   "cell_type": "markdown",
   "metadata": {},
   "source": [
    "# SimpleClient\n",
    "Basic functionality -- accept a POST request, and return the original \"cipher_text\" (which is not encrypted) as \"plaintext\""
   ]
  },
  {
   "cell_type": "code",
   "execution_count": 3,
   "metadata": {},
   "outputs": [],
   "source": [
    "# No encryption\n",
    "\n",
    "class MainHandler(tornado.web.RequestHandler):\n",
    "    def get(self):\n",
    "        self.write(\n",
    "            {'message': \"The current time is {}\".format(time.asctime())}\n",
    "        )\n",
    "\n",
    "    def post(self):\n",
    "        data = json.loads(self.request.body.decode('utf-8'))\n",
    "        self.write({'original_text': data['cipher_text'], 'plaintext': data['cipher_text']})\n"
   ]
  },
  {
   "cell_type": "markdown",
   "metadata": {},
   "source": [
    "# SymmetricKeyClient\n",
    "Server will respond to a GET request with a symmetric key.  Client then uses this key to encrypt\n",
    "a message and POST it to the server.  Server decrypts the message with the symmetric key and returns\n",
    "cipher_text and plaintext back to the client.\n",
    "\n",
    "**VERY BAD PRACTICE** as symmetric key can be snooped.  No security here at all."
   ]
  },
  {
   "cell_type": "code",
   "execution_count": 4,
   "metadata": {},
   "outputs": [],
   "source": [
    "# Symmetric encryption with key exchange via GET.  Bad practice -- don't do this!\n",
    "\n",
    "from cryptography.fernet import Fernet\n",
    "SYMMETRIC_KEY = Fernet.generate_key()\n",
    "f = Fernet(SYMMETRIC_KEY)\n",
    "\n",
    "class EncryptedHandler(tornado.web.RequestHandler):\n",
    "    def get(self):\n",
    "        #Write the key data out\n",
    "        # Don't ever do this. It is bad. You'll expose the key!\n",
    "        self.write({'key': SYMMETRIC_KEY.decode('utf-8')})\n",
    "\n",
    "    def post(self):\n",
    "        data = json.loads(self.request.body.decode('utf-8'))\n",
    "        logging.debug(f'Got JSON data: {data}')\n",
    "        cipher_text = data['cipher_text']\n",
    "        f = Fernet(SYMMETRIC_KEY)\n",
    "        plaintext = f.decrypt(cipher_text.encode('utf-8')).decode('utf-8')\n",
    "        self.write({'ciphertext': cipher_text, 'plaintext': plaintext})"
   ]
  },
  {
   "cell_type": "markdown",
   "metadata": {},
   "source": [
    "# PublicKeyClient\n",
    "Server responds to a GET request with its public key.  Client then uses this public key to encrypt a message.  Server uses its private key to decrypt, returning both the original cipher_text and the decrypted plaintext.\n",
    "\n",
    "This is reasonable practice, as only the server knows its private key, and thus only the server can decrypt, so message privace is maintained.  It is subject to impersonation of the client, though...\n",
    "\n",
    "It is also potentially slow, as asymmetric encryption is significantly slower than symmetric encryption."
   ]
  },
  {
   "cell_type": "code",
   "execution_count": 5,
   "metadata": {},
   "outputs": [],
   "source": [
    "# Asymmetric encryption with the server's public key, which is queried in \n",
    "# the initial GET.  This provides message privacy in a reasonable way.\n",
    "\n",
    "from cryptography.hazmat.backends import default_backend\n",
    "from cryptography.hazmat.primitives.asymmetric import rsa\n",
    "from cryptography.hazmat.primitives import serialization\n",
    "\n",
    "from cryptography.hazmat.primitives import hashes\n",
    "from cryptography.hazmat.primitives.asymmetric import padding\n",
    "\n",
    "PRIVATE_KEY = rsa.generate_private_key(\n",
    "    public_exponent=65537,\n",
    "    key_size=2048,\n",
    "    backend=default_backend()\n",
    ")\n",
    "PUBLIC_KEY = PRIVATE_KEY.public_key()\n",
    "\n",
    "class ServerPublicKeyHandler(tornado.web.RequestHandler):\n",
    "\n",
    "    def get(self):\n",
    "        # provide the public key.  This is not bad...  \n",
    "        # It is, after all, the public key\n",
    "        pem = PUBLIC_KEY.public_bytes(\n",
    "            encoding=serialization.Encoding.PEM,\n",
    "            format=serialization.PublicFormat.SubjectPublicKeyInfo\n",
    "        )\n",
    "        self.write({'publicKey': pem.decode('ASCII')})\n",
    "\n",
    "    def post(self):\n",
    "        data = json.loads(self.request.body.decode('utf-8'))\n",
    "        cyphertext = data['cipher_text']\n",
    "        logging.debug(f\"Cyphertext: {cyphertext}\")\n",
    "        cypherbytes = base64.b64decode(cyphertext)\n",
    "        logging.debug(f\"Cypherbytes: {cypherbytes}\")\n",
    "\n",
    "        try:\n",
    "            plaintext = PRIVATE_KEY.decrypt(\n",
    "                cypherbytes,\n",
    "                padding.OAEP(\n",
    "                    mgf=padding.MGF1(algorithm=hashes.SHA256()),\n",
    "                    algorithm=hashes.SHA256(),\n",
    "                    label=None\n",
    "                )\n",
    "            )\n",
    "        except ValueError as e:\n",
    "            logging.warning(f\"Value Error: {e}\")\n",
    "            plaintext = None\n",
    "        self.write({'original_text': data['cipher_text'], \n",
    "                    'plaintext': plaintext.decode('utf-8')})"
   ]
  },
  {
   "cell_type": "markdown",
   "metadata": {},
   "source": [
    "# KeyExchangeClient\n",
    "Client sends its public key as a URL argument in the GET.  Server replies to the get by encrypting a symmetric key with the client public key.  Client uses its private key to decrypt the symmetric key, and sends subsequent messages encryped with the symmetric key.\n",
    "\n",
    "Much faster than using asymmetric encryption for the entire conversation.\n",
    "\n",
    "Still subject to impersonation -- this time on the server side.  Can be cracked by a Person-in-the-middle (PITM) attack."
   ]
  },
  {
   "cell_type": "code",
   "execution_count": 6,
   "metadata": {},
   "outputs": [],
   "source": [
    "# Transfer a symmetric key -- kinda like the first example.  But this example\n",
    "# uses the client's public key to encrypt the symmetric key, so it is safe from snooping.\n",
    "\n",
    "class ServerPublicKeyExchangeHandler(tornado.web.RequestHandler):\n",
    "\n",
    "    def get(self):\n",
    "        encodedClientPublicKey = self.request.query_arguments['client_publicKey'][0]\n",
    "        clientPublicKeyBytes = base64.b64decode(encodedClientPublicKey)\n",
    "        clientPublicKey = serialization.load_der_public_key(clientPublicKeyBytes, backend=default_backend())\n",
    "        # provide the symmetric key, but encrypt it with the client public key \n",
    "        # to keep it secret\n",
    "        logging.debug(f\"Symmetric key: {SYMMETRIC_KEY}\")\n",
    "        encryptedSymmetricKey = clientPublicKey.encrypt(SYMMETRIC_KEY,\n",
    "                                                        padding.OAEP(\n",
    "                                                            mgf=padding.MGF1(algorithm=hashes.SHA256()),\n",
    "                                                            algorithm=hashes.SHA256(),\n",
    "                                                            label=None)\n",
    "                                                        )\n",
    "        encodedEncryptedSymmetricKey = base64.b64encode(encryptedSymmetricKey).decode('utf-8')\n",
    "        self.write({'encodedEncryptedSymmetricKey': encodedEncryptedSymmetricKey})\n",
    "\n",
    "    def post(self):\n",
    "        data = json.loads(self.request.body.decode('utf-8'))\n",
    "        cyphertext = data['cipher_text']\n",
    "        logging.debug(f\"Cyphertext: {cyphertext}\")\n",
    "        cypherbytes = base64.b64decode(cyphertext)\n",
    "        logging.debug(f\"Cypherbytes: {cypherbytes}\")\n",
    "\n",
    "        try:\n",
    "            plaintext = PRIVATE_KEY.decrypt(\n",
    "                cypherbytes,\n",
    "                padding.OAEP(\n",
    "                    mgf=padding.MGF1(algorithm=hashes.SHA256()),\n",
    "                    algorithm=hashes.SHA256(),\n",
    "                    label=None\n",
    "                )\n",
    "            )\n",
    "        except ValueError as e:\n",
    "            logging.warning(f\"Value Error: {e}\")\n",
    "            plaintext = None\n",
    "        self.write({'original_text': data['cipher_text'], 'plaintext': plaintext.decode('utf-8')})"
   ]
  },
  {
   "cell_type": "code",
   "execution_count": 7,
   "metadata": {},
   "outputs": [
    {
     "name": "stdout",
     "output_type": "stream",
     "text": [
      "Listening on port 9100\n"
     ]
    },
    {
     "name": "stderr",
     "output_type": "stream",
     "text": [
      "INFO:tornado.access:200 POST / (127.0.0.1) 1.00ms\n",
      "INFO:tornado.access:200 GET /encrypted/ (::1) 0.00ms\n",
      "DEBUG:root:Got JSON data: {'cipher_text': 'gAAAAABoEp6ihIRnm5PnnfQp62ZJ_GT2HA7sjORdHvZfFG5vqDhkgzQC4u9s0Pq1cGzGxHDfmSZl8ioxATnlgryNrmxsCCk0o6xTNdyMud90tInSGxcVyXO7WYRtDrUiD_qmoLIND1z3JaoPLlypWv2fMg8TNiBTjNGlFxXUSkTe6d6pw0US78b0hBLEooBxjAIaM8SABdNMopbXBjiewC0iAT58QiCpuMjVwD1B4CgIn0KpiX9P2AAx8oDYEo54bulh6eDI7arGueMoMK9yXZlCv5ZPJ4BpSajiqzxUi8Lg-gX9ozTSuPA='}\n",
      "INFO:tornado.access:200 POST /encrypted/ (::1) 1.00ms\n",
      "INFO:tornado.access:200 GET /serverPublicKey/ (127.0.0.1) 1.00ms\n",
      "DEBUG:root:Cyphertext: EOWAJ4ui5qzh99i+aoEQ022vbDRbbHfGtTVSJon0YLybqDF7fVka4iwrI7emHYfPOU6MjHIAj0h8BaKLl2g7iWOjxdTHXzz9ukhgnel9d/irNnzoEgND8/dMiGwCPUeNSwAlWtf9GPAJT5NbDHxA4cjoBKmNB2+OLJnMs0xr1sRj2gTNLYJF49CHAdJnysbYjCpTv5X+2OO2tQRY1tJeXB9zzN/QRC6eJfgM2VeIAdsIzEc4BeBx+OHlmLzDXuK71TSWQjFrkTFrXerMNQWmv5AIPpabkqLWJOJmvER2Mt3CbCmM34BXYPuR3QyF9SCY9b/ogJPKAKN+6hsN5XfbAA==\n",
      "DEBUG:root:Cypherbytes: b\"\\x10\\xe5\\x80'\\x8b\\xa2\\xe6\\xac\\xe1\\xf7\\xd8\\xbej\\x81\\x10\\xd3m\\xafl4[lw\\xc6\\xb55R&\\x89\\xf4`\\xbc\\x9b\\xa81{}Y\\x1a\\xe2,+#\\xb7\\xa6\\x1d\\x87\\xcf9N\\x8c\\x8cr\\x00\\x8fH|\\x05\\xa2\\x8b\\x97h;\\x89c\\xa3\\xc5\\xd4\\xc7_<\\xfd\\xbaH`\\x9d\\xe9}w\\xf8\\xab6|\\xe8\\x12\\x03C\\xf3\\xf7L\\x88l\\x02=G\\x8dK\\x00%Z\\xd7\\xfd\\x18\\xf0\\tO\\x93[\\x0c|@\\xe1\\xc8\\xe8\\x04\\xa9\\x8d\\x07o\\x8e,\\x99\\xcc\\xb3Lk\\xd6\\xc4c\\xda\\x04\\xcd-\\x82E\\xe3\\xd0\\x87\\x01\\xd2g\\xca\\xc6\\xd8\\x8c*S\\xbf\\x95\\xfe\\xd8\\xe3\\xb6\\xb5\\x04X\\xd6\\xd2^\\\\\\x1fs\\xcc\\xdf\\xd0D.\\x9e%\\xf8\\x0c\\xd9W\\x88\\x01\\xdb\\x08\\xccG8\\x05\\xe0q\\xf8\\xe1\\xe5\\x98\\xbc\\xc3^\\xe2\\xbb\\xd54\\x96B1k\\x911k]\\xea\\xcc5\\x05\\xa6\\xbf\\x90\\x08>\\x96\\x9b\\x92\\xa2\\xd6$\\xe2f\\xbcDv2\\xdd\\xc2l)\\x8c\\xdf\\x80W`\\xfb\\x91\\xdd\\x0c\\x85\\xf5 \\x98\\xf5\\xbf\\xe8\\x80\\x93\\xca\\x00\\xa3~\\xea\\x1b\\r\\xe5w\\xdb\\x00\"\n",
      "INFO:tornado.access:200 POST /serverPublicKey/ (127.0.0.1) 3.00ms\n",
      "DEBUG:root:Symmetric key: b'lfXQ7to6aQHAdAVG30AlQlTyYdvDissj6Z2aZb9KRqg='\n",
      "INFO:tornado.access:200 GET /serverPublicKeySymmetricKeyExchange/?client_publicKey=MIIBIjANBgkqhkiG9w0BAQEFAAOCAQ8AMIIBCgKCAQEA0Lx0L2WeHKyG9NiLf6eXFXG1kCGjYO4YhjNAE9F1avPLhg4poD%2BgaFSCNCm4iiTq36yaHbBHH9vnxyDUGHYFfDh9DSMUsn18kUjDuvwi%2FAWiT5afFQfZAaU50ZN1V6g3xik3UwW%2F1zzNa9KYx69snDejYFr3XzzI3KrICAfLja095h6RwZUybc9WnHHlfJS6Nj91V60KcT5ETuwzFRMcGk2dbhJncdqOkMohamRz4S81SsAzs10omJny1YtKS8GU5RahD9Y4RgFv4w8Bdw2gj%2FfXvP3bRIk8YlF1I0Yzm9AtzcmrlreaKxMim7ICW2An%2Bci6KmQLLRXSL7UPzhJtYQIDAQAB (::1) 1.00ms\n",
      "DEBUG:root:Got JSON data: {'cipher_text': 'gAAAAABoEp6rYs2s5op2rGVmDXMrfzYMCS-7tCpw9vX-AqY_zMERr2jcEUD3RwNanfQJiL7wIuE2YsyWYNXVETJynYhnMnfNrAywCfs7y7mR0sHeBl3F5oS4MI87cHMr-3R1RBLOBHKqwskEybh2gbKZ-fzlYzhxaTwymbHWVeBfymI_PBn4uUytBolPepw1f9QuQ2gfCq6N0lM054O_AWy6ykNkBeifElqs-yxw-kVdC3aRaZonEHCOJPJubebSDe9JR9YA72kBtpYR8OiqU1SnwyAGceMWOgpgznNbxuKuLKOJsJ6z7NM='}\n",
      "INFO:tornado.access:200 POST /encrypted/ (::1) 1.00ms\n",
      "DEBUG:root:Symmetric key: b'lfXQ7to6aQHAdAVG30AlQlTyYdvDissj6Z2aZb9KRqg='\n",
      "INFO:tornado.access:200 GET /serverPublicKeySymmetricKeyExchange/?client_publicKey=MIIBIjANBgkqhkiG9w0BAQEFAAOCAQ8AMIIBCgKCAQEAsR0no7f8mATyKDOPjRDNrRgm7syG6SAy%2FFliAaJIt26AWwWAtYk8oxiONhAx81agMHFkHak2OHI%2FXpIiUuIpV5RTEjoowRPKbSiSNAITXsjrcl20e4JLge1ypRieA4Dypv4bN39x%2FEyfAmfNUfkR1AssmqHgdSQQNNIfTLM67MpQFXcwIui5K2fLUihVJh87ZrpnzevLKd1tWnRoNsFVBt%2BYi2bzfVVN1rOBASnEmJTPY2ltq1VdCTX%2BbydfKhZiicYBtO8HCpLTDYeEZnDpYVHYuALlQTB68fieVvypOXAnz4qf19XMiaNoKqRcFJXJyDZCM57g3m92%2B8wjNcD7kwIDAQAB (::1) 10.01ms\n",
      "DEBUG:root:Got JSON data: {'cipher_text': 'gAAAAABoEp60GbENgn4kLMhqN4x9DcqpqrZVRgIxSh3guFBdj5H-dnGyuJeiYXNIJGEWnP9muV2pw7LhBenYo9fHxRKNS_KawvHwvZxCDua4go7f8SGTGPA='}\n",
      "INFO:tornado.access:200 POST /encrypted/ (::1) 1.00ms\n"
     ]
    }
   ],
   "source": [
    "try:\n",
    "    logging.basicConfig(level=logging.DEBUG)\n",
    "    port = 9100\n",
    "    app = tornado.web.Application([\n",
    "        (r\"/\", MainHandler),\n",
    "        (r\"/encrypted/\", EncryptedHandler),\n",
    "        (r\"/serverPublicKey/\", ServerPublicKeyHandler),\n",
    "        (r\"/serverPublicKeySymmetricKeyExchange/\", ServerPublicKeyExchangeHandler)\n",
    "       ], debug = True) #turn off debugging for production\n",
    "\n",
    "    app.listen(port)\n",
    "    print(\"Listening on port {}\".format(port))\n",
    "    # tornado.ioloop.IOLoop.current().start()\n",
    "    #Restart Kernel to stop\n",
    "except OSError:\n",
    "    os._exit(00)\n",
    "    #Be sure to run all"
   ]
  },
  {
   "cell_type": "code",
   "execution_count": null,
   "metadata": {},
   "outputs": [],
   "source": []
  }
 ],
 "metadata": {
  "kernelspec": {
   "display_name": "Python 3 (ipykernel)",
   "language": "python",
   "name": "python3"
  },
  "language_info": {
   "codemirror_mode": {
    "name": "ipython",
    "version": 3
   },
   "file_extension": ".py",
   "mimetype": "text/x-python",
   "name": "python",
   "nbconvert_exporter": "python",
   "pygments_lexer": "ipython3",
   "version": "3.12.7"
  }
 },
 "nbformat": 4,
 "nbformat_minor": 4
}
