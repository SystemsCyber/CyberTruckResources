{
 "cells": [
  {
   "cell_type": "markdown",
   "metadata": {},
   "source": [
    "# <center> Module 3h - Multiple Client Connections with UDP Sockets\n",
    "## <center> SYSE 549: Secure Vehicle and Industrial Networking\n",
    "## <center> <img src=\"https://www.engr.colostate.edu/~jdaily/Systems-EN-CSU-1-C357.svg\" width=\"400\" /> \n",
    "### <center> Instructor: Dr. Jeremy Daily<br>Written By: Jerry Duggan"
   ]
  },
  {
   "cell_type": "markdown",
   "metadata": {},
   "source": [
    "The datagram oriented nature of UDP simplifies handling multiple clients, in that the 'addr' construct, available on all incoming packets, uniquely identifies the client.  Clever programming can take advantage of this to keep track of contextual information for clients."
   ]
  },
  {
   "cell_type": "markdown",
   "metadata": {},
   "source": [
    "Step 1 - Start a Python CLI window\n",
    "\n",
    "Start a Python CLI window and connect to the directory in which you have extracted these notebooks."
   ]
  },
  {
   "cell_type": "markdown",
   "metadata": {},
   "source": [
    "Step 2 - Run the server program below"
   ]
  },
  {
   "cell_type": "code",
   "execution_count": null,
   "metadata": {},
   "outputs": [
    {
     "name": "stdout",
     "output_type": "stream",
     "text": [
      "data: b'Hello, world (15548)'\n",
      "from ('127.0.0.1', 60771)\n",
      "echo done, result: 20, client count: 1\n",
      "data: b'Hello, world (15548)'\n",
      "from ('127.0.0.1', 60771)\n",
      "echo done, result: 20, client count: 2\n",
      "data: b'Hello, world (15548)'\n",
      "from ('127.0.0.1', 60771)\n",
      "echo done, result: 20, client count: 3\n",
      "data: b'Hello, world (15548)'\n",
      "from ('127.0.0.1', 60771)\n",
      "echo done, result: 20, client count: 4\n",
      "data: b'Hello, world (15548)'\n",
      "from ('127.0.0.1', 60771)\n",
      "echo done, result: 20, client count: 5\n"
     ]
    }
   ],
   "source": [
    "import socket\n",
    "\n",
    "HOST = '127.0.0.1'  # Standard loopback interface address (localhost)\n",
    "PORT = 12354        # Port to listen on (non-privileged ports are > 1023)\n",
    "\n",
    "s = socket.socket(socket.AF_INET, socket.SOCK_DGRAM)\n",
    "s.bind((HOST, PORT))\n",
    "\n",
    " # For illustrative purposes, the server will keep track of the number of lines each client sends.\n",
    "        \n",
    "CLIENT_TABLE = {}   # Set up a dictionary to maintain the client context.\n",
    "\n",
    "while True:\n",
    "    data, addr = s.recvfrom(1024)\n",
    "    print(f\"data: {data}\")\n",
    "    print(f\"from {addr}\")\n",
    "    res = s.sendto(data, addr)\n",
    "    if addr not in CLIENT_TABLE:\n",
    "        CLIENT_TABLE[addr] = 0\n",
    "    CLIENT_TABLE[addr] += 1\n",
    "    print(f\"echo done, result: {res}, client count: {CLIENT_TABLE[addr]}\")\n"
   ]
  },
  {
   "cell_type": "markdown",
   "metadata": {},
   "source": [
    "Now run the 'UDPMultiClient.py' program in your Python CLI window:"
   ]
  },
  {
   "cell_type": "markdown",
   "metadata": {},
   "source": [
    "<span style=\"font-family:Courier;\">python UDPMultiClient.py</span>"
   ]
  },
  {
   "cell_type": "markdown",
   "metadata": {},
   "source": [
    "Feel free to run this command in multiple windows to illustrate multiple client connections."
   ]
  },
  {
   "cell_type": "markdown",
   "metadata": {},
   "source": [
    "This notebook shows how to maintain a client context.  What if, instead of simply echoing the data, the purpose of the program was to do a long-running operation?  In that case, other techniques should be used, such as performing said long-running operation in a separate thread, should be used.  Thread usage will be illustrated in the notebook on multiple client connections for TCP sockets."
   ]
  }
 ],
 "metadata": {
  "kernelspec": {
   "display_name": "Python 3 (ipykernel)",
   "language": "python",
   "name": "python3"
  },
  "language_info": {
   "codemirror_mode": {
    "name": "ipython",
    "version": 3
   },
   "file_extension": ".py",
   "mimetype": "text/x-python",
   "name": "python",
   "nbconvert_exporter": "python",
   "pygments_lexer": "ipython3",
   "version": "3.12.7"
  },
  "latex_envs": {
   "LaTeX_envs_menu_present": true,
   "autoclose": false,
   "autocomplete": true,
   "bibliofile": "biblio.bib",
   "cite_by": "apalike",
   "current_citInitial": 1,
   "eqLabelWithNumbers": true,
   "eqNumInitial": 1,
   "hotkeys": {
    "equation": "Ctrl-E",
    "itemize": "Ctrl-I"
   },
   "labels_anchors": false,
   "latex_user_defs": false,
   "report_style_numbering": false,
   "user_envs_cfg": false
  }
 },
 "nbformat": 4,
 "nbformat_minor": 4
}
