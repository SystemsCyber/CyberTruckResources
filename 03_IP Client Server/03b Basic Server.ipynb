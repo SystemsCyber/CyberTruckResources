{
 "cells": [
  {
   "cell_type": "markdown",
   "metadata": {},
   "source": [
    "# <center> Module 3b - Basic Server\n",
    "## <center> SYSE 549: Secure Vehicle and Industrial Networking\n",
    "## <center> <img src=\"https://www.engr.colostate.edu/~jdaily/Systems-EN-CSU-1-C357.svg\" width=\"400\" /> \n",
    "### <center> Instructor: Dr. Jeremy Daily<br>Written By: Jerry Duggan"
   ]
  },
  {
   "cell_type": "markdown",
   "metadata": {},
   "source": [
    "This notebook should be run along side the [BasicClient](./02b%20BasicClient.ipynb) notebook."
   ]
  },
  {
   "cell_type": "markdown",
   "metadata": {},
   "source": [
    "A **socket** is \n",
    "1. The point where application process attaches to the network.\n",
    "2. An interface between an application and the network stack.\n",
    "3. Sockets are created by local applications."
   ]
  },
  {
   "cell_type": "markdown",
   "metadata": {},
   "source": [
    "Step 1 - Server setup"
   ]
  },
  {
   "cell_type": "code",
   "execution_count": 1,
   "metadata": {},
   "outputs": [
    {
     "name": "stdout",
     "output_type": "stream",
     "text": [
      "<socket.socket fd=1688, family=2, type=1, proto=0>\n"
     ]
    }
   ],
   "source": [
    "import socket\n",
    "s = socket.socket(socket.AF_INET, socket.SOCK_STREAM)\n",
    "print(s)"
   ]
  },
  {
   "cell_type": "markdown",
   "metadata": {},
   "source": [
    "The variable `s` is a brand new socket.  Note that the fd (file descriptor) is set, and we know what kind of socket it is (AF_INET & SOCK_STREAM).  We have not specified any addressing information for it yet..."
   ]
  },
  {
   "cell_type": "code",
   "execution_count": 2,
   "metadata": {},
   "outputs": [],
   "source": [
    "#help(socket.AddressFamily)"
   ]
  },
  {
   "cell_type": "code",
   "execution_count": 3,
   "metadata": {},
   "outputs": [],
   "source": [
    "#help(socket.SocketKind)"
   ]
  },
  {
   "cell_type": "markdown",
   "metadata": {},
   "source": [
    "Step 2 - Bind server socket to IP address & port"
   ]
  },
  {
   "cell_type": "code",
   "execution_count": 4,
   "metadata": {},
   "outputs": [
    {
     "name": "stdout",
     "output_type": "stream",
     "text": [
      "<socket.socket fd=1688, family=2, type=1, proto=0, laddr=('127.0.0.1', 12354)>\n"
     ]
    }
   ],
   "source": [
    "HOST = '127.0.0.1'  # Standard loopback interface address (localhost)\n",
    "PORT = 12354        # Port to listen on (non-privileged ports are > 1023)\n",
    "\n",
    "s.bind((HOST, PORT))\n",
    "print(s)"
   ]
  },
  {
   "cell_type": "markdown",
   "metadata": {},
   "source": [
    "We are binding the socket to a particular IP address & port.  Note that s now has the 'laddr' member set.  The first number the IP address on which the socket is opened, and the second is the port number for the connection. Since this is the local address parameter, and running in the server, the port in laddr matches the PORT parameter.\n",
    "\n",
    "We have not told the OS whether this is going to be a \"server\" or a \"client\" socket.  The difference is that \"server\" sockets can accept connections while \"client\" sockets would make connections."
   ]
  },
  {
   "cell_type": "markdown",
   "metadata": {},
   "source": [
    "Step 3 - Server tell the OS that the application will be accepting connections on the socket"
   ]
  },
  {
   "cell_type": "code",
   "execution_count": 5,
   "metadata": {},
   "outputs": [
    {
     "name": "stdout",
     "output_type": "stream",
     "text": [
      "<socket.socket fd=1688, family=2, type=1, proto=0, laddr=('127.0.0.1', 12354)>\n"
     ]
    }
   ],
   "source": [
    "s.listen()\n",
    "print(s)"
   ]
  },
  {
   "cell_type": "markdown",
   "metadata": {},
   "source": [
    "No changes to the members of the socket at this step.\n",
    "\n",
    "Make a note of the 'fd' (file descriptor) parameter in the socket"
   ]
  },
  {
   "cell_type": "markdown",
   "metadata": {},
   "source": [
    "Step 4 - Server wait for connection"
   ]
  },
  {
   "cell_type": "code",
   "execution_count": 6,
   "metadata": {
    "scrolled": true
   },
   "outputs": [
    {
     "name": "stdout",
     "output_type": "stream",
     "text": [
      "connection: <socket.socket fd=1936, family=2, type=1, proto=0, laddr=('127.0.0.1', 12354), raddr=('127.0.0.1', 51976)>\n",
      "connected from ('127.0.0.1', 51976)\n"
     ]
    }
   ],
   "source": [
    "conn, addr = s.accept()\n",
    "print(f\"connection: {conn}\")\n",
    "print(f\"connected from {addr}\")"
   ]
  },
  {
   "cell_type": "markdown",
   "metadata": {},
   "source": [
    "*The server accept() call is blocked, waiting for a client connection.*\n",
    "\n",
    "**At this point, run Steps 5, 6, 7, and 8 in the Client notebook**"
   ]
  },
  {
   "cell_type": "markdown",
   "metadata": {},
   "source": [
    "*The connection is now fully bound.  The 'laddr' parameter is the same as the socket, and it now has a 'raddr' (remote address) parameter that matches the host IP address and port from the client connection.*\n",
    "\n",
    "*Note the 'fd' parameter in the connection -- it is different than the fd parameter in the socket.*"
   ]
  },
  {
   "cell_type": "markdown",
   "metadata": {},
   "source": [
    "Step 9 - Server wait for input"
   ]
  },
  {
   "cell_type": "code",
   "execution_count": 7,
   "metadata": {},
   "outputs": [
    {
     "name": "stdout",
     "output_type": "stream",
     "text": [
      "received data: b'Hello, Wireshark. You are an amazing tool!'\n"
     ]
    }
   ],
   "source": [
    "data = conn.recv(1024)  # block until data is available\n",
    "print(f\"received data: {data}\")"
   ]
  },
  {
   "cell_type": "markdown",
   "metadata": {},
   "source": [
    "Step 10 - Server echo data back to client"
   ]
  },
  {
   "cell_type": "code",
   "execution_count": 8,
   "metadata": {},
   "outputs": [],
   "source": [
    "ret = conn.sendall(data)"
   ]
  },
  {
   "cell_type": "markdown",
   "metadata": {},
   "source": [
    "**If you want to send more data back and forth, redo steps 9 & 10 in the Server notebook and steps 7 & 8 in the Client notebook.**\n",
    "\n",
    "**Try them in different orders (e.g. 9, then 7 & 8, then 10) and observe when blocking occurs.**"
   ]
  },
  {
   "cell_type": "markdown",
   "metadata": {},
   "source": [
    "Step 11 - Server close connection"
   ]
  },
  {
   "cell_type": "code",
   "execution_count": 9,
   "metadata": {},
   "outputs": [
    {
     "data": {
      "text/plain": [
       "<socket.socket [closed] fd=-1, family=2, type=1, proto=0>"
      ]
     },
     "execution_count": 9,
     "metadata": {},
     "output_type": "execute_result"
    }
   ],
   "source": [
    "conn.close()\n",
    "conn"
   ]
  },
  {
   "cell_type": "markdown",
   "metadata": {},
   "source": [
    "At this point, go back and execute Steps 4, 9 and 10 in the server notebook & start from the beginning (step 5) in the Client notebook.  This will reuse the socket on the server side to create a new connection, and redo the complete creation process on the client side."
   ]
  },
  {
   "cell_type": "markdown",
   "metadata": {},
   "source": [
    "Step 13 -- Server Close Socket"
   ]
  },
  {
   "cell_type": "code",
   "execution_count": 10,
   "metadata": {},
   "outputs": [
    {
     "name": "stdout",
     "output_type": "stream",
     "text": [
      "<socket.socket [closed] fd=-1, family=2, type=1, proto=0>\n"
     ]
    }
   ],
   "source": [
    "s.close()\n",
    "print(s)"
   ]
  },
  {
   "cell_type": "markdown",
   "metadata": {},
   "source": [
    "**Now try to execute Steps 5 & 6 in the Client notebook.  This should throw a Connection Refused exception, as there is no application listening on port 12354 on the server.**"
   ]
  },
  {
   "cell_type": "markdown",
   "metadata": {},
   "source": [
    "## IPv6\n",
    "Try creating the socket with an IPv6 option.\n"
   ]
  },
  {
   "cell_type": "code",
   "execution_count": null,
   "metadata": {},
   "outputs": [],
   "source": [
    "#help(socket.AddressFamily)"
   ]
  },
  {
   "cell_type": "code",
   "execution_count": null,
   "metadata": {},
   "outputs": [],
   "source": [
    "s = socket.socket(socket.AF_INET6, socket.SOCK_STREAM)\n",
    "print(s)"
   ]
  },
  {
   "cell_type": "code",
   "execution_count": null,
   "metadata": {},
   "outputs": [],
   "source": [
    "HOST = '::1'  # Standard loopback interface address (localhost)\n",
    "PORT = 12354        # Port to listen on (non-privileged ports are > 1023)\n",
    "\n",
    "s.bind((HOST, PORT))\n",
    "print(s)"
   ]
  },
  {
   "cell_type": "markdown",
   "metadata": {},
   "source": [
    "## IPv6 Address Constants\n",
    "\n",
    "IPv6 brings in a broader range of addresses, many of which serve similar roles as their IPv4 counterparts, but they also add entirely new types of addresses.\n",
    "\n",
    "#### Unspecified Address: `::` or `in6addr_any`\n",
    "\n",
    "Similar to INADDR_ANY, binding to the unspecified address means the socket accepts connections on all available IPv6 interfaces.\n",
    "\n",
    "#### Loopback Address: `::1`  or  `in6addr_loopback`\n",
    "\n",
    "Functions like INADDR_LOOPBACK in IPv4 because it restricts traffic to the local host. This is useful for testing local services without exposing them to an external network or creating some internal process communications.\n",
    "\n",
    "#### Multicast Addresses:\n",
    "\n",
    "IPv6 defines several multicast addresses (for instance, addresses for all nodes on the link-local network) that are used for group communication.\n",
    "\n",
    "These are crucial for routing protocols and network discovery but are not typically used for binding listening sockets.\n",
    "\n",
    "#### Link-local Addresses:\n",
    "\n",
    "Start with `fe80::` and are automatically assigned to interfaces for communication on the local network segment.\n"
   ]
  },
  {
   "cell_type": "code",
   "execution_count": null,
   "metadata": {},
   "outputs": [],
   "source": []
  }
 ],
 "metadata": {
  "kernelspec": {
   "display_name": "Python 3 (ipykernel)",
   "language": "python",
   "name": "python3"
  },
  "language_info": {
   "codemirror_mode": {
    "name": "ipython",
    "version": 3
   },
   "file_extension": ".py",
   "mimetype": "text/x-python",
   "name": "python",
   "nbconvert_exporter": "python",
   "pygments_lexer": "ipython3",
   "version": "3.12.7"
  },
  "latex_envs": {
   "LaTeX_envs_menu_present": true,
   "autoclose": false,
   "autocomplete": true,
   "bibliofile": "biblio.bib",
   "cite_by": "apalike",
   "current_citInitial": 1,
   "eqLabelWithNumbers": true,
   "eqNumInitial": 1,
   "hotkeys": {
    "equation": "Ctrl-E",
    "itemize": "Ctrl-I"
   },
   "labels_anchors": false,
   "latex_user_defs": false,
   "report_style_numbering": false,
   "user_envs_cfg": false
  }
 },
 "nbformat": 4,
 "nbformat_minor": 4
}
