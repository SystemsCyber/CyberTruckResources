{
 "cells": [
  {
   "cell_type": "markdown",
   "metadata": {},
   "source": [
    "# <center> Module 3g - Multiple client connections for TCP sockets\n",
    "## <center> SYSE 549: Secure Vehicle and Industrial Networking\n",
    "## <center> <img src=\"https://www.engr.colostate.edu/~jdaily/Systems-EN-CSU-1-C357.svg\" width=\"400\" /> \n",
    "### <center> Instructor: Dr. Jeremy Daily<br>Written By: Jerry Duggan"
   ]
  },
  {
   "cell_type": "markdown",
   "metadata": {},
   "source": [
    "The connection oriented nature of TCP adds complexity for multiple client connections.  The server must simultaneously handle incoming connection establishment requests from new clients, while at the same time providing its service to existing clients.  One way to handle these concurrent operations is to use threads, as illustrated in this notebook."
   ]
  },
  {
   "cell_type": "markdown",
   "metadata": {},
   "source": [
    "Step 1 - Start a Python CLI window\n",
    "\n",
    "Start a Python CLI window and connect to the directory in which you have extracted these notebooks."
   ]
  },
  {
   "cell_type": "markdown",
   "metadata": {},
   "source": [
    "Step 2 - Run the server program below"
   ]
  },
  {
   "cell_type": "code",
   "execution_count": null,
   "metadata": {},
   "outputs": [
    {
     "name": "stdout",
     "output_type": "stream",
     "text": [
      "Main thread waiting for connections\n",
      "connection from ('127.0.0.1', 52893), spawning echo thread Thread-5\n",
      "\n",
      "Main thread waiting for connections\n",
      "Echoing <socket.socket fd=1892, family=2, type=1, proto=0, laddr=('127.0.0.1', 12354), raddr=('127.0.0.1', 52893)>\n",
      "received data from <socket.socket fd=1892, family=2, type=1, proto=0, laddr=('127.0.0.1', 12354), raddr=('127.0.0.1', 52893)>\n",
      "  data: b'Hello, world (27556)', count: 1\n",
      "received data from <socket.socket fd=1892, family=2, type=1, proto=0, laddr=('127.0.0.1', 12354), raddr=('127.0.0.1', 52893)>\n",
      "  data: b'Hello, world (27556)', count: 2\n",
      "received data from <socket.socket fd=1892, family=2, type=1, proto=0, laddr=('127.0.0.1', 12354), raddr=('127.0.0.1', 52893)>\n",
      "  data: b'Hello, world (27556)', count: 3\n",
      "received data from <socket.socket fd=1892, family=2, type=1, proto=0, laddr=('127.0.0.1', 12354), raddr=('127.0.0.1', 52893)>\n",
      "  data: b'Hello, world (27556)', count: 4\n",
      "received data from <socket.socket fd=1892, family=2, type=1, proto=0, laddr=('127.0.0.1', 12354), raddr=('127.0.0.1', 52893)>\n",
      "  data: b'Hello, world (27556)', count: 5\n",
      "received data from <socket.socket fd=1892, family=2, type=1, proto=0, laddr=('127.0.0.1', 12354), raddr=('127.0.0.1', 52893)>\n",
      "  data: b'Hello, world (27556)', count: 6\n",
      "received data from <socket.socket fd=1892, family=2, type=1, proto=0, laddr=('127.0.0.1', 12354), raddr=('127.0.0.1', 52893)>\n",
      "  data: b'Hello, world (27556)', count: 7\n",
      "received data from <socket.socket fd=1892, family=2, type=1, proto=0, laddr=('127.0.0.1', 12354), raddr=('127.0.0.1', 52893)>\n",
      "  data: b'Hello, world (27556)', count: 8\n",
      "end of data, stopping\n"
     ]
    }
   ],
   "source": [
    "import socket\n",
    "from threading import Thread\n",
    "\n",
    "HOST = '127.0.0.1'  # Standard loopback interface address (localhost)\n",
    "PORT = 12354        # Port to listen on (non-privileged ports are > 1023)\n",
    "\n",
    "class EchoThread(Thread):\n",
    "    def __init__(self, conn):\n",
    "        super().__init__()\n",
    "        self.conn = conn\n",
    "\n",
    "    def run(self):\n",
    "        print()\n",
    "        print(f\"Echoing {self.conn}\")\n",
    "        numLines = 0\n",
    "        while True:\n",
    "            data = self.conn.recv(1024)\n",
    "            if not data:\n",
    "                print(\"end of data, stopping\")\n",
    "                return\n",
    "            self.conn.sendall(data)\n",
    "            numLines += 1\n",
    "            print(f\"received data from {self.conn}\")\n",
    "            print(f\"  data: {data}, count: {numLines}\")\n",
    "\n",
    "def main(host, port):\n",
    "    s = socket.socket(socket.AF_INET, socket.SOCK_STREAM)\n",
    "    s.bind((host, port))\n",
    "    s.listen()\n",
    "\n",
    "    while True:\n",
    "        print(\"Main thread waiting for connections\")\n",
    "        srvConn, addr = s.accept()\n",
    "        eThread = EchoThread(srvConn)\n",
    "        print(f\"connection from {addr}, spawning echo thread {eThread.name}\")\n",
    "        eThread.start()\n",
    "\n",
    "main(HOST, PORT)"
   ]
  },
  {
   "cell_type": "markdown",
   "metadata": {},
   "source": [
    "Now run the 'TCPSimpleClient.py' program in your Python CLI window:"
   ]
  },
  {
   "cell_type": "markdown",
   "metadata": {},
   "source": [
    "<span style=\"font-family:Courier;\">python TCPSimpleClient.py</span>"
   ]
  },
  {
   "cell_type": "markdown",
   "metadata": {},
   "source": [
    "This program uses threads to address both of the issues described in the overview about multiple client connections.  First, and most obvious, is that the program spawns an individual thread for each client, which reads the incoming data and sends it back to the client.  Because these operations are in separate threads, they don't interfere with each other, nor do they interfere with the main thread, which is responsible for handling incoming client connections.\n",
    "\n",
    "Secondly, this program deals with the client context issue by using the Thread context to manage its client-specific data, in this case the line count (the numLines variable).  Doing this is acceptable for simple programs, but anything more complex than this should use an explicit data structure for client context."
   ]
  },
  {
   "cell_type": "raw",
   "metadata": {},
   "source": []
  }
 ],
 "metadata": {
  "kernelspec": {
   "display_name": "Python 3 (ipykernel)",
   "language": "python",
   "name": "python3"
  },
  "language_info": {
   "codemirror_mode": {
    "name": "ipython",
    "version": 3
   },
   "file_extension": ".py",
   "mimetype": "text/x-python",
   "name": "python",
   "nbconvert_exporter": "python",
   "pygments_lexer": "ipython3",
   "version": "3.12.7"
  },
  "latex_envs": {
   "LaTeX_envs_menu_present": true,
   "autoclose": false,
   "autocomplete": true,
   "bibliofile": "biblio.bib",
   "cite_by": "apalike",
   "current_citInitial": 1,
   "eqLabelWithNumbers": true,
   "eqNumInitial": 1,
   "hotkeys": {
    "equation": "Ctrl-E",
    "itemize": "Ctrl-I"
   },
   "labels_anchors": false,
   "latex_user_defs": false,
   "report_style_numbering": false,
   "user_envs_cfg": false
  }
 },
 "nbformat": 4,
 "nbformat_minor": 4
}
