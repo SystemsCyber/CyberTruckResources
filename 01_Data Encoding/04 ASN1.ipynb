{
 "cells": [
  {
   "cell_type": "markdown",
   "metadata": {},
   "source": [
    "# ASN1 Encoding \n",
    "Cellular messages may be encoded in ASN.1 PER\n",
    "\n",
    "Review Multics operating systems\n",
    "\n",
    "Reference monitor system from Anderson in the 1970s\n",
    "\n",
    "Questions:\n",
    "FPGA based processors\n",
    "\n",
    "Testing and POC dangers - POC can be illegal.\n",
    "\n",
    "Challenges - third-party devices introduced by the owners.\n",
    "\n",
    "Tesla attacks by yzt0065@auburn.edu \n"
   ]
  }
 ],
 "metadata": {
  "language_info": {
   "name": "python"
  }
 },
 "nbformat": 4,
 "nbformat_minor": 2
}
