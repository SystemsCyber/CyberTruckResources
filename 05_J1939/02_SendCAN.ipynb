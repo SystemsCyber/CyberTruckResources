{
 "cells": [
  {
   "cell_type": "markdown",
   "metadata": {},
   "source": [
    "# <center> Test Send CAN\n",
    "## <center><img src=\"https://www.engr.colostate.edu/~jdaily/Systems-EN-CSU-1-C357.svg\" width=\"400\" />\n",
    "### <center> Instructor: Dr. Jeremy Daily"
   ]
  },
  {
   "cell_type": "markdown",
   "metadata": {},
   "source": [
    "## Prerequisites\n",
    "Login tip: Send a keepalive signal every 60 seconds from the connection menu of PuTTy.\n",
    "\n",
    "This notebook must be run on a Linux machine with SocketCAN enabled.\n",
    "```\n",
    "sudo ip link add dev vcan1 type vcan\n",
    "sudo ip link set vcan1 up\n",
    "```\n",
    "\n",
    "If you are running from PuTTy through Windows, then be sure to start the Jupyter server with the following commands:\n",
    "\n",
    "```\n",
    "jupyter notebook --ip cybertruck1.engr.colostate.edu --no-browser\n",
    "```\n",
    "\n",
    "or for the Beagle Bone Black connected by USB:\n",
    "```\n",
    "jupyter notebook --ip 192.168.7.2 --no-browser\n",
    "```\n",
    "Once these commands are successful, there will be a tokenize URL to paste into your browser. Note: this is not a secure connection, so be sure you are behind a firewall.\n",
    "\n",
    "\n",
    "Be sure can-utils is installed:\n",
    "```\n",
    "sudo apt install can-utils\n",
    "```"
   ]
  },
  {
   "cell_type": "code",
   "execution_count": null,
   "metadata": {},
   "outputs": [],
   "source": [
    "#!/usr/bin/python3\n",
    "import socket\n",
    "import struct\n",
    "\n",
    "# Open a socket and bind to it from SocketCAN\n",
    "sock = socket.socket(socket.PF_CAN, socket.SOCK_RAW, socket.CAN_RAW)\n",
    "\n",
    "#Change this interface to match your desired connection\n",
    "interface = \"vcan1\"\n",
    "\n",
    "# Bind to the interface\n",
    "sock.bind((interface,))\n",
    "\n",
    "# To match the socketCAN data structure, the following struct format can be used:\n",
    "\n",
    "# Automatically detect the can frame format\n",
    "try:\n",
    "    # This is for the Beaglebone\n",
    "    can_frame_format = \"=lB3x8s\"\n",
    "    can_packet = struct.pack(can_frame_format, 0x18fef100 | socket.CAN_EFF_FLAG, 8, b'12345678' )\n",
    "    print(\"Use this CAN Frame format for the rest of the notebooks: {}\".format(can_frame_format))\n",
    "except:\n",
    "    # Use this format for x86-64, like cybertruck1.engr.colostate.edu\n",
    "    can_frame_format = \"=LB3x8s\"\n",
    "    can_packet = struct.pack(can_frame_format, 0x18fef100 | socket.CAN_EFF_FLAG, 8, b'12345678' )\n",
    "    print(\"Use this CAN Frame format for the rest of the notebooks: {}\".format(can_frame_format))\n",
    "\n",
    "\n",
    "\n",
    "for i in range(5):\n",
    "    # Define the CAN Arbitration ID\n",
    "    can_id = 0x1FFFFFFF\n",
    "    #Set the extended frame format bit.\n",
    "    can_id |= socket.CAN_EFF_FLAG\n",
    "    \n",
    "    can_data = struct.pack(\"B\",i) + b'1234567890' \n",
    "    \n",
    "    #The data length code cannot be larger than 8\n",
    "    can_dlc = min(len(can_data),8)\n",
    "    \n",
    "    #Pack the information into 16 bytes\n",
    "    can_packet = struct.pack(can_frame_format, can_id, can_dlc, can_data[:can_dlc] )\n",
    "    print(can_packet)\n",
    "    \n",
    "    #Send out the CAN frame\n",
    "    sock.send(can_packet)"
   ]
  },
  {
   "cell_type": "markdown",
   "metadata": {},
   "source": [
    "## Testing and Verification\n",
    "Open another terminal on the server where the interface exists. From this terminal, enter the command:\n",
    "```\n",
    "candump any |grep FFFFFF\n",
    "```\n",
    "The output should look something like this when CAN messages are sent:\n",
    "```\n",
    "  vcan1  1FFFFFFF   [8]  00 65 61 67 72 31 32 33\n",
    "  vcan1  1FFFFFFF   [8]  01 65 61 67 72 31 32 33\n",
    "  vcan1  1FFFFFFF   [8]  02 65 61 67 72 31 32 33\n",
    "  vcan1  1FFFFFFF   [8]  03 65 61 67 72 31 32 33\n",
    "  vcan1  1FFFFFFF   [8]  04 65 61 67 72 31 32 33\n",
    "  vcan1  1FFFFFFF   [8]  05 65 61 67 72 31 32 33\n",
    "  vcan1  1FFFFFFF   [8]  06 65 61 67 72 31 32 33\n",
    "  vcan1  1FFFFFFF   [8]  07 65 61 67 72 31 32 33\n",
    "  vcan1  1FFFFFFF   [8]  08 65 61 67 72 31 32 33\n",
    "  vcan1  1FFFFFFF   [8]  09 65 61 67 72 31 32 33\n",
    "  vcan1  1FFFFFFF   [8]  0A 65 61 67 72 31 32 33\n",
    "  vcan1  1FFFFFFF   [8]  0B 65 61 67 72 31 32 33\n",
    "  vcan1  1FFFFFFF   [8]  0C 65 61 67 72 31 32 33\n",
    "  vcan1  1FFFFFFF   [8]  0D 65 61 67 72 31 32 33\n",
    "  vcan1  1FFFFFFF   [8]  0E 65 61 67 72 31 32 33\n",
    "  vcan1  1FFFFFFF   [8]  0F 65 61 67 72 31 32 33\n",
    "  vcan1  1FFFFFFF   [8]  10 65 61 67 72 31 32 33\n",
    "  vcan1  1FFFFFFF   [8]  11 65 61 67 72 31 32 33\n",
    "  vcan1  1FFFFFFF   [8]  12 65 61 67 72 31 32 33\n",
    "  vcan1  1FFFFFFF   [8]  13 65 61 67 72 31 32 33\n",
    "  vcan1  1FFFFFFF   [8]  14 65 61 67 72 31 32 33\n",
    "  vcan1  1FFFFFFF   [8]  15 65 61 67 72 31 32 33\n",
    "  vcan1  1FFFFFFF   [8]  16 65 61 67 72 31 32 33\n",
    "  vcan1  1FFFFFFF   [8]  17 65 61 67 72 31 32 33\n",
    "  vcan1  1FFFFFFF   [8]  18 65 61 67 72 31 32 33\n",
    "\n",
    "```\n"
   ]
  },
  {
   "cell_type": "markdown",
   "metadata": {},
   "source": [
    "Now we have shown that we can send CAN data. Let's start looking at how we can use it for things like J1939."
   ]
  }
 ],
 "metadata": {
  "kernelspec": {
   "display_name": "Python 3",
   "language": "python",
   "name": "python3"
  },
  "language_info": {
   "codemirror_mode": {
    "name": "ipython",
    "version": 3
   },
   "file_extension": ".py",
   "mimetype": "text/x-python",
   "name": "python",
   "nbconvert_exporter": "python",
   "pygments_lexer": "ipython3",
   "version": "3.8.5"
  },
  "latex_envs": {
   "LaTeX_envs_menu_present": true,
   "autoclose": false,
   "autocomplete": true,
   "bibliofile": "biblio.bib",
   "cite_by": "apalike",
   "current_citInitial": 1,
   "eqLabelWithNumbers": true,
   "eqNumInitial": 1,
   "hotkeys": {
    "equation": "Ctrl-E",
    "itemize": "Ctrl-I"
   },
   "labels_anchors": false,
   "latex_user_defs": false,
   "report_style_numbering": false,
   "user_envs_cfg": false
  }
 },
 "nbformat": 4,
 "nbformat_minor": 4
}
