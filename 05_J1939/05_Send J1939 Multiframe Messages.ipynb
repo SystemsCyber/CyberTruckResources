{
 "cells": [
  {
   "cell_type": "markdown",
   "metadata": {},
   "source": [
    "# <center>Send J1939 Multi Frame Messages\n",
    "## <center><img src=\"https://www.engr.colostate.edu/~jdaily/Systems-EN-CSU-1-C357.svg\" width=\"400\" />"
   ]
  },
  {
   "cell_type": "markdown",
   "metadata": {},
   "source": [
    "## Prerequisites\n",
    "\n",
    "Successfully run 02_SendCAN.ipynb.\n",
    "\n",
    "Be sure can-utils is installed:\n",
    "```\n",
    "sudo apt install can-utils\n",
    "```"
   ]
  },
  {
   "cell_type": "code",
   "execution_count": 1,
   "metadata": {},
   "outputs": [],
   "source": [
    "#!/usr/bin/python3\n",
    "import socket\n",
    "import struct\n",
    "\n",
    "# Open a socket and bind to it from SocketCAN\n",
    "sock = socket.socket(socket.PF_CAN, socket.SOCK_RAW, socket.CAN_RAW)\n",
    "interface = \"vcan3\"\n",
    "\n",
    "# Bind to the interface\n",
    "sock.bind((interface,))\n",
    "\n",
    "# To match this data structure, the following struct format can be used:\n",
    "can_frame_format = \"<lB3x8s\""
   ]
  },
  {
   "cell_type": "code",
   "execution_count": 4,
   "metadata": {},
   "outputs": [],
   "source": [
    "# Define a send single J1939 frame function:\n",
    "# Define the CAN Arbitration ID\n",
    "def send_j1939_frame(pgn,sa,can_data,da=0xFF,priority=6):\n",
    "    PF = (pgn & 0xFF00) >> 8\n",
    "    if PF < 240:\n",
    "        PS = da\n",
    "    else:\n",
    "        PS = (pgn & 0x00FF)\n",
    "    \n",
    "    can_id = priority << 26    \n",
    "    can_id += (pgn & 0x3FF00) << 8\n",
    "    can_id += PS << 8\n",
    "    can_id += sa\n",
    "    print(\"{:08X}\".format(can_id))\n",
    "    \n",
    "    #Set the extended frame format bit.\n",
    "    can_id |= socket.CAN_EFF_FLAG\n",
    "    #The data length code cannot be larger than 8\n",
    "    can_dlc = min(len(can_data),8)\n",
    "    \n",
    "    #Pack the information into 16 bytes\n",
    "    can_packet = struct.pack(can_frame_format, can_id, can_dlc, can_data )\n",
    "    \n",
    "    #Send out the CAN frame\n",
    "    sock.send(can_packet)"
   ]
  },
  {
   "cell_type": "code",
   "execution_count": 5,
   "metadata": {},
   "outputs": [
    {
     "name": "stdout",
     "output_type": "stream",
     "text": [
      "18FFFFFF\n",
      "18FFFFFF\n",
      "18FFFFFF\n",
      "18FFFFFF\n",
      "18FFFFFF\n",
      "18FFFFFF\n",
      "18FFFFFF\n",
      "18FFFFFF\n",
      "18FFFFFF\n",
      "18FFFFFF\n"
     ]
    }
   ],
   "source": [
    "for i in range(10):\n",
    "    pgn = 0xffff\n",
    "    sa = 0xff\n",
    "    can_data = b'Jeremy'\n",
    "    \n",
    "    send_j1939_frame(pgn,sa,can_data)"
   ]
  },
  {
   "cell_type": "code",
   "execution_count": 6,
   "metadata": {},
   "outputs": [],
   "source": [
    "def sendBAM(pgn,sa,can_message,da=0xFF,priority=6):\n",
    "    num_bytes = len(can_message)\n",
    "    if num_bytes > 8: #BAM\n",
    "        num_frames = (num_bytes//7)\n",
    "        if num_bytes%7 > 0:\n",
    "            num_frames +=1\n",
    "        can_data = b'\\x20' #bam\n",
    "        can_data += struct.pack(\"<H\",num_bytes)\n",
    "        can_data += struct.pack(\"B\",num_frames)\n",
    "        can_data += b'\\xFF' #Reserved Bit\n",
    "        can_data += struct.pack(\"B\",(pgn & 0x0000FF))\n",
    "        can_data += struct.pack(\"B\",(pgn & 0x00FF00) >> 8)\n",
    "        can_data += struct.pack(\"B\",(pgn & 0xFF0000) >> 16)\n",
    "        print(can_data)\n",
    "        send_j1939_frame(0xEC00,0xF9,can_data,da=0xFF,priority=6)\n",
    "        for i in range(num_frames):\n",
    "            can_data = struct.pack(\"B\",i+1) + can_message[7*i:7*(i+1)]\n",
    "            for i in range(len(can_data),8):\n",
    "                can_data += b'\\xff'\n",
    "            send_j1939_frame(0xEB00,0xF9,can_data,da=0xFF,priority=6)\n",
    "            print(can_data)"
   ]
  },
  {
   "cell_type": "code",
   "execution_count": 9,
   "metadata": {},
   "outputs": [
    {
     "name": "stdout",
     "output_type": "stream",
     "text": [
      "b' &\\x00\\x06\\xff\\xff\\xff\\x00'\n",
      "18ECFFF9\n",
      "18EBFFF9\n",
      "b'\\x01Vehicle'\n",
      "18EBFFF9\n",
      "b'\\x02 Commun'\n",
      "18EBFFF9\n",
      "b'\\x03ication'\n",
      "18EBFFF9\n",
      "b'\\x04 is sti'\n",
      "18EBFFF9\n",
      "b'\\x05ll Awes'\n",
      "18EBFFF9\n",
      "b'\\x06ome\\xff\\xff\\xff\\xff'\n"
     ]
    }
   ],
   "source": [
    "sendBAM(0xFFFF,0xF9,b'Vehicle Communication is still Awesome')"
   ]
  },
  {
   "cell_type": "markdown",
   "metadata": {},
   "source": [
    "Run Notebook [04_ParseJ1939_Multi_Frame.ipynb](04_ParseJ1939_Multi_Frame.ipynb) to see the messages arrive and decode."
   ]
  },
  {
   "cell_type": "markdown",
   "metadata": {},
   "source": [
    "## In Lab Assignment:\n",
    "Send another student or your instructor your first and last name over vcan3. "
   ]
  },
  {
   "cell_type": "code",
   "execution_count": null,
   "metadata": {},
   "outputs": [],
   "source": []
  }
 ],
 "metadata": {
  "kernelspec": {
   "display_name": "Python 3 (ipykernel)",
   "language": "python",
   "name": "python3"
  },
  "language_info": {
   "codemirror_mode": {
    "name": "ipython",
    "version": 3
   },
   "file_extension": ".py",
   "mimetype": "text/x-python",
   "name": "python",
   "nbconvert_exporter": "python",
   "pygments_lexer": "ipython3",
   "version": "3.12.7"
  }
 },
 "nbformat": 4,
 "nbformat_minor": 4
}
