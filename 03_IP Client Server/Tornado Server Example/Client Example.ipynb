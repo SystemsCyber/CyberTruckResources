{
 "cells": [
  {
   "cell_type": "markdown",
   "metadata": {},
   "source": [
    "# <center> Python Client Example\n",
    "## <center> <img src=\"https://www.engr.colostate.edu/~jdaily/Systems-EN-CSU-1-C357.svg\" width=\"400\" /> "
   ]
  },
  {
   "cell_type": "markdown",
   "metadata": {},
   "source": [
    "### Prequisite\n",
    "Make sure [Tornado Server Example.ipynb](Tornado%20Server%20Example.ipynb) is running. \n",
    "\n",
    "Suggestion:  Split view the windows so you can see both this notebook and [Tornado Server Example.ipynb](Tornado%20Server%20Example.ipynb)"
   ]
  },
  {
   "cell_type": "markdown",
   "metadata": {},
   "source": [
    "# Web Clients\n",
    "While often we think of a web client to be a browser, we can also use programs or libraries to access web based resources. \n",
    "\n",
    "Python has the requests library for these transactions.\n",
    "\n",
    "https://requests.readthedocs.io/en/master/\n",
    "\n",
    "Run this notebook after the Tornado server notebook is running."
   ]
  },
  {
   "cell_type": "code",
   "execution_count": 1,
   "metadata": {},
   "outputs": [],
   "source": [
    "import requests\n",
    "import base64\n",
    "import json"
   ]
  },
  {
   "cell_type": "code",
   "execution_count": 2,
   "metadata": {},
   "outputs": [
    {
     "name": "stdout",
     "output_type": "stream",
     "text": [
      "<Response [200]>\n"
     ]
    }
   ],
   "source": [
    "# Once the Tornado Server Example is running, execute this code.\n",
    "url = \"http://localhost:8080\"\n",
    "r = requests.get(url)\n",
    "print(r)"
   ]
  },
  {
   "cell_type": "markdown",
   "metadata": {},
   "source": [
    "What are the status codes?\n",
    "\n",
    "https://developer.mozilla.org/en-US/docs/Web/HTTP/Status\n",
    "\n",
    "200 is good."
   ]
  },
  {
   "cell_type": "code",
   "execution_count": 3,
   "metadata": {},
   "outputs": [
    {
     "data": {
      "text/plain": [
       "200"
      ]
     },
     "execution_count": 3,
     "metadata": {},
     "output_type": "execute_result"
    }
   ],
   "source": [
    "#Responses have status codes\n",
    "r.status_code"
   ]
  },
  {
   "cell_type": "code",
   "execution_count": 4,
   "metadata": {},
   "outputs": [
    {
     "data": {
      "text/plain": [
       "'{\"message\": \"The current time is Mon Apr 21 20:50:37 2025\"}'"
      ]
     },
     "execution_count": 4,
     "metadata": {},
     "output_type": "execute_result"
    }
   ],
   "source": [
    "# Text base response\n",
    "r.text"
   ]
  },
  {
   "cell_type": "code",
   "execution_count": 5,
   "metadata": {},
   "outputs": [
    {
     "data": {
      "text/plain": [
       "b'{\"message\": \"The current time is Mon Apr 21 20:50:37 2025\"}'"
      ]
     },
     "execution_count": 5,
     "metadata": {},
     "output_type": "execute_result"
    }
   ],
   "source": [
    "# Bytes as the response. Use this to read binary (like photos)\n",
    "r.content "
   ]
  },
  {
   "cell_type": "code",
   "execution_count": 6,
   "metadata": {},
   "outputs": [
    {
     "data": {
      "text/plain": [
       "<urllib3.response.HTTPResponse at 0x286d9ff96f0>"
      ]
     },
     "execution_count": 6,
     "metadata": {},
     "output_type": "execute_result"
    }
   ],
   "source": [
    "# Access lower level bytes from the socket\n",
    "r = requests.get(url, stream=True)\n",
    "r.raw"
   ]
  },
  {
   "cell_type": "code",
   "execution_count": 7,
   "metadata": {},
   "outputs": [
    {
     "data": {
      "text/plain": [
       "b'{\"message\": \"The current time is Mon Apr 21 20:50:37 2025\"}'"
      ]
     },
     "execution_count": 7,
     "metadata": {},
     "output_type": "execute_result"
    }
   ],
   "source": [
    "r.raw.read()"
   ]
  },
  {
   "cell_type": "code",
   "execution_count": 8,
   "metadata": {},
   "outputs": [
    {
     "data": {
      "text/plain": [
       "{'Server': 'TornadoServer/6.4.1', 'Content-Type': 'text/html; charset=UTF-8', 'Date': 'Tue, 22 Apr 2025 02:50:37 GMT', 'Etag': '\"6c2f4c2b5d50c24779bf363dc97fbed43879dd5d\"', 'Content-Length': '59'}"
      ]
     },
     "execution_count": 8,
     "metadata": {},
     "output_type": "execute_result"
    }
   ],
   "source": [
    "# Headers are often not displayed to the client, but are available\n",
    "# requests makes it a dictionary. \n",
    "# This is the header response from the server\n",
    "r.headers"
   ]
  },
  {
   "cell_type": "code",
   "execution_count": 9,
   "metadata": {},
   "outputs": [
    {
     "data": {
      "text/plain": [
       "'UTF-8'"
      ]
     },
     "execution_count": 9,
     "metadata": {},
     "output_type": "execute_result"
    }
   ],
   "source": [
    "r.encoding"
   ]
  },
  {
   "cell_type": "code",
   "execution_count": 10,
   "metadata": {},
   "outputs": [
    {
     "data": {
      "text/plain": [
       "'http://localhost:8080/'"
      ]
     },
     "execution_count": 10,
     "metadata": {},
     "output_type": "execute_result"
    }
   ],
   "source": [
    "r.url"
   ]
  },
  {
   "cell_type": "code",
   "execution_count": 11,
   "metadata": {},
   "outputs": [
    {
     "name": "stdout",
     "output_type": "stream",
     "text": [
      "200\n"
     ]
    },
    {
     "data": {
      "text/plain": [
       "{'message': 'The current time is Mon Apr 21 20:50:37 2025'}"
      ]
     },
     "execution_count": 11,
     "metadata": {},
     "output_type": "execute_result"
    }
   ],
   "source": [
    "#This is actualy json, so we can load it directly into a dictionary\n",
    "r = requests.get(url)\n",
    "print(r.status_code)\n",
    "r.json()"
   ]
  },
  {
   "cell_type": "code",
   "execution_count": 12,
   "metadata": {},
   "outputs": [
    {
     "name": "stdout",
     "output_type": "stream",
     "text": [
      "200\n"
     ]
    },
    {
     "data": {
      "text/plain": [
       "{'client_id': '9b6a676f-48b4-4180-8511-5cb89483d1fc',\n",
       " 'pub': '-----BEGIN PUBLIC KEY-----\\nMCowBQYDK2VuAyEAVO71C8WDD7TWhd1gO4Lc0P638ktxMTKg6/rcpeWCxDw=\\n-----END PUBLIC KEY-----\\n'}"
      ]
     },
     "execution_count": 12,
     "metadata": {},
     "output_type": "execute_result"
    }
   ],
   "source": [
    "#This is actualy json, so we can load it directly into a dictionary\n",
    "r = requests.get(url+\"/encrypted/\")\n",
    "print(r.status_code)\n",
    "r.json()"
   ]
  },
  {
   "cell_type": "code",
   "execution_count": 13,
   "metadata": {},
   "outputs": [
    {
     "data": {
      "text/plain": [
       "'9b6a676f-48b4-4180-8511-5cb89483d1fc'"
      ]
     },
     "execution_count": 13,
     "metadata": {},
     "output_type": "execute_result"
    }
   ],
   "source": [
    "#Remember the client_id from the server so we can get the right keys\n",
    "client_id = r.json()['client_id']\n",
    "client_id"
   ]
  },
  {
   "cell_type": "code",
   "execution_count": 14,
   "metadata": {},
   "outputs": [
    {
     "data": {
      "text/plain": [
       "'I have a dream that my four little children will one day live in a nation where they will not be judged by the color of their skin but by the content of their character.'"
      ]
     },
     "execution_count": 14,
     "metadata": {},
     "output_type": "execute_result"
    }
   ],
   "source": [
    "plain_text = \"I have a dream that my four little children will one day live in a nation where they will not be judged by the color of their skin but by the content of their character.\"\n",
    "plain_text"
   ]
  },
  {
   "cell_type": "code",
   "execution_count": 15,
   "metadata": {},
   "outputs": [
    {
     "name": "stdout",
     "output_type": "stream",
     "text": [
      "<Response [400]>\n",
      "{\"error\": \"Missing or unknown client_id\"}\n"
     ]
    }
   ],
   "source": [
    "# This is a bad request\n",
    "r = requests.post(url+\"/encrypted/\", \n",
    "                  json={'plain_text':plain_text })\n",
    "print(r)\n",
    "print(r.text)"
   ]
  },
  {
   "cell_type": "code",
   "execution_count": 16,
   "metadata": {},
   "outputs": [
    {
     "name": "stdout",
     "output_type": "stream",
     "text": [
      "<Response [400]>\n",
      "{\"error\": \"Bad request. Expected cipher_text or pub_key\"}\n"
     ]
    }
   ],
   "source": [
    "# This is another bad request\n",
    "r = requests.post(url+\"/encrypted/\", \n",
    "                  json={'plain_text':plain_text, 'client_id':client_id })\n",
    "print(r)\n",
    "print(r.text)"
   ]
  },
  {
   "cell_type": "code",
   "execution_count": 17,
   "metadata": {},
   "outputs": [
    {
     "name": "stdout",
     "output_type": "stream",
     "text": [
      "<Response [500]>\n",
      "Traceback (most recent call last):\n",
      "  File \"C:\\Users\\jdaily\\anaconda3\\Lib\\site-packages\\tornado\\web.py\", line 1788, in _execute\n",
      "    result = method(*self.path_args, **self.path_kwargs)\n",
      "             ^^^^^^^^^^^^^^^^^^^^^^^^^^^^^^^^^^^^^^^^^^^\n",
      "  File \"C:\\Users\\jdaily\\AppData\\Local\\Temp\\ipykernel_20416\\2090479051.py\", line 52, in post\n",
      "    print(f\"Using session key: {shared_secrets[client_id]}\")\n",
      "                                ~~~~~~~~~~~~~~^^^^^^^^^^^\n",
      "KeyError: '9b6a676f-48b4-4180-8511-5cb89483d1fc'\n",
      "\n"
     ]
    }
   ],
   "source": [
    "# This is caused the server to crash\n",
    "r = requests.post(url+\"/encrypted/\", \n",
    "                  json={'cipher_text':plain_text, 'client_id':client_id })\n",
    "print(r)\n",
    "print(r.text)"
   ]
  },
  {
   "cell_type": "markdown",
   "metadata": {},
   "source": [
    "## Why You Should Never Return Tracebacks to the Client\n",
    "\n",
    "Returning full Python error tracebacks in an HTTP response can expose sensitive internal details to attackers. Here's why it's dangerous:\n",
    "\n",
    "### 1. Reveals Internal Code Structure\n",
    "Tracebacks show:\n",
    "- File paths\n",
    "- Function names\n",
    "- Variable names\n",
    "- Line numbers\n",
    "\n",
    "This gives attackers a **blueprint of your application**, making it easier to exploit.\n",
    "\n",
    "### 2. Enables Targeted Attacks\n",
    "By seeing exactly where and how your server failed, attackers can:\n",
    "- Craft smarter input payloads\n",
    "- Bypass validation\n",
    "- Exploit known vulnerabilities\n",
    "\n",
    "### 3. May Leak Sensitive Data\n",
    "Some exceptions can expose:\n",
    "- API keys\n",
    "- Tokens\n",
    "- SQL queries\n",
    "- Internal system details\n",
    "\n",
    "Never return this kind of data to the client.\n",
    "\n",
    "### 4. Violates the Principle of Least Information\n",
    "Clients should only get minimal, non-sensitive feedback:\n",
    "```json\n",
    "{ \"error\": \"Invalid input\" }\n"
   ]
  },
  {
   "cell_type": "markdown",
   "metadata": {},
   "source": [
    "### Exercise\n",
    "Please find the endpoint logic in [Tornado Server Example.ipynb](Tornado%20Server%20Example.ipynb) and wrap the handler for `cipher_text` in a try, except block and return a Status Code 400 with minimal information. \n",
    "\n",
    "Bonus: add logging to the server so the engineering team can see what's going on. \n",
    "```python\n",
    "import logging\n",
    "\n",
    "try:\n",
    "    # risky code\n",
    "except Exception as e:\n",
    "    logging.exception(\"Internal server error\")  # logs traceback safely\n",
    "    self.set_status(500)\n",
    "    self.write({ \"error\": \"Internal server error\" })  # safe, generic message\n",
    "```"
   ]
  },
  {
   "cell_type": "code",
   "execution_count": 18,
   "metadata": {},
   "outputs": [
    {
     "name": "stdout",
     "output_type": "stream",
     "text": [
      "200\n",
      "{\"client_id\": \"7a7f5b19-b77b-4b65-afd9-c1054f5ee849\", \"pub\": \"-----BEGIN PUBLIC KEY-----\\nMCowBQYDK2VuAyEAkVMnhCHPriKTN4y4bGJ51dDdM22e9EQvVAnqsxsnJBs=\\n-----END PUBLIC KEY-----\\n\"}\n"
     ]
    }
   ],
   "source": [
    "#Get the key (Don't actually do this without verification.)\n",
    "r = requests.get(url+\"/encrypted/\")\n",
    "print(r.status_code)\n",
    "print(r.text)"
   ]
  },
  {
   "cell_type": "code",
   "execution_count": 19,
   "metadata": {},
   "outputs": [
    {
     "data": {
      "text/plain": [
       "'7a7f5b19-b77b-4b65-afd9-c1054f5ee849'"
      ]
     },
     "execution_count": 19,
     "metadata": {},
     "output_type": "execute_result"
    }
   ],
   "source": [
    "#Remember the client_id from the server so we can get the right keys\n",
    "client_id = r.json()['client_id']\n",
    "client_id"
   ]
  },
  {
   "cell_type": "code",
   "execution_count": 20,
   "metadata": {},
   "outputs": [
    {
     "name": "stdout",
     "output_type": "stream",
     "text": [
      "-----BEGIN PUBLIC KEY-----\n",
      "MCowBQYDK2VuAyEAkVMnhCHPriKTN4y4bGJ51dDdM22e9EQvVAnqsxsnJBs=\n",
      "-----END PUBLIC KEY-----\n",
      "\n"
     ]
    }
   ],
   "source": [
    "#Extract the public PEM key\n",
    "pub_key_text = r.json()['pub']\n",
    "print(pub_key_text)"
   ]
  },
  {
   "cell_type": "markdown",
   "metadata": {},
   "source": [
    "## Is It Safe to Get a Public Key Over the Internet?\n",
    "\n",
    "Yes — retrieving a public key over the open internet is generally acceptable, since public keys are meant to be shared. However, there are important security considerations to keep in mind.\n",
    "\n",
    "### Why It's Okay\n",
    "Public keys are used to:\n",
    "- Encrypt data that only the private key holder can decrypt\n",
    "- Verify digital signatures made with the corresponding private key\n",
    "\n",
    "So exposing a public key via an endpoint like:\n",
    "```python\n",
    "r = requests.get(\"http://example.com/public-key\")\n",
    "```\n",
    "is acceptable as long as the **key's authenticity** can be verified.\n",
    "\n",
    "### Risks Without Verification\n",
    "\n",
    "Even though public keys aren’t secret, an attacker could:\n",
    "\n",
    "- **Intercept the connection** (if not encrypted)  \n",
    "- **Replace the key with a forged one**  \n",
    "\n",
    "This enables:\n",
    "\n",
    "- Man-in-the-middle (MITM) attacks  \n",
    "- Spoofed signatures or encrypted messages sent to the attacker  \n",
    "\n",
    "### Best Practices for Public Key Distribution\n",
    "\n",
    "| Practice                     | Why It Matters                                             |\n",
    "|-----------------------------|------------------------------------------------------------|\n",
    "| **Use HTTPS**               | Prevents tampering during transmission                     |\n",
    "| **Pin Key Fingerprints**    | Ensure the received key matches a known trusted hash       |\n",
    "| **Sign the Key**            | Include a digital signature from a trusted authority (i.e. certificates)       |\n",
    "| **Distribute via Trusted Channels** | Use official websites, DNSSEC, package managers, etc.  |\n"
   ]
  },
  {
   "cell_type": "code",
   "execution_count": 21,
   "metadata": {},
   "outputs": [
    {
     "data": {
      "text/plain": [
       "<cryptography.hazmat.bindings._rust.openssl.x25519.X25519PrivateKey at 0x286da328470>"
      ]
     },
     "execution_count": 21,
     "metadata": {},
     "output_type": "execute_result"
    }
   ],
   "source": [
    "#Bring in the X25519 elliptic curve tools used for key exchange.\n",
    "from cryptography.hazmat.primitives.asymmetric.x25519 import X25519PrivateKey\n",
    "#serialization is used to convert keys to and from PEM (text) format.\n",
    "from cryptography.hazmat.primitives import serialization\n",
    "#Client needs to generate a new random key pair to be used in the key exchange.\n",
    "private_key_for_client= X25519PrivateKey.generate()\n",
    "private_key_for_client"
   ]
  },
  {
   "cell_type": "code",
   "execution_count": 22,
   "metadata": {},
   "outputs": [
    {
     "name": "stdout",
     "output_type": "stream",
     "text": [
      "b'-----BEGIN PUBLIC KEY-----\\nMCowBQYDK2VuAyEA162x19mIBjJygisQJt8U2VfXWbzkVzJaUhiQklgf8Go=\\n-----END PUBLIC KEY-----\\n'\n"
     ]
    }
   ],
   "source": [
    "#Extract the public key from the private key and\n",
    "# serialize it to PEM format so it can be safely transmitted (e.g., over HTTP).\n",
    "client_public_pem = private_key_for_client.public_key().public_bytes(\n",
    "       encoding=serialization.Encoding.PEM,\n",
    "       format=serialization.PublicFormat.SubjectPublicKeyInfo\n",
    ")\n",
    "print(client_public_pem)"
   ]
  },
  {
   "cell_type": "code",
   "execution_count": 23,
   "metadata": {},
   "outputs": [
    {
     "data": {
      "text/plain": [
       "<cryptography.hazmat.bindings._rust.openssl.x25519.X25519PublicKey at 0x286da32b9d0>"
      ]
     },
     "execution_count": 23,
     "metadata": {},
     "output_type": "execute_result"
    }
   ],
   "source": [
    "# Convert the server’s PEM-encoded public key string into a usable object.\n",
    "# Assume pub_key_text came from an HTTP response or local file.\n",
    "server_pub_key = serialization.load_pem_public_key(pub_key_text.encode('ascii'))\n",
    "server_pub_key"
   ]
  },
  {
   "cell_type": "code",
   "execution_count": 24,
   "metadata": {},
   "outputs": [
    {
     "data": {
      "text/plain": [
       "b'\\xe1\\tDn\\xd7,\\x05\\xcc\\xb2\\x0c\\xbb\\x14:x\\x08\\nF\\x13\\x88m\\xd58\\xa4\\x15\\xd38\\xa2\\xa0\\xe0\\xff\\x9a\\x1a'"
      ]
     },
     "execution_count": 24,
     "metadata": {},
     "output_type": "execute_result"
    }
   ],
   "source": [
    "# Use the client’s private key and the server’s public key to compute a shared key.\n",
    "shared_key = private_key_for_client.exchange(server_pub_key)\n",
    "shared_key"
   ]
  },
  {
   "cell_type": "markdown",
   "metadata": {},
   "source": [
    "This client has a shared secret, but the server does not. We need to send the server our public key so it can derive the same shared secret. Then we can use the shared secret to exchange information or setup session keys."
   ]
  },
  {
   "cell_type": "code",
   "execution_count": 25,
   "metadata": {},
   "outputs": [
    {
     "name": "stdout",
     "output_type": "stream",
     "text": [
      "200\n"
     ]
    },
    {
     "data": {
      "text/plain": [
       "{'message': 'Shared secret successfully calculated'}"
      ]
     },
     "execution_count": 25,
     "metadata": {},
     "output_type": "execute_result"
    }
   ],
   "source": [
    "# Send the server our public key so it can calulate a secret key\n",
    "r = requests.post(url+\"/encrypted/\", json={\n",
    "        'pub_key':client_public_pem.decode('utf-8'),\n",
    "        'uid':1, 'client_id':client_id \n",
    "    })\n",
    "print(r.status_code)\n",
    "r.json()"
   ]
  },
  {
   "cell_type": "markdown",
   "metadata": {},
   "source": [
    "Now both the client and server application have an ephemeral session key that is secret by only trading public keys."
   ]
  },
  {
   "cell_type": "code",
   "execution_count": 26,
   "metadata": {},
   "outputs": [
    {
     "data": {
      "text/plain": [
       "<cryptography.fernet.Fernet at 0x286da34e330>"
      ]
     },
     "execution_count": 26,
     "metadata": {},
     "output_type": "execute_result"
    }
   ],
   "source": [
    "# Let's setup a symmetric cipher to share information at the application level.\n",
    "from cryptography.fernet import Fernet\n",
    "session_cipher = Fernet(base64.urlsafe_b64encode(shared_key))\n",
    "session_cipher"
   ]
  },
  {
   "cell_type": "code",
   "execution_count": 27,
   "metadata": {},
   "outputs": [
    {
     "data": {
      "text/plain": [
       "b'gAAAAABoBwP-K541aRKBk-O6T_gp5QUoe7RsoQEMLXciKc1ueJEUYW9zlhVdC2IvFSVWWA-hYnF9fJ0ow-L7lY81zqnSvG5T7bRo6fSyjS1KnCV7VQqYlr4JlSOWs-TVICP0LHZJLSA3IGqiBYV-1Ad8TLEX5tjuTkzZrH_MzED38PawNEvakJtQpEb1o_2EL7eOsAImf7VsEf_Rg7g0V4tJld_YA-jSGMiAt14aCO3C9cr8OUSBC5piZ5eJ0n7RDH9X2HWHukpUGjt3wrpXlbJCioMTB_xLYm9twxz0GcgvFgWvwrreNjM='"
      ]
     },
     "execution_count": 27,
     "metadata": {},
     "output_type": "execute_result"
    }
   ],
   "source": [
    "cipher_text = session_cipher.encrypt(plain_text.encode('utf-8'))\n",
    "cipher_text"
   ]
  },
  {
   "cell_type": "code",
   "execution_count": 28,
   "metadata": {
    "scrolled": true
   },
   "outputs": [
    {
     "name": "stdout",
     "output_type": "stream",
     "text": [
      "<Response [200]>\n",
      "{\"message\": \"Successfully Decrypted Data\"}\n"
     ]
    }
   ],
   "source": [
    "r = requests.post(url+\"/encrypted/\", \n",
    "                  json={'cipher_text':cipher_text.decode('utf-8'), 'client_id':client_id  })\n",
    "print(r)\n",
    "print(r.text)"
   ]
  },
  {
   "cell_type": "markdown",
   "metadata": {},
   "source": [
    "## Summary\n",
    "* We can see how data can be encrypted and sent across the Internet. When using symmetric encryption, there needs to be a key exchange. This should never be done in the open, like we did in this example. \n",
    "\n",
    "* We introduced GET and POST\n",
    "\n",
    "* We introduced JSON\n",
    "\n",
    "* We talked about HTTP status codes"
   ]
  },
  {
   "cell_type": "code",
   "execution_count": 29,
   "metadata": {},
   "outputs": [
    {
     "data": {
      "text/plain": [
       "'👏'"
      ]
     },
     "execution_count": 29,
     "metadata": {},
     "output_type": "execute_result"
    }
   ],
   "source": [
    "#Unicode Character fun\n",
    "u\"\\U0001F44F\""
   ]
  },
  {
   "cell_type": "code",
   "execution_count": null,
   "metadata": {},
   "outputs": [],
   "source": []
  }
 ],
 "metadata": {
  "kernelspec": {
   "display_name": "Python 3 (ipykernel)",
   "language": "python",
   "name": "python3"
  },
  "language_info": {
   "codemirror_mode": {
    "name": "ipython",
    "version": 3
   },
   "file_extension": ".py",
   "mimetype": "text/x-python",
   "name": "python",
   "nbconvert_exporter": "python",
   "pygments_lexer": "ipython3",
   "version": "3.12.7"
  }
 },
 "nbformat": 4,
 "nbformat_minor": 4
}
