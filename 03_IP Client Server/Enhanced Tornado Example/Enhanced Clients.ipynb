{
 "cells": [
  {
   "cell_type": "markdown",
   "metadata": {},
   "source": [
    "# <center> Clients for Enhanced Tornado Server Example\n",
    "## <center> <img src=\"https://www.engr.colostate.edu/~jdaily/Systems-EN-CSU-1-C357.svg\" width=\"400\" /> \n",
    "### <center> Content Author: Jerry Duggan<br>Fall 2020"
   ]
  },
  {
   "cell_type": "markdown",
   "metadata": {},
   "source": [
    "# Performance of Symmetric v. Asymmetric Encryption"
   ]
  },
  {
   "cell_type": "markdown",
   "metadata": {},
   "source": [
    "See file EncryptionTiming.py"
   ]
  },
  {
   "cell_type": "markdown",
   "metadata": {},
   "source": [
    "* INFO:Timer:Symmetric Encryptions: 1000, secs: 0.116792, Symmetric Encryptions per second: 8562.2\n",
    "* INFO:Timer:Asymmetric Encryptions: 100, secs: 0.46274, Asymmetric Encryptions per second: 216.1\n",
    "* INFO:Timer:Asymmetric Signing: 100, secs: 0.447826, Asymmetric Signing per second: 223.3"
   ]
  },
  {
   "cell_type": "markdown",
   "metadata": {},
   "source": [
    "# SimpleClient\n",
    "Basic functionality -- accept a POST request, and return the original \"cipher_text\" (which is not encrypted) as \"plaintext\""
   ]
  },
  {
   "cell_type": "code",
   "execution_count": 3,
   "metadata": {},
   "outputs": [
    {
     "name": "stdout",
     "output_type": "stream",
     "text": [
      "I have a dream that my four little children will one day live in a nation where they will not be judged by the color of their skin but by the content of their character.\n"
     ]
    }
   ],
   "source": [
    "import requests\n",
    "\n",
    "plain_text = \"I have a dream that my four little children will one day live in a nation where they will not be judged by the color of their skin but by the content of their character.\"\n",
    "\n",
    "\n",
    "r = requests.post(\"http://127.0.0.1:9100/\",\n",
    "                      json={'cipher_text': plain_text})\n",
    "reply = r.json()\n",
    "print(reply['plaintext'])"
   ]
  },
  {
   "cell_type": "markdown",
   "metadata": {},
   "source": [
    "# SymmetricKeyClient\n",
    "Server will respond to a GET request with a symmetric key.  Client then uses this key to encrypt\n",
    "a message and POST it to the server.  Server decrypts the message with the symmetric key and returns\n",
    "cipher_text and plaintext back to the client.\n",
    "\n",
    "**VERY BAD PRACTICE** as symmetric key can be snooped.  No security here at all."
   ]
  },
  {
   "cell_type": "code",
   "execution_count": 4,
   "metadata": {},
   "outputs": [
    {
     "name": "stdout",
     "output_type": "stream",
     "text": [
      "lfXQ7to6aQHAdAVG30AlQlTyYdvDissj6Z2aZb9KRqg=\n",
      "I have a dream that my four little children will one day live in a nation where they will not be judged by the color of their skin but by the content of their character.\n"
     ]
    }
   ],
   "source": [
    "import requests\n",
    "from cryptography.fernet import Fernet\n",
    "# Get the key (Don't actually do this)\n",
    "r = requests.get(\"http://localhost:9100/encrypted/\")\n",
    "key = r.json()['key']\n",
    "print(key)\n",
    "f = Fernet(key)\n",
    "plain_text = \"I have a dream that my four little children will one day live in a nation where they will not be judged by the color of their skin but by the content of their character.\"\n",
    "cipher_text = f.encrypt(plain_text.encode('utf-8'))\n",
    "r = requests.post(\"http://localhost:9100/encrypted/\", json={'cipher_text': cipher_text.decode('utf-8'), })\n",
    "reply = r.json()\n",
    "print(reply['plaintext'])"
   ]
  },
  {
   "cell_type": "markdown",
   "metadata": {},
   "source": [
    "# PublicKeyClient\n",
    "Server responds to a GET request with its public key.  Client then uses this public key to encrypt a message.  Server uses its private key to decrypt, returning both the original cipher_text and the decrypted plaintext.\n",
    "\n",
    "This is reasonable practice, as only the server knows its private key, and thus only the server can decrypt, so message privace is maintained.  It is subject to impersonation of the client, though...\n",
    "\n",
    "It is also potentially slow, as asymmetric encryption is significantly slower than symmetric encryption."
   ]
  },
  {
   "cell_type": "markdown",
   "metadata": {},
   "source": [
    "![Public Key](PublicKey.png)"
   ]
  },
  {
   "cell_type": "code",
   "execution_count": 5,
   "metadata": {},
   "outputs": [
    {
     "name": "stdout",
     "output_type": "stream",
     "text": [
      "I have a dream that my four little children will one day live in a nation where they will not be judged by the color of their skin but by the content of their character.\n"
     ]
    }
   ],
   "source": [
    "import requests\n",
    "from cryptography.hazmat.primitives import serialization\n",
    "from cryptography.hazmat.backends import default_backend\n",
    "from cryptography.hazmat.primitives import hashes\n",
    "from cryptography.hazmat.primitives.asymmetric import padding\n",
    "import base64\n",
    "\n",
    "r = requests.get(\"http://127.0.0.1:9100/serverPublicKey/\")\n",
    "jsonReply = r.json()\n",
    "serverPublicKeyPEM = jsonReply['publicKey'].encode('ASCII')\n",
    "serverPublicKey = serialization.load_pem_public_key(serverPublicKeyPEM, backend=default_backend())\n",
    "\n",
    "plain_text = \"I have a dream that my four little children will one day live in a nation where they will not be judged by the color of their skin but by the content of their character.\"\n",
    "encodedPlainText = plain_text.encode('utf-8')\n",
    "encrypted = serverPublicKey.encrypt(encodedPlainText,\n",
    "                                    padding.OAEP(\n",
    "                                        mgf=padding.MGF1(algorithm=hashes.SHA256()),\n",
    "                                        algorithm=hashes.SHA256(),\n",
    "                                        label=None)\n",
    "                                    )\n",
    "\n",
    "encryptedB64 = base64.b64encode(encrypted)\n",
    "encryptedB64ASCII = encryptedB64.decode('ASCII')\n",
    "\n",
    "r = requests.post(\"http://127.0.0.1:9100/serverPublicKey/\",\n",
    "                  json={'cipher_text': encryptedB64ASCII})\n",
    "reply = r.json()\n",
    "print(reply['plaintext'])\n",
    "\n",
    "\n"
   ]
  },
  {
   "cell_type": "markdown",
   "metadata": {},
   "source": [
    "# KeyExchangeClient\n",
    "Client sends its public key as a URL argument in the GET.  Server replies to the get by encrypting a symmetric key with the client public key.  Client uses its private key to decrypt the symmetric key, and sends subsequent messages encryped with the symmetric key.\n",
    "\n",
    "Much faster than using asymmetric encryption for the entire conversation.\n",
    "\n",
    "Still subject to impersonation -- this time on the server side.  Can be cracked by a Person-in-the-middle (PITM) attack."
   ]
  },
  {
   "cell_type": "markdown",
   "metadata": {},
   "source": [
    "![Key Exchange](KeyExchange.png)"
   ]
  },
  {
   "cell_type": "code",
   "execution_count": 7,
   "metadata": {},
   "outputs": [
    {
     "name": "stdout",
     "output_type": "stream",
     "text": [
      "b'uh728xHamkmNPZHnNsNms1U-b_hZUo8PUQtjG6p4P6A='\n",
      "Jerry is a stinker!\n"
     ]
    }
   ],
   "source": [
    "import requests\n",
    "from cryptography.hazmat.primitives import serialization\n",
    "from cryptography.hazmat.backends import default_backend\n",
    "from cryptography.hazmat.primitives import hashes\n",
    "from cryptography.hazmat.primitives.asymmetric import padding\n",
    "from cryptography.hazmat.primitives.asymmetric import rsa\n",
    "from cryptography.hazmat.primitives.serialization import Encoding, PublicFormat\n",
    "from cryptography.fernet import Fernet\n",
    "\n",
    "import base64\n",
    "\n",
    "PRIVATE_KEY = rsa.generate_private_key(\n",
    "    public_exponent=65537,\n",
    "    key_size=2048,\n",
    "    backend=default_backend()\n",
    ")\n",
    "PUBLIC_KEY = PRIVATE_KEY.public_key()\n",
    "PORT = 9101  # set this here so we can reuse app for PITM\n",
    "\n",
    "# Prepare the client's public key for transmission to server & transmit as a URL parameter\n",
    "\n",
    "encodedClientPublicKey = base64.b64encode(PUBLIC_KEY.public_bytes(Encoding.DER, \n",
    "                                                                  PublicFormat.SubjectPublicKeyInfo))\n",
    "r = requests.get(f\"http://localhost:{PORT}/serverPublicKeySymmetricKeyExchange/\", \n",
    "                 {'client_publicKey': encodedClientPublicKey})\n",
    "jsonReply = r.json()\n",
    "\n",
    "# The symmetric key will be returned (encoded) in the 'encocedEncryptedSymmetricKey' parameter\n",
    "# from the server.  Prepare it for use by decoding then decrypting using the client private key\n",
    "\n",
    "encodedEncryptedSymmetricKey = jsonReply['encodedEncryptedSymmetricKey']\n",
    "encryptedSymmetricKey = base64.b64decode(encodedEncryptedSymmetricKey)\n",
    "symmetricKey = PRIVATE_KEY.decrypt(encryptedSymmetricKey, padding.OAEP(mgf=padding.MGF1(algorithm=hashes.SHA256()),\n",
    "                                                                      algorithm=hashes.SHA256(),\n",
    "                                                                      label=None))\n",
    "print(symmetricKey)\n",
    "\n",
    "# Now we can send our message using the symmetric key -- just like the SymmetricKeyClient example\n",
    "# (except this time the symmetric key cannot be snooped)\n",
    "\n",
    "f = Fernet(symmetricKey)\n",
    "plain_text = \"I have a dream that my four little children will one day live in a nation where they will not be judged by the color of their skin but by the content of their character.\"\n",
    "cipher_text = f.encrypt(plain_text.encode('utf-8'))\n",
    "r = requests.post(f\"http://localhost:{PORT}/encrypted/\", json={'cipher_text': cipher_text.decode('utf-8'), })\n",
    "reply = r.json()\n",
    "print(reply['plaintext'])"
   ]
  },
  {
   "cell_type": "markdown",
   "metadata": {},
   "source": [
    "# Person in the middle (PITM) attack\n",
    "1. Start the PITM.py in a separate window\n",
    "1. Change the port in the above KeyExchangeClient to 9101\n",
    "1. Rerun the KeyExchangeClient"
   ]
  },
  {
   "cell_type": "markdown",
   "metadata": {},
   "source": [
    "![Person in the Middle](PITM.png)"
   ]
  },
  {
   "cell_type": "markdown",
   "metadata": {},
   "source": [
    "## Certificates and Chain-of-Trust combats PITM attacks\n",
    "If I trust you, and you trust the server, then I can trust the server."
   ]
  },
  {
   "cell_type": "markdown",
   "metadata": {},
   "source": [
    "![Certificate Creation](CA.png)"
   ]
  },
  {
   "cell_type": "markdown",
   "metadata": {},
   "source": [
    "### Who do I trust?\n",
    "Windows certificate manger establishes a trust store for windows apps.  Provides public keys for trusted Certificate Authorities (CA)s.\n",
    "\n",
    "1. Windows Start->Run\n",
    "2. Enter mmc\n",
    "3. File->Add or Remove Snap-in...\n",
    "4. Select 'Certificates' & 'Add>'\n",
    "5. Add for computer account\n",
    "6. Finish, then OK"
   ]
  },
  {
   "cell_type": "code",
   "execution_count": null,
   "metadata": {},
   "outputs": [],
   "source": []
  }
 ],
 "metadata": {
  "kernelspec": {
   "display_name": "Python 3 (ipykernel)",
   "language": "python",
   "name": "python3"
  },
  "language_info": {
   "codemirror_mode": {
    "name": "ipython",
    "version": 3
   },
   "file_extension": ".py",
   "mimetype": "text/x-python",
   "name": "python",
   "nbconvert_exporter": "python",
   "pygments_lexer": "ipython3",
   "version": "3.12.7"
  }
 },
 "nbformat": 4,
 "nbformat_minor": 4
}
