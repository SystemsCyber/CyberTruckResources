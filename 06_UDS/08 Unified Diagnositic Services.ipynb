{
 "cells": [
  {
   "cell_type": "markdown",
   "metadata": {},
   "source": [
    "## <center> Lab: UDS over CAN\n",
    "## <center> ENGR 580A2: Secure Vehicle and Industrial Networking\n",
    "## <center><img src=\"https://www.engr.colostate.edu/~jdaily/Systems-EN-CSU-1-C357.svg\" width=\"400\" />\n",
    "### <center> Instructor: Dr. Jeremy Daily"
   ]
  },
  {
   "cell_type": "markdown",
   "metadata": {},
   "source": [
    "# Prerequisites\n",
    "We'll need a file that logs traffic from a unified diagnostic service (UDS) session. UDS is used by many companies, and is especially popular among european companies. For our example, we'll use a DDEC Reports session.\n",
    "\n",
    "DDEC Reports is a freely available fleet management tool for Detroit Diesel Engines. If you wanted to use it, you'd need an RP1210 compliant vehicle diagnostics adapter (VDA), like the DPA5. A google search for \"DDEC Reports Download\" usually points you in the right direction. \n",
    "\n",
    "\n",
    "We've already gathered a DDEC Reports file and the candump log file for when it was made. We need to download that first. If you are running this notebook on a BeagleBone, make sure it is connected to the Internet. "
   ]
  },
  {
   "cell_type": "code",
   "execution_count": 1,
   "metadata": {},
   "outputs": [
    {
     "name": "stdout",
     "output_type": "stream",
     "text": [
      "Requirement already satisfied: pip in c:\\users\\jeremy\\anaconda3\\lib\\site-packages (23.1)\n",
      "Note: you may need to restart the kernel to use updated packages.\n"
     ]
    }
   ],
   "source": [
    "# Install the requests library so we can download files from the Internet\n",
    "# uncomment the following line if requests is not installed\n",
    "#%pip install requests --upgrade --user\n",
    "#%pip install --upgrade pip\n",
    "import requests\n",
    "import struct"
   ]
  },
  {
   "cell_type": "code",
   "execution_count": 2,
   "metadata": {},
   "outputs": [
    {
     "name": "stdout",
     "output_type": "stream",
     "text": [
      "(1531228460.025007) can1 18FDD001#FFFFFF3030FFFFFF\n",
      "(1531228460.025565) can1 14FEF131#CFFFFFF300FFFF30\n",
      "(1531228460.026155) can1 18FEDB01#E900E900E900FFFF\n",
      "(1531228460.026721) can1 18FD9401#4C01FFFFFFFFFFFF\n"
     ]
    }
   ],
   "source": [
    "# Download the candump log file from Dr. Daily's website\n",
    "url = r'https://www.engr.colostate.edu/~jdaily/J1939/files/candump_DDECReportsExtaction032819.txt'\n",
    "r = requests.get(url)\n",
    "candump_file = r.text\n",
    "print(candump_file[:203])\n",
    "# Write the received text data to a file:\n",
    "with open('DDECReportsExtaction032819.txt','w') as log_file:\n",
    "    log_file.write(candump_file)"
   ]
  },
  {
   "cell_type": "code",
   "execution_count": 3,
   "metadata": {},
   "outputs": [],
   "source": [
    "# Download the DDEC Reports file from Dr. Daily's website\n",
    "url = r'https://www.engr.colostate.edu/~jdaily/J1939/files/DDECReportsExtaction032819.pdf'\n",
    "r = requests.get(url)\n",
    "# Write the received binary pdf data to a file:\n",
    "with open('DDECReportsExtaction032819.pdf','wb') as pdf_file:\n",
    "    pdf_file.write(r.content)"
   ]
  },
  {
   "cell_type": "markdown",
   "metadata": {},
   "source": [
    "If the block above successfully ran, then you should be able to open the PDF file with this link [DDECReportsExtaction032819.pdf](DDECReportsExtaction032819.pdf)"
   ]
  },
  {
   "cell_type": "code",
   "execution_count": 4,
   "metadata": {},
   "outputs": [],
   "source": [
    "# Download the DDEC Reports file from Dr. Daily's website\n",
    "url = r'https://www.engr.colostate.edu/~jdaily/J1939/files/DDECReportsExtaction032819.XTR'\n",
    "r = requests.get(url)\n",
    "# Write the received binary DDEC Reports data to a file:\n",
    "with open('DDECReportsExtaction032819.XTR','wb') as xtr_file:\n",
    "    xtr_file.write(r.content)"
   ]
  },
  {
   "cell_type": "markdown",
   "metadata": {},
   "source": [
    "# ISO 14229 or ISO 15765\n",
    "These ISO standards define a method of communication that is primarily focused on diagnosic services. \n",
    "\n",
    "For SAE J1939 networks, there is a special parameter group number 55808 (0xDA00) that is used for all UDS traffic. This means we can filter out all the other traffic and only focus on the UDS messages.\n",
    "\n",
    "Source address 241 (0xF1) is the world-wide harmonized (WWH) off-board diagnositics (OBD) Tester for OBD tester as defined in WWH-OBD ISO 15765-4.\n"
   ]
  },
  {
   "cell_type": "code",
   "execution_count": 5,
   "metadata": {},
   "outputs": [
    {
     "name": "stdout",
     "output_type": "stream",
     "text": [
      "[]\n"
     ]
    },
    {
     "data": {
      "text/plain": [
       "[{'timestamp': 1531228470.611006,\n",
       "  'sa': 241,\n",
       "  'da': 0,\n",
       "  'data': b'\\x03\"\\xf1\\x00\\xff\\xff\\xff\\xff'},\n",
       " {'timestamp': 1531228470.631073,\n",
       "  'sa': 0,\n",
       "  'da': 241,\n",
       "  'data': b'\\x07b\\xf1\\x00\\x02\\x01\\x0e\\x01'},\n",
       " {'timestamp': 1531228472.603126,\n",
       "  'sa': 241,\n",
       "  'da': 0,\n",
       "  'data': b'\\x02\\x10\\x03\\x00\\x00\\x00\\x00\\x00'},\n",
       " {'timestamp': 1531228472.621486,\n",
       "  'sa': 0,\n",
       "  'da': 241,\n",
       "  'data': b'\\x06P\\x03\\x00\\x14\\x00\\xc8\\x01'},\n",
       " {'timestamp': 1531228473.115446,\n",
       "  'sa': 241,\n",
       "  'da': 0,\n",
       "  'data': b'\\x03\"\\xf1\\x00\\x00\\x00\\x00\\x00'}]"
      ]
     },
     "execution_count": 5,
     "metadata": {},
     "output_type": "execute_result"
    }
   ],
   "source": [
    "# Extract UDS messages from the CAN log\n",
    "uds_messages = []\n",
    "for line in candump_file.split('\\n'):\n",
    "    elements = line.replace(\"#\",\" \").split()\n",
    "    try:\n",
    "        if \"18DA\" in elements[2]:\n",
    "            can_id = int(elements[2],16) \n",
    "            sa = can_id & 0xFF\n",
    "            da = (can_id & 0xFF00) >> 8\n",
    "            data = bytes.fromhex(elements[3])\n",
    "            timestamp = float(elements[0].strip('()'))\n",
    "            uds_messages.append({'timestamp':timestamp,'sa':sa,'da':da,'data':data})\n",
    "    except IndexError:\n",
    "        # This is usually an empty string at the end\n",
    "        print(elements)\n",
    "uds_messages[:5]"
   ]
  },
  {
   "cell_type": "markdown",
   "metadata": {},
   "source": [
    "With only the ISO 15765 data in the list, we can begin to understand some of the diagnostic communications. Let's take this one line at a time. For reference, we can use the ISO specification (which is expensive) or this poster:\n",
    "\n",
    "https://automotive.softing.com/fileadmin/sof-files/pdf/de/ae/poster/UDS_Faltposter_softing2016.pdf\n",
    "\n",
    "Since all of the UDS information is in the data field, we only derive source and destination address from the CAN ID. The first nibble of the first byte in the data frame is one of 3 things:\n",
    "1. If the first nibble is a 0, then it is a single frame message. The second nibble is the message size.\n",
    "2. If the first nibble is a 1, then this is the first frame of a long message. The next 12 bits represent the message size.\n",
    "3. If the first nibble is a 2, then this is a consecutive frame from the first message.\n",
    "4. If the first nibble is a 3, then it is a session control message. \n",
    "\n",
    "https://en.wikipedia.org/wiki/ISO_15765-2\n",
    "\n",
    "Since 12 bits are allocated to describe the message size, the total amount of data that can be transfered in 1 session is 4096 bytes, which is over twice the size of the maximum for the J1939 Transport Protocol."
   ]
  },
  {
   "cell_type": "markdown",
   "metadata": {},
   "source": [
    "### Single Frame Message: Read Data By Identifier"
   ]
  },
  {
   "cell_type": "code",
   "execution_count": 6,
   "metadata": {},
   "outputs": [
    {
     "data": {
      "text/plain": [
       "{'timestamp': 1531228470.611006,\n",
       " 'sa': 241,\n",
       " 'da': 0,\n",
       " 'data': b'\\x03\"\\xf1\\x00\\xff\\xff\\xff\\xff'}"
      ]
     },
     "execution_count": 6,
     "metadata": {},
     "output_type": "execute_result"
    }
   ],
   "source": [
    "# Let's look at the first UDS message:\n",
    "uds_messages[0]"
   ]
  },
  {
   "cell_type": "markdown",
   "metadata": {},
   "source": [
    "This message comes from source address 241, which is the OBD Tool."
   ]
  },
  {
   "cell_type": "code",
   "execution_count": 7,
   "metadata": {},
   "outputs": [
    {
     "data": {
      "text/plain": [
       "'03 22 F1 00 FF FF FF FF'"
      ]
     },
     "execution_count": 7,
     "metadata": {},
     "output_type": "execute_result"
    }
   ],
   "source": [
    "# We can pretty-print the data:\n",
    "\" \".join([\"{:02X}\".format(b) for b in uds_messages[0]['data']])"
   ]
  },
  {
   "cell_type": "markdown",
   "metadata": {},
   "source": [
    "The first nibble is a zero, so this is a single frame message. \n",
    "\n",
    "The next nibble is 3, which means there are 3 bytes to this message, which are 0x22, 0xF1, 0x00\n",
    "\n",
    "The first byte in this sequence is called the *service identifier* (SID). The upper right table in the poster shows the different service ids.\n",
    "\n",
    "![UDS_Service_Overview.png](UDS_Service_Overview.png)\n",
    "\n",
    "Based on this message the SID is 0x22, which is the **Read Data By Identifier** service name (RDBI). It does not have a sub function, so the identifier to read is 0xF100.\n",
    "\n",
    "When we look up the 0xF100 identifier in Appendix C.1 of the ISO 14229-3 standard, it says that this parameter is Manufacturer Specific, which means we may not get any other information about the data that comes next. "
   ]
  },
  {
   "cell_type": "code",
   "execution_count": 8,
   "metadata": {},
   "outputs": [
    {
     "name": "stdout",
     "output_type": "stream",
     "text": [
      "{'timestamp': 1531228470.631073, 'sa': 0, 'da': 241, 'data': b'\\x07b\\xf1\\x00\\x02\\x01\\x0e\\x01'}\n"
     ]
    }
   ],
   "source": [
    "# Look at the next record\n",
    "print(uds_messages[1])"
   ]
  },
  {
   "cell_type": "code",
   "execution_count": 9,
   "metadata": {},
   "outputs": [
    {
     "data": {
      "text/plain": [
       "'07 62 F1 00 02 01 0E 01'"
      ]
     },
     "execution_count": 9,
     "metadata": {},
     "output_type": "execute_result"
    }
   ],
   "source": [
    "# This is the response to\n",
    "\" \".join([\"{:02X}\".format(b) for b in uds_messages[1]['data']])"
   ]
  },
  {
   "cell_type": "markdown",
   "metadata": {},
   "source": [
    "This response from the engine controller (SA = 0) is a single frame with seven bytes: 0x07.\n",
    "\n",
    "The response service identifier is indicated by adding 0x40 to the requested SID. This is the same as setting the the 6th bit: 0b01000000\n"
   ]
  },
  {
   "cell_type": "code",
   "execution_count": 10,
   "metadata": {},
   "outputs": [
    {
     "name": "stdout",
     "output_type": "stream",
     "text": [
      "response SID: 0x62\n"
     ]
    }
   ],
   "source": [
    "sid = 0x22\n",
    "sid_response = sid | 0x40 #set the repsonse bit\n",
    "print(\"response SID: 0x{:02X}\".format(sid_response))"
   ]
  },
  {
   "cell_type": "markdown",
   "metadata": {},
   "source": [
    "The parameter for the response is still 0xF100 and the data for the response is 0x02010E01. We don't know what this parameter from the engine means, but presumably the diagnostic software application knows what to do.  "
   ]
  },
  {
   "cell_type": "code",
   "execution_count": 11,
   "metadata": {},
   "outputs": [
    {
     "name": "stdout",
     "output_type": "stream",
     "text": [
      "{'timestamp': 1531228472.603126, 'sa': 241, 'da': 0, 'data': b'\\x02\\x10\\x03\\x00\\x00\\x00\\x00\\x00'}\n",
      "{'timestamp': 1531228472.621486, 'sa': 0, 'da': 241, 'data': b'\\x06P\\x03\\x00\\x14\\x00\\xc8\\x01'}\n",
      "{'timestamp': 1531228473.115446, 'sa': 241, 'da': 0, 'data': b'\\x03\"\\xf1\\x00\\x00\\x00\\x00\\x00'}\n",
      "{'timestamp': 1531228473.131437, 'sa': 0, 'da': 241, 'data': b'\\x07b\\xf1\\x00\\x02\\x01\\x0e\\x03'}\n",
      "{'timestamp': 1531228473.828286, 'sa': 241, 'da': 0, 'data': b\"\\x02'\\x05\\x00\\x00\\x00\\x00\\x00\"}\n",
      "{'timestamp': 1531228473.841246, 'sa': 0, 'da': 241, 'data': b'\\x04g\\x05\\x11\\x8e\\x01\\x0e\\x03'}\n",
      "{'timestamp': 1531228474.095685, 'sa': 241, 'da': 0, 'data': b\"\\x04'\\x06\\xc0,\\x00\\x00\\x00\"}\n",
      "{'timestamp': 1531228474.111126, 'sa': 0, 'da': 241, 'data': b'\\x02g\\x06\\x11\\x8e\\x01\\x0e\\x03'}\n"
     ]
    }
   ],
   "source": [
    "# let's look at the next sequence of messages\n",
    "for msg in uds_messages[2:10]:\n",
    "    print(msg)"
   ]
  },
  {
   "cell_type": "markdown",
   "metadata": {},
   "source": [
    "### Session Control Message\n",
    "The next message is a single frame, 2-byte message from the OBD Tester device (the diagnostic tool)."
   ]
  },
  {
   "cell_type": "code",
   "execution_count": 12,
   "metadata": {},
   "outputs": [
    {
     "name": "stdout",
     "output_type": "stream",
     "text": [
      "{'timestamp': 1531228472.603126, 'sa': 241, 'da': 0, 'data': b'\\x02\\x10\\x03\\x00\\x00\\x00\\x00\\x00'}\n"
     ]
    }
   ],
   "source": [
    "print(uds_messages[2])"
   ]
  },
  {
   "cell_type": "code",
   "execution_count": 13,
   "metadata": {},
   "outputs": [
    {
     "data": {
      "text/plain": [
       "'02 10 03 00 00 00 00 00'"
      ]
     },
     "execution_count": 13,
     "metadata": {},
     "output_type": "execute_result"
    }
   ],
   "source": [
    "\" \".join([\"{:02X}\".format(b) for b in uds_messages[2]['data']])"
   ]
  },
  {
   "cell_type": "markdown",
   "metadata": {},
   "source": [
    "This message SID is 0x10, which is the Diagnostic Session Control (DSC). It has a subfunction, which is indicated by the following byte, 0x03. The highest two bits of the value are both zero. According to the Sub-Function Byte of UDS, this means the suppressPosRspMsgIndicatioBit is not set, so the ECU is expected to respond.\n",
    "\n",
    "When looking up SID of 0x10, we find the subfunction of this SID is the diagnostic Session Type. A value of 0x30 means \n",
    "```\n",
    "extendedDiagnosticSession (EXTDS)\n",
    "```\n",
    "This diagnosticSession can be used to enable all diagnostic services required to support the adjustment of functions like \"Idle Speed, CO Value, etc.\" in the server's memory. It can also be used to enable diagnostic services, which are not specifically tied to the adjustment of functions according to the ISO-14229-3 standard.\n",
    "\n",
    "So we are looking at an extended diagnostic session.\n"
   ]
  },
  {
   "cell_type": "code",
   "execution_count": 14,
   "metadata": {},
   "outputs": [
    {
     "name": "stdout",
     "output_type": "stream",
     "text": [
      "{'timestamp': 1531228472.621486, 'sa': 0, 'da': 241, 'data': b'\\x06P\\x03\\x00\\x14\\x00\\xc8\\x01'}\n"
     ]
    },
    {
     "data": {
      "text/plain": [
       "'06 50 03 00 14 00 C8 01'"
      ]
     },
     "execution_count": 14,
     "metadata": {},
     "output_type": "execute_result"
    }
   ],
   "source": [
    "# Look at the response:\n",
    "print(uds_messages[3])\n",
    "\" \".join([\"{:02X}\".format(b) for b in uds_messages[3]['data']])"
   ]
  },
  {
   "cell_type": "markdown",
   "metadata": {},
   "source": [
    "The response from the engine controller to the OBD tool is a single frame with 6 bytes (0x06). The response SID is has 0x40 added to the origination SID: 0x50 = 0x10 + 0x40.\n",
    "\n",
    "The diagnostic Function Type is still 0x03, which is an extended session. This takes up 2 bytes, there are still four to go.\n",
    "\n",
    "According to ISO 14229, Tables 26-28, we can interpet the next four bytes as the sessionParameterRecord, which contain ECU timing requirements. These bytes have the following definitions:\n",
    "```\n",
    "P2Server_max (high byte)\n",
    "P2Server_max (low byte)\n",
    "P2*Server_max (high byte)\n",
    "P2*Server_max (low byte)\n",
    "```\n",
    "These parameters have the following definitions:\n",
    "\n",
    "| Parameter | Description | # of bytes | Resolution | minimum value | maximum value |\n",
    "| :-- | :-- | --- | --- | --- | --- |\n",
    "| `P2Server_max` |Default P2Server_max timing supported by the server for the activated diagnostic session. | 2 | 1 ms | 0 ms | 65,535 ms |\n",
    "| `P2*Server_max` | Enhanced (NRC 0x78) P2Server_max supported by the server for the activated diagnostic session. | 2 | 10 ms | 0 ms | 655,350 ms |\n",
    "\n",
    "Enhanced Negative Response Code (NRC) 0x78 is `requestCorrectlyReceived-ResponsePending` (RCRRP)\n",
    "\n",
    "```This NRC indicates that the request message was received correctly, and that all parameters in the request message were valid, but the action to be performed is not yet completed and the server is not yet ready to receive another request. As soon as the requested service has been completed, the server shall send a positive response message or negative response message with a response code different from this.```"
   ]
  },
  {
   "cell_type": "code",
   "execution_count": 15,
   "metadata": {},
   "outputs": [
    {
     "name": "stdout",
     "output_type": "stream",
     "text": [
      "The ECU can support up to 20 milliseconds for P2Server_max\n"
     ]
    }
   ],
   "source": [
    "P2Server_max = struct.unpack('>H',uds_messages[3]['data'][3:5])[0]\n",
    "print(\"The ECU can support up to {} milliseconds for P2Server_max\".format(P2Server_max))"
   ]
  },
  {
   "cell_type": "code",
   "execution_count": 16,
   "metadata": {},
   "outputs": [
    {
     "name": "stdout",
     "output_type": "stream",
     "text": [
      "The ECU can support up to 2000 milliseconds for P2*Server_max\n"
     ]
    }
   ],
   "source": [
    "P2_star_Server_max = struct.unpack('>H',uds_messages[3]['data'][5:7])[0]\n",
    "print(\"The ECU can support up to {} milliseconds for P2*Server_max\".format(P2_star_Server_max*10))"
   ]
  },
  {
   "cell_type": "markdown",
   "metadata": {},
   "source": [
    "## Security Session Setup"
   ]
  },
  {
   "cell_type": "code",
   "execution_count": 17,
   "metadata": {},
   "outputs": [
    {
     "name": "stdout",
     "output_type": "stream",
     "text": [
      "From: 241, To:   0,  02 27 05 00 00 00 00 00\n",
      "From:   0, To: 241,  04 67 05 11 8E 01 0E 03\n",
      "From: 241, To:   0,  04 27 06 C0 2C 00 00 00\n",
      "From:   0, To: 241,  02 67 06 11 8E 01 0E 03\n"
     ]
    }
   ],
   "source": [
    "# look at the transactions\n",
    "for i in range(6,10):\n",
    "    print(\"From: {:3d}, To: {:3d}, \".format(uds_messages[i]['sa'],uds_messages[i]['da']),\n",
    "          \" \".join([\"{:02X}\".format(b) for b in uds_messages[i]['data']]))"
   ]
  },
  {
   "cell_type": "markdown",
   "metadata": {},
   "source": [
    "The first message is from the OBD Tester to the engine controller of a single frame, 2 byte message. The SID is 0x27, which is **Security Access**. The Sub-Function is 0x05, which is **requestSeed**. The tool is asking the ECU for a seed so it can authenticate itself to perform diagnostics. \n",
    "\n",
    "The second message is the response from the engine with only 4 bytes. The Response code is 0x67 = 0x27 + 0x40 and the positive response message is the **securitySeed**. This is a 16-bit number with the high byte first and low byte second (big endian, motorolla format).\n",
    "\n",
    "The third message is also Security Access, but the Sub-Function is 0x60 which is **sendKey**. The key value are the next two bytes and they are calculated by the service tool based on the securitySeed value. In other words, there is a challenge-response function that maps 0x118E to 0xC02C:\n",
    "`f(0x118E) = 0xC02C`\n",
    "\n",
    "From a cybersecurity stand point, this so-called security is insufficient to stop anything but an accidental session on the bus. 16-bits are far too few to be cryptographically sound. \n",
    "\n",
    "**THIS APPROACH IS NOT ACTUALLY SECURE!**\n",
    "\n",
    "We could figure out $f$. How?\n",
    "\n",
    "Finally, the last message is from the Engine with a positive response to the key exchange. Notice there are only 2 bytes in this response, 0x02. This means the bytes 11 8E 01 0E 03 have no meaning and you can see they were left over from the last transmission from the engine. They can be ignored. \n",
    "\n",
    "Now the security setup has been satisfied, and the session can continue."
   ]
  },
  {
   "cell_type": "markdown",
   "metadata": {},
   "source": [
    "##  Multiple Frame Message\n",
    "The next block of messages make use of the ISO transport protocol. The first nibble in the messages are greater than zero. This is byte is called the protocol control information (PCI). "
   ]
  },
  {
   "cell_type": "code",
   "execution_count": 18,
   "metadata": {},
   "outputs": [
    {
     "name": "stdout",
     "output_type": "stream",
     "text": [
      "From: 241, To:   0,  10 0D 2E F1 5C 00 00 00\n",
      "From:   0, To: 241,  30 08 14 11 8E 01 0E 03\n",
      "From: 241, To:   0,  21 13 03 1C 00 00 00 00\n"
     ]
    }
   ],
   "source": [
    "# look at the next 3 messages\n",
    "for i in range(10,13):\n",
    "    print(\"From: {:3d}, To: {:3d}, \".format(uds_messages[i]['sa'],uds_messages[i]['da']),\n",
    "          \" \".join([\"{:02X}\".format(b) for b in uds_messages[i]['data']]))"
   ]
  },
  {
   "cell_type": "markdown",
   "metadata": {},
   "source": [
    "The first message is from the OBD tool to the engine. The first nibble is a 1, which means it is the first frame in a multi frame message. The next 3 nibbles (12 bits) are the length of the message in bytes."
   ]
  },
  {
   "cell_type": "code",
   "execution_count": 19,
   "metadata": {},
   "outputs": [
    {
     "name": "stdout",
     "output_type": "stream",
     "text": [
      "4109\n"
     ]
    }
   ],
   "source": [
    "# Compute the message length\n",
    "message_bytes = struct.unpack(\">H\",uds_messages[10]['data'][0:2])[0]\n",
    "print(message_bytes)"
   ]
  },
  {
   "cell_type": "code",
   "execution_count": 20,
   "metadata": {},
   "outputs": [
    {
     "name": "stdout",
     "output_type": "stream",
     "text": [
      "13\n"
     ]
    }
   ],
   "source": [
    "# Since we only want 3 nibbles, we have to mask off the initial 1:\n",
    "message_bytes &= 0x0FFF\n",
    "print(message_bytes)"
   ]
  },
  {
   "cell_type": "code",
   "execution_count": 21,
   "metadata": {},
   "outputs": [
    {
     "data": {
      "text/plain": [
       "13"
      ]
     },
     "execution_count": 21,
     "metadata": {},
     "output_type": "execute_result"
    }
   ],
   "source": [
    "0xD"
   ]
  },
  {
   "cell_type": "markdown",
   "metadata": {},
   "source": [
    "So, we are expecting 13 bytes of data. The data count starts with the bytes immediatly following the count. There are 6 of the 13 bytes on the first line: `2E F1 5C 00 00 00`\n",
    "\n",
    "The second line is from the engine to the tool and is a 0x30 Flow control PCI message. The value of 3 in the first nibble indicates it is a flow control message. The second nibble, 0, indicates it's clear to send. The options are 0 = Clear To Send, 1 = Wait, 2 = Overflow/abort. The next byte, 0x08, indicates the number of frames that may be sent before waiting for the next flow control frame. A value of zero allows the remaining frames to be sent without flow control or delay. The third byte, 0x14, is the Separation Time (ST) or the minimum time in milliseconds between frames. In this case, frames should be send 20 ms apart. "
   ]
  },
  {
   "cell_type": "code",
   "execution_count": 22,
   "metadata": {},
   "outputs": [
    {
     "data": {
      "text/plain": [
       "20"
      ]
     },
     "execution_count": 22,
     "metadata": {},
     "output_type": "execute_result"
    }
   ],
   "source": [
    "0x14"
   ]
  },
  {
   "cell_type": "markdown",
   "metadata": {},
   "source": [
    "In the last message, the remaining 7 of the 13 bytes are transmitted. The PCI nibble is 2 and the next nibble is 1, which means it is the first of the consecutive frames. The second nibble will increment as subsequent consecutive frames arrive. The last of the message is `13 03 1C 00 00 00 00`"
   ]
  },
  {
   "cell_type": "code",
   "execution_count": 23,
   "metadata": {},
   "outputs": [
    {
     "name": "stdout",
     "output_type": "stream",
     "text": [
      "Message length: 13\n",
      "2E F1 5C 00 00 00 13 03 1C 00 00 00 00\n"
     ]
    }
   ],
   "source": [
    "full_message = bytes.fromhex('2E F1 5C 00 00 00 13 03 1C 00 00 00 00')\n",
    "print('Message length:', len(full_message))\n",
    "print(\" \".join([\"{:02X}\".format(b) for b in full_message]))"
   ]
  },
  {
   "cell_type": "markdown",
   "metadata": {},
   "source": [
    "This starts with a SID of 0x2E, which is **Write Data By Identififer**. The data identifier is 0xF15C and the data to write is 0x00 00 00 13 03 1C 00 00 00 00. The data identifier falls in the identificationOptionVehicleManufacturerSpecificDataIdentifier range."
   ]
  },
  {
   "cell_type": "code",
   "execution_count": 24,
   "metadata": {},
   "outputs": [
    {
     "name": "stdout",
     "output_type": "stream",
     "text": [
      "From:   0, To: 241,  03 6E F1 5C 8E 01 0E 03\n"
     ]
    }
   ],
   "source": [
    "#The next message\n",
    "i=13\n",
    "print(\"From: {:3d}, To: {:3d}, \".format(uds_messages[i]['sa'],uds_messages[i]['da']),\n",
    "      \" \".join([\"{:02X}\".format(b) for b in uds_messages[i]['data']]))"
   ]
  },
  {
   "cell_type": "markdown",
   "metadata": {},
   "source": [
    "This is a message from the engine that is 3 bytes long. It is a response to the Write Data By Identifier. Recall, 0x6E = 0x2E + 0x40. There is an acknowledgement of the identifier of 0xF15C. The  remaining bytes can be ignored."
   ]
  },
  {
   "cell_type": "markdown",
   "metadata": {},
   "source": [
    "## Routine Control"
   ]
  },
  {
   "cell_type": "code",
   "execution_count": null,
   "metadata": {},
   "outputs": [],
   "source": [
    "# look at the next 2 messages exchanged\n",
    "for i in range(14,16):\n",
    "    print(\"From: {:3d}, To: {:3d}, \".format(uds_messages[i]['sa'],uds_messages[i]['da']),\n",
    "          \" \".join([\"{:02X}\".format(b) for b in uds_messages[i]['data']]))"
   ]
  },
  {
   "cell_type": "markdown",
   "metadata": {},
   "source": [
    "This is from the OBD Tool sending 5 bytes. The SID is 0x31, which is for **Routine Control**. This typically means the tool is asking the ECU to do something. From 14229:\n",
    "\n",
    "    The RoutineControl service is used by the client to execute a defined sequence of \n",
    "    steps and obtain any relevant results. There is a lot of flexibility with this service, \n",
    "    but typical usage may include functionality such as erasing memory, resetting or \n",
    "    learning adaptive data, running a self-test, overriding the normal server control \n",
    "    strategy, and controlling a server value to change over time including predefined \n",
    "    sequences (e.g., close convertible roof) to name a few. In general, when used to \n",
    "    control outputs this service is used for more complex type control whereas \n",
    "    inputOutputControlByIdentifier is used for relatively simple (e.g., static) output control.\n",
    "\n",
    "The subsequent bytes inlude the Sub-Function, routineIdentifier, and routineControlOptionRecord.\n",
    "\n",
    "There are three options for the Sub-Function:\n",
    "\n",
    "| Value | Name  | Description | Mnemonic |\n",
    "| --- | :-- | :-- | :-- |\n",
    "| 0x01 | startRoutine | This parameter specifies that the server shall start the routine specified by the routineIdentifier. | STR |\n",
    "| 0x02 | stopRoutine | This parameter specifies that the server shall stop the routine specified by the routineIdentifier. | STPR |\n",
    "| 0x03 | requestRoutineResults | This parameter specifies that the server shall return result values of the routine specified by the routineIdentifier. | RRR\n",
    "\n",
    "In this case, the Sub-Finction is 0x01, which means to start a routine. \n",
    ". \n",
    "The following bytes are 0x0304, which is the dataIdenfifier for the service routine. Appendix F of the ISO 14229-3 says this parameter falls within the following:\n",
    "\n",
    "| Byte Value | Name  | Description | Mnemonic |\n",
    "| --- | :-- | :-- | :-- |\n",
    "| 0x0200 - 0xDFFF | vehicleManufacturerSpecific | This range of values is reserved for vehicle manufacturer specific use. | VMS_ |\n",
    "\n",
    "We don't know what this is requesting, yet.\n",
    "\n",
    "The last byte of the first message is a 0x01, which is the routineControlOptionRecord. We don't know this option means at this time, but the service tool does know.\n",
    "\n"
   ]
  },
  {
   "cell_type": "code",
   "execution_count": 25,
   "metadata": {},
   "outputs": [
    {
     "name": "stdout",
     "output_type": "stream",
     "text": [
      "From: 241, To:   0,  03 22 F1 95 00 00 00 00\n",
      "From:   0, To: 241,  10 16 62 F1 95 00 02 56\n",
      "From: 241, To:   0,  30 08 00 00 00 00 00 00\n",
      "From:   0, To: 241,  21 00 01 58 16 04 00 61\n",
      "From:   0, To: 241,  22 0E 01 0E 0A 18 0C 00\n",
      "From:   0, To: 241,  23 00 00 0E 0A 18 0C 00\n"
     ]
    }
   ],
   "source": [
    "# look at the next parameter exchanged\n",
    "for i in range(16,22):\n",
    "    print(\"From: {:3d}, To: {:3d}, \".format(uds_messages[i]['sa'],uds_messages[i]['da']),\n",
    "          \" \".join([\"{:02X}\".format(b) for b in uds_messages[i]['data']]))"
   ]
  },
  {
   "cell_type": "markdown",
   "metadata": {},
   "source": [
    "After the tool has initiated the 0x0304 routineIdentifier, the OBD Tool asks the engine for the 0xF195 parameter using the Request Parameter by ID SID, 0x22. Appendix C says 0xF195 is:\n",
    "\n",
    "*systemSupplierECUSoftwareVersionNumberDataIdentifier* This value shall be used to reference the system supplier specific ECU (server) software version number. Record data content and format shall be server specific and defined by the system supplier.\n",
    "\n",
    "The response from the engine on the second line starts with an First Frame indicator 0x10 and the data length is 0x16 or 22 bytes. The first 6 bytes are `62 F1 95 00 02 56`. The 0x62 is the positive response to the data request by ID, 0x62 = 0x22 + 0x40.\n",
    "\n",
    "A flow control message follows indicating to send upto the next 8 messages. \n",
    "\n",
    "Finally, the following three consecutive frames fill out the message. "
   ]
  },
  {
   "cell_type": "code",
   "execution_count": 26,
   "metadata": {},
   "outputs": [
    {
     "name": "stdout",
     "output_type": "stream",
     "text": [
      "Message length:  22\n"
     ]
    }
   ],
   "source": [
    "full_message = bytes.fromhex('62 F1 95 00 02 56 00 01 58 16 04 00 61 0E 01 0E 0A 18 0C 00 00 00')\n",
    "print(\"Message length: \", len(full_message))"
   ]
  },
  {
   "cell_type": "code",
   "execution_count": 27,
   "metadata": {},
   "outputs": [
    {
     "data": {
      "text/plain": [
       "22"
      ]
     },
     "execution_count": 27,
     "metadata": {},
     "output_type": "execute_result"
    }
   ],
   "source": [
    "0x16"
   ]
  },
  {
   "cell_type": "markdown",
   "metadata": {},
   "source": [
    "### VIN"
   ]
  },
  {
   "cell_type": "code",
   "execution_count": 28,
   "metadata": {},
   "outputs": [
    {
     "name": "stdout",
     "output_type": "stream",
     "text": [
      "From: 241, To:   0,  03 22 F1 A0 00 00 00 00\n",
      "From:   0, To: 241,  10 14 62 F1 A0 31 46 55\n",
      "From: 241, To:   0,  30 08 00 00 00 00 00 00\n",
      "From:   0, To: 241,  21 42 47 44 44 52 38 43\n",
      "From:   0, To: 241,  22 4C 42 46 33 30 30 30\n"
     ]
    }
   ],
   "source": [
    "# look at the next 5 messages exchanged\n",
    "for i in range(22,27):\n",
    "    print(\"From: {:3d}, To: {:3d}, \".format(uds_messages[i]['sa'],uds_messages[i]['da']),\n",
    "          \" \".join([\"{:02X}\".format(b) for b in uds_messages[i]['data']]))"
   ]
  },
  {
   "cell_type": "markdown",
   "metadata": {},
   "source": [
    "This next set of messages starts with the OBD tool requesting another parameter by ID. The ID is 0xF1A0, which is\n",
    "\n",
    "*identificationOptionVehicleManufacturerSpecific* - This range of values shall be used for vehicle manufacturer specific server/vehicle identification options.\n",
    "\n",
    "The repsonse is 20 bytes long (0x14). The response to the SID is the following 3 bytes (0x62 0xF1 0xA0) and the data are `31 46 55 42 47 44 44 52 38 43 4C 42 46 33 30 30 30` "
   ]
  },
  {
   "cell_type": "code",
   "execution_count": 29,
   "metadata": {},
   "outputs": [
    {
     "data": {
      "text/plain": [
       "b'1FUBGDDR8CLBF3000'"
      ]
     },
     "execution_count": 29,
     "metadata": {},
     "output_type": "execute_result"
    }
   ],
   "source": [
    "bytes.fromhex(\"31 46 55 42 47 44 44 52 38 43 4C 42 46 33 30 30 30\")"
   ]
  },
  {
   "cell_type": "markdown",
   "metadata": {},
   "source": [
    "This is clearly a VIN. This means we can tell that the VIN for the DDEC UDS service is the identifer in the 0xF1A0 position."
   ]
  },
  {
   "cell_type": "markdown",
   "metadata": {},
   "source": [
    "### Engine Serial Number"
   ]
  },
  {
   "cell_type": "code",
   "execution_count": 30,
   "metadata": {},
   "outputs": [
    {
     "name": "stdout",
     "output_type": "stream",
     "text": [
      "From: 241, To:   0,  03 22 F1 80 00 00 00 00\n",
      "From:   0, To: 241,  10 11 62 F1 80 34 37 32\n",
      "From: 241, To:   0,  30 08 00 00 00 00 00 00\n",
      "From:   0, To: 241,  21 39 30 33 53 30 30 38\n",
      "From:   0, To: 241,  22 37 34 35 33 30 30 38\n"
     ]
    }
   ],
   "source": [
    "# look at the next 5 messages exchanged\n",
    "for i in range(27,32):\n",
    "    print(\"From: {:3d}, To: {:3d}, \".format(uds_messages[i]['sa'],uds_messages[i]['da']),\n",
    "          \" \".join([\"{:02X}\".format(b) for b in uds_messages[i]['data']]))"
   ]
  },
  {
   "cell_type": "markdown",
   "metadata": {},
   "source": [
    "This exchange is the same as the previous VIN example, except the ID is 0xF180. The ISO 14229 Appendix C says this parameter is BootSoftwareIdentificationDataIdentifier. From the standard:\n",
    "    \n",
    "    This value shall be used to reference the vehicle manufacturer specific\n",
    "    ECU boot software identification record. The first data byte of the record\n",
    "    data shall be the numberOfModules that are reported. Following the\n",
    "    numberOfModules the boot software identification(s) are reported. The\n",
    "    format of the boot software identification structure shall be ECU specific\n",
    "    and defined by the vehicle manufacturer.\n",
    "\n",
    "The data are 17 bytes long. The first three of those bytes are used by the positive response SID (`62 F1 80`)."
   ]
  },
  {
   "cell_type": "code",
   "execution_count": 31,
   "metadata": {},
   "outputs": [
    {
     "data": {
      "text/plain": [
       "b'472903S0087453'"
      ]
     },
     "execution_count": 31,
     "metadata": {},
     "output_type": "execute_result"
    }
   ],
   "source": [
    "# Encode the BootSoftwarID\n",
    "bytes.fromhex(\"34 37 32 39 30 33 53 30 30 38 37 34 35 33\")"
   ]
  },
  {
   "cell_type": "markdown",
   "metadata": {},
   "source": [
    "This is a case where the standard may not line up with the actual practice. This is becasue the data field that is displayed is actually the engine serial number. \n",
    "From the DDEC Reports PDF:\n",
    "    \n",
    "    Engine S/N: 472903S0087453"
   ]
  },
  {
   "cell_type": "code",
   "execution_count": 32,
   "metadata": {},
   "outputs": [
    {
     "name": "stdout",
     "output_type": "stream",
     "text": [
      "From: 241, To:   0,  03 22 F1 A1 00 00 00 00\n",
      "From:   0, To: 241,  07 62 F1 A1 00 15 19 17\n",
      "From: 241, To:   0,  03 22 F1 8C 00 00 00 00\n",
      "From:   0, To: 241,  10 10 62 F1 8C 30 3B 2E\n",
      "From: 241, To:   0,  30 08 00 00 00 00 00 00\n",
      "From:   0, To: 241,  21 30 31 35 38 2E 30 30\n",
      "From:   0, To: 241,  22 33 30 30 38 2E 30 30\n"
     ]
    }
   ],
   "source": [
    "for i in range(32,39):\n",
    "    print(\"From: {:3d}, To: {:3d}, \".format(uds_messages[i]['sa'],uds_messages[i]['da']),\n",
    "          \" \".join([\"{:02X}\".format(b) for b in uds_messages[i]['data']]))"
   ]
  },
  {
   "cell_type": "code",
   "execution_count": 33,
   "metadata": {},
   "outputs": [
    {
     "name": "stdout",
     "output_type": "stream",
     "text": [
      "From: 241, To:   0,  03 22 F1 16 00 00 00 00\n",
      "From:   0, To: 241,  10 10 62 F1 16 30 30 32\n",
      "From: 241, To:   0,  30 08 00 00 00 00 00 00\n",
      "From:   0, To: 241,  21 34 34 36 38 32 30 32\n",
      "From:   0, To: 241,  22 30 30 33 38 32 30 32\n",
      "From: 241, To:   0,  03 22 F1 26 00 00 00 00\n",
      "From:   0, To: 241,  10 10 62 F1 26 30 31 37\n",
      "From: 241, To:   0,  30 08 00 00 00 00 00 00\n",
      "From:   0, To: 241,  21 34 34 38 35 38 30 32\n",
      "From:   0, To: 241,  22 30 30 31 35 38 30 32\n",
      "From: 241, To:   0,  03 22 F1 00 00 00 00 00\n",
      "From:   0, To: 241,  07 62 F1 00 02 01 0E 03\n",
      "From: 241, To:   0,  03 22 F1 A2 00 00 00 00\n",
      "From:   0, To: 241,  10 0B 62 F1 A2 21 2A 11\n",
      "From: 241, To:   0,  30 08 00 00 00 00 00 00\n",
      "From:   0, To: 241,  21 1C 04 03 13 00 2A 11\n"
     ]
    }
   ],
   "source": [
    "for i in range(39,55):\n",
    "    print(\"From: {:3d}, To: {:3d}, \".format(uds_messages[i]['sa'],uds_messages[i]['da']),\n",
    "          \" \".join([\"{:02X}\".format(b) for b in uds_messages[i]['data']]))"
   ]
  },
  {
   "cell_type": "code",
   "execution_count": 34,
   "metadata": {},
   "outputs": [
    {
     "name": "stdout",
     "output_type": "stream",
     "text": [
      "From: 241, To:   0,  03 22 F8 04 00 00 00 00\n",
      "From:   0, To: 241,  10 13 62 F8 04 30 4D 34\n",
      "From: 241, To:   0,  30 08 00 00 00 00 00 00\n",
      "From:   0, To: 241,  21 30 58 30 30 30 30 30\n",
      "From:   0, To: 241,  22 30 30 30 30 30 30 30\n",
      "From: 241, To:   0,  03 22 F8 06 00 00 00 00\n",
      "From:   0, To: 241,  07 62 F8 06 B7 A9 8A C9\n"
     ]
    }
   ],
   "source": [
    "for i in range(55,62):\n",
    "    print(\"From: {:3d}, To: {:3d}, \".format(uds_messages[i]['sa'],uds_messages[i]['da']),\n",
    "          \" \".join([\"{:02X}\".format(b) for b in uds_messages[i]['data']]))"
   ]
  },
  {
   "cell_type": "markdown",
   "metadata": {},
   "source": [
    "After working through some of the log file request after request, we may find the following parameters based on their ID:\n",
    "\n",
    "| Identifier | Bytes | ISO 14229 meaning | DDEC Reports Meaning |\n",
    "| :-- | :-- | :-- | :-- |\n",
    "| 0xF1A1 | `00 15 19 17` |  identificationOptionVehicleManufacturerSpecific | ?? |\n",
    "| 0xF18C | `30 3B 2E 30 31 35 38 2E 30 30 33 30 30` | ECUSerialNumberDataIdentifier | Not Used |\n",
    "| 0xF116 | `30 30 32 34 34 36 38 32 30 32 30 30 33` | identificationOptionVehicleManufacturerSpecific | Not Used |\n",
    "| 0xF126 | `30 31 37 34 34 38 35 38 30 32 30 30 31` | identificationOptionVehicleManufacturerSpecific | Not Used |\n",
    "| 0xF1A2 | `21 2A 11 1C 04 03 13 00` | identificationOptionVehicleManufacturerSpecific | ?? |\n",
    "| 0xF804 | `30 4D 34 30 58 30 30 30 30 30 30 30 30 30 30 30` | OBDInfoTypeDataIdentifier | ?? | \n",
    "| 0xF806 | `B7 A9 8A C9` | OBDInfoTypeDataIdentifier | ?? | "
   ]
  },
  {
   "cell_type": "code",
   "execution_count": 35,
   "metadata": {},
   "outputs": [
    {
     "data": {
      "text/plain": [
       "b'0;.0158.00300'"
      ]
     },
     "execution_count": 35,
     "metadata": {},
     "output_type": "execute_result"
    }
   ],
   "source": [
    "bytes.fromhex(\"30 3B 2E 30 31 35 38 2E 30 30 33 30 30\")"
   ]
  },
  {
   "cell_type": "code",
   "execution_count": 36,
   "metadata": {},
   "outputs": [
    {
     "data": {
      "text/plain": [
       "b'0024468202003'"
      ]
     },
     "execution_count": 36,
     "metadata": {},
     "output_type": "execute_result"
    }
   ],
   "source": [
    "bytes.fromhex(\"30 30 32 34 34 36 38 32 30 32 30 30 33\")"
   ]
  },
  {
   "cell_type": "code",
   "execution_count": 37,
   "metadata": {},
   "outputs": [
    {
     "data": {
      "text/plain": [
       "b'0174485802001'"
      ]
     },
     "execution_count": 37,
     "metadata": {},
     "output_type": "execute_result"
    }
   ],
   "source": [
    "bytes.fromhex(\"30 31 37 34 34 38 35 38 30 32 30 30 31\")"
   ]
  },
  {
   "cell_type": "code",
   "execution_count": 38,
   "metadata": {},
   "outputs": [
    {
     "data": {
      "text/plain": [
       "b'!*\\x11\\x1c\\x04\\x03\\x13\\x00'"
      ]
     },
     "execution_count": 38,
     "metadata": {},
     "output_type": "execute_result"
    }
   ],
   "source": [
    "bytes.fromhex(\"21 2A 11 1C 04 03 13 00\")"
   ]
  },
  {
   "cell_type": "code",
   "execution_count": 39,
   "metadata": {},
   "outputs": [
    {
     "data": {
      "text/plain": [
       "b'0M40X00000000000'"
      ]
     },
     "execution_count": 39,
     "metadata": {},
     "output_type": "execute_result"
    }
   ],
   "source": [
    "bytes.fromhex(\"30 4D 34 30 58 30 30 30 30 30 30 30 30 30 30 30\")"
   ]
  },
  {
   "cell_type": "markdown",
   "metadata": {},
   "source": [
    "## Negative Acknowledgment\n",
    "There are many situations where the ECU will tell the Tool that it can't handle the request. Here's an example"
   ]
  },
  {
   "cell_type": "code",
   "execution_count": 40,
   "metadata": {},
   "outputs": [
    {
     "name": "stdout",
     "output_type": "stream",
     "text": [
      "4851 From: 241, To:   0,  03 22 3E 01 00 00 00 00\n",
      "4852 From:   0, To: 241,  03 7F 22 78 01 FF C8 C0\n",
      "4853 From:   0, To: 241,  11 4F 62 3E 01 4A 01 05\n",
      "4854 From: 241, To:   0,  30 08 00 00 00 00 00 00\n",
      "4855 From:   0, To: 241,  21 FF 07 7D FF 7F 02 00\n",
      "4856 From:   0, To: 241,  22 00 00 04 00 00 00 99\n",
      "4857 From:   0, To: 241,  23 05 00 00 02 00 00 00\n",
      "4858 From:   0, To: 241,  24 00 00 00 00 63 00 00\n",
      "4859 From:   0, To: 241,  25 00 00 00 00 00 00 00\n",
      "4860 From:   0, To: 241,  26 00 00 00 00 00 00 00\n",
      "4861 From:   0, To: 241,  27 00 00 00 00 00 00 00\n",
      "4862 From:   0, To: 241,  28 00 00 00 00 03 00 00\n",
      "4863 From: 241, To:   0,  30 08 00 00 00 00 00 00\n",
      "4864 From:   0, To: 241,  29 00 36 05 00 00 00 00\n",
      "4865 From:   0, To: 241,  2A 00 00 00 00 00 00 00\n",
      "4866 From:   0, To: 241,  2B 00 00 00 00 00 00 00\n",
      "4867 From:   0, To: 241,  2C 00 00 00 00 00 00 00\n",
      "4868 From:   0, To: 241,  2D 00 00 00 00 00 00 00\n",
      "4869 From:   0, To: 241,  2E 00 00 1B 45 1C 14 00\n",
      "4870 From:   0, To: 241,  2F 00 00 00 00 00 00 00\n",
      "4871 From:   0, To: 241,  20 01 00 00 00 1C 1A 2F\n",
      "4872 From: 241, To:   0,  30 08 00 00 00 00 00 00\n",
      "4873 From:   0, To: 241,  21 64 40 00 00 00 00 00\n",
      "4874 From:   0, To: 241,  22 00 00 00 00 00 00 00\n",
      "4875 From:   0, To: 241,  23 00 00 00 00 00 00 00\n",
      "4876 From:   0, To: 241,  24 00 00 00 00 00 01 00\n",
      "4877 From:   0, To: 241,  25 00 00 5C 02 00 00 00\n",
      "4878 From:   0, To: 241,  26 00 00 00 00 00 00 00\n",
      "4879 From:   0, To: 241,  27 00 00 00 00 00 00 00\n",
      "4880 From:   0, To: 241,  28 00 00 00 00 00 00 00\n",
      "4881 From: 241, To:   0,  30 08 00 00 00 00 00 00\n",
      "4882 From:   0, To: 241,  29 00 00 00 00 00 00 00\n",
      "4883 From:   0, To: 241,  2A 00 00 00 00 00 00 00\n",
      "4884 From:   0, To: 241,  2B 00 00 00 00 00 00 00\n",
      "4885 From:   0, To: 241,  2C 00 00 00 00 00 DC 7F\n",
      "4886 From:   0, To: 241,  2D 65 40 9B 87 64 40 1A\n",
      "4887 From:   0, To: 241,  2E 2F 64 40 21 0B 83 00\n",
      "4888 From:   0, To: 241,  2F 00 00 00 00 00 00 04\n",
      "4889 From:   0, To: 241,  20 00 00 00 00 00 00 00\n",
      "4890 From: 241, To:   0,  30 08 00 00 00 00 00 00\n",
      "4891 From:   0, To: 241,  21 00 00 00 00 88 45 00\n",
      "4892 From:   0, To: 241,  22 00 00 00 17 00 00 00\n",
      "4893 From:   0, To: 241,  23 00 00 00 00 00 00 00\n",
      "4894 From:   0, To: 241,  24 00 00 00 00 00 00 00\n",
      "4895 From:   0, To: 241,  25 00 00 00 00 00 00 00\n",
      "4896 From:   0, To: 241,  26 00 00 00 00 00 00 00\n",
      "4897 From:   0, To: 241,  27 00 00 00 00 00 00 00\n",
      "4898 From:   0, To: 241,  28 00 00 00 00 00 00 00\n",
      "4899 From: 241, To:   0,  30 08 00 00 00 00 00 00\n",
      "4900 From:   0, To: 241,  29 00 00 00 00 00 00 00\n",
      "4901 From:   0, To: 241,  2A 00 00 00 00 00 00 00\n",
      "4902 From:   0, To: 241,  2B 00 00 00 00 00 00 00\n",
      "4903 From:   0, To: 241,  2C 00 00 00 00 00 00 00\n",
      "4904 From:   0, To: 241,  2D 00 00 00 00 00 00 00\n",
      "4905 From:   0, To: 241,  2E 00 00 00 00 00 00 00\n",
      "4906 From:   0, To: 241,  2F 00 00 00 00 00 00 00\n",
      "4907 From: 241, To:   0,  03 19 02 0D 00 00 00 00\n",
      "4908 From:   0, To: 241,  03 59 02 0D 00 00 00 00\n",
      "4909 From: 241, To:   0,  03 22 1D 12 00 00 00 00\n",
      "4910 From:   0, To: 241,  05 62 1D 12 04 C2 00 00\n",
      "4911 From: 241, To:   0,  03 22 1D 13 00 00 00 00\n",
      "4912 From:   0, To: 241,  05 62 1D 13 04 C5 00 00\n",
      "4913 From: 241, To:   0,  03 22 3E 02 00 00 00 00\n",
      "4914 From:   0, To: 241,  03 7F 22 78 04 C5 00 00\n",
      "4915 From:   0, To: 241,  13 AD 62 3E 02 A8 03 01\n",
      "4916 From: 241, To:   0,  30 08 00 00 00 00 00 00\n",
      "4917 From:   0, To: 241,  21 7B 11 56 05 00 EC 4B\n",
      "4918 From:   0, To: 241,  22 7D 00 4B 9F 9D F4 3E\n",
      "4919 From:   0, To: 241,  23 6A AD 11 59 7D 00 6C\n",
      "4920 From:   0, To: 241,  24 D4 11 45 67 00 6D 2A\n",
      "4921 From:   0, To: 241,  25 12 35 59 00 6E 44 12\n",
      "4922 From:   0, To: 241,  26 32 56 00 70 58 12 58\n",
      "4923 From:   0, To: 241,  27 82 00 71 A5 12 71 9B\n",
      "4924 From:   0, To: 241,  28 00 72 AE 12 74 9D 00\n",
      "4925 From: 241, To:   0,  30 08 00 00 00 00 00 00\n",
      "4926 From:   0, To: 241,  29 72 E3 12 67 90 00 73\n",
      "4927 From:   0, To: 241,  2A 04 13 59 7D 00 73 C4\n",
      "4928 From:   0, To: 241,  2B 12 00 00 00 72 AA 12\n",
      "4929 From:   0, To: 241,  2C 08 29 00 71 83 12 16\n",
      "4930 From:   0, To: 241,  2D 37 00 71 72 12 10 2F\n",
      "4931 From:   0, To: 241,  2E 00 71 7A 12 0F 2F 00\n",
      "4932 From:   0, To: 241,  2F 70 82 12 00 09 00 70\n",
      "4933 From:   0, To: 241,  20 75 12 00 04 00 70 69\n",
      "4934 From: 241, To:   0,  30 08 00 00 00 00 00 00\n",
      "4935 From:   0, To: 241,  21 12 00 03 00 71 7A 12\n",
      "4936 From:   0, To: 241,  22 00 03 00 71 77 12 00\n",
      "4937 From:   0, To: 241,  23 19 00 71 80 12 00 17\n",
      "4938 From:   0, To: 241,  24 00 70 8C 12 00 18 00\n",
      "4939 From:   0, To: 241,  25 70 6C 12 00 19 00 70\n",
      "4940 From:   0, To: 241,  26 61 12 00 13 00 70 74\n",
      "4941 From:   0, To: 241,  27 12 00 14 00 70 70 12\n",
      "4942 From:   0, To: 241,  28 00 00 00 70 7A 12 00\n",
      "4943 From: 241, To:   0,  30 08 00 00 00 00 00 00\n",
      "4944 From:   0, To: 241,  29 00 00 70 7D 12 00 00\n",
      "4945 From:   0, To: 241,  2A 00 70 4D 12 00 11 00\n",
      "4946 From:   0, To: 241,  2B 70 43 12 00 16 00 6F\n",
      "4947 From:   0, To: 241,  2C 33 12 00 10 00 6E 1C\n",
      "4948 From:   0, To: 241,  2D 12 1C 3E 00 6E 13 12\n",
      "4949 From:   0, To: 241,  2E 4D 70 00 6E 11 12 41\n",
      "4950 From:   0, To: 241,  2F 65 00 6E F5 11 41 6A\n",
      "4951 From:   0, To: 241,  20 00 6E 0B 12 57 7D 00\n",
      "4952 From: 241, To:   0,  30 08 00 00 00 00 00 00\n",
      "4953 From:   0, To: 241,  21 6E 19 12 48 6D 00 6E\n",
      "4954 From:   0, To: 241,  22 F7 11 3E 61 00 6D D0\n",
      "4955 From:   0, To: 241,  23 11 15 35 00 6C A5 11\n",
      "4956 From:   0, To: 241,  24 36 55 00 6B A1 11 27\n",
      "4957 From:   0, To: 241,  25 41 00 6A 3D 11 00 02\n",
      "4958 From:   0, To: 241,  26 00 69 2A 11 3E 65 00\n",
      "4959 From:   0, To: 241,  27 68 0B 11 36 57 00 68\n",
      "4960 From:   0, To: 241,  28 E6 10 54 71 00 67 F6\n",
      "4961 From: 241, To:   0,  30 08 00 00 00 00 00 00\n",
      "4962 From:   0, To: 241,  29 10 2D 4C 00 67 F6 10\n",
      "4963 From:   0, To: 241,  2A 4D 70 00 67 EA 10 54\n",
      "4964 From:   0, To: 241,  2B 75 00 67 C4 10 06 13\n",
      "4965 From:   0, To: 241,  2C 00 66 05 11 00 00 00\n",
      "4966 From:   0, To: 241,  2D 66 BD 10 46 67 00 65\n",
      "4967 From:   0, To: 241,  2E 9F 10 14 2F 00 65 A3\n",
      "4968 From:   0, To: 241,  2F 10 00 00 00 64 3E 10\n",
      "4969 From:   0, To: 241,  20 00 00 00 63 52 10 4E\n",
      "4970 From: 241, To:   0,  30 08 00 00 00 00 00 00\n",
      "4971 From:   0, To: 241,  21 70 00 63 35 10 3B 5B\n",
      "4972 From:   0, To: 241,  22 00 63 3C 10 4D 6C 00\n",
      "4973 From:   0, To: 241,  23 63 27 10 00 00 00 60\n",
      "4974 From:   0, To: 241,  24 F9 0E 00 00 20 54 42\n",
      "4975 From:   0, To: 241,  25 0C 00 00 20 46 BF 09\n",
      "4976 From:   0, To: 241,  26 13 00 20 38 4E 09 1B\n",
      "4977 From:   0, To: 241,  27 00 60 2A 5A 09 1B 00\n",
      "4978 From:   0, To: 241,  28 60 1C 63 09 1A 00 60\n",
      "4979 From: 241, To:   0,  30 08 00 00 00 00 00 00\n",
      "4980 From:   0, To: 241,  29 10 62 09 19 00 60 08\n",
      "4981 From:   0, To: 241,  2A 5E 09 1A 00 60 02 67\n",
      "4982 From:   0, To: 241,  2B 09 16 00 60 00 63 09\n",
      "4983 From:   0, To: 241,  2C 16 00 60 00 54 09 1A\n",
      "4984 From:   0, To: 241,  2D 00 60 00 5A 09 1A 00\n",
      "4985 From:   0, To: 241,  2E 60 00 61 09 19 00 60\n",
      "4986 From:   0, To: 241,  2F 00 66 09 19 00 60 00\n",
      "4987 From:   0, To: 241,  20 63 09 19 00 60 00 62\n",
      "4988 From: 241, To:   0,  30 08 00 00 00 00 00 00\n",
      "4989 From:   0, To: 241,  21 09 19 00 60 00 64 09\n",
      "4990 From:   0, To: 241,  22 19 00 60 00 60 09 1A\n",
      "4991 From:   0, To: 241,  23 00 60 DB 9D F4 3E 76\n",
      "4992 From:   0, To: 241,  24 49 05 00 F6 A3 7C 00\n",
      "4993 From:   0, To: 241,  25 4B EB A4 B2 3E 00 61\n",
      "4994 From:   0, To: 241,  26 09 1E 00 60 00 70 09\n",
      "4995 From:   0, To: 241,  27 1C 00 60 00 A6 08 65\n",
      "4996 From:   0, To: 241,  28 00 40 04 CE 08 88 00\n",
      "4997 From: 241, To:   0,  30 08 00 00 00 00 00 00\n",
      "4998 From:   0, To: 241,  29 40 09 F2 0E A2 BF 00\n",
      "4999 From:   0, To: 241,  2A 10 FE 16 6D 86 00 13\n",
      "5000 From:   0, To: 241,  2B B4 11 39 63 00 17 25\n",
      "5001 From:   0, To: 241,  2C 15 78 A4 00 1B 7D 16\n",
      "5002 From:   0, To: 241,  2D 00 00 00 1E 48 12 58\n",
      "5003 From:   0, To: 241,  2E 87 00 21 B2 14 89 B6\n",
      "5004 From:   0, To: 241,  2F 00 25 2F 17 7F AE 00\n",
      "5005 From:   0, To: 241,  20 27 7C 10 04 33 00 2A\n",
      "5006 From: 241, To:   0,  30 08 00 00 00 00 00 00\n",
      "5007 From:   0, To: 241,  21 80 12 80 AA 00 2D 16\n",
      "5008 From:   0, To: 241,  22 14 77 A3 00 30 5B 15\n",
      "5009 From:   0, To: 241,  23 77 A4 00 33 C0 16 7C\n",
      "5010 From:   0, To: 241,  24 AA 00 35 64 10 06 28\n",
      "5011 From:   0, To: 241,  25 00 36 0B 11 82 AA 00\n",
      "5012 From:   0, To: 241,  26 38 C8 11 66 8D 00 3A\n",
      "5013 From:   0, To: 241,  27 3A 12 58 80 00 3B 27\n",
      "5014 From:   0, To: 241,  28 12 00 00 00 3A DD 11\n",
      "5015 From: 241, To:   0,  30 08 00 00 00 00 00 00\n",
      "5016 From:   0, To: 241,  29 00 00 00 3A 65 11 00\n",
      "5017 From:   0, To: 241,  2A 00 00 39 33 11 00 00\n",
      "5018 From:   0, To: 241,  2B 20 37 72 10 00 0A 20\n",
      "5019 From:   0, To: 241,  2C 37 0C 11 7E A6 20 38\n",
      "5020 From:   0, To: 241,  2D B7 11 69 90 00 39 17\n",
      "5021 From:   0, To: 241,  2E 12 52 7A 00 3A E9 11\n",
      "5022 From:   0, To: 241,  2F 00 00 00 3A 94 11 06\n",
      "5023 From:   0, To: 241,  20 23 00 39 B8 11 2B 50\n",
      "5024 From: 241, To:   0,  30 08 00 00 00 00 00 00\n",
      "5025 From:   0, To: 241,  21 00 39 97 11 0A 17 00\n",
      "5026 From:   0, To: 241,  22 38 27 11 00 00 00 37\n",
      "5027 From:   0, To: 241,  23 D2 10 00 00 00 36 70\n",
      "5028 From:   0, To: 241,  24 10 00 00 00 35 2E 10\n",
      "5029 From:   0, To: 241,  25 00 00 00 34 DB 0F 00\n",
      "5030 From:   0, To: 241,  26 00 00 33 63 0F 00 00\n",
      "5031 From:   0, To: 241,  27 20 30 F9 0D 00 00 20\n",
      "5032 From:   0, To: 241,  28 2B E1 09 12 00 60 26\n",
      "5033 From: 241, To:   0,  30 08 00 00 00 00 00 00\n",
      "5034 From:   0, To: 241,  29 57 09 17 00 60 21 4C\n",
      "5035 From:   0, To: 241,  2A 09 1C 00 60 1C 57 09\n",
      "5036 From:   0, To: 241,  2B 1C 00 60 17 5D 09 1D\n",
      "5037 From:   0, To: 241,  2C 00 60 12 5F 09 1D 00\n",
      "5038 From:   0, To: 241,  2D 60 0E 5E 09 1D 00 60\n",
      "5039 From:   0, To: 241,  2E 0A 5B 09 1E 00 60 08\n",
      "5040 From:   0, To: 241,  2F 5C 09 1E 08 60 08 CA\n",
      "5041 From:   0, To: 241,  20 09 4C 42 40 0A 04 0F\n",
      "5042 From: 241, To:   0,  30 08 00 00 00 00 00 00\n",
      "5043 From:   0, To: 241,  21 98 B4 40 10 E8 16 7E\n",
      "5044 From:   0, To: 241,  22 AA 00 15 A3 12 00 00\n",
      "5045 From:   0, To: 241,  23 00 18 57 15 7E AD 00\n",
      "5046 From:   0, To: 241,  24 1C 6D 16 00 00 00 1E\n",
      "5047 From:   0, To: 241,  25 A6 12 74 A7 00 21 02\n",
      "5048 From:   0, To: 241,  26 15 7B A8 00 25 C4 14\n",
      "5049 From:   0, To: 241,  27 00 00 00 1D 4E 0E 00\n",
      "5050 From:   0, To: 241,  28 00 60 0F 5C 09 1A 00\n",
      "5051 From: 241, To:   0,  30 08 00 00 00 00 00 00\n",
      "5052 From:   0, To: 241,  29 60 07 50 09 1C 00 60\n",
      "5053 From:   0, To: 241,  2A 01 53 09 1D 00 60 00\n",
      "5054 From:   0, To: 241,  2B 63 09 1B 00 60 00 71\n",
      "5055 From:   0, To: 241,  2C 08 5D 00 60 00 3C 08\n",
      "5056 From:   0, To: 241,  2D AC 00 40 06 8E 0B 6E\n",
      "5057 From:   0, To: 241,  2E 72 00 0C 03 13 7F AA\n",
      "5058 From:   0, To: 241,  2F 00 12 CE 11 00 00 00\n",
      "5059 From:   0, To: 241,  20 15 79 13 73 A1 00 1A\n",
      "5060 From: 241, To:   0,  30 08 00 00 00 00 00 00\n",
      "5061 From:   0, To: 241,  21 F9 17 5C 65 00 1C 7F\n",
      "5062 From:   0, To: 241,  22 12 64 94 00 20 43 14\n",
      "5063 From:   0, To: 241,  23 87 B3 00 25 27 17 82\n",
      "5064 From:   0, To: 241,  24 AF 00 27 06 11 2D 58\n",
      "5065 From:   0, To: 241,  25 00 2A A7 12 8B B7 00\n",
      "5066 From:   0, To: 241,  26 27 A5 B2 3E 8B B7 00\n"
     ]
    }
   ],
   "source": [
    "#\n",
    "for i in range(4851,5067):\n",
    "    print(i, \"From: {:3d}, To: {:3d}, \".format(uds_messages[i]['sa'],uds_messages[i]['da']),\n",
    "          \" \".join([\"{:02X}\".format(b) for b in uds_messages[i]['data']]))"
   ]
  },
  {
   "cell_type": "markdown",
   "metadata": {},
   "source": [
    "This block of the UDS Session starts with a Read Data By Identifier (0x22) request from the OBD-tool. The read request ID is 0x3E01. The ECU replies with a SID of 0x7F, which is the Negative Response SID. Following the neg. resp. is the service request identifier 0x22 and the negative response code (NRC), 0x78. According to Annex A.1 in ISO 14229, the NRC of 0x78 is:\n",
    "\n",
    "   **requestCorrectlyReceived-ResponsePending**\n",
    "    \n",
    "    This NRC indicates that the request message was received correctly, and that all\n",
    "    parameters in the request message were valid, but the action to be performed is\n",
    "    not yet completed and the server is not yet ready to receive another request. As\n",
    "    soon as the requested service has been completed, the server shall send a\n",
    "    positive response message or negative response message with a response code\n",
    "    different from this.\n",
    "    The negative response message with this NRC may be repeated by the server\n",
    "    until the requested service is completed and the final response message is sent.\n",
    "    This NRC might impact the application layer timing parameter values. The detailed\n",
    "    specification shall be included in the data link specific implementation document.\n",
    "    This NRC shall only be used in a negative response message if the server will not\n",
    "    be able to receive further request messages from the client while completing the\n",
    "    requested diagnostic service.\n",
    "    When this NRC is used, the server shall always send a final response (positive or\n",
    "    negative) independent of the suppressPosRspMsgIndicationBit value or the\n",
    "    suppress requirement for responses with NRCs SNS, SFNS, SNSIAS, SFNSIAS\n",
    "    and ROOR on functionally addressed requests.\n",
    "    A typical example where this NRC may be used is when the client has sent a\n",
    "    request message, which includes data to be programmed or erased in flash\n",
    "    memory of the server. If the programming/erasing routine (usually executed out of\n",
    "    RAM) is not able to support serial communication while writing to the flash memory\n",
    "    the server shall send a negative response message with this response code.\n",
    "    This NRC is in general supported by each diagnostic service, as not otherwise\n",
    "    stated in the data link specific implementation document, therefore it is not listed in\n",
    "    the list of applicable response codes of the diagnostic services.\n",
    "\n",
    "After the NRC of 0x78 was sent, the data starts flowing from the engine controller. In essence, the NRC of 0x78 tells the service tool to wait for a bit while I gather the data."
   ]
  },
  {
   "cell_type": "markdown",
   "metadata": {},
   "source": [
    "Let's look at the timing of the requests:"
   ]
  },
  {
   "cell_type": "code",
   "execution_count": 41,
   "metadata": {},
   "outputs": [
    {
     "name": "stdout",
     "output_type": "stream",
     "text": [
      "4851 1531228571.429646 From: 241, To:   0,  03 22 3E 01 00 00 00 00\n",
      "4852 1531228571.453436 From:   0, To: 241,  03 7F 22 78 01 FF C8 C0\n",
      "4853 1531228572.223366 From:   0, To: 241,  11 4F 62 3E 01 4A 01 05\n",
      "4854 1531228572.224596 From: 241, To:   0,  30 08 00 00 00 00 00 00\n",
      "4855 1531228572.225715 From:   0, To: 241,  21 FF 07 7D FF 7F 02 00\n",
      "4856 1531228572.226846 From:   0, To: 241,  22 00 00 04 00 00 00 99\n",
      "4857 1531228572.227446 From:   0, To: 241,  23 05 00 00 02 00 00 00\n"
     ]
    }
   ],
   "source": [
    "for i in range(4851,4858):\n",
    "    print(i, uds_messages[i]['timestamp'],\"From: {:3d}, To: {:3d}, \".format(uds_messages[i]['sa'],uds_messages[i]['da']),\n",
    "          \" \".join([\"{:02X}\".format(b) for b in uds_messages[i]['data']]))"
   ]
  },
  {
   "cell_type": "code",
   "execution_count": 42,
   "metadata": {},
   "outputs": [
    {
     "name": "stdout",
     "output_type": "stream",
     "text": [
      "index elapsed,   delta  Source,      Dest    Data Bytes\n",
      "4851 0.000000, 0.000000 From: 241, To:   0,  03 22 3E 01 00 00 00 00\n",
      "4852 0.023790, 0.023790 From:   0, To: 241,  03 7F 22 78 01 FF C8 C0\n",
      "4853 0.793720, 0.769930 From:   0, To: 241,  11 4F 62 3E 01 4A 01 05\n",
      "4854 0.794950, 0.001230 From: 241, To:   0,  30 08 00 00 00 00 00 00\n",
      "4855 0.796069, 0.001119 From:   0, To: 241,  21 FF 07 7D FF 7F 02 00\n",
      "4856 0.797200, 0.001131 From:   0, To: 241,  22 00 00 04 00 00 00 99\n",
      "4857 0.797800, 0.000600 From:   0, To: 241,  23 05 00 00 02 00 00 00\n"
     ]
    }
   ],
   "source": [
    "# Delta time.\n",
    "print('index', 'elapsed,','  delta', ' Source,      Dest', '   Data Bytes')\n",
    "start_time = uds_messages[4851]['timestamp']\n",
    "last_time = start_time\n",
    "for i in range(4851,4858):\n",
    "    ts = uds_messages[i]['timestamp']\n",
    "    elapsesd_time = ts-start_time\n",
    "    delta_t = ts - last_time\n",
    "    last_time = ts\n",
    "    addr = \"From: {:3d}, To: {:3d}, \".format(uds_messages[i]['sa'],uds_messages[i]['da'])\n",
    "    frame = \" \".join([\"{:02X}\".format(b) for b in uds_messages[i]['data']])\n",
    "        \n",
    "    print(i, \"{:0.6f}, {:0.6f}\".format(elapsesd_time, delta_t), addr, frame)"
   ]
  },
  {
   "cell_type": "markdown",
   "metadata": {},
   "source": [
    "Notice the NRC of 0x78 came just passed 20 milliseconds. Recall the session response (SID = 0x50) from the ECU said the timing was 20 milliseconds. The ECU takes almost 800 milliseconds to start a response to the request. It's a large response taking up 335 (0x014F) bytes."
   ]
  },
  {
   "cell_type": "code",
   "execution_count": 43,
   "metadata": {},
   "outputs": [
    {
     "data": {
      "text/plain": [
       "335"
      ]
     },
     "execution_count": 43,
     "metadata": {},
     "output_type": "execute_result"
    }
   ],
   "source": [
    "0x14f"
   ]
  },
  {
   "cell_type": "markdown",
   "metadata": {},
   "source": [
    "## Building a parser for UDS traffic\n",
    "Performing the analysis by hand, like we've done so far is challenging. Instead, we need to be able to create a routine that can automatically build long messages for UDS transport. There are 2 ways of doing this: 1) build a system in Python that can handle UDS traffic, or 2) use the built-in SocketCAN tools that can handle ISO-TP.\n",
    "\n",
    "Let's assume we are running this notebook on the BeagleBone or Linux machine. If you are on Windows, you can't take advantage of the virtual CAN channels.\n",
    "\n",
    "1. Open a new terminal session (PuTTy or SSH)\n",
    "\n",
    "`ssh -o ServerAliveInterval=60 student@cybertruck1.engr.colostate.edu`\n",
    "\n",
    "2. Clone the repository\n",
    "\n",
    "`git clone https://github.com/SystemsCyber/TruckCapeProjects`\n",
    "\n",
    "3. Change directories\n",
    "\n",
    "`cd TruckCapeProjects/Jupyter/`\n",
    "\n",
    "4. Download the data\n",
    "\n",
    "`wget https://www.engr.colostate.edu/~jdaily/J1939/files/candump_DDECReportsExtaction032819.txt`\n",
    "\n",
    "5. Check to be sure vcan5 is available.\n",
    "\n",
    "`ifconfig | grep vcan5`\n",
    "\n",
    "6. If not, startup a new vcan5 interface. \n",
    "\n",
    "`modprobe vcan`\n",
    "\n",
    "`sudo ip link add dev vcan5 type vcan`\n",
    "\n",
    "`sudo ip link set up vcan5`\n",
    "\n",
    "7. Try to look at the data on vcan5: \n",
    "\n",
    "`candump vcan5`\n",
    "\n",
    "8. If there is no traffic from the above, start the CAN replay service using canplayer. Only run this command if `candump vcan5` shows nothing. \n",
    "\n",
    "`canplayer -l i -I candump_DDECReportsExtaction032819.txt vcan5=can1 &`\n",
    "\n",
    "9. We can use the can utils to get these data at the command line:\n",
    "\n",
    "`isotpsniffer -s 18DAF100 -d 18DA00F1 vcan5`\n",
    "\n",
    "Let's try to get the same type of data from the sockets.\n",
    "\n",
    "Reference: https://can-isotp.readthedocs.io/en/latest/isotp/socket.html"
   ]
  },
  {
   "cell_type": "code",
   "execution_count": null,
   "metadata": {},
   "outputs": [],
   "source": [
    "#Minimal Use the ISOTP connection to see data\n",
    "import socket\n",
    "import struct\n",
    "s1 = socket.socket(socket.AF_CAN, socket.SOCK_DGRAM, socket.CAN_ISOTP)\n",
    "\n",
    "s1.bind((\"vcan5\", 0x98DAF100, 0x98DA00F1)) #rxid, txid. This is to get up and running"
   ]
  },
  {
   "cell_type": "code",
   "execution_count": null,
   "metadata": {},
   "outputs": [],
   "source": [
    "for i in range(20):\n",
    "    print(s1.recv(4095))"
   ]
  },
  {
   "cell_type": "code",
   "execution_count": null,
   "metadata": {},
   "outputs": [],
   "source": [
    "# We can also use the raw socket interface too.\n",
    "s2 = socket.socket(socket.AF_CAN, socket.SOCK_RAW, socket.CAN_RAW)\n",
    "s2.bind((\"vcan5\",))"
   ]
  },
  {
   "cell_type": "code",
   "execution_count": null,
   "metadata": {},
   "outputs": [],
   "source": [
    "for i in range(20):\n",
    "    print(s2.recv(16))"
   ]
  },
  {
   "cell_type": "code",
   "execution_count": null,
   "metadata": {},
   "outputs": [],
   "source": [
    "# Let's broadcast on an empty channel to see how SocketCAN works with ISOTP\n",
    "SOL_CAN_ISOTP = 106 # These constants exist in the module header, not in Python.\n",
    "CAN_ISOTP_RECV_FC = 2\n",
    "\n",
    "s3 = socket.socket(socket.AF_CAN, socket.SOCK_DGRAM, socket.CAN_ISOTP)\n",
    "\n",
    "s3.setsockopt(SOL_CAN_ISOTP, CAN_ISOTP_RECV_FC, struct.pack(\"=BBB\", 0x8, 3, 20)) #bs, stmin, wftmax\n",
    "s3.bind((\"vcan1\",0x98DAF903, 0x98DA03F9)) # Use a transmission (3) and a diagnostic connector (0xF9)\n",
    "s3.send(b\"12345678 Here is a long message\")"
   ]
  },
  {
   "cell_type": "markdown",
   "metadata": {},
   "source": [
    "```\n",
    "debian@beaglebone:~/TruckCapeProjects/Jupyter$ candump vcan0\n",
    "  vcan0  18DA00F1   [8]  10 16 48 65 72 65 20 69\n",
    "  vcan0  18DA00F1   [8]  10 16 48 65 72 65 20 69\n",
    "\n",
    "```\n",
    "This only sends the first frame out. Why didn't it work? \n",
    "\n",
    "There needs to be another listener to respond. "
   ]
  },
  {
   "cell_type": "code",
   "execution_count": null,
   "metadata": {},
   "outputs": [],
   "source": [
    "s4 = socket.socket(socket.AF_CAN, socket.SOCK_DGRAM, socket.CAN_ISOTP)\n",
    "s4.setsockopt(SOL_CAN_ISOTP, CAN_ISOTP_RECV_FC, struct.pack(\"=BBB\", 0x8, 3, 20)) #bs, stmin, wftmax\n",
    "s4.bind((\"vcan1\",0x98DA03F9, 0x98DAF903)) #Switch sender and receiver. These must match.\n",
    "s3.send(b\"12345678 Here is a long message\")"
   ]
  },
  {
   "cell_type": "markdown",
   "metadata": {},
   "source": [
    "Monitor using candump:\n",
    "\n",
    "```\n",
    "debian@beaglebone:~/TruckCapeProjects/Jupyter$ candump -a vcan0\n",
    "  vcan0  18DA03F9   [8]  10 1F 31 32 33 34 35 36   '..123456'\n",
    "  vcan0  18DAF903   [3]  30 08 03                  '0..'\n",
    "  vcan0  18DA03F9   [8]  21 37 38 20 48 65 72 65   '!78 Here'\n",
    "  vcan0  18DA03F9   [8]  22 20 69 73 20 61 20 6C   '\" is a l'\n",
    "  vcan0  18DA03F9   [8]  23 6F 6E 67 20 6D 65 73   '#ong mes'\n",
    "  vcan0  18DA03F9   [5]  24 73 61 67 65            '$sage'\n",
    "\n",
    "```\n",
    "\n",
    "Both sockets are needed to work with the data."
   ]
  },
  {
   "cell_type": "markdown",
   "metadata": {},
   "source": [
    "### Send a photo\n",
    "Let's send this photo over the CAN bus:\n",
    "![CSURam.jpg](CSURam.jpg)"
   ]
  },
  {
   "cell_type": "code",
   "execution_count": 44,
   "metadata": {},
   "outputs": [
    {
     "ename": "FileNotFoundError",
     "evalue": "[Errno 2] No such file or directory: 'CSURam.jpg'",
     "output_type": "error",
     "traceback": [
      "\u001b[1;31m---------------------------------------------------------------------------\u001b[0m",
      "\u001b[1;31mFileNotFoundError\u001b[0m                         Traceback (most recent call last)",
      "\u001b[1;32m<ipython-input-44-166d2350acdc>\u001b[0m in \u001b[0;36m<module>\u001b[1;34m\u001b[0m\n\u001b[0;32m      1\u001b[0m \u001b[1;31m#Open an image file\u001b[0m\u001b[1;33m\u001b[0m\u001b[1;33m\u001b[0m\u001b[1;33m\u001b[0m\u001b[0m\n\u001b[1;32m----> 2\u001b[1;33m \u001b[1;32mwith\u001b[0m \u001b[0mopen\u001b[0m\u001b[1;33m(\u001b[0m\u001b[1;34m\"CSURam.jpg\"\u001b[0m\u001b[1;33m,\u001b[0m\u001b[1;34m'rb'\u001b[0m\u001b[1;33m)\u001b[0m \u001b[1;32mas\u001b[0m \u001b[0mimg_file\u001b[0m\u001b[1;33m:\u001b[0m\u001b[1;33m\u001b[0m\u001b[1;33m\u001b[0m\u001b[0m\n\u001b[0m\u001b[0;32m      3\u001b[0m     \u001b[0mimage\u001b[0m \u001b[1;33m=\u001b[0m \u001b[0mimg_file\u001b[0m\u001b[1;33m.\u001b[0m\u001b[0mread\u001b[0m\u001b[1;33m(\u001b[0m\u001b[1;33m)\u001b[0m\u001b[1;33m\u001b[0m\u001b[1;33m\u001b[0m\u001b[0m\n\u001b[0;32m      4\u001b[0m \u001b[1;31m#Show the number of bytes\u001b[0m\u001b[1;33m\u001b[0m\u001b[1;33m\u001b[0m\u001b[1;33m\u001b[0m\u001b[0m\n\u001b[0;32m      5\u001b[0m \u001b[0mprint\u001b[0m\u001b[1;33m(\u001b[0m\u001b[0mlen\u001b[0m\u001b[1;33m(\u001b[0m\u001b[0mimage\u001b[0m\u001b[1;33m)\u001b[0m\u001b[1;33m)\u001b[0m\u001b[1;33m\u001b[0m\u001b[1;33m\u001b[0m\u001b[0m\n",
      "\u001b[1;31mFileNotFoundError\u001b[0m: [Errno 2] No such file or directory: 'CSURam.jpg'"
     ]
    }
   ],
   "source": [
    "#Open an image file\n",
    "with open(\"CSURam.jpg\",'rb') as img_file:\n",
    "    image = img_file.read()\n",
    "#Show the number of bytes\n",
    "print(len(image))"
   ]
  },
  {
   "cell_type": "code",
   "execution_count": null,
   "metadata": {},
   "outputs": [],
   "source": [
    "s3.send(image)"
   ]
  },
  {
   "cell_type": "markdown",
   "metadata": {},
   "source": [
    "The network looks like this:\n",
    "```candump -a vcan0\n",
    "  vcan0  18DA03F9   [8]  1B F9 FF D8 FF E0 00 10   '........'\n",
    "  vcan0  18DAF903   [3]  30 08 03                  '0..'\n",
    "  vcan0  18DA03F9   [8]  21 4A 46 49 46 00 01 01   '!JFIF...'\n",
    "  vcan0  18DA03F9   [8]  22 02 00 EC 00 EC 00 00   '\".......'\n",
    "  vcan0  18DA03F9   [8]  23 FF DB 00 43 00 03 02   '#...C...'\n",
    "  vcan0  18DA03F9   [8]  24 02 02 02 02 03 02 02   '$.......'\n",
    "  vcan0  18DA03F9   [8]  25 02 03 03 03 03 04 06   '%.......'\n",
    "  vcan0  18DA03F9   [8]  26 04 04 04 04 04 08 06   '&.......'\n",
    "  vcan0  18DA03F9   [8]  27 06 05 06 09 08 0A 0A   ''.......'\n",
    "  vcan0  18DA03F9   [8]  28 09 08 09 09 0A 0C 0F   '(.......'\n",
    "  vcan0  18DAF903   [3]  30 08 03                  '0..'\n",
    "  vcan0  18DA03F9   [8]  29 0C 0A 0B 0E 0B 09 09   ').......'\n",
    "  vcan0  18DA03F9   [8]  2A 0D 11 0D 0E 0F 10 10   '*.......'\n",
    "  vcan0  18DA03F9   [8]  2B 11 10 0A 0C 12 13 12   '+.......'\n",
    "  ...\n",
    "```\n",
    "Notice the number of messages that are sent before the control flow is 8. This is tunable."
   ]
  },
  {
   "cell_type": "code",
   "execution_count": null,
   "metadata": {},
   "outputs": [],
   "source": [
    "s4 = socket.socket(socket.AF_CAN, socket.SOCK_DGRAM, socket.CAN_ISOTP)\n",
    "#Change the block size\n",
    "s4.setsockopt(SOL_CAN_ISOTP, CAN_ISOTP_RECV_FC, struct.pack(\"=BBB\", 0x20, 3, 20)) #bs, stmin, wftmax\n",
    "s4.bind((\"vcan1\",0x98DA03F9, 0x98DAF903))"
   ]
  },
  {
   "cell_type": "code",
   "execution_count": null,
   "metadata": {},
   "outputs": [],
   "source": [
    "#Run this command again while running candump vcan0\n",
    "s3.send(image)"
   ]
  },
  {
   "cell_type": "markdown",
   "metadata": {},
   "source": [
    "The output from candump show the receiver waits for blocks of 32\n",
    "```\n",
    "debian@beaglebone:~/TruckCapeProjects/Jupyter$ candump -a vcan0\n",
    "  vcan0  18DA03F9   [8]  1B F9 FF D8 FF E0 00 10   '........'\n",
    "  vcan0  18DAF903   [3]  30 20 03                  '0 .'\n",
    "  vcan0  18DA03F9   [8]  21 4A 46 49 46 00 01 01   '!JFIF...'\n",
    "  vcan0  18DA03F9   [8]  22 02 00 EC 00 EC 00 00   '\".......'\n",
    "  vcan0  18DA03F9   [8]  23 FF DB 00 43 00 03 02   '#...C...'\n",
    "  vcan0  18DA03F9   [8]  24 02 02 02 02 03 02 02   '$.......'\n",
    "  vcan0  18DA03F9   [8]  25 02 03 03 03 03 04 06   '%.......'\n",
    "  vcan0  18DA03F9   [8]  26 04 04 04 04 04 08 06   '&.......'\n",
    "  vcan0  18DA03F9   [8]  27 06 05 06 09 08 0A 0A   ''.......'\n",
    "  vcan0  18DA03F9   [8]  28 09 08 09 09 0A 0C 0F   '(.......'\n",
    "  vcan0  18DA03F9   [8]  29 0C 0A 0B 0E 0B 09 09   ').......'\n",
    "  vcan0  18DA03F9   [8]  2A 0D 11 0D 0E 0F 10 10   '*.......'\n",
    "  vcan0  18DA03F9   [8]  2B 11 10 0A 0C 12 13 12   '+.......'\n",
    "  vcan0  18DA03F9   [8]  2C 10 13 0F 10 10 10 FF   ',.......'\n",
    "  vcan0  18DA03F9   [8]  2D DB 00 43 01 03 03 03   '-..C....'\n",
    "  vcan0  18DA03F9   [8]  2E 04 03 04 08 04 04 08   '........'\n",
    "  vcan0  18DA03F9   [8]  2F 10 0B 09 0B 10 10 10   '/.......'\n",
    "  vcan0  18DA03F9   [8]  20 10 10 10 10 10 10 10   ' .......'\n",
    "  vcan0  18DA03F9   [8]  21 10 10 10 10 10 10 10   '!.......'\n",
    "  vcan0  18DA03F9   [8]  22 10 10 10 10 10 10 10   '\".......'\n",
    "  vcan0  18DA03F9   [8]  23 10 10 10 10 10 10 10   '#.......'\n",
    "  vcan0  18DA03F9   [8]  24 10 10 10 10 10 10 10   '$.......'\n",
    "  vcan0  18DA03F9   [8]  25 10 10 10 10 10 10 10   '%.......'\n",
    "  vcan0  18DA03F9   [8]  26 10 10 10 10 10 FF C0   '&.......'\n",
    "  vcan0  18DA03F9   [8]  27 00 11 08 00 32 00 32   ''....2.2'\n",
    "  vcan0  18DA03F9   [8]  28 03 01 11 00 02 11 01   '(.......'\n",
    "  vcan0  18DA03F9   [8]  29 03 11 01 FF C4 00 1B   ').......'\n",
    "  vcan0  18DA03F9   [8]  2A 00 00 02 02 03 01 00   '*.......'\n",
    "  vcan0  18DA03F9   [8]  2B 00 00 00 00 00 00 00   '+.......'\n",
    "  vcan0  18DA03F9   [8]  2C 00 00 00 07 08 06 09   ',.......'\n",
    "  vcan0  18DA03F9   [8]  2D 00 03 05 04 FF C4 00   '-.......'\n",
    "  vcan0  18DA03F9   [8]  2E 32 10 00 01 04 01 03   '.2......'\n",
    "  vcan0  18DA03F9   [8]  2F 04 01 02 06 01 03 05   '/.......'\n",
    "  vcan0  18DA03F9   [8]  20 00 00 00 00 02 01 03   ' .......'\n",
    "  vcan0  18DAF903   [3]  30 20 03                  '0 .'\n",
    "  vcan0  18DA03F9   [8]  21 04 05 06 07 11 12 00   '!.......'\n",
    "```\n",
    "In this case, the counter on the second nibble of the consecutive frame message cycles through 16 counts twice. "
   ]
  },
  {
   "cell_type": "code",
   "execution_count": null,
   "metadata": {},
   "outputs": [],
   "source": [
    "#Send the message to the socket and vcan.\n",
    "s3.send(image)\n",
    "\n",
    "#Receive the message\n",
    "new_image = s4.recv(4095)\n",
    "print(len(new_image))"
   ]
  },
  {
   "cell_type": "code",
   "execution_count": null,
   "metadata": {},
   "outputs": [],
   "source": [
    "with open('newRam.jpg','wb') as new_file:\n",
    "    new_file.write(new_image)"
   ]
  },
  {
   "cell_type": "markdown",
   "metadata": {},
   "source": [
    "If the new image did not come through correctly, then the following image will not show up:\n",
    "![Bad Image](newRam.jpg)"
   ]
  },
  {
   "cell_type": "markdown",
   "metadata": {},
   "source": [
    "### Summary\n",
    "Using an example of a DDEC Reports, we were introduced to the UDS communication system. This whowe different service identitfier, data ids, and negative response codes. We also used the SocketCAN ISO TP feature to send messages across the bus."
   ]
  },
  {
   "cell_type": "code",
   "execution_count": null,
   "metadata": {},
   "outputs": [],
   "source": []
  }
 ],
 "metadata": {
  "kernelspec": {
   "display_name": "Python 3",
   "language": "python",
   "name": "python3"
  },
  "language_info": {
   "codemirror_mode": {
    "name": "ipython",
    "version": 3
   },
   "file_extension": ".py",
   "mimetype": "text/x-python",
   "name": "python",
   "nbconvert_exporter": "python",
   "pygments_lexer": "ipython3",
   "version": "3.7.4"
  },
  "latex_envs": {
   "LaTeX_envs_menu_present": true,
   "autoclose": false,
   "autocomplete": true,
   "bibliofile": "biblio.bib",
   "cite_by": "apalike",
   "current_citInitial": 1,
   "eqLabelWithNumbers": true,
   "eqNumInitial": 1,
   "hotkeys": {
    "equation": "Ctrl-E",
    "itemize": "Ctrl-I"
   },
   "labels_anchors": false,
   "latex_user_defs": false,
   "report_style_numbering": false,
   "user_envs_cfg": false
  }
 },
 "nbformat": 4,
 "nbformat_minor": 2
}
