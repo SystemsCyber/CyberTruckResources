{
 "cells": [
  {
   "cell_type": "markdown",
   "metadata": {},
   "source": [
    "# <center> Lab: SocketCAN Broadcast Manager\n",
    "## <center> ENGR 580A2: Secure Vehicle and Industrial Networking\n",
    "## <center><img src=\"https://www.engr.colostate.edu/~jdaily/Systems-EN-CSU-1-C357.svg\" width=\"400\" />\n",
    "### <center> Instructor: Dr. Jeremy Daily"
   ]
  },
  {
   "cell_type": "markdown",
   "metadata": {},
   "source": [
    "## Prerequisites\n",
    "This notebook must be run on Linux with SocketCAN installed and running. If you can login to the command prompt, check for SocketCAN using `lsmod` as in the following:\n",
    "```\n",
    "debian@beaglebone:~$ lsmod | grep can\n",
    "can_bcm                24576  1\n",
    "can_raw                20480  0\n",
    "vcan                   16384  0\n",
    "```\n",
    "This shows three CAN based kernel modules: one for BroadCast Manager (BCM), one for single CAN frames (RAW), and a virtual CAN module (vcan).\n",
    "\n",
    "This notebook should be run with a jupyter server on the Linux machine. For example, if using the BeagleBone, start the server with the following command:\n",
    "```\n",
    "jupyter notebook --ip 192.168.7.2 --no-browser &\n",
    "```\n",
    "The `&` symbol runs the notebook server in the background.\n"
   ]
  },
  {
   "cell_type": "markdown",
   "metadata": {},
   "source": [
    "# Using the Broadcast Manager (BCM)\n",
    "The broadcast manager in SocketCAN is helpful in setting up periodic messages. It takes away the timing and loop requirements for the programmer and relegates it to the kernel module. This enables a programmer to focus on the sensing and simulation parts of the program instead of the message timing. \n",
    "\n",
    "This example goes through transmitting a wheel speed message using the BCM.\n",
    "\n",
    "Details and Reference:\n",
    "\n",
    "https://github.com/nebaruzdin/can-doc/blob/master/can-bcm.txt\n"
   ]
  },
  {
   "cell_type": "markdown",
   "metadata": {},
   "source": [
    "## Create a BCM Socket\n",
    "First, load the modules. Then, let's define the socket. BCM sockets are connected to, instead of being bound. \n",
    "\n",
    "We'll also define the data structures for the BCM header and the CAN Frame. From https://www.kernel.org/doc/Documentation/networking/can.txt:\n",
    "```\n",
    "   struct bcm_msg_head {\n",
    "            __u32 opcode;                   /* command */\n",
    "            __u32 flags;                    /* special flags */\n",
    "            __u32 count;                    /* run 'count' times with ival1 */\n",
    "            struct timeval ival1, ival2;    /* count and subsequent interval */\n",
    "            canid_t can_id;                 /* unique can_id for task */\n",
    "            __u32 nframes;                  /* number of can_frames following */\n",
    "            struct can_frame frames[0];\n",
    "    };\n",
    " ```\n",
    " and\n",
    " ```\n",
    "   struct can_frame {\n",
    "            canid_t can_id;  /* 32 bit CAN_ID + EFF/RTR/ERR flags */\n",
    "            __u8    can_dlc; /* frame payload length in byte (0 .. 8) */\n",
    "            __u8    __pad;   /* padding */\n",
    "            __u8    __res0;  /* reserved / padding */\n",
    "            __u8    __res1;  /* reserved / padding */\n",
    "            __u8    data[8] __attribute__((aligned(8)));\n",
    "    };\n",
    "```"
   ]
  },
  {
   "cell_type": "code",
   "execution_count": 1,
   "metadata": {},
   "outputs": [],
   "source": [
    "#Import\n",
    "import socket\n",
    "import struct"
   ]
  },
  {
   "cell_type": "code",
   "execution_count": 2,
   "metadata": {},
   "outputs": [
    {
     "ename": "AttributeError",
     "evalue": "module 'socket' has no attribute 'PF_CAN'",
     "output_type": "error",
     "traceback": [
      "\u001b[1;31m---------------------------------------------------------------------------\u001b[0m",
      "\u001b[1;31mAttributeError\u001b[0m                            Traceback (most recent call last)",
      "\u001b[1;32m<ipython-input-2-59cd9a9347bd>\u001b[0m in \u001b[0;36m<module>\u001b[1;34m\u001b[0m\n\u001b[0;32m      1\u001b[0m \u001b[1;31m# Open a socket and connect to it\u001b[0m\u001b[1;33m\u001b[0m\u001b[1;33m\u001b[0m\u001b[1;33m\u001b[0m\u001b[0m\n\u001b[1;32m----> 2\u001b[1;33m \u001b[0msock\u001b[0m \u001b[1;33m=\u001b[0m \u001b[0msocket\u001b[0m\u001b[1;33m.\u001b[0m\u001b[0msocket\u001b[0m\u001b[1;33m(\u001b[0m\u001b[0msocket\u001b[0m\u001b[1;33m.\u001b[0m\u001b[0mPF_CAN\u001b[0m\u001b[1;33m,\u001b[0m \u001b[0msocket\u001b[0m\u001b[1;33m.\u001b[0m\u001b[0mSOCK_DGRAM\u001b[0m\u001b[1;33m,\u001b[0m \u001b[0msocket\u001b[0m\u001b[1;33m.\u001b[0m\u001b[0mCAN_BCM\u001b[0m\u001b[1;33m)\u001b[0m\u001b[1;33m\u001b[0m\u001b[1;33m\u001b[0m\u001b[0m\n\u001b[0m\u001b[0;32m      3\u001b[0m \u001b[1;33m\u001b[0m\u001b[0m\n\u001b[0;32m      4\u001b[0m \u001b[1;31m#Change this interface to match your desired connection\u001b[0m\u001b[1;33m\u001b[0m\u001b[1;33m\u001b[0m\u001b[1;33m\u001b[0m\u001b[0m\n\u001b[0;32m      5\u001b[0m \u001b[0minterface\u001b[0m \u001b[1;33m=\u001b[0m \u001b[1;34m\"vcan1\"\u001b[0m\u001b[1;33m\u001b[0m\u001b[1;33m\u001b[0m\u001b[0m\n",
      "\u001b[1;31mAttributeError\u001b[0m: module 'socket' has no attribute 'PF_CAN'"
     ]
    }
   ],
   "source": [
    "# Open a socket and connect to it\n",
    "sock = socket.socket(socket.PF_CAN, socket.SOCK_DGRAM, socket.CAN_BCM)\n",
    "\n",
    "#Change this interface to match your desired connection\n",
    "interface = \"vcan1\"\n",
    "\n",
    "#Connect to the interface\n",
    "sock.connect((interface,))\n",
    "\n",
    "# To match the socketCAN BCM header data structure, the following struct format can be used:\n",
    "# Interval seconds and useconds are platform dependent, others are 'uint32'. \n",
    "# Pad bytes are required at the end. This padding is not documented very well.\n",
    "bcm_frame_format = \"@3I4l2I0q\"\n",
    "\n",
    "# To match the socketCAN CAN frame structure, the following struct format can be used:\n",
    "can_frame_format = \"<lB3x8s\""
   ]
  },
  {
   "cell_type": "markdown",
   "metadata": {},
   "source": [
    "### Message Creation\n",
    "Let's simulate a brake controller broadcasting independent wheel speeds on the J1939 network. Based on the SAE J1939 Digital Annex, we have the following PGN and SPNs:\n",
    "\n",
    "\n",
    "| PGN | PG Label | PG Acronym | EDP | DP | PF | PS | Multipacket | Transmission Rate | PG Data Length | Default Priority |\n",
    "| :-: | :-: | :-: | :-: | :-: | :-: | :-: | :-: | :-: | :-: | :-: |\n",
    "| 65134 | High Resolution Wheel Speed | HRW | 0 | 0 | 254 | 110 | No | 20 ms | 8 | 2 |\n",
    "\n",
    "| SP Position in PG | SPN | SP Label | SP Description | SP Length | Resolution | Offset | Data Range |\n",
    "| :-: | :-: | :-- | :-- | :-: | :-: | :-: | :-: | \n",
    "| 1-2 | 1592 | Front Axle, Left Wheel Speed | High resolution measurement of the speed of the left wheel on the front axle. | 2 bytes | 1/256 km/h per bit | 0 | 0 to 250.996 km/h |\n",
    "| 3-4 | 1593 | Front Axle, Right Wheel Speed | High resolution measurement of the speed of the right wheel on the front axle. | 2 bytes | 1/256 km/h per bit | 0 | 0 to 250.996 km/h |\n",
    "| 5-6 | 1594 | Rear Axle, Left Wheel Speed | High resolution measurement of the speed of the left wheel on the rear axle. | 2 bytes | 1/256 km/h per bit | 0 | 0 to 250.996 km/h |\n",
    "| 7-8 | 1595 | Rear Axle, Right Wheel Speed | High resolution measurement of the speed of the right wheel on the rear axle. | 2 bytes | 1/256 km/h per bit | 0 | 0 to 250.996 km/h |\n",
    "\n",
    "The prefered source address is 11 (0x0B) for the Brake System Controller."
   ]
  },
  {
   "cell_type": "code",
   "execution_count": 3,
   "metadata": {},
   "outputs": [
    {
     "name": "stdout",
     "output_type": "stream",
     "text": [
      "The CAN ID for HRW Broadcast is 0x08FE6E0B\n"
     ]
    }
   ],
   "source": [
    "# Since PF is > 240, we can craft the message ID for broadcast using the PDU2 format. This \n",
    "# means we assume the DA is global and the PGN uses two bytes in the ID.\n",
    "# Convert these J1939 elements into an extended CAN ID.\n",
    "priority = 2\n",
    "pgn = 65134\n",
    "sa = 11\n",
    "HRW_ID = priority << 26\n",
    "HRW_ID += pgn << 8\n",
    "HRW_ID += sa\n",
    "print(\"The CAN ID for HRW Broadcast is 0x{:08X}\".format(HRW_ID))"
   ]
  },
  {
   "cell_type": "code",
   "execution_count": 4,
   "metadata": {},
   "outputs": [
    {
     "name": "stdout",
     "output_type": "stream",
     "text": [
      "b'\\x01\\x00:d\\xe0\\x966\\xc8'\n"
     ]
    }
   ],
   "source": [
    "# Let's define some arbitrary SPNs\n",
    "SPN_1592 = 1/256 #Front Axle, Left Wheel Speed in km/h\n",
    "SPN_1593 = 100.23 #Front Axle, Right Wheel Speed in km/h\n",
    "SPN_1594 = 150.8787 #Rear Axle, Left Wheel Speed in km/h\n",
    "SPN_1595 = 200.213409576234 #Rear Axle, Right Wheel Speed in km/h\n",
    "\n",
    "# Based on the resolution, we need to create an 8-byte data frame\n",
    "# Apply the inverse of the resolution, then encode the integer into an \n",
    "# Intel formatted 2-byte unsigned integer.\n",
    "HRW_data = struct.pack('<4H', int(SPN_1592*256),\n",
    "                              int(SPN_1593*256),\n",
    "                              int(SPN_1594*256),\n",
    "                              int(SPN_1595*256),\n",
    "                      )\n",
    "print(HRW_data)"
   ]
  },
  {
   "cell_type": "code",
   "execution_count": 5,
   "metadata": {},
   "outputs": [
    {
     "ename": "AttributeError",
     "evalue": "module 'socket' has no attribute 'CAN_EFF_FLAG'",
     "output_type": "error",
     "traceback": [
      "\u001b[1;31m---------------------------------------------------------------------------\u001b[0m",
      "\u001b[1;31mAttributeError\u001b[0m                            Traceback (most recent call last)",
      "\u001b[1;32m<ipython-input-5-414de7cf9afd>\u001b[0m in \u001b[0;36m<module>\u001b[1;34m\u001b[0m\n\u001b[0;32m      2\u001b[0m \u001b[1;33m\u001b[0m\u001b[0m\n\u001b[0;32m      3\u001b[0m \u001b[1;31m#Set the extended frame format bit.\u001b[0m\u001b[1;33m\u001b[0m\u001b[1;33m\u001b[0m\u001b[1;33m\u001b[0m\u001b[0m\n\u001b[1;32m----> 4\u001b[1;33m \u001b[0mcan_id\u001b[0m \u001b[1;33m=\u001b[0m \u001b[0mHRW_ID\u001b[0m \u001b[1;33m|\u001b[0m \u001b[0msocket\u001b[0m\u001b[1;33m.\u001b[0m\u001b[0mCAN_EFF_FLAG\u001b[0m\u001b[1;33m\u001b[0m\u001b[1;33m\u001b[0m\u001b[0m\n\u001b[0m\u001b[0;32m      5\u001b[0m \u001b[1;33m\u001b[0m\u001b[0m\n\u001b[0;32m      6\u001b[0m \u001b[1;31m#The data length code cannot be larger than 8\u001b[0m\u001b[1;33m\u001b[0m\u001b[1;33m\u001b[0m\u001b[1;33m\u001b[0m\u001b[0m\n",
      "\u001b[1;31mAttributeError\u001b[0m: module 'socket' has no attribute 'CAN_EFF_FLAG'"
     ]
    }
   ],
   "source": [
    "# Now we can create a CAN Frame. This is the same as if we used CAN_RAW\n",
    "\n",
    "#Set the extended frame format bit.\n",
    "can_id = HRW_ID | socket.CAN_EFF_FLAG\n",
    "\n",
    "#The data length code cannot be larger than 8\n",
    "can_dlc = min(len(HRW_data),8)\n",
    "\n",
    "#Pack the information into 16 bytes\n",
    "can_packet = struct.pack(can_frame_format, can_id, can_dlc, HRW_data)\n",
    "print(can_packet)"
   ]
  },
  {
   "cell_type": "markdown",
   "metadata": {},
   "source": [
    "### Create the BCM Header\n",
    "The BCM header has the following elements:\n",
    "* opcode\n",
    "* message flag\n",
    "* count\n",
    "* timing intervals\n",
    "* unique CAN ID for task\n",
    "* number of CAN frames\n",
    "\n",
    "The number of CAN frames is the number of frames that are attached to the overall BCM data structure. The BCM method enables not just the simple periodic single can frame, but finite bursts of multi-frame messages. We'll start simple, then work towards a more complete example.\n",
    "\n",
    "Let's start with setting up a transmit BCM:\n",
    "\n",
    "#### Op-Codes\n",
    "From https://www.kernel.org/doc/Documentation/networking/can.txt, the following opcodes are defined:\n",
    "\n",
    "Transmit Operations (user space to broadcast manager):\n",
    "\n",
    "    TX_SETUP:   Create (cyclic) transmission task.\n",
    "\n",
    "    TX_DELETE:  Remove (cyclic) transmission task, requires only can_id.\n",
    "\n",
    "    TX_READ:    Read properties of (cyclic) transmission task for can_id.\n",
    "\n",
    "    TX_SEND:    Send one CAN frame.\n",
    "\n",
    "  Transmit Responses (broadcast manager to user space):\n",
    "\n",
    "    TX_STATUS:  Reply to TX_READ request (transmission task configuration).\n",
    "\n",
    "    TX_EXPIRED: Notification when counter finishes sending at initial interval\n",
    "      'ival1'. Requires the TX_COUNTEVT flag to be set at TX_SETUP.\n",
    "\n",
    "  \n",
    " #### Message Flags\n",
    " From https://www.kernel.org/doc/Documentation/networking/can.txt, the following flags are defined:\n",
    "\n",
    "    SETTIMER:           Set the values of ival1, ival2 and count\n",
    "\n",
    "    STARTTIMER:         Start the timer with the actual values of ival1, ival2\n",
    "      and count. Starting the timer leads simultaneously to emit a CAN frame.\n",
    "\n",
    "    TX_COUNTEVT:        Create the message TX_EXPIRED when count expires\n",
    "\n",
    "    TX_ANNOUNCE:        A change of data by the process is emitted immediately.\n",
    "\n",
    "    TX_CP_CAN_ID:       Copies the can_id from the message header to each\n",
    "      subsequent frame in frames. This is intended as usage simplification. For\n",
    "      TX tasks the unique can_id from the message header may differ from the\n",
    "      can_id(s) stored for transmission in the subsequent struct can_frame(s).\n",
    "\n",
    "    TX_RESET_MULTI_IDX: Reset the index for the multiple frame transmission.\n",
    "    \n",
    "Definitions in python are published here:\n",
    "https://github.com/caran/can4python/blob/4177bcf4368fd8484ec080e2d926cb999b14c6a5/can4python/constants.py#L72\n"
   ]
  },
  {
   "cell_type": "code",
   "execution_count": 6,
   "metadata": {},
   "outputs": [],
   "source": [
    "# BCM flags\n",
    "SETTIMER = 0x0001\n",
    "STARTTIMER = 0x0002\n",
    "TX_COUNTEVT = 0x0004\n",
    "TX_ANNOUNCE = 0x0008\n",
    "TX_CP_CAN_ID = 0x0010\n",
    "RX_FILTER_ID = 0x0020\n",
    "RX_CHECK_DLC = 0x0040\n",
    "RX_NO_AUTOTIMER = 0x0080\n",
    "RX_ANNOUNCE_RESUME = 0x0100\n",
    "TX_RESET_MULTI_IDX = 0x0200\n",
    "RX_RTR_FRAME = 0x0400\n",
    "CAN_FD_FRAME = 0x0800"
   ]
  },
  {
   "cell_type": "markdown",
   "metadata": {},
   "source": [
    "### Create the BCM message and Data Structure"
   ]
  },
  {
   "cell_type": "code",
   "execution_count": 6,
   "metadata": {},
   "outputs": [
    {
     "ename": "AttributeError",
     "evalue": "module 'socket' has no attribute 'CAN_BCM_TX_SETUP'",
     "output_type": "error",
     "traceback": [
      "\u001b[1;31m---------------------------------------------------------------------------\u001b[0m",
      "\u001b[1;31mAttributeError\u001b[0m                            Traceback (most recent call last)",
      "\u001b[1;32m<ipython-input-6-d457f2b65983>\u001b[0m in \u001b[0;36m<module>\u001b[1;34m\u001b[0m\n\u001b[0;32m      1\u001b[0m \u001b[1;31m# Create the BCM Header\u001b[0m\u001b[1;33m\u001b[0m\u001b[1;33m\u001b[0m\u001b[1;33m\u001b[0m\u001b[0m\n\u001b[0;32m      2\u001b[0m \u001b[1;33m\u001b[0m\u001b[0m\n\u001b[1;32m----> 3\u001b[1;33m \u001b[0mopcode\u001b[0m \u001b[1;33m=\u001b[0m \u001b[0msocket\u001b[0m\u001b[1;33m.\u001b[0m\u001b[0mCAN_BCM_TX_SETUP\u001b[0m\u001b[1;33m\u001b[0m\u001b[1;33m\u001b[0m\u001b[0m\n\u001b[0m\u001b[0;32m      4\u001b[0m \u001b[0mflags\u001b[0m \u001b[1;33m=\u001b[0m \u001b[0mSETTIMER\u001b[0m \u001b[1;33m|\u001b[0m \u001b[0mSTARTTIMER\u001b[0m \u001b[1;31m# These flags set and start the timers for broadcast.\u001b[0m\u001b[1;33m\u001b[0m\u001b[1;33m\u001b[0m\u001b[0m\n\u001b[0;32m      5\u001b[0m \u001b[0mcount\u001b[0m \u001b[1;33m=\u001b[0m \u001b[1;36m0\u001b[0m \u001b[1;31m# When only one timer is needed 'count' is set to zero and only 'ival2' is used.\u001b[0m\u001b[1;33m\u001b[0m\u001b[1;33m\u001b[0m\u001b[0m\n",
      "\u001b[1;31mAttributeError\u001b[0m: module 'socket' has no attribute 'CAN_BCM_TX_SETUP'"
     ]
    }
   ],
   "source": [
    "# Create the BCM Header\n",
    "\n",
    "opcode = socket.CAN_BCM_TX_SETUP\n",
    "flags = SETTIMER | STARTTIMER # These flags set and start the timers for broadcast.\n",
    "count = 0 # When only one timer is needed 'count' is set to zero and only 'ival2' is used.\n",
    "ival1_tv_sec  = 0 # Seconds\n",
    "ival1_tv_usec = 0 # Microseconds\n",
    "ival2_tv_sec  = 0  # Seconds\n",
    "ival2_tv_usec = 20000 # Microseconds (20 ms per J1939)\n",
    "can_id = HRW_ID\n",
    "nframes = 1 # Append a single CAN frame to the end the setup.\n",
    "\n",
    "bcm_frame = struct.pack(bcm_frame_format,\n",
    "                        opcode,\n",
    "                        flags,\n",
    "                        count,\n",
    "                        ival1_tv_sec,\n",
    "                        ival1_tv_usec,\n",
    "                        ival2_tv_sec,\n",
    "                        ival2_tv_usec,\n",
    "                        can_id,\n",
    "                        nframes)\n",
    "print(bcm_frame)                        "
   ]
  },
  {
   "cell_type": "code",
   "execution_count": 8,
   "metadata": {
    "scrolled": true
   },
   "outputs": [
    {
     "data": {
      "text/plain": [
       "56"
      ]
     },
     "execution_count": 8,
     "metadata": {},
     "output_type": "execute_result"
    }
   ],
   "source": [
    "#Send out the BCM Message. This will get the message going.\n",
    "# The return value is the number of bytes sent to the socket.\n",
    "sock.send(bcm_frame+can_packet)"
   ]
  },
  {
   "cell_type": "markdown",
   "metadata": {},
   "source": [
    "In a terminal, you can see the output on the virtual CAN channel:\n",
    "```\n",
    "debian@beaglebone:~/TruckCapeProjects$ candump -tz vcan1\n",
    " (000.000000)  vcan1  08FE6E0B   [8]  01 00 3A 64 E0 96 36 C8\n",
    " (000.020063)  vcan1  08FE6E0B   [8]  01 00 3A 64 E0 96 36 C8\n",
    " (000.040123)  vcan1  08FE6E0B   [8]  01 00 3A 64 E0 96 36 C8\n",
    " (000.060174)  vcan1  08FE6E0B   [8]  01 00 3A 64 E0 96 36 C8\n",
    " (000.080227)  vcan1  08FE6E0B   [8]  01 00 3A 64 E0 96 36 C8\n",
    " (000.100280)  vcan1  08FE6E0B   [8]  01 00 3A 64 E0 96 36 C8\n",
    " (000.120332)  vcan1  08FE6E0B   [8]  01 00 3A 64 E0 96 36 C8\n",
    " (000.140410)  vcan1  08FE6E0B   [8]  01 00 3A 64 E0 96 36 C8\n",
    " (000.160465)  vcan1  08FE6E0B   [8]  01 00 3A 64 E0 96 36 C8\n",
    " (000.180511)  vcan1  08FE6E0B   [8]  01 00 3A 64 E0 96 36 C8\n",
    " (000.200556)  vcan1  08FE6E0B   [8]  01 00 3A 64 E0 96 36 C8\n",
    " (000.220608)  vcan1  08FE6E0B   [8]  01 00 3A 64 E0 96 36 C8\n",
    " (000.240657)  vcan1  08FE6E0B   [8]  01 00 3A 64 E0 96 36 C8\n",
    " (000.260705)  vcan1  08FE6E0B   [8]  01 00 3A 64 E0 96 36 C8\n",
    " (000.280786)  vcan1  08FE6E0B   [8]  01 00 3A 64 E0 96 36 C8\n",
    " (000.300835)  vcan1  08FE6E0B   [8]  01 00 3A 64 E0 96 36 C8\n",
    " (000.320887)  vcan1  08FE6E0B   [8]  01 00 3A 64 E0 96 36 C8\n",
    " (000.340940)  vcan1  08FE6E0B   [8]  01 00 3A 64 E0 96 36 C8\n",
    " (000.360991)  vcan1  08FE6E0B   [8]  01 00 3A 64 E0 96 36 C8\n",
    "```\n",
    "The `-tz` flag on the candump command shows a timestamp starting from zero in the parentheses. Notice the near 20ms timing. The data hasn't changed at all, because we haven't told it to change yet. "
   ]
  },
  {
   "cell_type": "markdown",
   "metadata": {},
   "source": [
    "### Update the Signals and SPNs\n",
    "Let's model a truck with Ackerman steering turning right. The truck will start from a stop and accelerate to a constant speed with the steering wheel turned all the way to the right. This is a low speed manuever and we'll assume no tire slip. All four wheels are turning around a common pivot point. A vector starting at the central pivot point describes the position to each wheel. We'll make a simplifing assumption that the angular velocity of all the wheel position vectors are the same.\n",
    "\n",
    "We'll give the truck the following made-up dimensions (in meters):\n",
    "\n",
    "Wheelbase = 6.0 \n",
    "\n",
    "Track Width = 4.0 \n",
    "\n",
    "Rolling radius = 1.5\n",
    "\n",
    "Distances from the Pivot:\n",
    "\n",
    "$ LR = 10.0 $, $ RR = 6.0 $, $ LF = 11.6 $, $ RF = 8.4 $, $ COM = 8.8 $, $ \\delta_R = 45 deg $, and $ \\delta_L = 32 deg $\n",
    "\n",
    "![AckermanGeometry.png](AckermanGeometry.png)\n",
    "\n",
    "Assume all vectors are constant length (i.e. circular motion) and the piviot is fixed.\n",
    "\n",
    "The speed at the end of any vector is \n",
    "$$ v_i = \\omega r_i $$\n",
    "where $\\omega$ is the angular velocity of the rotating vector, $r_i$ is the radius (length) of the vector and $v_i$ is the speed. We can calculate the angular velocity based on the speed of the center of mass and the position of the center of mass:\n",
    "\n",
    "$$ \\omega = \\frac{v_{COM}}{r_{COM}} $$\n",
    "\n",
    "Once we know $\\omega$, we can determine the angular velocities of the other wheels.\n",
    "\n",
    "$$v_i = \\omega r_i$$\n",
    "\n",
    "Note: on real systems, we use sensors at each wheel to measure actual speed. For this exercise, we are simulating a very simple case. \n",
    "\n",
    "Let's translate this into a Python function:"
   ]
  },
  {
   "cell_type": "code",
   "execution_count": 9,
   "metadata": {},
   "outputs": [],
   "source": [
    "# Produce wheel speeds based on turn radius and COM speed\n",
    "def wheel_speeds(com_speed,radii):\n",
    "    #omega is in radians per second\n",
    "    #radii is in meters\n",
    "    #speed is in km/h\n",
    "    #convert m/s to km/h by multiplying by 3.6. Why? 3600 seconds/hour divided by 1000 meters/km\n",
    "    omega = (com_speed / 3.6)  / radii['COM']\n",
    "    return(3.6*omega*radii['LF'],\n",
    "           3.6*omega*radii['RF'],\n",
    "           3.6*omega*radii['LR'],\n",
    "           3.6*omega*radii['RR'])\n",
    "# These align with the SPNs for the HRW PGN."
   ]
  },
  {
   "cell_type": "code",
   "execution_count": 10,
   "metadata": {},
   "outputs": [
    {
     "data": {
      "text/plain": [
       "(6.59090909090909, 4.7727272727272725, 5.681818181818182, 3.4090909090909087)"
      ]
     },
     "execution_count": 10,
     "metadata": {},
     "output_type": "execute_result"
    }
   ],
   "source": [
    "# If the steering angle changed or there was tire slip, these would change.\n",
    "# Assume constant for now.\n",
    "radii = {'COM': 8.8,\n",
    "         'LF': 11.6,\n",
    "         'RF': 8.4,\n",
    "         'LR': 10.0,\n",
    "         'RR': 6.0,\n",
    "        }\n",
    "com_speed = 5\n",
    "wheel_speeds(com_speed,radii)"
   ]
  },
  {
   "cell_type": "code",
   "execution_count": 7,
   "metadata": {},
   "outputs": [
    {
     "ename": "NameError",
     "evalue": "name 'wheel_speeds' is not defined",
     "output_type": "error",
     "traceback": [
      "\u001b[1;31m---------------------------------------------------------------------------\u001b[0m",
      "\u001b[1;31mNameError\u001b[0m                                 Traceback (most recent call last)",
      "\u001b[1;32m<ipython-input-7-6207faa037ef>\u001b[0m in \u001b[0;36m<module>\u001b[1;34m\u001b[0m\n\u001b[0;32m     15\u001b[0m     \u001b[0mcan_packet\u001b[0m \u001b[1;33m=\u001b[0m \u001b[0mstruct\u001b[0m\u001b[1;33m.\u001b[0m\u001b[0mpack\u001b[0m\u001b[1;33m(\u001b[0m\u001b[0mcan_frame_format\u001b[0m\u001b[1;33m,\u001b[0m \u001b[0mcan_id\u001b[0m\u001b[1;33m,\u001b[0m \u001b[0mcan_dlc\u001b[0m\u001b[1;33m,\u001b[0m \u001b[0mHRW_data\u001b[0m\u001b[1;33m)\u001b[0m\u001b[1;33m\u001b[0m\u001b[1;33m\u001b[0m\u001b[0m\n\u001b[0;32m     16\u001b[0m     \u001b[1;32mreturn\u001b[0m \u001b[0mcan_packet\u001b[0m\u001b[1;33m\u001b[0m\u001b[1;33m\u001b[0m\u001b[0m\n\u001b[1;32m---> 17\u001b[1;33m \u001b[0mprint\u001b[0m\u001b[1;33m(\u001b[0m\u001b[0mcan_HRW_speeds\u001b[0m\u001b[1;33m(\u001b[0m\u001b[1;36m10\u001b[0m\u001b[1;33m)\u001b[0m\u001b[1;33m)\u001b[0m\u001b[1;33m\u001b[0m\u001b[1;33m\u001b[0m\u001b[0m\n\u001b[0m",
      "\u001b[1;32m<ipython-input-7-6207faa037ef>\u001b[0m in \u001b[0;36mcan_HRW_speeds\u001b[1;34m(com_speed)\u001b[0m\n\u001b[0;32m      1\u001b[0m \u001b[1;31m# Write a function to take four wheel speeds and create the CAN message:\u001b[0m\u001b[1;33m\u001b[0m\u001b[1;33m\u001b[0m\u001b[1;33m\u001b[0m\u001b[0m\n\u001b[0;32m      2\u001b[0m \u001b[1;32mdef\u001b[0m \u001b[0mcan_HRW_speeds\u001b[0m\u001b[1;33m(\u001b[0m\u001b[0mcom_speed\u001b[0m\u001b[1;33m)\u001b[0m\u001b[1;33m:\u001b[0m\u001b[1;33m\u001b[0m\u001b[1;33m\u001b[0m\u001b[0m\n\u001b[1;32m----> 3\u001b[1;33m     \u001b[0mLF\u001b[0m\u001b[1;33m,\u001b[0m\u001b[0mRF\u001b[0m\u001b[1;33m,\u001b[0m\u001b[0mLR\u001b[0m\u001b[1;33m,\u001b[0m\u001b[0mRR\u001b[0m \u001b[1;33m=\u001b[0m \u001b[0mwheel_speeds\u001b[0m\u001b[1;33m(\u001b[0m\u001b[0mcom_speed\u001b[0m\u001b[1;33m,\u001b[0m\u001b[0mradii\u001b[0m\u001b[1;33m)\u001b[0m\u001b[1;33m\u001b[0m\u001b[1;33m\u001b[0m\u001b[0m\n\u001b[0m\u001b[0;32m      4\u001b[0m     HRW_data = struct.pack('<4H', int(LF*256),\n\u001b[0;32m      5\u001b[0m                                   \u001b[0mint\u001b[0m\u001b[1;33m(\u001b[0m\u001b[0mRF\u001b[0m\u001b[1;33m*\u001b[0m\u001b[1;36m256\u001b[0m\u001b[1;33m)\u001b[0m\u001b[1;33m,\u001b[0m\u001b[1;33m\u001b[0m\u001b[1;33m\u001b[0m\u001b[0m\n",
      "\u001b[1;31mNameError\u001b[0m: name 'wheel_speeds' is not defined"
     ]
    }
   ],
   "source": [
    "# Write a function to take four wheel speeds and create the CAN message:\n",
    "def can_HRW_speeds(com_speed):\n",
    "    LF,RF,LR,RR = wheel_speeds(com_speed,radii)\n",
    "    HRW_data = struct.pack('<4H', int(LF*256),\n",
    "                                  int(RF*256),\n",
    "                                  int(LR*256),\n",
    "                                  int(RR*256))\n",
    "    #Set the extended frame format bit.\n",
    "    can_id = HRW_ID | socket.CAN_EFF_FLAG\n",
    "\n",
    "    #The data length code cannot be larger than 8\n",
    "    can_dlc = min(len(HRW_data),8)\n",
    "\n",
    "    #Pack the information into 16 bytes\n",
    "    can_packet = struct.pack(can_frame_format, can_id, can_dlc, HRW_data)\n",
    "    return can_packet\n",
    "print(can_HRW_speeds(10))"
   ]
  },
  {
   "cell_type": "code",
   "execution_count": 12,
   "metadata": {},
   "outputs": [
    {
     "name": "stdout",
     "output_type": "stream",
     "text": [
      "b'\\x01\\x00\\x00\\x00\\x00\\x00\\x00\\x00\\x00\\x00\\x00\\x00\\x00\\x00\\x00\\x00\\x00\\x00\\x00\\x00\\x00\\x00\\x00\\x00\\x00\\x00\\x00\\x00\\x0bn\\xfe\\x08\\x01\\x00\\x00\\x00\\x00\\x00\\x00\\x00'\n"
     ]
    }
   ],
   "source": [
    "# Define the BCM header to update new values only\n",
    "# We are not setting timers, just updating values:\n",
    "# Create the BCM Header\n",
    "\n",
    "opcode = socket.CAN_BCM_TX_SETUP\n",
    "flags = 0 # Default zero just updates the message\n",
    "count = 0 # no timers\n",
    "ival1_tv_sec  = 0 # Seconds\n",
    "ival1_tv_usec = 0 # Microseconds\n",
    "ival2_tv_sec  = 0  # Seconds\n",
    "ival2_tv_usec = 0\n",
    "can_id = HRW_ID\n",
    "nframes = 1 # Append a single CAN frame to the end the setup.\n",
    "\n",
    "bcm_frame = struct.pack(bcm_frame_format,\n",
    "                        opcode,\n",
    "                        flags,\n",
    "                        count,\n",
    "                        ival1_tv_sec,\n",
    "                        ival1_tv_usec,\n",
    "                        ival2_tv_sec,\n",
    "                        ival2_tv_usec,\n",
    "                        can_id,\n",
    "                        nframes)\n",
    "print(bcm_frame)       "
   ]
  },
  {
   "cell_type": "code",
   "execution_count": 15,
   "metadata": {},
   "outputs": [
    {
     "data": {
      "text/plain": [
       "56"
      ]
     },
     "execution_count": 15,
     "metadata": {},
     "output_type": "execute_result"
    }
   ],
   "source": [
    "#Set everything to zeros:\n",
    "can_packet = can_HRW_speeds(0)\n",
    "sock.send(bcm_frame+can_packet)"
   ]
  },
  {
   "cell_type": "code",
   "execution_count": 16,
   "metadata": {},
   "outputs": [
    {
     "name": "stdout",
     "output_type": "stream",
     "text": [
      "0.00,0.0000\n",
      "0.09,0.3178\n",
      "0.18,0.6357\n",
      "0.27,0.9535\n",
      "0.36,1.2714\n",
      "0.45,1.5892\n",
      "0.54,1.9071\n",
      "0.63,2.2249\n",
      "0.72,2.5428\n",
      "0.81,2.8606\n",
      "0.90,3.1784\n",
      "0.99,3.4963\n",
      "1.08,3.8141\n",
      "1.17,4.1320\n",
      "1.26,4.4498\n",
      "1.35,4.7677\n",
      "1.44,5.0855\n",
      "1.53,5.4033\n",
      "1.62,5.7212\n",
      "1.71,6.0390\n",
      "1.80,6.3569\n",
      "1.89,6.6747\n",
      "1.98,6.9926\n",
      "2.07,7.3104\n",
      "2.16,7.6283\n",
      "2.25,7.9461\n",
      "2.34,8.2639\n",
      "2.43,8.5818\n",
      "2.52,8.8996\n",
      "2.61,9.2175\n",
      "2.70,9.5353\n",
      "2.79,9.8532\n",
      "2.88,10.1710\n",
      "2.97,10.4889\n",
      "3.06,10.8067\n",
      "3.15,11.1245\n",
      "3.24,11.4424\n",
      "3.33,11.7602\n",
      "3.42,12.0781\n",
      "3.51,12.3959\n",
      "3.60,12.7138\n",
      "3.69,13.0316\n",
      "3.78,13.3494\n",
      "3.87,13.6673\n",
      "3.96,13.9851\n",
      "4.05,14.3030\n",
      "4.14,14.6208\n",
      "4.23,14.9387\n",
      "4.32,15.2565\n",
      "4.41,15.5744\n",
      "4.50,15.8922\n",
      "4.59,16.2100\n",
      "4.68,16.5279\n",
      "4.77,16.8457\n",
      "4.86,17.1636\n",
      "4.95,17.4814\n",
      "5.04,17.7993\n",
      "5.13,18.1171\n",
      "5.22,18.4350\n",
      "5.31,18.7528\n",
      "5.40,19.0706\n",
      "5.49,19.3885\n",
      "5.58,19.7063\n",
      "5.67,20.0242\n",
      "5.76,20.3420\n",
      "5.85,20.6599\n",
      "5.94,20.9777\n",
      "6.03,21.2955\n",
      "6.12,21.6134\n",
      "6.21,21.9312\n",
      "6.30,22.2491\n",
      "6.39,22.5669\n",
      "6.48,22.8848\n",
      "6.57,23.2026\n",
      "6.66,23.5205\n",
      "6.75,23.8383\n",
      "6.84,24.1561\n",
      "6.93,24.4740\n",
      "7.02,24.7918\n",
      "7.11,25.1097\n",
      "7.20,25.4275\n",
      "7.29,25.7454\n",
      "7.38,26.0632\n",
      "7.47,26.3811\n",
      "7.56,26.6989\n",
      "7.65,27.0167\n",
      "7.74,27.3346\n",
      "7.83,27.6524\n",
      "7.92,27.9703\n",
      "8.01,28.2881\n",
      "8.10,28.6060\n",
      "8.19,28.9238\n",
      "8.28,29.2416\n",
      "8.37,29.5595\n",
      "8.46,29.8773\n",
      "8.55,30.1952\n",
      "8.64,30.5130\n",
      "8.73,30.8309\n",
      "8.82,31.1487\n",
      "8.91,31.4666\n",
      "9.00,31.7844\n",
      "9.09,32.1022\n",
      "9.18,32.4201\n",
      "9.27,32.7379\n",
      "9.36,33.0558\n",
      "9.45,33.3736\n",
      "9.54,33.6915\n",
      "9.63,34.0093\n",
      "9.72,34.3272\n",
      "9.81,34.6450\n",
      "9.90,34.9628\n",
      "9.99,35.2807\n",
      "10.08,35.5985\n",
      "10.17,35.9164\n",
      "10.26,36.2342\n",
      "10.35,36.5521\n",
      "10.44,36.8699\n",
      "10.53,37.1877\n",
      "10.62,37.5056\n",
      "10.71,37.8234\n",
      "10.80,38.1413\n",
      "10.89,38.4591\n",
      "10.98,38.7770\n",
      "11.07,39.0948\n",
      "11.16,39.4127\n",
      "11.25,39.7305\n",
      "11.34,40.0483\n",
      "11.43,40.3662\n",
      "11.52,40.6840\n",
      "11.61,41.0019\n",
      "11.70,41.3197\n",
      "11.79,41.6376\n",
      "11.88,41.9554\n",
      "11.97,42.2733\n",
      "12.06,42.5911\n",
      "12.15,42.9089\n",
      "12.24,43.2268\n",
      "12.33,43.5446\n",
      "12.42,43.8625\n",
      "12.51,44.1803\n",
      "12.60,44.4982\n",
      "12.69,44.8160\n",
      "12.78,45.1338\n",
      "12.87,45.4517\n",
      "12.96,45.7695\n",
      "13.05,46.0874\n",
      "13.14,46.4052\n",
      "13.23,46.7231\n",
      "13.32,47.0409\n",
      "13.41,47.3588\n",
      "13.50,47.6766\n",
      "13.59,47.9944\n",
      "13.68,48.3123\n",
      "13.77,48.6301\n",
      "13.86,48.9480\n",
      "13.95,49.2658\n",
      "14.04,49.5837\n",
      "14.13,49.9015\n",
      "14.22,50.2194\n",
      "14.31,50.5372\n",
      "14.40,50.8550\n",
      "14.49,51.1729\n",
      "14.58,51.4907\n",
      "14.67,51.8086\n",
      "14.76,52.1264\n",
      "14.85,52.4443\n",
      "14.94,52.7621\n",
      "15.03,53.0799\n",
      "15.12,53.3978\n",
      "15.21,53.7156\n",
      "15.30,54.0335\n",
      "15.39,54.3513\n",
      "15.48,54.6692\n",
      "15.57,54.9870\n",
      "15.66,55.3049\n",
      "15.75,55.6227\n",
      "15.84,55.9405\n",
      "15.93,56.2584\n",
      "16.02,56.5762\n",
      "16.11,56.8941\n",
      "16.20,57.2119\n",
      "16.29,57.5298\n",
      "16.38,57.8476\n",
      "16.47,58.1655\n",
      "16.56,58.4833\n",
      "16.65,58.8011\n",
      "16.74,59.1190\n",
      "16.83,59.4368\n",
      "16.92,59.7547\n",
      "17.01,60.0725\n",
      "17.10,60.3904\n",
      "17.19,60.7082\n",
      "17.28,61.0260\n",
      "17.37,61.3439\n",
      "17.46,61.6617\n",
      "17.55,61.9796\n",
      "17.64,62.2974\n",
      "17.73,62.6153\n",
      "17.82,62.9331\n",
      "17.91,63.2510\n",
      "18.00,63.5688\n",
      "18.09,63.8866\n",
      "18.18,64.2045\n",
      "18.27,64.5223\n",
      "18.36,64.8402\n",
      "18.45,65.1580\n",
      "18.54,65.4759\n",
      "18.63,65.7937\n",
      "18.72,66.1116\n",
      "18.81,66.4294\n",
      "18.90,66.7472\n",
      "18.99,67.0651\n",
      "19.08,67.3829\n",
      "19.17,67.7008\n",
      "19.26,68.0186\n",
      "19.35,68.3365\n",
      "19.44,68.6543\n",
      "19.53,68.9721\n",
      "19.62,69.2900\n",
      "19.71,69.6078\n",
      "19.80,69.9257\n",
      "19.89,70.2435\n",
      "19.98,70.5614\n",
      "20.07,70.8792\n",
      "20.16,71.1971\n",
      "20.25,71.5149\n",
      "20.34,71.8327\n",
      "20.43,72.1506\n",
      "20.52,72.4684\n",
      "20.61,72.7863\n",
      "20.70,73.1041\n",
      "20.79,73.4220\n",
      "20.88,73.7398\n",
      "20.97,74.0577\n",
      "21.06,74.3755\n",
      "21.15,74.6933\n",
      "21.24,75.0112\n",
      "21.33,75.3290\n",
      "21.42,75.6469\n",
      "21.51,75.9647\n",
      "21.60,76.2826\n",
      "21.69,76.6004\n",
      "21.78,76.9182\n",
      "21.87,77.2361\n",
      "21.96,77.5539\n",
      "22.05,77.8718\n",
      "22.14,78.1896\n",
      "22.23,78.5075\n",
      "22.32,78.8253\n",
      "22.41,79.1432\n",
      "22.50,79.4610\n",
      "22.59,79.7788\n",
      "22.68,80.0967\n",
      "22.77,80.4145\n",
      "22.86,80.7324\n",
      "22.95,81.0502\n",
      "23.04,81.3681\n",
      "23.13,81.6859\n",
      "23.22,82.0038\n",
      "23.31,82.3216\n",
      "23.40,82.6394\n",
      "23.49,82.9573\n",
      "23.58,83.2751\n",
      "23.67,83.5930\n",
      "23.76,83.9108\n",
      "23.85,84.2287\n",
      "23.94,84.5465\n",
      "24.03,84.8643\n",
      "24.12,85.1822\n",
      "24.21,85.5000\n",
      "24.30,85.8179\n",
      "24.39,86.1357\n",
      "24.48,86.4536\n",
      "24.57,86.7714\n",
      "24.66,87.0893\n",
      "24.75,87.4071\n",
      "24.84,87.7249\n",
      "24.93,88.0428\n",
      "25.02,88.3606\n",
      "25.11,88.6785\n",
      "25.20,88.9963\n",
      "25.29,89.3142\n",
      "25.38,89.6320\n",
      "25.47,89.9499\n",
      "25.56,90.2677\n",
      "25.65,90.5855\n",
      "25.74,90.9034\n",
      "25.83,91.2212\n",
      "25.92,91.5391\n",
      "26.01,91.8569\n",
      "26.10,92.1748\n",
      "26.19,92.4926\n",
      "26.28,92.8104\n",
      "26.37,93.1283\n",
      "26.46,93.4461\n",
      "26.55,93.7640\n",
      "26.64,94.0818\n",
      "26.73,94.3997\n",
      "26.82,94.7175\n",
      "26.91,95.0354\n"
     ]
    }
   ],
   "source": [
    "# Let's conduct a realtime simulation for 3 seconds\n",
    "# Turn on candump to see the live data \n",
    "import time\n",
    "deltaT = 0.090 #seconds\n",
    "initial_velocity = 0\n",
    "acceleration = 0.1 * 9.81 * 3.6 #m/s to km/h/s\n",
    "v = initial_velocity \n",
    "t = 0\n",
    "for i in range(300):\n",
    "    # Send out the data\n",
    "    print(\"{:0.2f},{:0.4f}\".format(t,v))\n",
    "    can_packet = can_HRW_speeds(v)\n",
    "    sock.send(bcm_frame+can_packet)\n",
    "    # update to the next step (Euler's method)\n",
    "    time.sleep(deltaT)\n",
    "    t += deltaT\n",
    "    v += acceleration*deltaT #update the COM speed"
   ]
  },
  {
   "cell_type": "markdown",
   "metadata": {},
   "source": [
    " Part of the the `candump -tz vcan1` output is as follows\n",
    " ```\n",
    " (002.867990)  vcan1  08FE6E0B   [8]  00 00 00 00 00 00 00 00\n",
    " (002.888051)  vcan1  08FE6E0B   [8]  00 00 00 00 00 00 00 00\n",
    " (002.908148)  vcan1  08FE6E0B   [8]  17 00 11 00 14 00 0C 00\n",
    " (002.928230)  vcan1  08FE6E0B   [8]  23 00 19 00 1E 00 12 00\n",
    " (002.948293)  vcan1  08FE6E0B   [8]  3B 00 2B 00 33 00 1E 00\n",
    " (002.968368)  vcan1  08FE6E0B   [8]  53 00 3C 00 47 00 2B 00\n",
    " (002.988471)  vcan1  08FE6E0B   [8]  6B 00 4D 00 5C 00 37 00\n",
    " (003.008571)  vcan1  08FE6E0B   [8]  83 00 5E 00 71 00 43 00\n",
    " (003.028655)  vcan1  08FE6E0B   [8]  8F 00 67 00 7B 00 49 00\n",
    " (003.048767)  vcan1  08FE6E0B   [8]  A6 00 78 00 8F 00 56 00\n",
    " (003.068836)  vcan1  08FE6E0B   [8]  BE 00 8A 00 A4 00 62 00\n",
    " (003.088932)  vcan1  08FE6E0B   [8]  D6 00 9B 00 B8 00 6E 00\n",
    " (003.109049)  vcan1  08FE6E0B   [8]  E2 00 A3 00 C3 00 75 00\n",
    " (003.129145)  vcan1  08FE6E0B   [8]  FA 00 B5 00 D7 00 81 00\n",
    " (003.149317)  vcan1  08FE6E0B   [8]  12 01 C6 00 EC 00 8D 00\n",
    " (003.169388)  vcan1  08FE6E0B   [8]  29 01 D7 00 00 01 9A 00\n",
    " (003.189463)  vcan1  08FE6E0B   [8]  35 01 E0 00 0B 01 A0 00\n",
    " (003.209535)  vcan1  08FE6E0B   [8]  4D 01 F1 00 1F 01 AC 00\n",
    " (003.229644)  vcan1  08FE6E0B   [8]  65 01 02 01 34 01 B8 00\n",
    " (003.249730)  vcan1  08FE6E0B   [8]  7D 01 14 01 48 01 C5 00\n",
    " (003.269813)  vcan1  08FE6E0B   [8]  95 01 25 01 5D 01 D1 00\n",
    " (003.289913)  vcan1  08FE6E0B   [8]  A1 01 2E 01 67 01 D7 00\n",
    " (003.310000)  vcan1  08FE6E0B   [8]  B8 01 3F 01 7C 01 E4 00\n",
    " (003.330094)  vcan1  08FE6E0B   [8]  D0 01 50 01 90 01 F0 00\n",
    " (003.350170)  vcan1  08FE6E0B   [8]  DC 01 59 01 9A 01 F6 00\n",
    " (003.370247)  vcan1  08FE6E0B   [8]  F4 01 6A 01 AF 01 02 01\n",
    " (003.390328)  vcan1  08FE6E0B   [8]  0C 02 7B 01 C4 01 0F 01\n",
    " (003.410442)  vcan1  08FE6E0B   [8]  24 02 8C 01 D8 01 1B 01\n",
    " (003.430532)  vcan1  08FE6E0B   [8]  3C 02 9E 01 ED 01 27 01\n",
    " (003.450622)  vcan1  08FE6E0B   [8]  47 02 A6 01 F7 01 2E 01\n",
    " (003.470735)  vcan1  08FE6E0B   [8]  5F 02 B8 01 0B 02 3A 01\n",
    " (003.490843)  vcan1  08FE6E0B   [8]  77 02 C9 01 20 02 46 01\n",
    " (003.510952)  vcan1  08FE6E0B   [8]  8F 02 DA 01 35 02 53 01\n",
    " (003.531065)  vcan1  08FE6E0B   [8]  9B 02 E3 01 3F 02 59 01\n",
    " (003.551155)  vcan1  08FE6E0B   [8]  B3 02 F4 01 53 02 65 01\n",
    " ...\n",
    "```\n",
    "Since this is a right turn, the left wheels need to spin faster. You'll notice the second and 6th byte corresond to the km/h values of the left side and they increase speed faster than the right wheels.\n",
    "\n",
    "Notice the timing on the vcan is still 20ms, even though the simulation ran at 10ms. The CAN broadcasts what it was last updated with when the timer says it's ready to broadcast. There can be many updates in between each broadcast. If no update is received, then the message is repeated. \n",
    "\n",
    "Try to run the simulation with updates every 90 ms. What does the candump timing record show? Do messages repeat as you would predict?\n",
    "\n",
    "Once the simulation is finished, the CAN messages keep playing the last known value:\n",
    "```\n",
    " (014.081530)  vcan1  08FE6E0B   [8]  0A 2E 57 21 B0 27 D0 17\n",
    " (014.101595)  vcan1  08FE6E0B   [8]  22 2E 68 21 C5 27 DC 17\n",
    " (014.121702)  vcan1  08FE6E0B   [8]  3A 2E 79 21 D9 27 E9 17\n",
    " (014.141777)  vcan1  08FE6E0B   [8]  51 2E 8A 21 EE 27 F5 17\n",
    " (014.161862)  vcan1  08FE6E0B   [8]  69 2E 9C 21 02 28 01 18\n",
    " (014.181933)  vcan1  08FE6E0B   [8]  75 2E A4 21 0D 28 07 18\n",
    " (014.202024)  vcan1  08FE6E0B   [8]  81 2E AD 21 17 28 0E 18\n",
    " (014.222123)  vcan1  08FE6E0B   [8]  81 2E AD 21 17 28 0E 18\n",
    " (014.242230)  vcan1  08FE6E0B   [8]  81 2E AD 21 17 28 0E 18\n",
    " (014.262319)  vcan1  08FE6E0B   [8]  81 2E AD 21 17 28 0E 18\n",
    " (014.282411)  vcan1  08FE6E0B   [8]  81 2E AD 21 17 28 0E 18\n",
    "```\n"
   ]
  },
  {
   "cell_type": "markdown",
   "metadata": {},
   "source": [
    "Try to run the simulation with updates every 90 ms. What does the candump timing record show? Do messages repeat as you would predict?\n",
    "```\n",
    " (024.729463)  vcan1  08FE6E0B   [8]  00 00 00 00 00 00 00 00\n",
    " (024.749541)  vcan1  08FE6E0B   [8]  00 00 00 00 00 00 00 00\n",
    " (024.769612)  vcan1  08FE6E0B   [8]  6B 00 4D 00 5C 00 37 00\n",
    " (024.789690)  vcan1  08FE6E0B   [8]  6B 00 4D 00 5C 00 37 00\n",
    " (024.809738)  vcan1  08FE6E0B   [8]  6B 00 4D 00 5C 00 37 00\n",
    " (024.829780)  vcan1  08FE6E0B   [8]  6B 00 4D 00 5C 00 37 00\n",
    " (024.849844)  vcan1  08FE6E0B   [8]  D6 00 9B 00 B8 00 6E 00\n",
    " (024.870044)  vcan1  08FE6E0B   [8]  D6 00 9B 00 B8 00 6E 00\n",
    " (024.890176)  vcan1  08FE6E0B   [8]  D6 00 9B 00 B8 00 6E 00\n",
    " (024.910234)  vcan1  08FE6E0B   [8]  D6 00 9B 00 B8 00 6E 00\n",
    " (024.930279)  vcan1  08FE6E0B   [8]  D6 00 9B 00 B8 00 6E 00\n",
    " (024.950345)  vcan1  08FE6E0B   [8]  41 01 E9 00 15 01 A6 00\n",
    " (024.970392)  vcan1  08FE6E0B   [8]  41 01 E9 00 15 01 A6 00\n",
    " (024.990445)  vcan1  08FE6E0B   [8]  41 01 E9 00 15 01 A6 00\n",
    " (025.010496)  vcan1  08FE6E0B   [8]  41 01 E9 00 15 01 A6 00\n",
    " (025.030572)  vcan1  08FE6E0B   [8]  AD 01 36 01 71 01 DD 00\n",
    "```\n",
    "Since the simulation time step is slower than the CAN update rate, the message gets repeated until there is new data. This happens every 4 or 5 messages when the update rate is 90ms for the simulation and 20ms for the CAN. "
   ]
  },
  {
   "cell_type": "markdown",
   "metadata": {},
   "source": [
    "### Send multiframe message\n",
    "Let's send a VIN according to J1939 every 5 seconds 3 times\n",
    "\n",
    "The VIN will be encoded as 17 ascii characters and sent using the J1939 transport protocol.\n",
    "There will be 4 messages:\n",
    "\n",
    "1. Connection management\n",
    "2. Data 1 \n",
    "3. Data 2\n",
    "4. Data 3\n",
    "\n",
    "The VIN PGN is 65260 (0xFEEC). We'll use a dynamically allocated address (0xA0) for the source and a priority of 6. With this information, we'll use the ID of 0x18FEECA0 for the BCM."
   ]
  },
  {
   "cell_type": "code",
   "execution_count": 17,
   "metadata": {},
   "outputs": [
    {
     "name": "stdout",
     "output_type": "stream",
     "text": [
      "b'\\x01\\x00\\x00\\x00\\x07\\x00\\x00\\x00\\x04\\x00\\x00\\x00\\x00\\x00\\x00\\x00P\\xc3\\x00\\x00\\x00\\x00\\x00\\x00\\x00\\x00\\x00\\x00\\xa0\\xec\\xfe\\x18\\x04\\x00\\x00\\x00\\x00\\x00\\x00\\x00'\n"
     ]
    }
   ],
   "source": [
    "opcode = socket.CAN_BCM_TX_SETUP\n",
    "flags = SETTIMER | STARTTIMER | TX_COUNTEVT # These flags set and start the timers for broadcast.\n",
    "count = 4 # When only one timer is needed 'count' is set to zero and only 'ival2' is used.\n",
    "ival1_tv_sec  = 0 # Seconds\n",
    "ival1_tv_usec = 50000 # Microseconds\n",
    "ival2_tv_sec  = 0 # Seconds\n",
    "ival2_tv_usec = 0 # Set this to zero to stop after the initial count.\n",
    "can_id = 0x18FEECA0\n",
    "nframes = 4 # Append a sequence of BAM messages\n",
    "\n",
    "bcm_frame = struct.pack(bcm_frame_format,\n",
    "                        opcode,\n",
    "                        flags,\n",
    "                        count,\n",
    "                        ival1_tv_sec,\n",
    "                        ival1_tv_usec,\n",
    "                        ival2_tv_sec,\n",
    "                        ival2_tv_usec,\n",
    "                        can_id,\n",
    "                        nframes)\n",
    "print(bcm_frame)                        "
   ]
  },
  {
   "cell_type": "code",
   "execution_count": 18,
   "metadata": {},
   "outputs": [],
   "source": [
    "#create a function to send VIN\n",
    "#Build the CAN Packets for the VIN BAM message:\n",
    "def sendVIN():\n",
    "    opcode = socket.CAN_BCM_TX_SETUP\n",
    "    flags = SETTIMER | STARTTIMER | TX_COUNTEVT # These flags set and start the timers for broadcast.\n",
    "    count = 4 # When only one timer is needed 'count' is set to zero and only 'ival2' is used.\n",
    "    ival1_tv_sec  = 0 # Seconds\n",
    "    ival1_tv_usec = 50000 # Microseconds\n",
    "    ival2_tv_sec  = 0 # Seconds\n",
    "    ival2_tv_usec = 0 # Set this to zero to stop after the initial count.\n",
    "    can_id = 0x18FEECA0\n",
    "    nframes = 4 # Append a sequence of BAM messages\n",
    "\n",
    "    bcm_frame = struct.pack(bcm_frame_format,\n",
    "                            opcode,\n",
    "                            flags,\n",
    "                            count,\n",
    "                            ival1_tv_sec,\n",
    "                            ival1_tv_usec,\n",
    "                            ival2_tv_sec,\n",
    "                            ival2_tv_usec,\n",
    "                            can_id,\n",
    "                            nframes)\n",
    "\n",
    "    #Connection managment\n",
    "    can_id = 0x18ECFFA0 | socket.CAN_EFF_FLAG\n",
    "\n",
    "    connection_data = struct.pack('<BHBBBBB',32,18,4,255,0xEC,0xFE,0x00)\n",
    "\n",
    "    can_dlc = len(connection_data)\n",
    "\n",
    "    #Pack the information into 16 bytes\n",
    "    can_packet = struct.pack(can_frame_format, can_id, can_dlc, connection_data)\n",
    "\n",
    "    #Data Transport\n",
    "    can_id = 0x18EBFFA0 | socket.CAN_EFF_FLAG\n",
    "\n",
    "    transport_data = b'\\x01THISIsA'\n",
    "    can_packet += struct.pack(can_frame_format, can_id, can_dlc, transport_data)\n",
    "\n",
    "    transport_data = b'\\x02nExampl'\n",
    "    can_packet += struct.pack(can_frame_format, can_id, can_dlc, transport_data)\n",
    "\n",
    "    transport_data = b'\\x03eVIN\\xFF\\xFF\\xFF'\n",
    "    can_packet += struct.pack(can_frame_format, can_id, can_dlc, transport_data)\n",
    "    return (sock.send(bcm_frame+can_packet))"
   ]
  },
  {
   "cell_type": "code",
   "execution_count": 24,
   "metadata": {},
   "outputs": [
    {
     "data": {
      "text/plain": [
       "104"
      ]
     },
     "execution_count": 24,
     "metadata": {},
     "output_type": "execute_result"
    }
   ],
   "source": [
    "#Run this to start the sequence. Monitor with candump.\n",
    "sendVIN()"
   ]
  },
  {
   "cell_type": "code",
   "execution_count": 25,
   "metadata": {},
   "outputs": [
    {
     "data": {
      "text/plain": [
       "104"
      ]
     },
     "execution_count": 25,
     "metadata": {},
     "output_type": "execute_result"
    }
   ],
   "source": [
    "# Rerun to send the same burst output\n",
    "sendVIN()                  "
   ]
  },
  {
   "cell_type": "markdown",
   "metadata": {},
   "source": [
    "The candump output gives these two bursts. Each burst has messages that are 50ms apart.\n",
    "```\n",
    " (389.090370)  vcan1  18ECFFA0   [8]  20 12 00 04 FF EC FE 00\n",
    " (389.148373)  vcan1  18EBFFA0   [8]  01 54 68 69 73 49 73 41\n",
    " (389.198478)  vcan1  18EBFFA0   [8]  02 6E 45 78 61 6D 70 6C\n",
    " (389.248554)  vcan1  18EBFFA0   [8]  03 65 56 49 4E FF FF FF\n",
    " \n",
    " (391.803641)  vcan1  18ECFFA0   [8]  20 12 00 04 FF EC FE 00\n",
    " (391.854598)  vcan1  18EBFFA0   [8]  01 54 68 69 73 49 73 41\n",
    " (391.904681)  vcan1  18EBFFA0   [8]  02 6E 45 78 61 6D 70 6C\n",
    " (391.954756)  vcan1  18EBFFA0   [8]  03 65 56 49 4E FF FF FF\n",
    "```\n",
    "\n",
    "Doing this with a service tool attached shows the message was transmitted.\n",
    "\n",
    "![DGVINExample.png](DGVINExample.png)"
   ]
  },
  {
   "cell_type": "markdown",
   "metadata": {},
   "source": [
    "## Receiving Messages\n",
    "We can also use the BCM approach to look for requests. \n",
    "\n",
    "A request message has a PGN of 0xEA00.\n",
    "\n",
    "```\n",
    " ival1: Send RX_TIMEOUT when a received message is not received again within\n",
    "    the given time. When START_TIMER is set at RX_SETUP the timeout detection\n",
    "    is activated directly - even without a former CAN frame reception.\n",
    "\n",
    "  ival2: Throttle the received message rate down to the value of ival2. This\n",
    "    is useful to reduce messages for the application when the signal inside the\n",
    "    CAN frame is stateless as state changes within the ival2 periode may get\n",
    "    lost.\n",
    "```"
   ]
  },
  {
   "cell_type": "code",
   "execution_count": 30,
   "metadata": {},
   "outputs": [
    {
     "data": {
      "text/plain": [
       "40"
      ]
     },
     "execution_count": 30,
     "metadata": {},
     "output_type": "execute_result"
    }
   ],
   "source": [
    "#Look for request messages: PGN = 0xEA00 every 200 ms.\n",
    "opcode = socket.CAN_BCM_RX_SETUP\n",
    "flags = RX_FILTER_ID\n",
    "count= 0 \n",
    "ival1_tv_sec=0\n",
    "ival1_tv_usec=0\n",
    "ival2_tv_sec=0\n",
    "ival2_tv_usec=0\n",
    "can_id = 0x98EAFFF9 #An identifier for this filter\n",
    "nframes=0\n",
    "bcm_frame = struct.pack(bcm_frame_format,\n",
    "                        opcode,\n",
    "                        flags,\n",
    "                        count,\n",
    "                        ival1_tv_sec,\n",
    "                        ival1_tv_usec,\n",
    "                        ival2_tv_sec,\n",
    "                        ival2_tv_usec,\n",
    "                        can_id,\n",
    "                        nframes)\n",
    "sock.send(bcm_frame)"
   ]
  },
  {
   "cell_type": "code",
   "execution_count": 31,
   "metadata": {},
   "outputs": [
    {
     "name": "stdout",
     "output_type": "stream",
     "text": [
      "b'\\x0c\\x00\\x00\\x00 \\x00\\x00\\x00\\x00\\x00\\x00\\x00\\x00\\x00\\x00\\x00\\x00\\x00\\x00\\x00\\x00\\x00\\x00\\x00\\x00\\x00\\x00\\x00\\xf9\\xff\\xea\\x98\\x01\\x00\\x00\\x00\\x08nP\\xc1\\xf9\\xff\\xea\\x98\\x08\\x00\\x00\\x00\\x124Vx\\x90\\xab\\xcd\\xef'\n"
     ]
    }
   ],
   "source": [
    "print(sock.recv(56))"
   ]
  },
  {
   "cell_type": "markdown",
   "metadata": {},
   "source": [
    "### Build a routine to respond to request messages\n",
    "These are borrowed from [03_Parse J1939 Single Frame Messages.ipynb](03_Parse%20J1939%20Single%20Frame%20Messages.ipynb) \n"
   ]
  },
  {
   "cell_type": "code",
   "execution_count": 32,
   "metadata": {},
   "outputs": [],
   "source": [
    "def unpack_CAN(can_packet,display=False):\n",
    "    can_id, can_dlc, can_data = struct.unpack(can_frame_format, can_packet)\n",
    "    extended_frame = bool(can_id & socket.CAN_EFF_FLAG)\n",
    "    if extended_frame:\n",
    "        can_id &= socket.CAN_EFF_MASK\n",
    "        can_id_string = \"{:08X}\".format(can_id)\n",
    "    else: #Standard Frame\n",
    "        can_id &= socket.CAN_SFF_MASK\n",
    "        can_id_string = \"{:03X}\".format(can_id)\n",
    "    if display:\n",
    "        hex_data_string = ' '.join([\"{:02X}\".format(b) for b in can_data[:can_dlc]])\n",
    "        print(\"{} {} [{}] {}\".format(interface, can_id_string, can_dlc, hex_data_string))\n",
    "    return can_id, can_dlc, can_data"
   ]
  },
  {
   "cell_type": "code",
   "execution_count": 33,
   "metadata": {},
   "outputs": [],
   "source": [
    "#parse J1939 protocol data unit information from the ID using bit masks and shifts\n",
    "PRIORITY_MASK = 0x1C000000\n",
    "EDP_MASK      = 0x02000000\n",
    "DP_MASK       = 0x01000000\n",
    "PF_MASK       = 0x00FF0000\n",
    "PS_MASK       = 0x0000FF00\n",
    "SA_MASK       = 0x000000FF\n",
    "PDU1_PGN_MASK = 0x03FF0000\n",
    "PDU2_PGN_MASK = 0x03FFFF00\n",
    "\n",
    "def get_j1939_from_id(can_id):\n",
    "    #priority\n",
    "    priority = (PRIORITY_MASK & can_id) >> 26\n",
    "\n",
    "    #Extended Data Page\n",
    "    edp = (EDP_MASK & can_id) >> 25\n",
    "    \n",
    "    # Data Page\n",
    "    dp = (DP_MASK & can_id) >> 24\n",
    "    \n",
    "    # Protocol Data Unit (PDU) Format\n",
    "    PF = (can_id & PF_MASK) >> 16\n",
    "    \n",
    "    # Protocol Data Unit (PDU) Specific\n",
    "    PS = (can_id & PS_MASK) >> 8\n",
    "    \n",
    "    # Determine the Parameter Group Number and Destination Address\n",
    "    if PF >= 0xF0: #240\n",
    "\n",
    "        # PDU 2 format, include the PS as a group extension\n",
    "        DA = 255\n",
    "        PGN = (can_id & PDU2_PGN_MASK) >> 8\n",
    "    else:\n",
    "        PGN = (can_id & PDU1_PGN_MASK) >> 8\n",
    "        DA = PS\n",
    "    # Source address\n",
    "    SA = (can_id & SA_MASK)\n",
    "    \n",
    "    return priority,PGN,DA,SA"
   ]
  },
  {
   "cell_type": "code",
   "execution_count": 34,
   "metadata": {},
   "outputs": [
    {
     "name": "stdout",
     "output_type": "stream",
     "text": [
      "b'\\x0c\\x00\\x00\\x00 \\x00\\x00\\x00\\x00\\x00\\x00\\x00\\x00\\x00\\x00\\x00\\x00\\x00\\x00\\x00\\x00\\x00\\x00\\x00\\x00\\x00\\x00\\x00\\xf9\\xff\\xea\\x98\\x01\\x00\\x00\\x00\\x08nP\\xc1\\xf9\\xff\\xea\\x98\\x08\\x00\\x00\\x00\\x124Vx\\x90\\xab\\xcd\\xef'\n",
      "6 59904 255 249 b'\\x124Vx\\x90\\xab\\xcd\\xef'\n",
      "b'\\x0c\\x00\\x00\\x00 \\x00\\x00\\x00\\x00\\x00\\x00\\x00\\x00\\x00\\x00\\x00\\x00\\x00\\x00\\x00\\x00\\x00\\x00\\x00\\x00\\x00\\x00\\x00\\xf9\\xff\\xea\\x98\\x01\\x00\\x00\\x00\\x08nP\\xc1\\xf9\\xff\\xea\\x98\\x08\\x00\\x00\\x00\\x124Vx\\x90\\xab\\xcd\\xef'\n",
      "6 59904 255 249 b'\\x124Vx\\x90\\xab\\xcd\\xef'\n",
      "b'\\x0c\\x00\\x00\\x00 \\x00\\x00\\x00\\x00\\x00\\x00\\x00\\x00\\x00\\x00\\x00\\x00\\x00\\x00\\x00\\x00\\x00\\x00\\x00\\x00\\x00\\x00\\x00\\xf9\\xff\\xea\\x98\\x01\\x00\\x00\\x00\\x08nP\\xc1\\xf9\\xff\\xea\\x98\\x03\\x00\\x00\\x00\\xec\\xfe\\x00\\x00\\x00\\x00\\x00\\x00'\n",
      "6 59904 255 249 b'\\xec\\xfe\\x00\\x00\\x00\\x00\\x00\\x00'\n"
     ]
    }
   ],
   "source": [
    "# Press Esc , i, i to interrupt the Kernel\n",
    "for i in range(500):\n",
    "    can_bcm = sock.recv(56)\n",
    "    print(can_bcm)\n",
    "    can_packet = can_bcm[-16:]\n",
    "    #Parse the bytes into a CAN message\n",
    "    can_id, can_dlc, can_data = unpack_CAN(can_packet)\n",
    "    #Parse the CAN ID into J1939\n",
    "    priority,pgn,da,sa = get_j1939_from_id(can_id)\n",
    "    print(priority,pgn,da,sa,can_data)\n",
    "    # only global requests from the service tool are processed\n",
    "    requested_pgn = struct.unpack(\"<L\",can_data[0:4])[0]\n",
    "    #print(\"{:05X}\".format(requested_pgn))\n",
    "    if requested_pgn == 0xFEEC: #VIN\n",
    "        for i in range(3): #Sending multiple times increases chances for reception\n",
    "            sendVIN()\n",
    "            time.sleep(.3)\n",
    "        break\n",
    "\n",
    "# use cansend vcan1 18EAFFF9#ECFE00 to get a response. The ID must match perfectly."
   ]
  },
  {
   "cell_type": "markdown",
   "metadata": {},
   "source": [
    "If we have a diagnostic application, like DG Diagnostics, running, the VIN should have been requested and the BCM would have responded with 3 bursts. The program does not have to filter all the messages to look for the Request Message. "
   ]
  },
  {
   "cell_type": "markdown",
   "metadata": {},
   "source": [
    "## Delete the BCM messages\n",
    "When we are all finish, you can delete the Broadcast Message"
   ]
  },
  {
   "cell_type": "code",
   "execution_count": 35,
   "metadata": {},
   "outputs": [
    {
     "data": {
      "text/plain": [
       "40"
      ]
     },
     "execution_count": 35,
     "metadata": {},
     "output_type": "execute_result"
    }
   ],
   "source": [
    "#Delete the VIN Burst session\n",
    "opcode = socket.CAN_BCM_TX_DELETE\n",
    "flags = 0\n",
    "count= 0 \n",
    "ival1_tv_sec=0\n",
    "ival1_tv_usec=0\n",
    "ival2_tv_sec=0\n",
    "ival2_tv_usec=0\n",
    "can_id = 0x18FEECA0\n",
    "nframes=0\n",
    "bcm_frame = struct.pack(bcm_frame_format,\n",
    "                        opcode,\n",
    "                        flags,\n",
    "                        count,\n",
    "                        ival1_tv_sec,\n",
    "                        ival1_tv_usec,\n",
    "                        ival2_tv_sec,\n",
    "                        ival2_tv_usec,\n",
    "                        can_id,\n",
    "                        nframes)\n",
    "# Send this only once. \n",
    "sock.send(bcm_frame)"
   ]
  },
  {
   "cell_type": "code",
   "execution_count": 36,
   "metadata": {},
   "outputs": [
    {
     "name": "stdout",
     "output_type": "stream",
     "text": [
      "b'\\x02\\x00\\x00\\x00\\x00\\x00\\x00\\x00\\x00\\x00\\x00\\x00\\x00\\x00\\x00\\x00\\x00\\x00\\x00\\x00\\x00\\x00\\x00\\x00\\x00\\x00\\x00\\x00\\x0bn\\xfe\\x08\\x00\\x00\\x00\\x00\\x00\\x00\\x00\\x00'\n"
     ]
    },
    {
     "data": {
      "text/plain": [
       "40"
      ]
     },
     "execution_count": 36,
     "metadata": {},
     "output_type": "execute_result"
    }
   ],
   "source": [
    "# Delete a CAN Stream for the brake message\n",
    "opcode = socket.CAN_BCM_TX_DELETE\n",
    "flags = 0\n",
    "count= 0 \n",
    "ival1_tv_sec=0\n",
    "ival1_tv_usec=0\n",
    "ival2_tv_sec=0\n",
    "ival2_tv_usec=0\n",
    "can_id = HRW_ID\n",
    "nframes=0\n",
    "bcm_frame = struct.pack(bcm_frame_format,\n",
    "                        opcode,\n",
    "                        flags,\n",
    "                        count,\n",
    "                        ival1_tv_sec,\n",
    "                        ival1_tv_usec,\n",
    "                        ival2_tv_sec,\n",
    "                        ival2_tv_usec,\n",
    "                        can_id,\n",
    "                        nframes)\n",
    "print(bcm_frame)                        \n",
    "\n",
    "sock.send(bcm_frame)"
   ]
  },
  {
   "cell_type": "markdown",
   "metadata": {},
   "source": [
    "### Summary\n",
    "In this notebook we introduced transmitting and receiving with the SocketCAN Broacast Manager. There were examples of asynchronously updating the broadcast CAN signals based on a real-time simulation. A message burst was created and sent with the BCM. \n",
    "\n",
    "Using the BCM alleviates the need for a program to maintain tight time requirements and relegate that operation to the SocketCAN kernel module. "
   ]
  },
  {
   "cell_type": "code",
   "execution_count": null,
   "metadata": {},
   "outputs": [],
   "source": []
  }
 ],
 "metadata": {
  "kernelspec": {
   "display_name": "Python 3",
   "language": "python",
   "name": "python3"
  },
  "language_info": {
   "codemirror_mode": {
    "name": "ipython",
    "version": 3
   },
   "file_extension": ".py",
   "mimetype": "text/x-python",
   "name": "python",
   "nbconvert_exporter": "python",
   "pygments_lexer": "ipython3",
   "version": "3.7.4"
  },
  "latex_envs": {
   "LaTeX_envs_menu_present": true,
   "autoclose": false,
   "autocomplete": true,
   "bibliofile": "biblio.bib",
   "cite_by": "apalike",
   "current_citInitial": 1,
   "eqLabelWithNumbers": true,
   "eqNumInitial": 1,
   "hotkeys": {
    "equation": "Ctrl-E",
    "itemize": "Ctrl-I"
   },
   "labels_anchors": false,
   "latex_user_defs": false,
   "report_style_numbering": false,
   "user_envs_cfg": false
  }
 },
 "nbformat": 4,
 "nbformat_minor": 4
}
