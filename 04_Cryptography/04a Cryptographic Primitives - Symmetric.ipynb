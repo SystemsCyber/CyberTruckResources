{
 "cells": [
  {
   "cell_type": "markdown",
   "metadata": {},
   "source": [
    "# <center> Lesson 4a - Cryptographic Primitives - Symmetric Encryption\n",
    "## <center> SYSE 549: Secure Vehicle and Industrial Networking\n",
    "## <center> <img src=\"https://www.engr.colostate.edu/~jdaily/Systems-EN-CSU-1-C357.svg\" width=\"400\" /> \n",
    "### <center> Instructor: Dr. Jeremy Daily"
   ]
  },
  {
   "cell_type": "markdown",
   "metadata": {},
   "source": [
    "## Objective\n",
    "In this lesson, we will introduce a protocol for authentication. This protocol will depend on a pre-shared key and symmetric encryption. Therefore, we'll discuss implementing symmetric encryption recipes and discuss the challenges and issues associated with symmetric encryption algorithms."
   ]
  },
  {
   "cell_type": "markdown",
   "metadata": {},
   "source": [
    "## Challenge-Response Authentication\n",
    "\n",
    "Let's say there is a remote process controller that you would like to interface with. The controller will act like a server and listen for connections. We'll denote the server as S and the user as the client, or C. \n",
    "\n",
    "\n",
    "The protocol could follow these steps:\n",
    "1. The Client requests a seed or nonce.\n",
    "2. The Server sends a nonce (number used once).\n",
    "3. The Client combines its unique ID with the nonce, encrypts it with a symmetric key, and sends it back to the Server.\n",
    "4. The Server decrypts the message, verifies the nonce and checks the client's unique ID against a master list. \n",
    "\n",
    "In symbol form, it might look like this:\n",
    "\n",
    "$ S\\rightarrow C: N $\n",
    "\n",
    "$ C\\rightarrow S: C,\\{C,N\\}_K $\n",
    "\n",
    "Where $C$ and $S$ represent the client and server when it's used on the left side of the colon. On the right side of the colon $C$ is the unique ID value for the Client, $N$ is a nonce. $K$ is the symmetric encryption key, so everything inside the curly braces is encrypted with K. Commas represent concatenation.\n",
    "\n",
    "See Secion 4.3.1 in Anderson for an introduction or review for this protocol.\n",
    "Let's see if we can implement this."
   ]
  },
  {
   "cell_type": "markdown",
   "metadata": {},
   "source": [
    "### Number used once\n",
    "A nonce in the protocol can come from many sources. It depends on the resources and time constraints. Perhaps the best nonce is a universally unique identifier (UUID), which combines randomness and freshness. Another is a real-time clock counter. Very simple nonces are program counters. However, a program counter is easy to reset and get low number of options. The real-time may not be available to an embedded device. We'll use a 32-byte random number as our nonce."
   ]
  },
  {
   "cell_type": "code",
   "execution_count": 1,
   "metadata": {},
   "outputs": [
    {
     "data": {
      "text/plain": [
       "b'}\\xc9r\\x95\\xe8_\\xd0Q\\x11\\xfb9\\xca\\xfe\\xca\\xee\\x9c=\\xfc\\xdc\\x9eX\\x93w\\xb9\\xe0\\xa1D\\x92'"
      ]
     },
     "execution_count": 1,
     "metadata": {},
     "output_type": "execute_result"
    }
   ],
   "source": [
    "# Use the operating system for random number generation\n",
    "from os import urandom\n",
    "number_of_bytes = 28\n",
    "nonce = urandom(number_of_bytes)\n",
    "nonce"
   ]
  },
  {
   "cell_type": "code",
   "execution_count": 2,
   "metadata": {},
   "outputs": [
    {
     "data": {
      "text/plain": [
       "'7D C9 72 95 E8 5F D0 51 11 FB 39 CA FE CA EE 9C 3D FC DC 9E 58 93 77 B9 E0 A1 44 92'"
      ]
     },
     "execution_count": 2,
     "metadata": {},
     "output_type": "execute_result"
    }
   ],
   "source": [
    "#A little different form\n",
    "\" \".join([\"{:02X}\".format(b) for b in nonce])"
   ]
  },
  {
   "cell_type": "markdown",
   "metadata": {},
   "source": [
    "We'll also need an encryption key. Let's use this really bad example:"
   ]
  },
  {
   "cell_type": "code",
   "execution_count": 3,
   "metadata": {},
   "outputs": [
    {
     "data": {
      "text/plain": [
       "'54 68 69 73 49 73 4E 6F 74 53 65 63 75 72 65 21'"
      ]
     },
     "execution_count": 3,
     "metadata": {},
     "output_type": "execute_result"
    }
   ],
   "source": [
    "encryption_key = b'ThisIsNotSecure!'\n",
    "\" \".join([\"{:02X}\".format(b) for b in encryption_key])"
   ]
  },
  {
   "cell_type": "code",
   "execution_count": 4,
   "metadata": {},
   "outputs": [],
   "source": [
    "# For an AES-128 cipher, we'll need a 16 byte key.\n",
    "key_size = len(encryption_key) \n",
    "assert key_size == 16"
   ]
  },
  {
   "cell_type": "markdown",
   "metadata": {},
   "source": [
    "A key derivation function (KDF) may be a better approach for a key based on a password."
   ]
  },
  {
   "cell_type": "markdown",
   "metadata": {},
   "source": [
    "### System Users and Their ID\n",
    "For a proof of concept, a system server may just use names for logins. While this may be what we see as a user, the actual user data is stored in a hash table, or dictionary. Let's make a user dictionary with a fixed length value as the key and different attributes as the values."
   ]
  },
  {
   "cell_type": "code",
   "execution_count": 5,
   "metadata": {
    "scrolled": true
   },
   "outputs": [
    {
     "data": {
      "text/plain": [
       "{1: {'name': 'Jeremy Daily', 'role': 'admin'},\n",
       " 2: {'name': 'Brayan', 'role': 'user'},\n",
       " 3: {'name': 'Fletcher', 'role': 'user'},\n",
       " 2348597: {'name': 'Michaelangelo', 'role': 'guest'}}"
      ]
     },
     "execution_count": 5,
     "metadata": {},
     "output_type": "execute_result"
    }
   ],
   "source": [
    "# The key is the user number (integer) and the value is \n",
    "# the dictionary of all the properties for the user. \n",
    "users = {1:{\"name\":\"Jeremy Daily\",\"role\":'admin'},\n",
    "         2:{\"name\":\"Brayan\",\"role\":'user'},\n",
    "         3:{\"name\":\"Fletcher\",\"role\":'user'},\n",
    "         2348597:{\"name\":\"Michaelangelo\",\"role\":'guest'}}\n",
    "users"
   ]
  },
  {
   "cell_type": "code",
   "execution_count": 6,
   "metadata": {},
   "outputs": [],
   "source": [
    "# We need the struct libary to convert integers into bytes of the right length\n",
    "import struct"
   ]
  },
  {
   "cell_type": "code",
   "execution_count": 7,
   "metadata": {},
   "outputs": [
    {
     "data": {
      "text/plain": [
       "'00 00 00 01'"
      ]
     },
     "execution_count": 7,
     "metadata": {},
     "output_type": "execute_result"
    }
   ],
   "source": [
    "# For the protocol, we'll also need a client ID, but it needs to be in a \n",
    "# fixed width, so we'll pack the user ID in to a fixed width.\n",
    "client_id = 1\n",
    "#but this needs to be in bytes:\n",
    "client_id_bytes = struct.pack(\">L\",client_id)\n",
    "\" \".join([\"{:02X}\".format(b) for b in client_id_bytes])"
   ]
  },
  {
   "cell_type": "code",
   "execution_count": 8,
   "metadata": {},
   "outputs": [
    {
     "data": {
      "text/plain": [
       "b'\\x00\\x00\\x00\\x01}\\xc9r\\x95\\xe8_\\xd0Q\\x11\\xfb9\\xca\\xfe\\xca\\xee\\x9c=\\xfc\\xdc\\x9eX\\x93w\\xb9\\xe0\\xa1D\\x92'"
      ]
     },
     "execution_count": 8,
     "metadata": {},
     "output_type": "execute_result"
    }
   ],
   "source": [
    "# The data to encrypt are:\n",
    "data_to_encrypt = client_id_bytes + nonce\n",
    "data_to_encrypt"
   ]
  },
  {
   "cell_type": "code",
   "execution_count": 9,
   "metadata": {},
   "outputs": [
    {
     "data": {
      "text/plain": [
       "32"
      ]
     },
     "execution_count": 9,
     "metadata": {},
     "output_type": "execute_result"
    }
   ],
   "source": [
    "len(data_to_encrypt)"
   ]
  },
  {
   "cell_type": "markdown",
   "metadata": {},
   "source": [
    "### Symmetric Encryption\n",
    "Symmetric encryption is usually implemented as a block cipher with some feedback mode to eliminate patterns. \n",
    "\n",
    "We'll start with an example of common implementations available as libaries in Python, starting with the crypto library at\n",
    "https://cryptography.io/.\n",
    "This library is maintained and provides access to many features and algorithms needed to work with protocols using modern cryptography.\n",
    "\n",
    "DISCLAIMER: Currently cryptography.io only supports NIST curves, none of which are considered “safe” by the SafeCurves (https://safecurves.cr.yp.to/) project run by Daniel J. Bernstein and Tanja Lange.\n",
    "\n",
    "If the libraries don't load, you can install them by typing `pip install --upgrade cryptography` at the command prompt (not Jupyter or Python). This notebook was originally written for version 3.1 of the cryptography library. See the changelog: https://cryptography.io/en/latest/changelog/."
   ]
  },
  {
   "cell_type": "code",
   "execution_count": 10,
   "metadata": {
    "scrolled": true
   },
   "outputs": [
    {
     "name": "stdout",
     "output_type": "stream",
     "text": [
      "Defaulting to user installation because normal site-packages is not writeable\n",
      "Requirement already satisfied: cryptography in c:\\users\\jeremy\\appdata\\roaming\\python\\python313\\site-packages (44.0.1)\n",
      "Requirement already satisfied: cffi>=1.12 in c:\\program files\\python313\\lib\\site-packages (from cryptography) (1.17.1)\n",
      "Requirement already satisfied: pycparser in c:\\program files\\python313\\lib\\site-packages (from cffi>=1.12->cryptography) (2.22)\n",
      "Note: you may need to restart the kernel to use updated packages.\n"
     ]
    }
   ],
   "source": [
    "# If you don't have the latest version of the cryptography library installed, \n",
    "# you can use it to install in the version that is serving the jupyter notebook\n",
    "# This method may be necessary if you have multiple versions of Python on your computer. \n",
    "#import sys\n",
    "# Run this if you are connected to the Internet\n",
    "#!{sys.executable} -m pip install --upgrade --user cryptography\n",
    "# You may need to restart the Kernel if the requirements are not already up-to-date\n",
    "%pip install cryptography"
   ]
  },
  {
   "cell_type": "markdown",
   "metadata": {},
   "source": [
    "The following is a brief intro to Symmetric Ciphers where each principal as access to the same secret key. \n",
    "\n",
    "https://cryptography.io/en/latest/hazmat/primitives/symmetric-encryption/?highlight=ecb%20mode#module-cryptography.hazmat.primitives.ciphers"
   ]
  },
  {
   "cell_type": "code",
   "execution_count": 11,
   "metadata": {},
   "outputs": [],
   "source": [
    "from cryptography.hazmat.primitives.ciphers import Cipher, algorithms, modes"
   ]
  },
  {
   "cell_type": "markdown",
   "metadata": {},
   "source": [
    "## Advanced Encryption Standard\n",
    "Unless there is a really compelling reason, you should pick AES as the symmetric cipher. According to Ross Anderson in Section 5.4.2 (third edition):\n",
    "\n",
    "```The NSA has since 2005 approved AES with 128-bit keys for protecting information up to SECRET and with 192-bit or 256-bit keys for TOPSECRET. So I recommend that you use AES instead of GOST, or Camellia,or even Serpent.  The definitive specification of AES is Federal Information Processing Standard 197, and its inventors have written a book describing its design in detail.``` \n",
    "\n",
    "Let's look at how to use AES with cryptography.io."
   ]
  },
  {
   "cell_type": "markdown",
   "metadata": {},
   "source": [
    "The ECB mode is not a secure mode, but it is the simplest.\n",
    "https://cryptography.io/en/latest/hazmat/primitives/symmetric-encryption/?highlight=ecb%20mode#cryptography.hazmat.primitives.ciphers.modes.ECB"
   ]
  },
  {
   "cell_type": "code",
   "execution_count": 22,
   "metadata": {},
   "outputs": [
    {
     "data": {
      "text/plain": [
       "True"
      ]
     },
     "execution_count": 22,
     "metadata": {},
     "output_type": "execute_result"
    }
   ],
   "source": [
    "#check to see if the length of the data to encrypt is evenly divided by the key length\n",
    "len(data_to_encrypt) % key_size == 0"
   ]
  },
  {
   "cell_type": "code",
   "execution_count": 23,
   "metadata": {},
   "outputs": [
    {
     "data": {
      "text/plain": [
       "<cryptography.hazmat.primitives.ciphers.base.Cipher at 0x25dc4a125d0>"
      ]
     },
     "execution_count": 23,
     "metadata": {},
     "output_type": "execute_result"
    }
   ],
   "source": [
    "# This is an example of a bad mode for the cipher. NEVER USE THIS! You'll see why\n",
    "cipher = Cipher(algorithms.AES(encryption_key), modes.ECB())\n",
    "cipher"
   ]
  },
  {
   "cell_type": "code",
   "execution_count": 24,
   "metadata": {},
   "outputs": [
    {
     "data": {
      "text/plain": [
       "b'\\xd5Q\\xf7lP9\\xd8gw\\xfd\\xdeB\\x12\\\\\\x81\\xb3fz\\x01\\xa1%\\xa7Q-\\xe2\\xf92n\\x81\\x99O%'"
      ]
     },
     "execution_count": 24,
     "metadata": {},
     "output_type": "execute_result"
    }
   ],
   "source": [
    "#Encrypt the data\n",
    "encryptor = cipher.encryptor()\n",
    "encrypted_auth_token = encryptor.update(data_to_encrypt) + encryptor.finalize()\n",
    "encrypted_auth_token"
   ]
  },
  {
   "cell_type": "markdown",
   "metadata": {},
   "source": [
    "The data in `encrypted_auth_token` gets sent over the network and is decrypted by the server. "
   ]
  },
  {
   "cell_type": "code",
   "execution_count": 25,
   "metadata": {},
   "outputs": [
    {
     "data": {
      "text/plain": [
       "b'\\xd5Q\\xf7lP9\\xd8gw\\xfd\\xdeB\\x12\\\\\\x81\\xb3fz\\x01\\xa1%\\xa7Q-\\xe2\\xf92n\\x81\\x99O%'"
      ]
     },
     "execution_count": 25,
     "metadata": {},
     "output_type": "execute_result"
    }
   ],
   "source": [
    "recieved_auth_token = encrypted_auth_token\n",
    "recieved_auth_token"
   ]
  },
  {
   "cell_type": "code",
   "execution_count": 26,
   "metadata": {},
   "outputs": [],
   "source": [
    "#The reciever has the same key as the sender\n",
    "reciever_cipher = Cipher(algorithms.AES(encryption_key), modes.ECB())"
   ]
  },
  {
   "cell_type": "code",
   "execution_count": 27,
   "metadata": {},
   "outputs": [
    {
     "data": {
      "text/plain": [
       "b'\\x00\\x00\\x00\\x01}\\xc9r\\x95\\xe8_\\xd0Q\\x11\\xfb9\\xca\\xfe\\xca\\xee\\x9c=\\xfc\\xdc\\x9eX\\x93w\\xb9\\xe0\\xa1D\\x92'"
      ]
     },
     "execution_count": 27,
     "metadata": {},
     "output_type": "execute_result"
    }
   ],
   "source": [
    "# Decrypt the received token\n",
    "decryptor = reciever_cipher.decryptor()\n",
    "decrypted_auth_token = decryptor.update(recieved_auth_token) + decryptor.finalize()\n",
    "decrypted_auth_token"
   ]
  },
  {
   "cell_type": "code",
   "execution_count": 28,
   "metadata": {},
   "outputs": [
    {
     "data": {
      "text/plain": [
       "b'}\\xc9r\\x95\\xe8_\\xd0Q\\x11\\xfb9\\xca\\xfe\\xca\\xee\\x9c=\\xfc\\xdc\\x9eX\\x93w\\xb9\\xe0\\xa1D\\x92'"
      ]
     },
     "execution_count": 28,
     "metadata": {},
     "output_type": "execute_result"
    }
   ],
   "source": [
    "received_nonce = decrypted_auth_token[4:]\n",
    "received_nonce"
   ]
  },
  {
   "cell_type": "code",
   "execution_count": 29,
   "metadata": {},
   "outputs": [
    {
     "data": {
      "text/plain": [
       "28"
      ]
     },
     "execution_count": 29,
     "metadata": {},
     "output_type": "execute_result"
    }
   ],
   "source": [
    "len(received_nonce)"
   ]
  },
  {
   "cell_type": "code",
   "execution_count": 30,
   "metadata": {},
   "outputs": [
    {
     "name": "stdout",
     "output_type": "stream",
     "text": [
      "The authenticated clientID is 1\n"
     ]
    }
   ],
   "source": [
    "# In this model, the nonce was known by the reciever, so it can be validated.\n",
    "if received_nonce == nonce:\n",
    "    (clientID,)= struct.unpack(\">L\",decrypted_auth_token[:4])\n",
    "    print(f\"The authenticated clientID is {clientID}\")\n",
    "else:\n",
    "    raise Exception(\"Not Authenticated\")\n"
   ]
  },
  {
   "cell_type": "code",
   "execution_count": 31,
   "metadata": {},
   "outputs": [
    {
     "ename": "Exception",
     "evalue": "Not Authenticated",
     "output_type": "error",
     "traceback": [
      "\u001b[1;31m---------------------------------------------------------------------------\u001b[0m",
      "\u001b[1;31mException\u001b[0m                                 Traceback (most recent call last)",
      "Cell \u001b[1;32mIn[31], line 17\u001b[0m\n\u001b[0;32m     15\u001b[0m     \u001b[38;5;28mprint\u001b[39m(\u001b[38;5;124mf\u001b[39m\u001b[38;5;124m\"\u001b[39m\u001b[38;5;124mThe authenticated clientID is \u001b[39m\u001b[38;5;132;01m{\u001b[39;00mclientID\u001b[38;5;132;01m}\u001b[39;00m\u001b[38;5;124m\"\u001b[39m)\n\u001b[0;32m     16\u001b[0m \u001b[38;5;28;01melse\u001b[39;00m:\n\u001b[1;32m---> 17\u001b[0m     \u001b[38;5;28;01mraise\u001b[39;00m \u001b[38;5;167;01mException\u001b[39;00m(\u001b[38;5;124m\"\u001b[39m\u001b[38;5;124mNot Authenticated\u001b[39m\u001b[38;5;124m\"\u001b[39m)\n",
      "\u001b[1;31mException\u001b[0m: Not Authenticated"
     ]
    }
   ],
   "source": [
    "#Change the data in transit:\n",
    "recieved_auth_token = bytearray(encrypted_auth_token)\n",
    "recieved_auth_token[6] = 2 #changed the data\n",
    "\n",
    "# Decrypt the received token\n",
    "decryptor = reciever_cipher.decryptor()\n",
    "decrypted_auth_token = decryptor.update(recieved_auth_token) + decryptor.finalize()\n",
    "\n",
    "#Extract the nonce\n",
    "received_nonce = decrypted_auth_token[4:]\n",
    "\n",
    "#Authenticate the clientID\n",
    "if received_nonce == nonce:\n",
    "    (clientID,)= struct.unpack(\">L\",decrypted_auth_token[:4])\n",
    "    print(f\"The authenticated clientID is {clientID}\")\n",
    "else:\n",
    "    raise Exception(\"Not Authenticated\")"
   ]
  },
  {
   "cell_type": "markdown",
   "metadata": {},
   "source": [
    "### Section Summary\n",
    "In this section, we showed a basic challenge response approach using AES encryption and a pre-shared password. This is not something you would want to do in a modern production environment because fixed pre-shared keys are easy to extract from devices. "
   ]
  },
  {
   "cell_type": "markdown",
   "metadata": {},
   "source": [
    "# AES Encryption Modes \n",
    "### Bitmap image encryption\n",
    "We want to send a scrambled picture through the Internet. Let's keep the original image file, but encrypt the contents. Here's a blurb about how bmp files are constructed.\n",
    "\n",
    "https://medium.com/sysf/bits-to-bitmaps-a-simple-walkthrough-of-bmp-image-format-765dc6857393.\n",
    "\n",
    "Based on this description, we will keep the original 54 bytes in the image file.\n",
    "\n",
    "By the way, embedding codes and cryptographic information in pictures is something called steganography. This isn't steganography, but you can learn more about it here:\n",
    "\n",
    "https://www.comptia.org/blog/what-is-steganography"
   ]
  },
  {
   "cell_type": "markdown",
   "metadata": {},
   "source": [
    "If this notebook is running on a server, we'll likely have to fetch the image from the internet. The CyberTruck Challenge logo is available at\n",
    "\n",
    "https://raw.githubusercontent.com/SystemsCyber/CyberTruckResources/master/04_Cryptography/cybertruckchallenge.bmp\n",
    "\n",
    "Let's use the requests library to get the data from the image."
   ]
  },
  {
   "cell_type": "code",
   "execution_count": 32,
   "metadata": {},
   "outputs": [],
   "source": [
    "import requests"
   ]
  },
  {
   "cell_type": "code",
   "execution_count": 33,
   "metadata": {},
   "outputs": [],
   "source": [
    "r = requests.get(\"https://raw.githubusercontent.com/SystemsCyber/CyberTruckResources/master/04_Cryptography/cybertruckchallenge.bmp\")\n",
    "logo_bytes = r.content"
   ]
  },
  {
   "cell_type": "code",
   "execution_count": 35,
   "metadata": {},
   "outputs": [
    {
     "data": {
      "text/plain": [
       "65536"
      ]
     },
     "execution_count": 35,
     "metadata": {},
     "output_type": "execute_result"
    }
   ],
   "source": [
    "# BMP Images use 54 bytes up front to define the file\n",
    "offset = 54\n",
    "#Let's use a graphic as an example \n",
    "with open('cybertruckchallenge.bmp','rb') as raw_file:\n",
    "    logo_bytes = raw_file.read()\n",
    "data_blocks,extra = divmod(len(logo_bytes)-offset,key_size)\n",
    "data_blocks"
   ]
  },
  {
   "cell_type": "markdown",
   "metadata": {},
   "source": [
    "![logo](https://raw.githubusercontent.com/SystemsCyber/CyberTruckResources/master/04_Cryptography/cybertruckchallenge.bmp)"
   ]
  },
  {
   "cell_type": "code",
   "execution_count": 36,
   "metadata": {},
   "outputs": [],
   "source": [
    "#instantiate another encryptor\n",
    "encryptor = cipher.encryptor()\n",
    "\n",
    "#Start the first few bytes the same as the others\n",
    "encrypted_picture_bytes = logo_bytes[:offset]\n",
    "\n",
    "#loop through bytes and ECB encrypt them\n",
    "encrypted_picture_bytes += encryptor.update(logo_bytes[offset:offset+data_blocks*key_size]) + encryptor.finalize()"
   ]
  },
  {
   "cell_type": "code",
   "execution_count": 37,
   "metadata": {},
   "outputs": [
    {
     "data": {
      "text/plain": [
       "b'BM6\\x00\\x10\\x00\\x00\\x00\\x00\\x006\\x00\\x00\\x00(\\x00\\x00\\x00\\x00\\x02\\x00\\x00\\x00\\x02\\x00\\x00\\x01\\x00 \\x00\\x00\\x00\\x00\\x00\\x00\\x00\\x00\\x00\\xc4\\x0e\\x00\\x00\\xc4\\x0e\\x00\\x00\\x00\\x00\\x00\\x00\\x00\\x00\\x00\\x00@<\\xb2\\xf6\\xa3\\xdc.\\xdc\\x8c@oFwj(\\xa8@<\\xb2\\xf6\\xa3\\xdc.\\xdc\\x8c@oFwj(\\xa8@<\\xb2\\xf6\\xa3\\xdc.\\xdc\\x8c@oFwj(\\xa8@<\\xb2\\xf6\\xa3\\xdc.\\xdc\\x8c@oFwj(\\xa8@<'"
      ]
     },
     "execution_count": 37,
     "metadata": {},
     "output_type": "execute_result"
    }
   ],
   "source": [
    "encrypted_picture_bytes[:120]"
   ]
  },
  {
   "cell_type": "code",
   "execution_count": 40,
   "metadata": {},
   "outputs": [
    {
     "ename": "OSError",
     "evalue": "[Errno 9] Bad file descriptor",
     "output_type": "error",
     "traceback": [
      "\u001b[1;31m---------------------------------------------------------------------------\u001b[0m",
      "\u001b[1;31mOSError\u001b[0m                                   Traceback (most recent call last)",
      "Cell \u001b[1;32mIn[40], line 2\u001b[0m\n\u001b[0;32m      1\u001b[0m \u001b[38;5;28;01mwith\u001b[39;00m \u001b[38;5;28mopen\u001b[39m(\u001b[38;5;124m'\u001b[39m\u001b[38;5;124mencrypted_logo_ECB.bmp\u001b[39m\u001b[38;5;124m'\u001b[39m,\u001b[38;5;124m'\u001b[39m\u001b[38;5;124mwb\u001b[39m\u001b[38;5;124m'\u001b[39m) \u001b[38;5;28;01mas\u001b[39;00m out:\n\u001b[1;32m----> 2\u001b[0m     \u001b[43mout\u001b[49m\u001b[38;5;241;43m.\u001b[39;49m\u001b[43mwrite\u001b[49m\u001b[43m(\u001b[49m\u001b[43mencrypted_picture_bytes\u001b[49m\u001b[43m)\u001b[49m\n",
      "\u001b[1;31mOSError\u001b[0m: [Errno 9] Bad file descriptor"
     ]
    }
   ],
   "source": [
    "with open('encrypted_logo_ECB.bmp','wb') as out:\n",
    "    out.write(encrypted_picture_bytes)"
   ]
  },
  {
   "cell_type": "markdown",
   "metadata": {},
   "source": [
    "![encrypted_logo](https://raw.githubusercontent.com/SystemsCyber/CyberTruckResources/master/04_Cryptography/encrypted_logo_ECB.bmp)\n",
    "\n",
    "The pattern still exists in the picture! This mode of cipher didn't do a good job of eliminating patterns and hiding data. Unfortunatly, this is the default mode in many libaries!"
   ]
  },
  {
   "cell_type": "markdown",
   "metadata": {},
   "source": [
    "### Bad modes\n",
    "The ECB mode is nicknamed \"electronic coloring book\" because it still reveals patterns and is not secure. Other modes should be used instead."
   ]
  },
  {
   "cell_type": "markdown",
   "metadata": {},
   "source": [
    "## AES-CBC\n",
    "Let's use a better mode, the cipher block chaining mode. However, this isn't the best. AES-GCM is considered the best practice.\n"
   ]
  },
  {
   "cell_type": "code",
   "execution_count": null,
   "metadata": {},
   "outputs": [],
   "source": [
    "### Generate an initialization vector\n",
    "iv = urandom(key_size)\n",
    "cipher = Cipher(algorithms.AES(encryption_key), modes.CBC(iv))\n",
    "encryptor = cipher.encryptor()\n",
    "\n",
    "#Start the first few bytes the same as the others\n",
    "encrypted_picture_bytes = logo_bytes[:offset]\n",
    "\n",
    "#loop through bytes and ECB encrypt them\n",
    "encrypted_picture_bytes += encryptor.update(logo_bytes[offset:offset+data_blocks*key_size]) + encryptor.finalize()\n",
    "\n",
    "with open('encrypted_logo_CBC.bmp','wb') as out:\n",
    "    out.write(encrypted_picture_bytes)"
   ]
  },
  {
   "cell_type": "markdown",
   "metadata": {},
   "source": [
    "![encrypted_logo](https://raw.githubusercontent.com/SystemsCyber/CyberTruckResources/master/04_Cryptography/encrypted_logo_CBC.bmp)\n"
   ]
  },
  {
   "cell_type": "markdown",
   "metadata": {},
   "source": [
    "### No integrity checks\n",
    "The process of encrypting and decrypting data does nothing to detect data alteration. Therefore, a data integrity check is critical. Let's see this through an example of encrypting the constitution preamble. First, let's encrypt the preamble with the Fernet recipe that includes a timestamp, an acceptable mode, and a message authentication code."
   ]
  },
  {
   "cell_type": "code",
   "execution_count": null,
   "metadata": {},
   "outputs": [
    {
     "name": "stdout",
     "output_type": "stream",
     "text": [
      "We the People of the United States, in Order to form a more perfect Union, establish Justice, insure domestic Tranquility, provide for the common defence, promote the general Welfare, and secure the Blessings of Liberty to ourselves and our Posterity, do ordain and establish this Constitution for the United States of America.\n"
     ]
    }
   ],
   "source": [
    "# Let's start with some plain text:\n",
    "plain_text = \"We the People of the United States, in Order to form a more perfect Union, establish Justice, insure domestic Tranquility, provide for the common defence, promote the general Welfare, and secure the Blessings of Liberty to ourselves and our Posterity, do ordain and establish this Constitution for the United States of America.\"\n",
    "print(plain_text)\n"
   ]
  },
  {
   "cell_type": "code",
   "execution_count": null,
   "metadata": {},
   "outputs": [],
   "source": [
    "# Out of the box recipe for using fast symmetric encryption\n",
    "from cryptography.fernet import Fernet"
   ]
  },
  {
   "cell_type": "code",
   "execution_count": null,
   "metadata": {},
   "outputs": [],
   "source": [
    "# Generate a key suitable for using the Fernet protocol\n",
    "shared_key = Fernet.generate_key()"
   ]
  },
  {
   "cell_type": "code",
   "execution_count": null,
   "metadata": {},
   "outputs": [
    {
     "name": "stdout",
     "output_type": "stream",
     "text": [
      "b'4hjbgYqHuYedqVVQXLDYAxqMxdjHsRW2b8bjZo_u3ho='\n"
     ]
    }
   ],
   "source": [
    "# The key should be kept safe (This is the hard engineering problem)\n",
    "print(shared_key)"
   ]
  },
  {
   "cell_type": "code",
   "execution_count": null,
   "metadata": {},
   "outputs": [
    {
     "data": {
      "text/plain": [
       "44"
      ]
     },
     "execution_count": 34,
     "metadata": {},
     "output_type": "execute_result"
    }
   ],
   "source": [
    "len(shared_key)"
   ]
  },
  {
   "cell_type": "markdown",
   "metadata": {},
   "source": [
    "The key generated is base64 encoded using a URL safe library. \n",
    "\n",
    "https://tools.ietf.org/html/rfc3548.html decribes the url and filesystem safe encoding.\n",
    "\n",
    "As described in \n",
    "https://www.pythoninformer.com/python-libraries/cryptography/fernet/ or https://www.comparitech.com/blog/information-security/what-is-fernet/,\n",
    "the generated key is contains two 16-byte randomly generated keys that are concatenated and base64 encoded."
   ]
  },
  {
   "cell_type": "code",
   "execution_count": null,
   "metadata": {},
   "outputs": [],
   "source": [
    "# We need to see data in a different encoding.\n",
    "import base64"
   ]
  },
  {
   "cell_type": "code",
   "execution_count": null,
   "metadata": {},
   "outputs": [
    {
     "name": "stdout",
     "output_type": "stream",
     "text": [
      "b'\\xe2\\x18\\xdb\\x81\\x8a\\x87\\xb9\\x87\\x9d\\xa9UP\\\\\\xb0\\xd8\\x03\\x1a\\x8c\\xc5\\xd8\\xc7\\xb1\\x15\\xb6o\\xc6\\xe3f\\x8f\\xee\\xde\\x1a'\n"
     ]
    }
   ],
   "source": [
    "#This is actually two 16-byte keys concatenated and  32-byte (256 bit) base-64 random key\n",
    "key_bytes = base64.urlsafe_b64decode(shared_key)\n",
    "print(key_bytes)"
   ]
  },
  {
   "cell_type": "code",
   "execution_count": null,
   "metadata": {},
   "outputs": [
    {
     "data": {
      "text/plain": [
       "32"
      ]
     },
     "execution_count": 37,
     "metadata": {},
     "output_type": "execute_result"
    }
   ],
   "source": [
    "# There should be 32-bytes of key material\n",
    "len(key_bytes)"
   ]
  },
  {
   "cell_type": "code",
   "execution_count": null,
   "metadata": {},
   "outputs": [
    {
     "data": {
      "text/plain": [
       "b'\\xe2\\x18\\xdb\\x81\\x8a\\x87\\xb9\\x87\\x9d\\xa9UP\\\\\\xb0\\xd8\\x03'"
      ]
     },
     "execution_count": 38,
     "metadata": {},
     "output_type": "execute_result"
    }
   ],
   "source": [
    "# The first 16 bytes (128 bits) is the signing key\n",
    "signing_key = key_bytes[:16]\n",
    "signing_key"
   ]
  },
  {
   "cell_type": "code",
   "execution_count": null,
   "metadata": {},
   "outputs": [
    {
     "data": {
      "text/plain": [
       "b'\\x1a\\x8c\\xc5\\xd8\\xc7\\xb1\\x15\\xb6o\\xc6\\xe3f\\x8f\\xee\\xde\\x1a'"
      ]
     },
     "execution_count": 39,
     "metadata": {},
     "output_type": "execute_result"
    }
   ],
   "source": [
    "# The second half of the key is the encryption key\n",
    "encryption_key = key_bytes[16:]\n",
    "encryption_key"
   ]
  },
  {
   "cell_type": "code",
   "execution_count": null,
   "metadata": {},
   "outputs": [
    {
     "name": "stdout",
     "output_type": "stream",
     "text": [
      "<cryptography.fernet.Fernet object at 0x000001C45F5117D0>\n"
     ]
    }
   ],
   "source": [
    "# create an instance of the Fernet cipher tool\n",
    "f = Fernet(shared_key)\n",
    "print(f)"
   ]
  },
  {
   "cell_type": "markdown",
   "metadata": {},
   "source": [
    "Fernet methods are documented at https://cryptography.io/en/latest/fernet/"
   ]
  },
  {
   "cell_type": "code",
   "execution_count": null,
   "metadata": {},
   "outputs": [
    {
     "data": {
      "text/plain": [
       "b'We the People of the United States, in Order to form a more perfect Union, establish Justice, insure domestic Tranquility, provide for the common defence, promote the general Welfare, and secure the Blessings of Liberty to ourselves and our Posterity, do ordain and establish this Constitution for the United States of America.'"
      ]
     },
     "execution_count": 41,
     "metadata": {},
     "output_type": "execute_result"
    }
   ],
   "source": [
    "#Modern ciphers only work on numbers, so we need to convert plaintext to bytes\n",
    "plain_bytes = plain_text.encode('utf-8')\n",
    "plain_bytes"
   ]
  },
  {
   "cell_type": "code",
   "execution_count": null,
   "metadata": {},
   "outputs": [
    {
     "name": "stdout",
     "output_type": "stream",
     "text": [
      "b'gAAAAABm0VIUq9BMUaIWcYOR0gjtgL7uF-_D2TMq_m9uHRM2KIZOY2dNRZI6uEWjD9ujwT7rYdNO0ZdAfEYDxp1J5clF-vAcguqxTzaaY4SjIKCFm_YukMjNYB2DsEy0xWnij0WtJg9G97VNWHWcGIlCRXzBJnzT4GnCyR2N7ZbfDNQGYY78F_ZuYyIsBAYH-7K4YzRkDiZLTXHjxOtvjtZuH3eqcD_zuA4tiWmGAHHyws8ONREcZSO0O56l8Er9s3VfriFVNIyCgPynecVApCYxNvc4EAAzp1jFiwIt5g-Xj-RNv-xljX787X4OVy3SF8kDdyhl6Stl8oeWIXXxV1eF9qqMxLKqny-ekddUdjCglFrWkMT_wZnHBKUnWUk8rxft3enInP_utH8YIUlPNkmrlu8yxrGSmnH5-u9N_TGAd1mPdoL5W9Ap8yu8BJ3QcF43foZfiV1DK8WNPRhomnZvBNWvXMgAsBUrnTJ67iPEjKIa2HlH-LOoCVx_gUbab528wzesoHMp'\n"
     ]
    }
   ],
   "source": [
    "#the result is ready to be sent over the internet or stored on a machine\n",
    "cipher_token = f.encrypt(plain_bytes)\n",
    "print(cipher_token) # This is what can be sent across the Internet"
   ]
  },
  {
   "cell_type": "code",
   "execution_count": null,
   "metadata": {},
   "outputs": [
    {
     "data": {
      "text/plain": [
       "b'We the People of the United States, in Order to form a more perfect Union, establish Justice, insure domestic Tranquility, provide for the common defence, promote the general Welfare, and secure the Blessings of Liberty to ourselves and our Posterity, do ordain and establish this Constitution for the United States of America.'"
      ]
     },
     "execution_count": 43,
     "metadata": {},
     "output_type": "execute_result"
    }
   ],
   "source": [
    "#The inverse is to decrypt to get bytes\n",
    "f.decrypt(cipher_token)"
   ]
  },
  {
   "cell_type": "markdown",
   "metadata": {},
   "source": [
    "From https://www.pythoninformer.com/python-libraries/cryptography/fernet/,\n",
    "The Fernet protocol implements a more complete symmetric cipher system by\n",
    "\n",
    "* Providing a secure mechanism for generating keys (a key is similar to a password).\n",
    "* Selection a secure encryption algorithm (AES using CBC mode and PKCS7 padding)\n",
    "* Randomly allocating a secure initialization vector (IV) or \"salt\" to make the encryption more secure.\n",
    "* Timestamping the encrypted message.\n",
    "* Signing the message (using HMAC and SHA256) to detect any attempts to change it.\n",
    "\n",
    "Let's disect the cipher token to see these individual attributes."
   ]
  },
  {
   "cell_type": "markdown",
   "metadata": {},
   "source": [
    "### Keys from passwords\n",
    "Let's generate a valid Fernet key with a passcode. The passcode could be shared verbally instead of electronically.\n",
    "We'll need to use some primitives. Reference: https://cryptography.io/en/latest/fernet/#using-passwords-with-fernet\n",
    "\n",
    "\n",
    "We also have to use good random numbers for the initialization vectors.\n",
    "https://docs.python.org/3/library/secrets.html"
   ]
  },
  {
   "cell_type": "code",
   "execution_count": null,
   "metadata": {},
   "outputs": [],
   "source": [
    "from cryptography.hazmat.primitives import hashes\n",
    "from cryptography.hazmat.primitives.kdf.pbkdf2 import PBKDF2HMAC"
   ]
  },
  {
   "cell_type": "markdown",
   "metadata": {},
   "source": [
    "PBKDF2 = Password Based Key Derivation Function 2\n",
    "\n",
    "https://cryptography.io/en/latest/hazmat/primitives/key-derivation-functions/#pbkdf2"
   ]
  },
  {
   "cell_type": "code",
   "execution_count": null,
   "metadata": {},
   "outputs": [
    {
     "data": {
      "text/plain": [
       "b\"I'm a passphrase\""
      ]
     },
     "execution_count": 45,
     "metadata": {},
     "output_type": "execute_result"
    }
   ],
   "source": [
    "# We will start with a desired pass phrase as bytes\n",
    "passcode = b\"I'm a passphrase\"\n",
    "passcode"
   ]
  },
  {
   "cell_type": "code",
   "execution_count": null,
   "metadata": {},
   "outputs": [
    {
     "data": {
      "text/plain": [
       "b'\\xcb\\xef\\xe9\\x14\\xd1\\xb1\"\\xaf\\x8c\\xa594\\xc2\\xbd\\xa9\\xb0'"
      ]
     },
     "execution_count": 46,
     "metadata": {},
     "output_type": "execute_result"
    }
   ],
   "source": [
    "# generate 16 random bytes for the initialization vector or salt\n",
    "iv = urandom(16)\n",
    "iv"
   ]
  },
  {
   "cell_type": "code",
   "execution_count": null,
   "metadata": {
    "scrolled": true
   },
   "outputs": [
    {
     "name": "stdout",
     "output_type": "stream",
     "text": [
      "b'\\xdf\\xe5\\xad[\\xdfT\\xaa\\xc3\\x97\\xb1>\\x95\\x88\\xec\\x1c\\xd9\\xa7\\xaa\\x92\\n\\xd1Mb\\xa8\\xcaN0\\xc4\\xa0\\xab8\\xf6'\n"
     ]
    }
   ],
   "source": [
    "#Key derivation function. This is practically  irreversible \n",
    "kdf = PBKDF2HMAC(\n",
    "        algorithm=hashes.SHA256(),\n",
    "        length=32,\n",
    "        salt=iv,\n",
    "        iterations=100000,\n",
    "    )\n",
    "kdf_result = kdf.derive(passcode)\n",
    "print(kdf_result)"
   ]
  },
  {
   "cell_type": "code",
   "execution_count": null,
   "metadata": {},
   "outputs": [
    {
     "data": {
      "text/plain": [
       "32"
      ]
     },
     "execution_count": 48,
     "metadata": {},
     "output_type": "execute_result"
    }
   ],
   "source": [
    "# We should have 32 bytes now\n",
    "len(kdf_result)"
   ]
  },
  {
   "cell_type": "code",
   "execution_count": null,
   "metadata": {},
   "outputs": [
    {
     "data": {
      "text/plain": [
       "b'3-WtW99UqsOXsT6ViOwc2aeqkgrRTWKoyk4wxKCrOPY='"
      ]
     },
     "execution_count": 49,
     "metadata": {},
     "output_type": "execute_result"
    }
   ],
   "source": [
    "# Make a valid fernet key:\n",
    "fernet_key = base64.urlsafe_b64encode(kdf_result)\n",
    "fernet_key"
   ]
  },
  {
   "cell_type": "code",
   "execution_count": null,
   "metadata": {},
   "outputs": [
    {
     "name": "stdout",
     "output_type": "stream",
     "text": [
      "<cryptography.fernet.Fernet object at 0x000001C45E6B8510>\n"
     ]
    }
   ],
   "source": [
    "# Check to see if you can create a Fernet cipher\n",
    "f1 = Fernet(fernet_key)\n",
    "print(f1)"
   ]
  },
  {
   "cell_type": "markdown",
   "metadata": {},
   "source": [
    "If both parties know the passphrase and salt value, then each party could derive the same key and send encrypted messages."
   ]
  },
  {
   "cell_type": "markdown",
   "metadata": {},
   "source": [
    "## Encrypted Data\n",
    "Let's see how the data is packed and encrypted. \n",
    "The enciphered token has the following structure:\n",
    "\n",
    "1. Version [1 byte] - the only valid value currently is 128.\n",
    "2. Timestamp [8 bytes] - a 64 bit, unsigned, big-endian integer that indicates when the ciphertext was created. \n",
    "3. IV [16 bytes] - the 128 bit Initialization Vector used in AES encryption and decryption.\n",
    "4. Ciphertext [16 * N Bytes, where N is the number of cipher blocks] - the encrypted version of the plaintext message. This is encrypted using AES128 in CBC mode using the PKCS7 padding algorithm.\n",
    "5. HMAC [32 bytes] - a 256-bit hash based message authentication code of the concatenated Version, Timestamp, IV, and Ciphertext fields. The HMAC is signed using the signing key section of the Fernet key."
   ]
  },
  {
   "cell_type": "code",
   "execution_count": null,
   "metadata": {},
   "outputs": [
    {
     "data": {
      "text/plain": [
       "b'gAAAAABm0VIUq9BMUaIWcYOR0gjtgL7uF-_D2TMq_m9uHRM2KIZOY2dNRZI6uEWjD9ujwT7rYdNO0ZdAfEYDxp1J5clF-vAcguqxTzaaY4SjIKCFm_YukMjNYB2DsEy0xWnij0WtJg9G97VNWHWcGIlCRXzBJnzT4GnCyR2N7ZbfDNQGYY78F_ZuYyIsBAYH-7K4YzRkDiZLTXHjxOtvjtZuH3eqcD_zuA4tiWmGAHHyws8ONREcZSO0O56l8Er9s3VfriFVNIyCgPynecVApCYxNvc4EAAzp1jFiwIt5g-Xj-RNv-xljX787X4OVy3SF8kDdyhl6Stl8oeWIXXxV1eF9qqMxLKqny-ekddUdjCglFrWkMT_wZnHBKUnWUk8rxft3enInP_utH8YIUlPNkmrlu8yxrGSmnH5-u9N_TGAd1mPdoL5W9Ap8yu8BJ3QcF43foZfiV1DK8WNPRhomnZvBNWvXMgAsBUrnTJ67iPEjKIa2HlH-LOoCVx_gUbab528wzesoHMp'"
      ]
     },
     "execution_count": 51,
     "metadata": {},
     "output_type": "execute_result"
    }
   ],
   "source": [
    "# Recall the base64 encoded cipher token\n",
    "cipher_token"
   ]
  },
  {
   "cell_type": "code",
   "execution_count": null,
   "metadata": {},
   "outputs": [
    {
     "data": {
      "text/plain": [
       "b'\\x80\\x00\\x00\\x00\\x00f\\xd1R\\x14\\xab\\xd0LQ\\xa2\\x16q\\x83\\x91\\xd2\\x08\\xed\\x80\\xbe\\xee\\x17\\xef\\xc3\\xd93*\\xfeon\\x1d\\x136(\\x86NcgME\\x92:\\xb8E\\xa3\\x0f\\xdb\\xa3\\xc1>\\xeba\\xd3N\\xd1\\x97@|F\\x03\\xc6\\x9dI\\xe5\\xc9E\\xfa\\xf0\\x1c\\x82\\xea\\xb1O6\\x9ac\\x84\\xa3 \\xa0\\x85\\x9b\\xf6.\\x90\\xc8\\xcd`\\x1d\\x83\\xb0L\\xb4\\xc5i\\xe2\\x8fE\\xad&\\x0fF\\xf7\\xb5MXu\\x9c\\x18\\x89BE|\\xc1&|\\xd3\\xe0i\\xc2\\xc9\\x1d\\x8d\\xed\\x96\\xdf\\x0c\\xd4\\x06a\\x8e\\xfc\\x17\\xf6nc\",\\x04\\x06\\x07\\xfb\\xb2\\xb8c4d\\x0e&KMq\\xe3\\xc4\\xebo\\x8e\\xd6n\\x1fw\\xaap?\\xf3\\xb8\\x0e-\\x89i\\x86\\x00q\\xf2\\xc2\\xcf\\x0e5\\x11\\x1ce#\\xb4;\\x9e\\xa5\\xf0J\\xfd\\xb3u_\\xae!U4\\x8c\\x82\\x80\\xfc\\xa7y\\xc5@\\xa4&16\\xf78\\x10\\x003\\xa7X\\xc5\\x8b\\x02-\\xe6\\x0f\\x97\\x8f\\xe4M\\xbf\\xece\\x8d~\\xfc\\xed~\\x0eW-\\xd2\\x17\\xc9\\x03w(e\\xe9+e\\xf2\\x87\\x96!u\\xf1WW\\x85\\xf6\\xaa\\x8c\\xc4\\xb2\\xaa\\x9f/\\x9e\\x91\\xd7Tv0\\xa0\\x94Z\\xd6\\x90\\xc4\\xff\\xc1\\x99\\xc7\\x04\\xa5\\'YI<\\xaf\\x17\\xed\\xdd\\xe9\\xc8\\x9c\\xff\\xee\\xb4\\x7f\\x18!IO6I\\xab\\x96\\xef2\\xc6\\xb1\\x92\\x9aq\\xf9\\xfa\\xefM\\xfd1\\x80wY\\x8fv\\x82\\xf9[\\xd0)\\xf3+\\xbc\\x04\\x9d\\xd0p^7~\\x86_\\x89]C+\\xc5\\x8d=\\x18h\\x9avo\\x04\\xd5\\xaf\\\\\\xc8\\x00\\xb0\\x15+\\x9d2z\\xee#\\xc4\\x8c\\xa2\\x1a\\xd8yG\\xf8\\xb3\\xa8\\t\\\\\\x7f\\x81F\\xdao\\x9d\\xbc\\xc37\\xac\\xa0s)'"
      ]
     },
     "execution_count": 52,
     "metadata": {},
     "output_type": "execute_result"
    }
   ],
   "source": [
    "cipher_token_bytes = base64.urlsafe_b64decode(cipher_token)\n",
    "cipher_token_bytes"
   ]
  },
  {
   "cell_type": "code",
   "execution_count": null,
   "metadata": {},
   "outputs": [
    {
     "name": "stdout",
     "output_type": "stream",
     "text": [
      "Version: 128\n",
      "time_stamp: b'\\x00\\x00\\x00\\x00f\\xd1R\\x14'\n",
      "init_vect: b'\\xab\\xd0LQ\\xa2\\x16q\\x83\\x91\\xd2\\x08\\xed\\x80\\xbe\\xee\\x17'\n",
      "Length of cipher_data: 336\n",
      "hmac_value: b'\\x15+\\x9d2z\\xee#\\xc4\\x8c\\xa2\\x1a\\xd8yG\\xf8\\xb3\\xa8\\t\\\\\\x7f\\x81F\\xdao\\x9d\\xbc\\xc37\\xac\\xa0s)'\n"
     ]
    }
   ],
   "source": [
    "#parse the fields\n",
    "version = cipher_token_bytes[0]\n",
    "print(\"Version: {}\".format(version))\n",
    "time_stamp = cipher_token_bytes[1:9]\n",
    "print(\"time_stamp: {}\".format(time_stamp))\n",
    "init_vect = cipher_token_bytes[9:25]\n",
    "print(\"init_vect: {}\".format(init_vect))\n",
    "cipher_data = cipher_token_bytes[25:-32]\n",
    "print(\"Length of cipher_data: {}\".format(len(cipher_data)))\n",
    "hmac_value = cipher_token_bytes[-32:]\n",
    "print(\"hmac_value: {}\".format(hmac_value))"
   ]
  },
  {
   "cell_type": "code",
   "execution_count": null,
   "metadata": {},
   "outputs": [
    {
     "data": {
      "text/plain": [
       "1724994068"
      ]
     },
     "execution_count": 54,
     "metadata": {},
     "output_type": "execute_result"
    }
   ],
   "source": [
    "#Convert the timestamp bytes into an integer\n",
    "#This is the number of seconds from the Jan 1, 1970 epoch\n",
    "import struct\n",
    "time_integer = struct.unpack(\">Q\",time_stamp)[0]\n",
    "time_integer"
   ]
  },
  {
   "cell_type": "code",
   "execution_count": null,
   "metadata": {},
   "outputs": [
    {
     "data": {
      "text/plain": [
       "'2024-08-29T23:01:08'"
      ]
     },
     "execution_count": 55,
     "metadata": {},
     "output_type": "execute_result"
    }
   ],
   "source": [
    "#convert the timestamp into iso format so we can read it.\n",
    "from datetime import datetime\n",
    "datetime.fromtimestamp(time_integer).isoformat()"
   ]
  },
  {
   "cell_type": "markdown",
   "metadata": {},
   "source": [
    "For more on time operations in Python: https://docs.python.org/3/library/datetime.html"
   ]
  },
  {
   "cell_type": "code",
   "execution_count": null,
   "metadata": {},
   "outputs": [
    {
     "data": {
      "text/plain": [
       "b'We the People of the United States, in Order to form a more perfect Union, establish Justice, insure domestic Tranquility, provide for the common defence, promote the general Welfare, and secure the Blessings of Liberty to ourselves and our Posterity, do ordain and establish this Constitution for the United States of America.'"
      ]
     },
     "execution_count": 56,
     "metadata": {},
     "output_type": "execute_result"
    }
   ],
   "source": [
    "#Recall (no time constraints)\n",
    "f.decrypt(cipher_token)"
   ]
  },
  {
   "cell_type": "code",
   "execution_count": null,
   "metadata": {},
   "outputs": [
    {
     "ename": "InvalidToken",
     "evalue": "",
     "output_type": "error",
     "traceback": [
      "\u001b[1;31m---------------------------------------------------------------------------\u001b[0m",
      "\u001b[1;31mInvalidToken\u001b[0m                              Traceback (most recent call last)",
      "Cell \u001b[1;32mIn[57], line 4\u001b[0m\n\u001b[0;32m      1\u001b[0m \u001b[38;5;66;03m# If more than ttl seconds have passed from the encryption, then the token is bad. \u001b[39;00m\n\u001b[0;32m      2\u001b[0m \u001b[38;5;66;03m# This is helpful to guarantee the freshness of data coming from a real-time producer.\u001b[39;00m\n\u001b[0;32m      3\u001b[0m \u001b[38;5;66;03m# (i.e. instrument data from a test vehicle streaming in real-time. )\u001b[39;00m\n\u001b[1;32m----> 4\u001b[0m f\u001b[38;5;241m.\u001b[39mdecrypt(cipher_token,ttl \u001b[38;5;241m=\u001b[39m \u001b[38;5;241m10\u001b[39m)\n",
      "File \u001b[1;32m~\\AppData\\Roaming\\Python\\Python311\\site-packages\\cryptography\\fernet.py:89\u001b[0m, in \u001b[0;36mFernet.decrypt\u001b[1;34m(self, token, ttl)\u001b[0m\n\u001b[0;32m     87\u001b[0m \u001b[38;5;28;01melse\u001b[39;00m:\n\u001b[0;32m     88\u001b[0m     time_info \u001b[38;5;241m=\u001b[39m (ttl, \u001b[38;5;28mint\u001b[39m(time\u001b[38;5;241m.\u001b[39mtime()))\n\u001b[1;32m---> 89\u001b[0m \u001b[38;5;28;01mreturn\u001b[39;00m \u001b[38;5;28mself\u001b[39m\u001b[38;5;241m.\u001b[39m_decrypt_data(data, timestamp, time_info)\n",
      "File \u001b[1;32m~\\AppData\\Roaming\\Python\\Python311\\site-packages\\cryptography\\fernet.py:143\u001b[0m, in \u001b[0;36mFernet._decrypt_data\u001b[1;34m(self, data, timestamp, time_info)\u001b[0m\n\u001b[0;32m    141\u001b[0m ttl, current_time \u001b[38;5;241m=\u001b[39m time_info\n\u001b[0;32m    142\u001b[0m \u001b[38;5;28;01mif\u001b[39;00m timestamp \u001b[38;5;241m+\u001b[39m ttl \u001b[38;5;241m<\u001b[39m current_time:\n\u001b[1;32m--> 143\u001b[0m     \u001b[38;5;28;01mraise\u001b[39;00m InvalidToken\n\u001b[0;32m    145\u001b[0m \u001b[38;5;28;01mif\u001b[39;00m current_time \u001b[38;5;241m+\u001b[39m _MAX_CLOCK_SKEW \u001b[38;5;241m<\u001b[39m timestamp:\n\u001b[0;32m    146\u001b[0m     \u001b[38;5;28;01mraise\u001b[39;00m InvalidToken\n",
      "\u001b[1;31mInvalidToken\u001b[0m: "
     ]
    }
   ],
   "source": [
    "# If more than ttl seconds have passed from the encryption, then the token is bad. \n",
    "# This is helpful to guarantee the freshness of data coming from a real-time producer.\n",
    "# (i.e. instrument data from a test vehicle streaming in real-time. )\n",
    "f.decrypt(cipher_token,ttl = 10)"
   ]
  },
  {
   "cell_type": "markdown",
   "metadata": {},
   "source": [
    "### AES-CBC decryption\n",
    "We have the keys used for the symmetric encryption along with the IV, so we can create an AES cipher based on these inputs and decrypt the cipher text. We'll need to import these primitives. Reference: https://cryptography.io/en/latest/hazmat/primitives/symmetric-encryption/"
   ]
  },
  {
   "cell_type": "code",
   "execution_count": null,
   "metadata": {},
   "outputs": [],
   "source": [
    "from cryptography.hazmat.primitives.ciphers import Cipher, algorithms, modes"
   ]
  },
  {
   "cell_type": "code",
   "execution_count": null,
   "metadata": {},
   "outputs": [
    {
     "data": {
      "text/plain": [
       "b'\\x1a\\x8c\\xc5\\xd8\\xc7\\xb1\\x15\\xb6o\\xc6\\xe3f\\x8f\\xee\\xde\\x1a'"
      ]
     },
     "execution_count": 59,
     "metadata": {},
     "output_type": "execute_result"
    }
   ],
   "source": [
    "#Recall\n",
    "encryption_key"
   ]
  },
  {
   "cell_type": "code",
   "execution_count": null,
   "metadata": {},
   "outputs": [
    {
     "data": {
      "text/plain": [
       "<cryptography.hazmat.primitives.ciphers.base.Cipher at 0x1c45f7a9610>"
      ]
     },
     "execution_count": 60,
     "metadata": {},
     "output_type": "execute_result"
    }
   ],
   "source": [
    "cipher = Cipher(algorithms.AES(encryption_key), modes.CBC(init_vect))\n",
    "cipher"
   ]
  },
  {
   "cell_type": "code",
   "execution_count": null,
   "metadata": {},
   "outputs": [
    {
     "data": {
      "text/plain": [
       "<cryptography.hazmat.primitives.ciphers.base._CipherContext at 0x1c45f5138d0>"
      ]
     },
     "execution_count": 61,
     "metadata": {},
     "output_type": "execute_result"
    }
   ],
   "source": [
    "decryptor = cipher.decryptor()\n",
    "decryptor"
   ]
  },
  {
   "cell_type": "code",
   "execution_count": null,
   "metadata": {},
   "outputs": [
    {
     "data": {
      "text/plain": [
       "b'We the People of the United States, in Order to form a more perfect Union, establish Justice, insure domestic Tranquility, provide for the common defence, promote the general Welfare, and secure the Blessings of Liberty to ourselves and our Posterity, do ordain and establish this Constitution for the United States of America.\\t\\t\\t\\t\\t\\t\\t\\t\\t'"
      ]
     },
     "execution_count": 62,
     "metadata": {},
     "output_type": "execute_result"
    }
   ],
   "source": [
    "#Notice the padding at the end\n",
    "# if this gives an error, reinitialize the decryptor\n",
    "clear = decryptor.update(cipher_data) + decryptor.finalize()\n",
    "clear"
   ]
  },
  {
   "cell_type": "code",
   "execution_count": null,
   "metadata": {},
   "outputs": [
    {
     "data": {
      "text/plain": [
       "9"
      ]
     },
     "execution_count": 63,
     "metadata": {},
     "output_type": "execute_result"
    }
   ],
   "source": [
    "# The padding is performed by inserting N bytes at the end of the clear bytes\n",
    "# The pad length N is encoded as the pad value. The pad value is determined as chr(N).\n",
    "# The inverse of chr(N) is ord(char)\n",
    "ord('\\t')"
   ]
  },
  {
   "cell_type": "markdown",
   "metadata": {},
   "source": [
    "There were 9 b'/t' characters padded to the end of the preamble to make the block divisible by 16."
   ]
  },
  {
   "cell_type": "code",
   "execution_count": null,
   "metadata": {},
   "outputs": [],
   "source": [
    "from cryptography.hazmat.primitives import padding"
   ]
  },
  {
   "cell_type": "code",
   "execution_count": null,
   "metadata": {},
   "outputs": [
    {
     "data": {
      "text/plain": [
       "b'We the People of the United States, in Order to form a more perfect Union, establish Justice, insure domestic Tranquility, provide for the common defence, promote the general Welfare, and secure the Blessings of Liberty to ourselves and our Posterity, do ordain and establish this Constitution for the United States of A'"
      ]
     },
     "execution_count": 65,
     "metadata": {},
     "output_type": "execute_result"
    }
   ],
   "source": [
    "# Let's use the primitive (16 bytes = 128 bits)\n",
    "unpadder = padding.PKCS7(128).unpadder()\n",
    "unpadded_clear = unpadder.update(clear)\n",
    "unpadded_clear"
   ]
  },
  {
   "cell_type": "code",
   "execution_count": null,
   "metadata": {},
   "outputs": [
    {
     "data": {
      "text/plain": [
       "b'merica.'"
      ]
     },
     "execution_count": 66,
     "metadata": {},
     "output_type": "execute_result"
    }
   ],
   "source": [
    "#We are still missing the last part:\n",
    "unpadder.finalize()"
   ]
  },
  {
   "cell_type": "code",
   "execution_count": null,
   "metadata": {},
   "outputs": [
    {
     "data": {
      "text/plain": [
       "b'We the People of the United States, in Order to form a more perfect Union, establish Justice, insure domestic Tranquility, provide for the common defence, promote the general Welfare, and secure the Blessings of Liberty to ourselves and our Posterity, do ordain and establish this Constitution for the United States of America.'"
      ]
     },
     "execution_count": 67,
     "metadata": {},
     "output_type": "execute_result"
    }
   ],
   "source": [
    "#Putting the two together\n",
    "unpadder = padding.PKCS7(128).unpadder()\n",
    "unpadded_clear = unpadder.update(clear) + unpadder.finalize()\n",
    "unpadded_clear"
   ]
  },
  {
   "cell_type": "markdown",
   "metadata": {},
   "source": [
    "### Tamper Detection\n",
    "What if someone manipulates a bit in the cipher_data? The decryption will still work, but the message will be changed. We need to detect these manipulations before presenting actual data. The decryptor does not know if the data bits were rearranged.\n",
    "\n",
    "Key Point: encryption does not mean authentication. "
   ]
  },
  {
   "cell_type": "code",
   "execution_count": null,
   "metadata": {},
   "outputs": [
    {
     "data": {
      "text/plain": [
       "True"
      ]
     },
     "execution_count": 68,
     "metadata": {},
     "output_type": "execute_result"
    }
   ],
   "source": [
    "#Change to a bytearray to manipulate\n",
    "altered_cipher = bytearray(cipher_data)\n",
    "altered_cipher == bytearray(cipher_data)"
   ]
  },
  {
   "cell_type": "code",
   "execution_count": null,
   "metadata": {},
   "outputs": [
    {
     "data": {
      "text/plain": [
       "False"
      ]
     },
     "execution_count": 69,
     "metadata": {},
     "output_type": "execute_result"
    }
   ],
   "source": [
    "#Change a byte\n",
    "altered_cipher[45] = 0\n",
    "altered_cipher == bytearray(cipher_data)"
   ]
  },
  {
   "cell_type": "code",
   "execution_count": null,
   "metadata": {},
   "outputs": [
    {
     "data": {
      "text/plain": [
       "b'We the People of the United States, in Order to form a more perfect Union, establish Justice, insure domestic Tranquility, provide for the common defence, promote the general Welfare, and secure the Blessings of Liberty to ourselves and our Posterity, do ordain and establish this Constitution for the United States of America.\\t\\t\\t\\t\\t\\t\\t\\t\\t'"
      ]
     },
     "execution_count": 70,
     "metadata": {},
     "output_type": "execute_result"
    }
   ],
   "source": [
    "# use the same decryptor and decrypt\n",
    "decryptor = cipher.decryptor()\n",
    "decryptor.update(cipher_data) + decryptor.finalize()"
   ]
  },
  {
   "cell_type": "code",
   "execution_count": null,
   "metadata": {},
   "outputs": [
    {
     "data": {
      "text/plain": [
       "b'We the People of the United Stat\\xab\\xbd\\xc8f\\x94\\xb7\\re\\xfd\\x10a\\xf9k\\x07\\xeb\\xb3form a more p\\x95rfect Union, establish Justice, insure domestic Tranquility, provide for the common defence, promote the general Welfare, and secure the Blessings of Liberty to ourselves and our Posterity, do ordain and establish this Constitution for the United States of America.\\t\\t\\t\\t\\t\\t\\t\\t\\t'"
      ]
     },
     "execution_count": 71,
     "metadata": {},
     "output_type": "execute_result"
    }
   ],
   "source": [
    "# in cipher block chaining (CBC) mode, some of the original text will come through after manipulating a byte.\n",
    "decryptor = cipher.decryptor()\n",
    "decryptor.update(altered_cipher) + decryptor.finalize()"
   ]
  },
  {
   "cell_type": "markdown",
   "metadata": {},
   "source": [
    "How can someone tell if the enciphered data was manipulated?\n",
    "\n",
    "Ans: use a message authentication code.\n",
    "\n",
    "https://cryptography.io/en/latest/hazmat/primitives/mac/hmac/"
   ]
  },
  {
   "cell_type": "code",
   "execution_count": null,
   "metadata": {},
   "outputs": [],
   "source": [
    "from cryptography.hazmat.primitives import hashes, hmac"
   ]
  },
  {
   "cell_type": "code",
   "execution_count": null,
   "metadata": {},
   "outputs": [
    {
     "data": {
      "text/plain": [
       "b'\\xe2\\x18\\xdb\\x81\\x8a\\x87\\xb9\\x87\\x9d\\xa9UP\\\\\\xb0\\xd8\\x03'"
      ]
     },
     "execution_count": 73,
     "metadata": {},
     "output_type": "execute_result"
    }
   ],
   "source": [
    "#recall\n",
    "signing_key"
   ]
  },
  {
   "cell_type": "code",
   "execution_count": null,
   "metadata": {},
   "outputs": [
    {
     "data": {
      "text/plain": [
       "b'\\x15+\\x9d2z\\xee#\\xc4\\x8c\\xa2\\x1a\\xd8yG\\xf8\\xb3\\xa8\\t\\\\\\x7f\\x81F\\xdao\\x9d\\xbc\\xc37\\xac\\xa0s)'"
      ]
     },
     "execution_count": 74,
     "metadata": {},
     "output_type": "execute_result"
    }
   ],
   "source": [
    "#Add the concatenated message bytes to the HMAC and produce the digest\n",
    "h = hmac.HMAC(signing_key,hashes.SHA256())\n",
    "h.update(cipher_token_bytes[:-32])\n",
    "new_hmac_digest = h.finalize()\n",
    "new_hmac_digest"
   ]
  },
  {
   "cell_type": "code",
   "execution_count": null,
   "metadata": {},
   "outputs": [
    {
     "data": {
      "text/plain": [
       "True"
      ]
     },
     "execution_count": 75,
     "metadata": {},
     "output_type": "execute_result"
    }
   ],
   "source": [
    "#Compare\n",
    "hmac_value == new_hmac_digest"
   ]
  },
  {
   "cell_type": "code",
   "execution_count": null,
   "metadata": {},
   "outputs": [
    {
     "name": "stdout",
     "output_type": "stream",
     "text": [
      "Message Authenticated\n"
     ]
    }
   ],
   "source": [
    "# Using verify\n",
    "h = hmac.HMAC(signing_key,hashes.SHA256())\n",
    "h.update(cipher_token_bytes[:-32])\n",
    "h.verify(cipher_token_bytes[-32:])\n",
    "# If the verify command doesn't raise an error, it's ok.\n",
    "print(\"Message Authenticated\")"
   ]
  },
  {
   "cell_type": "code",
   "execution_count": null,
   "metadata": {},
   "outputs": [
    {
     "ename": "InvalidSignature",
     "evalue": "Signature did not match digest.",
     "output_type": "error",
     "traceback": [
      "\u001b[1;31m---------------------------------------------------------------------------\u001b[0m",
      "\u001b[1;31mInvalidSignature\u001b[0m                          Traceback (most recent call last)",
      "Cell \u001b[1;32mIn[77], line 5\u001b[0m\n\u001b[0;32m      3\u001b[0m \u001b[38;5;66;03m# Remove the first byte\u001b[39;00m\n\u001b[0;32m      4\u001b[0m h\u001b[38;5;241m.\u001b[39mupdate(cipher_token_bytes[\u001b[38;5;241m1\u001b[39m:\u001b[38;5;241m-\u001b[39m\u001b[38;5;241m32\u001b[39m])\n\u001b[1;32m----> 5\u001b[0m h\u001b[38;5;241m.\u001b[39mverify(cipher_token_bytes[\u001b[38;5;241m-\u001b[39m\u001b[38;5;241m32\u001b[39m:])\n",
      "\u001b[1;31mInvalidSignature\u001b[0m: Signature did not match digest."
     ]
    }
   ],
   "source": [
    "# Using verify\n",
    "h = hmac.HMAC(signing_key,hashes.SHA256())\n",
    "# Remove the first byte\n",
    "h.update(cipher_token_bytes[1:-32])\n",
    "h.verify(cipher_token_bytes[-32:])"
   ]
  },
  {
   "cell_type": "code",
   "execution_count": null,
   "metadata": {},
   "outputs": [
    {
     "name": "stdout",
     "output_type": "stream",
     "text": [
      "Invalid Signature\n"
     ]
    }
   ],
   "source": [
    "# Use a try -except block to catch the verification error\n",
    "from cryptography import exceptions\n",
    "h = hmac.HMAC(signing_key,hashes.SHA256())\n",
    "# Remove the first byte\n",
    "h.update(cipher_token_bytes[1:-32])\n",
    "try:\n",
    "    h.verify(cipher_token_bytes[-32:])\n",
    "    print(\"Message Authenticated\")\n",
    "except exceptions.InvalidSignature:\n",
    "    print(\"Invalid Signature\")"
   ]
  },
  {
   "cell_type": "markdown",
   "metadata": {},
   "source": [
    "## Section Summary\n",
    "In this section we disected the Fernet protocol for symmetric encryption. In this process we discussed\n",
    "* Improper Modes of Encryption \n",
    "* Key Generation\n",
    "* Keys from Passwords\n",
    "* Availability Controls with Timestamps\n",
    "* Confidentiality Controls using AES in the cipher block chaining mode\n",
    "* Integrity Controls and Tamper Detection using HMAC\n",
    "The Fernet recipe is a good starting point to send data across the Internet between trusted parties with a shared key."
   ]
  },
  {
   "cell_type": "code",
   "execution_count": null,
   "metadata": {},
   "outputs": [],
   "source": []
  }
 ],
 "metadata": {
  "kernelspec": {
   "display_name": "Python 3 (ipykernel)",
   "language": "python",
   "name": "python3"
  },
  "language_info": {
   "codemirror_mode": {
    "name": "ipython",
    "version": 3
   },
   "file_extension": ".py",
   "mimetype": "text/x-python",
   "name": "python",
   "nbconvert_exporter": "python",
   "pygments_lexer": "ipython3",
   "version": "3.13.2"
  },
  "latex_envs": {
   "LaTeX_envs_menu_present": true,
   "autoclose": false,
   "autocomplete": true,
   "bibliofile": "biblio.bib",
   "cite_by": "apalike",
   "current_citInitial": 1,
   "eqLabelWithNumbers": true,
   "eqNumInitial": 1,
   "hotkeys": {
    "equation": "Ctrl-E",
    "itemize": "Ctrl-I"
   },
   "labels_anchors": false,
   "latex_user_defs": false,
   "report_style_numbering": false,
   "user_envs_cfg": false
  }
 },
 "nbformat": 4,
 "nbformat_minor": 4
}
