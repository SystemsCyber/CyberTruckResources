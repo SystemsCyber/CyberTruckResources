{
 "cells": [
  {
   "cell_type": "markdown",
   "metadata": {},
   "source": [
    "# <center> Module 2a - Encoding Data\n",
    "## <center> ENGR 580A2: Secure Vehicle and Industrial Networking\n",
    "## <center><img src=\"https://www.engr.colostate.edu/~jdaily/Systems-EN-CSU-1-C357.svg\" width=\"600\" /> \n",
    "### <center> Instructor: Dr. Jeremy Daily<br>Fall 2021"
   ]
  },
  {
   "cell_type": "markdown",
   "metadata": {},
   "source": [
    "## Lesson Outcomes\n",
    "After completing this exercise, students should be able to:\n",
    "1. Realize encoded data is not encrypted.\n",
    "2. Carry-out data encoding for integers of different lengths.\n",
    "3. Present data as text strings or numbers based on the desired encoding.\n",
    "4. Develop Python programming skills to work with different types of encoding."
   ]
  },
  {
   "cell_type": "markdown",
   "metadata": {},
   "source": [
    "### Overview\n",
    "1. Define a string of bytes\n",
    "2. Explore integer encoding\n",
    "3. Learn the struct library\n",
    "4. Understand how to encode data as text with different codecs\n",
    "5. Represent binary only using text using base64 encoding"
   ]
  },
  {
   "cell_type": "code",
   "execution_count": null,
   "metadata": {},
   "outputs": [],
   "source": [
    "# Given a series of bits\n",
    "# This could represent some data frame in a CAN message\n",
    "a = 0b0110000101110100011101000110000101100011011010110000110100001010"
   ]
  },
  {
   "cell_type": "code",
   "execution_count": null,
   "metadata": {},
   "outputs": [],
   "source": [
    "#What is a?\n",
    "# The python default is an integer\n",
    "print(a)\n",
    "type(a)"
   ]
  },
  {
   "cell_type": "code",
   "execution_count": null,
   "metadata": {},
   "outputs": [],
   "source": [
    "# display integer as hex characters\n",
    "print(\"{:016X}\".format(a))"
   ]
  },
  {
   "cell_type": "code",
   "execution_count": null,
   "metadata": {},
   "outputs": [],
   "source": [
    "#display integer as binary\n",
    "print(\"{:064b}\".format(a))"
   ]
  },
  {
   "cell_type": "code",
   "execution_count": null,
   "metadata": {},
   "outputs": [],
   "source": [
    "# Python 3 also has a data type of bytes. \n",
    "# Most network traffic arrives as bytes\n",
    "b = a.to_bytes(8,'big')\n",
    "print(b)\n",
    "type(b)"
   ]
  },
  {
   "cell_type": "code",
   "execution_count": null,
   "metadata": {},
   "outputs": [],
   "source": [
    "len(b)"
   ]
  },
  {
   "cell_type": "code",
   "execution_count": null,
   "metadata": {},
   "outputs": [],
   "source": [
    "# You can iterate through an array of bytes\n",
    "for i in b:\n",
    "    print(i,end = ' ')"
   ]
  },
  {
   "cell_type": "code",
   "execution_count": null,
   "metadata": {},
   "outputs": [],
   "source": [
    "# Let's print the hex characters\n",
    "for i in b:\n",
    "    print(\"{:02X}\".format(i),end = ' ')"
   ]
  },
  {
   "cell_type": "code",
   "execution_count": null,
   "metadata": {},
   "outputs": [],
   "source": [
    "# Make a nice display of hex with raw bytes\n",
    "# This uses an efficient coding concept called list comprehension\n",
    "\" \".join([\"{:02X}\".format(i) for i in b])"
   ]
  },
  {
   "cell_type": "code",
   "execution_count": null,
   "metadata": {},
   "outputs": [],
   "source": [
    "#Make a nice display of binary with raw bytes\n",
    "\" \".join([\"{:08b}\".format(i) for i in b])"
   ]
  },
  {
   "cell_type": "code",
   "execution_count": null,
   "metadata": {},
   "outputs": [],
   "source": [
    "# pretend the last 4 bytes is a source IP address. \n",
    "# Let's display the address\n",
    "print(\"IP: \" + \".\".join([\"{:}\".format(i) for i in b[-4:]]))"
   ]
  },
  {
   "cell_type": "code",
   "execution_count": null,
   "metadata": {},
   "outputs": [],
   "source": [
    "# Let's pretend the first four bytes are the destination IP address. \n",
    "# In Wireshark, this IP address would show up as hex:\n",
    "\" \".join([\"{:02X}\".format(i) for i in b[:4]])"
   ]
  },
  {
   "cell_type": "markdown",
   "metadata": {},
   "source": [
    "### Decoding Options\n",
    "There are many options for decoding the raw bytes. The struct module is most helpful.\n",
    "\n",
    "https://docs.python.org/3.8/library/struct.html"
   ]
  },
  {
   "cell_type": "code",
   "execution_count": null,
   "metadata": {},
   "outputs": [],
   "source": [
    "import struct"
   ]
  },
  {
   "cell_type": "code",
   "execution_count": null,
   "metadata": {},
   "outputs": [],
   "source": [
    "b"
   ]
  },
  {
   "cell_type": "code",
   "execution_count": null,
   "metadata": {},
   "outputs": [],
   "source": [
    "# We might have 8 single byte, unsigned integers\n",
    "struct.unpack(\"BBBBBBBB\",b)"
   ]
  },
  {
   "cell_type": "code",
   "execution_count": null,
   "metadata": {},
   "outputs": [],
   "source": [
    "# We might have 8 single byte, signed integers\n",
    "(97, 116, 116, 97, 99, 107, 13, 10)"
   ]
  },
  {
   "cell_type": "code",
   "execution_count": null,
   "metadata": {},
   "outputs": [],
   "source": [
    "# These are the same. Let's try another example\n",
    "# The \\x escape tells that this is a hex string\n",
    "c = b'\\xDA'\n",
    "print(c)"
   ]
  },
  {
   "cell_type": "code",
   "execution_count": null,
   "metadata": {},
   "outputs": [],
   "source": [
    "# Unsigned Integer\n",
    "struct.unpack('B',c)"
   ]
  },
  {
   "cell_type": "code",
   "execution_count": null,
   "metadata": {},
   "outputs": [],
   "source": [
    "# Signed Integer\n",
    "struct.unpack('b',c)"
   ]
  },
  {
   "cell_type": "code",
   "execution_count": null,
   "metadata": {},
   "outputs": [],
   "source": [
    "# The return value is always a tuple.\n",
    "type(struct.unpack('b',c))"
   ]
  },
  {
   "cell_type": "code",
   "execution_count": null,
   "metadata": {},
   "outputs": [],
   "source": [
    "# To get an ingeger, index the tuple\n",
    "struct.unpack('b',c)[0]"
   ]
  },
  {
   "cell_type": "code",
   "execution_count": null,
   "metadata": {},
   "outputs": [],
   "source": [
    "type(struct.unpack('b',c)[0])"
   ]
  },
  {
   "cell_type": "code",
   "execution_count": null,
   "metadata": {},
   "outputs": [],
   "source": [
    "#What if we had 4 16-bit unsigned numbers?\n",
    "struct.unpack(\"4H\",b)"
   ]
  },
  {
   "cell_type": "code",
   "execution_count": null,
   "metadata": {},
   "outputs": [],
   "source": [
    "# But the byte order matters,\n",
    "struct.unpack(\"<HHHH\",b)"
   ]
  },
  {
   "cell_type": "code",
   "execution_count": null,
   "metadata": {},
   "outputs": [],
   "source": [
    "struct.unpack(\">HHHH\",b)"
   ]
  },
  {
   "cell_type": "code",
   "execution_count": null,
   "metadata": {},
   "outputs": [],
   "source": [
    "#Big endian (the way humans read)\n",
    "(24948).to_bytes(2,'big')"
   ]
  },
  {
   "cell_type": "code",
   "execution_count": null,
   "metadata": {},
   "outputs": [],
   "source": [
    "#Big endian (Motorola Format)\n",
    "struct.pack(\">H\",24948)"
   ]
  },
  {
   "cell_type": "code",
   "execution_count": null,
   "metadata": {},
   "outputs": [],
   "source": [
    "#little endian (Reverse Byte order)\n",
    "(24948).to_bytes(2,'little')"
   ]
  },
  {
   "cell_type": "code",
   "execution_count": null,
   "metadata": {},
   "outputs": [],
   "source": [
    "#Little endian (Intel Format)\n",
    "# Note 24948 = 0x6174 \n",
    "d = struct.pack(\"<H\",0x6174)\n",
    "print(d)"
   ]
  },
  {
   "cell_type": "code",
   "execution_count": null,
   "metadata": {},
   "outputs": [],
   "source": [
    "# Notice the reverse byte order (Little Endian or Intel)\n",
    "\" \".join([\"{:02X}\".format(i) for i in d])"
   ]
  },
  {
   "cell_type": "code",
   "execution_count": null,
   "metadata": {},
   "outputs": [],
   "source": [
    "# Signed 2-byte integers\n",
    "struct.unpack(\">h\",b'\\xda\\x55')"
   ]
  },
  {
   "cell_type": "code",
   "execution_count": null,
   "metadata": {},
   "outputs": [],
   "source": [
    "# Signed 2-byte integers\n",
    "struct.unpack(\"<h\",b'\\xda\\x55')"
   ]
  },
  {
   "cell_type": "code",
   "execution_count": null,
   "metadata": {},
   "outputs": [],
   "source": [
    "# notice the reverse byte order\n",
    "print(0x55da)"
   ]
  },
  {
   "cell_type": "markdown",
   "metadata": {},
   "source": [
    "### Characters"
   ]
  },
  {
   "cell_type": "code",
   "execution_count": null,
   "metadata": {},
   "outputs": [],
   "source": [
    "# We might have 8 single characters\n",
    "e = struct.unpack(\"8c\",b)\n",
    "print(e)"
   ]
  },
  {
   "cell_type": "code",
   "execution_count": null,
   "metadata": {},
   "outputs": [],
   "source": [
    "#Combine the bytes into a single string of bytes.\n",
    "b''.join(e)"
   ]
  },
  {
   "cell_type": "code",
   "execution_count": null,
   "metadata": {},
   "outputs": [],
   "source": [
    "#This is the same as packing\n",
    "f = struct.pack(\"cccccccc\",b'a', b't', b't', b'a', b'c', b'k', b'\\r', b'\\n')\n",
    "print(f)"
   ]
  },
  {
   "cell_type": "code",
   "execution_count": null,
   "metadata": {},
   "outputs": [],
   "source": [
    "# Using s enables the creation of a byte string without join\n",
    "f = struct.pack(\"cccccccc\",b'a', b't', b't', b'a', b'c', b'k', b'\\r', b'\\n')\n",
    "print(f)"
   ]
  },
  {
   "cell_type": "code",
   "execution_count": null,
   "metadata": {},
   "outputs": [],
   "source": [
    "type(f)"
   ]
  },
  {
   "cell_type": "code",
   "execution_count": null,
   "metadata": {},
   "outputs": [],
   "source": [
    "#Convert to a string\n",
    "str(f)"
   ]
  },
  {
   "cell_type": "code",
   "execution_count": null,
   "metadata": {},
   "outputs": [],
   "source": [
    "# Not really what we want. We know this is ascii text\n",
    "f.decode('ascii')"
   ]
  },
  {
   "cell_type": "code",
   "execution_count": null,
   "metadata": {},
   "outputs": [],
   "source": [
    "# Notice the extra line from the carriage return \\r and new line \\n.\n",
    "print(f.decode('ascii'))"
   ]
  },
  {
   "cell_type": "code",
   "execution_count": null,
   "metadata": {},
   "outputs": [],
   "source": [
    "# More modern is utf-8\n",
    "f.decode('utf-8')"
   ]
  },
  {
   "cell_type": "code",
   "execution_count": null,
   "metadata": {},
   "outputs": [],
   "source": [
    "# There are many character sets\n",
    "f.decode('latin-1')"
   ]
  },
  {
   "cell_type": "code",
   "execution_count": null,
   "metadata": {},
   "outputs": [],
   "source": [
    "b'attack\\xc4\\xfa'.decode('latin-1')"
   ]
  },
  {
   "cell_type": "code",
   "execution_count": null,
   "metadata": {},
   "outputs": [],
   "source": [
    "b'attack\\xc4\\xfa'.decode('ascii')"
   ]
  },
  {
   "cell_type": "code",
   "execution_count": null,
   "metadata": {},
   "outputs": [],
   "source": [
    "# We can ignore some of the non-ascii characters\n",
    "b'attack\\xc4\\xfa'.decode('ascii','ignore')"
   ]
  },
  {
   "cell_type": "code",
   "execution_count": null,
   "metadata": {},
   "outputs": [],
   "source": [
    "b'attack\\xc4\\xfa'.decode('utf-8')"
   ]
  },
  {
   "cell_type": "code",
   "execution_count": null,
   "metadata": {},
   "outputs": [],
   "source": [
    "# This keeps from getting errors\n",
    "b'attack\\xc4\\xfa'.decode('utf-8','replace')"
   ]
  },
  {
   "cell_type": "code",
   "execution_count": null,
   "metadata": {},
   "outputs": [],
   "source": [
    "# Here's a valid UTF string. It uses 2 bytes.\n",
    "b'attack\\xc4\\x8a'.decode('utf-8','strict')"
   ]
  },
  {
   "cell_type": "markdown",
   "metadata": {},
   "source": [
    "### Long Integers"
   ]
  },
  {
   "cell_type": "code",
   "execution_count": null,
   "metadata": {},
   "outputs": [],
   "source": [
    "#In little-endian\n",
    "struct.unpack('>LL',b)"
   ]
  },
  {
   "cell_type": "code",
   "execution_count": null,
   "metadata": {},
   "outputs": [],
   "source": [
    "2**32"
   ]
  },
  {
   "cell_type": "code",
   "execution_count": null,
   "metadata": {},
   "outputs": [],
   "source": [
    "#In little-endian\n",
    "struct.unpack('<LL',b)"
   ]
  },
  {
   "cell_type": "code",
   "execution_count": null,
   "metadata": {},
   "outputs": [],
   "source": [
    "# Notice the symmetry on the first four bytes; atta is a palindrome\n",
    "# Lets look at the last bytes\n",
    "struct.unpack('<L',b'ck\\r\\n')"
   ]
  },
  {
   "cell_type": "code",
   "execution_count": null,
   "metadata": {},
   "outputs": [],
   "source": [
    "#In big endian:\n",
    "struct.unpack('>L',b'ck\\r\\n')"
   ]
  },
  {
   "cell_type": "code",
   "execution_count": null,
   "metadata": {},
   "outputs": [],
   "source": [
    "# The pack operation\n",
    "struct.pack(\"<L\",168651619)"
   ]
  },
  {
   "cell_type": "code",
   "execution_count": null,
   "metadata": {},
   "outputs": [],
   "source": [
    "#Hex as an int\n",
    "0x0A0D6B63"
   ]
  },
  {
   "cell_type": "code",
   "execution_count": null,
   "metadata": {},
   "outputs": [],
   "source": [
    "# Reverse byte order\n",
    "struct.pack(\">L\",0x0A0D6B63)"
   ]
  },
  {
   "cell_type": "code",
   "execution_count": null,
   "metadata": {},
   "outputs": [],
   "source": [
    "#Signed long integers\n",
    "struct.unpack('>ll',b)"
   ]
  },
  {
   "cell_type": "markdown",
   "metadata": {},
   "source": [
    "### Practical Example: Decoding Vehicle Miles\n",
    "SAE J1939 has a message defined as PGN 65248: Vehicle Distance. It has two 32-bit integers in the 8 byte message. The first four bytes are SPN 244: Trip Distance and the second number is SPN 245: Total Vehicle Distance, or the Odometer reading. It is represented as the number of 0.125 km that have accumulated. This message can be found in many truck log files."
   ]
  },
  {
   "cell_type": "code",
   "execution_count": null,
   "metadata": {},
   "outputs": [],
   "source": [
    "#First, print the PGN in hex\n",
    "\"{:X}\".format(65248)"
   ]
  },
  {
   "cell_type": "code",
   "execution_count": null,
   "metadata": {},
   "outputs": [],
   "source": [
    "# A CAN log file from a truck has this line corresponding to PGN 65248\n",
    "log_text = \"(012.102753)  can1  18FEE000   [8] 73 49 03 00 BC E0 33 00\""
   ]
  },
  {
   "cell_type": "code",
   "execution_count": null,
   "metadata": {},
   "outputs": [],
   "source": [
    "# Parse the line into a list:\n",
    "entries = log_text.split()\n",
    "entries"
   ]
  },
  {
   "cell_type": "code",
   "execution_count": null,
   "metadata": {},
   "outputs": [],
   "source": [
    "#Convert to bytes from a long string of hex characters\n",
    "data_bytes = bytes.fromhex(''.join(entries[-8:]))\n",
    "data_bytes"
   ]
  },
  {
   "cell_type": "code",
   "execution_count": null,
   "metadata": {},
   "outputs": [],
   "source": [
    "# another way is to convert a list of integers\n",
    "data_bytes = bytes([int(i,16) for i in entries[-8:]])\n",
    "data_bytes"
   ]
  },
  {
   "cell_type": "code",
   "execution_count": null,
   "metadata": {},
   "outputs": [],
   "source": [
    "# another way is to build the bytes iteratively. (not prefered)\n",
    "data_bytes = b''\n",
    "for i in entries[4:12]:\n",
    "    data_bytes += int(i,16).to_bytes(1,'big')\n",
    "data_bytes"
   ]
  },
  {
   "cell_type": "code",
   "execution_count": null,
   "metadata": {},
   "outputs": [],
   "source": [
    "# J1939 is in little endian (Intel) format\n",
    "pgn_values = struct.unpack('<LL',data_bytes)\n",
    "pgn_values"
   ]
  },
  {
   "cell_type": "code",
   "execution_count": null,
   "metadata": {},
   "outputs": [],
   "source": [
    "# Compute mileage\n",
    "SPN245 = 0.125*pgn_values[1]/1.6071\n",
    "print(\"The Total Vehicle Distance is {:0,.1f} miles.\".format(SPN245))"
   ]
  },
  {
   "cell_type": "code",
   "execution_count": null,
   "metadata": {},
   "outputs": [],
   "source": [
    "# The long way\n",
    "# Multiply the bytes by their place holder\n",
    "value = 0\n",
    "value += data_bytes[4]\n",
    "value += data_bytes[5]*256\n",
    "value += data_bytes[6]*256*256\n",
    "value += data_bytes[7]*256*256*256\n",
    "value"
   ]
  },
  {
   "cell_type": "markdown",
   "metadata": {},
   "source": [
    "### 64-bit numbers"
   ]
  },
  {
   "cell_type": "code",
   "execution_count": null,
   "metadata": {},
   "outputs": [],
   "source": [
    "#Convert the double long integer a into bytes\n",
    "struct.pack('>Q',a)"
   ]
  },
  {
   "cell_type": "code",
   "execution_count": null,
   "metadata": {},
   "outputs": [],
   "source": [
    "# See how to convert back into a 64-bit integer\n",
    "struct.unpack('>Q',b)"
   ]
  },
  {
   "cell_type": "code",
   "execution_count": null,
   "metadata": {},
   "outputs": [],
   "source": [
    "#Byte order is important\n",
    "struct.unpack('<Q',b)"
   ]
  },
  {
   "cell_type": "code",
   "execution_count": null,
   "metadata": {},
   "outputs": [],
   "source": [
    "# Signed 64-bit integers\n",
    "struct.unpack('>q',b)"
   ]
  },
  {
   "cell_type": "code",
   "execution_count": null,
   "metadata": {},
   "outputs": [],
   "source": [
    "# The first bit must be set to get a negative number\n",
    "neg_num = struct.unpack('>q',b'\\xd0ttack\\r\\n')\n",
    "neg_num"
   ]
  },
  {
   "cell_type": "code",
   "execution_count": null,
   "metadata": {},
   "outputs": [],
   "source": [
    "# We can look at this as two floats\n",
    "struct.unpack('>ff',b)"
   ]
  },
  {
   "cell_type": "code",
   "execution_count": null,
   "metadata": {},
   "outputs": [],
   "source": [
    "# We can look at this as two floats (endianness does matter when its not a palidrome) \n",
    "struct.unpack('<ff',b)"
   ]
  },
  {
   "cell_type": "code",
   "execution_count": null,
   "metadata": {},
   "outputs": [],
   "source": [
    "# We can look at all 8-bytes as a double float\n",
    "struct.unpack('>d',b)[0]"
   ]
  },
  {
   "cell_type": "code",
   "execution_count": null,
   "metadata": {},
   "outputs": [],
   "source": [
    "# We can look at all 8-bytes as a double float\n",
    "struct.unpack('<d',b)[0]"
   ]
  },
  {
   "cell_type": "code",
   "execution_count": null,
   "metadata": {},
   "outputs": [],
   "source": [
    "# Reversing byte order is not the inverse\n",
    "1/struct.unpack('>d',b)[0]"
   ]
  },
  {
   "cell_type": "markdown",
   "metadata": {},
   "source": [
    "## Sending bytes as text only\n",
    "Base64 encoding\n",
    "\n",
    "https://docs.python.org/3.8/library/base64.html\n",
    "\n",
    "\n",
    "This is how to send cryptographic bytes in e-mail."
   ]
  },
  {
   "cell_type": "code",
   "execution_count": null,
   "metadata": {},
   "outputs": [],
   "source": [
    "import base64"
   ]
  },
  {
   "cell_type": "code",
   "execution_count": null,
   "metadata": {},
   "outputs": [],
   "source": [
    "#As bytes\n",
    "g = base64.b64encode(b)\n",
    "print(g)"
   ]
  },
  {
   "cell_type": "code",
   "execution_count": null,
   "metadata": {},
   "outputs": [],
   "source": [
    "base64.b64decode(g)"
   ]
  },
  {
   "cell_type": "code",
   "execution_count": null,
   "metadata": {},
   "outputs": [],
   "source": [
    "#As a string\n",
    "g.decode('utf-8')"
   ]
  },
  {
   "cell_type": "code",
   "execution_count": null,
   "metadata": {},
   "outputs": [],
   "source": [
    "len(g)"
   ]
  },
  {
   "cell_type": "code",
   "execution_count": null,
   "metadata": {},
   "outputs": [],
   "source": [
    "len(b)"
   ]
  },
  {
   "cell_type": "markdown",
   "metadata": {},
   "source": [
    "While the length of the data increases by 1.5, it enables transmission by email or http. Base64 encoding is very common for storing cryptographic data."
   ]
  },
  {
   "cell_type": "code",
   "execution_count": null,
   "metadata": {},
   "outputs": [],
   "source": [
    "# Recall\n",
    "b"
   ]
  },
  {
   "cell_type": "code",
   "execution_count": null,
   "metadata": {},
   "outputs": [],
   "source": [
    "#What about just converting to hex characters?\n",
    "h = b.hex()\n",
    "h"
   ]
  },
  {
   "cell_type": "code",
   "execution_count": null,
   "metadata": {},
   "outputs": [],
   "source": [
    "#Converting to printable hex doubles the length. Therefore, base64 encoding is more efficient.\n",
    "len(h)"
   ]
  },
  {
   "cell_type": "code",
   "execution_count": null,
   "metadata": {},
   "outputs": [],
   "source": [
    "# recall: display integer as hex characters\n",
    "print(\"{:016X}\".format(a))"
   ]
  },
  {
   "cell_type": "code",
   "execution_count": null,
   "metadata": {},
   "outputs": [],
   "source": [
    "#Decode\n",
    "base64.b64decode('YXR0YWNrDQo=')"
   ]
  },
  {
   "cell_type": "code",
   "execution_count": null,
   "metadata": {},
   "outputs": [],
   "source": [
    "# Generate a list of all byte values\n",
    "char_list = [struct.pack(\"B\",i) for i in range(256)]\n",
    "print(char_list)"
   ]
  },
  {
   "cell_type": "code",
   "execution_count": null,
   "metadata": {},
   "outputs": [],
   "source": [
    "#the alphabet in base64:\n",
    "j = base64.b64encode(b''.join(char_list))\n",
    "print(j)"
   ]
  },
  {
   "cell_type": "code",
   "execution_count": null,
   "metadata": {},
   "outputs": [],
   "source": [
    "len(j)"
   ]
  },
  {
   "cell_type": "code",
   "execution_count": null,
   "metadata": {},
   "outputs": [],
   "source": [
    "len(j)/len(char_list)"
   ]
  },
  {
   "cell_type": "code",
   "execution_count": null,
   "metadata": {},
   "outputs": [],
   "source": [
    "len(char_list)"
   ]
  },
  {
   "cell_type": "markdown",
   "metadata": {},
   "source": [
    "Note: Base64 encoded data is NOT encrypted. No additional information is needed to decode the data. There is no key."
   ]
  },
  {
   "cell_type": "markdown",
   "metadata": {},
   "source": [
    "## Crude Ciphers\n",
    "### Simple XOR encryption\n",
    "Given use an XOR operation to encrypt and decrypt."
   ]
  },
  {
   "cell_type": "code",
   "execution_count": null,
   "metadata": {},
   "outputs": [],
   "source": [
    "plain_text =  \"Fourscore and seven years ago our fathers brought forth, on this continent, a new nation, conceived in liberty, and dedicated to the proposition that all men are created equal. Now we are engaged in a great civil war, testing whether that nation, or any nation so conceived, and so dedicated, can long endure.\""
   ]
  },
  {
   "cell_type": "code",
   "execution_count": null,
   "metadata": {},
   "outputs": [],
   "source": [
    "key = 5\n",
    "struct.pack('B',key)"
   ]
  },
  {
   "cell_type": "code",
   "execution_count": null,
   "metadata": {},
   "outputs": [],
   "source": [
    "#convert to a bytearray\n",
    "plain_bytes = bytes(plain_text,'utf-8')\n",
    "print(plain_bytes)"
   ]
  },
  {
   "cell_type": "code",
   "execution_count": null,
   "metadata": {},
   "outputs": [],
   "source": [
    "cipher_bytes = bytes(x ^ key for x in plain_bytes)\n",
    "cipher_bytes"
   ]
  },
  {
   "cell_type": "code",
   "execution_count": null,
   "metadata": {},
   "outputs": [],
   "source": [
    "#decrypt is the same process:\n",
    "bytes(x ^ key for x in cipher_bytes)"
   ]
  },
  {
   "cell_type": "code",
   "execution_count": null,
   "metadata": {},
   "outputs": [],
   "source": [
    "#There are certain valid ranges for ascii text\n",
    "# The space character is the smallest\n",
    "min(plain_bytes)"
   ]
  },
  {
   "cell_type": "code",
   "execution_count": null,
   "metadata": {},
   "outputs": [],
   "source": [
    "#show the space\n",
    "struct.pack(\"B\",min(plain_bytes))"
   ]
  },
  {
   "cell_type": "code",
   "execution_count": null,
   "metadata": {},
   "outputs": [],
   "source": [
    "# What if you don't know the key?\n",
    "for k in range(256):\n",
    "    canidate_bytes = bytearray(x ^ k for x in cipher_bytes)\n",
    "    if min(canidate_bytes) >= 32 and max(canidate_bytes) < 127: # then Ascii       \n",
    "        print(k)\n",
    "        print(canidate_bytes)\n",
    "        print()"
   ]
  },
  {
   "cell_type": "code",
   "execution_count": null,
   "metadata": {},
   "outputs": [],
   "source": [
    "# A Ceasar Shift Cipher\n",
    "shifted_text = bytes((x + key) for x in plain_bytes)\n",
    "shifted_text"
   ]
  },
  {
   "cell_type": "code",
   "execution_count": null,
   "metadata": {},
   "outputs": [],
   "source": [
    "# A Ceasar Shift Cipher decipher\n",
    "bytes((x - key) for x in shifted_text)"
   ]
  },
  {
   "cell_type": "code",
   "execution_count": null,
   "metadata": {},
   "outputs": [],
   "source": [
    "#Compute the key based on frequency\n",
    "#spaces are frequent, so\n",
    "space_guess = ord('%')\n",
    "print(space_guess)\n",
    "space = ord(' ')\n",
    "print(space)\n",
    "key_guess = space_guess - space\n",
    "print(key_guess)"
   ]
  },
  {
   "cell_type": "code",
   "execution_count": null,
   "metadata": {},
   "outputs": [],
   "source": [
    "# A classic ceaser shift cipher with a shift of 13 (half the alphabet)\n",
    "import codecs\n",
    "codecs.encode('aAbcdez', 'rot13',)"
   ]
  },
  {
   "cell_type": "markdown",
   "metadata": {},
   "source": [
    "#### Examine different character encodings"
   ]
  },
  {
   "cell_type": "code",
   "execution_count": null,
   "metadata": {},
   "outputs": [],
   "source": [
    "#UTF-8\n",
    "\" \".join([struct.pack('B',x).decode('utf-8','ignore') for x in range(0xff)])"
   ]
  },
  {
   "cell_type": "code",
   "execution_count": null,
   "metadata": {},
   "outputs": [],
   "source": [
    "#Latin-1\n",
    "\" \".join([struct.pack('B',x).decode('latin-1','ignore') for x in range(0xff)])"
   ]
  },
  {
   "cell_type": "code",
   "execution_count": null,
   "metadata": {},
   "outputs": [],
   "source": [
    "[\" \".join([struct.pack('B',x).decode('greek','ignore') for x in range(0xff)])]"
   ]
  },
  {
   "cell_type": "markdown",
   "metadata": {},
   "source": [
    "## Concluding Remarks\n",
    "* You should see and appreciate the different ways binary data can be encoded. \n",
    "* Communications rely heavily on common codecs. \n",
    "* Encoding is not encrypting."
   ]
  }
 ],
 "metadata": {
  "kernelspec": {
   "display_name": "Python 3",
   "language": "python",
   "name": "python3"
  },
  "language_info": {
   "codemirror_mode": {
    "name": "ipython",
    "version": 3
   },
   "file_extension": ".py",
   "mimetype": "text/x-python",
   "name": "python",
   "nbconvert_exporter": "python",
   "pygments_lexer": "ipython3",
   "version": "3.8.5"
  },
  "latex_envs": {
   "LaTeX_envs_menu_present": true,
   "autoclose": false,
   "autocomplete": true,
   "bibliofile": "biblio.bib",
   "cite_by": "apalike",
   "current_citInitial": 1,
   "eqLabelWithNumbers": true,
   "eqNumInitial": 1,
   "hotkeys": {
    "equation": "Ctrl-E",
    "itemize": "Ctrl-I"
   },
   "labels_anchors": false,
   "latex_user_defs": false,
   "report_style_numbering": false,
   "user_envs_cfg": false
  }
 },
 "nbformat": 4,
 "nbformat_minor": 2
}
